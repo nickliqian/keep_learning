{
 "cells": [
  {
   "cell_type": "markdown",
   "metadata": {
    "graffitiCellId": "id_3xxr5fb",
    "id": "B116BFDF0D464FF49A85A582357D0B4D",
    "jupyter": {},
    "mdEditEnable": false,
    "slideshow": {
     "slide_type": "slide"
    },
    "tags": []
   },
   "source": [
    "# 线性回归\n",
    "主要内容包括：\n",
    "\n",
    "1. 线性回归的基本要素\n",
    "2. 线性回归模型从零开始的实现\n",
    "3. 线性回归模型使用pytorch的简洁实现"
   ]
  },
  {
   "cell_type": "markdown",
   "metadata": {
    "graffitiCellId": "id_ht8ukap",
    "id": "8FCA1BC77B7F479BA1398473C2691BB0",
    "jupyter": {},
    "mdEditEnable": false,
    "slideshow": {
     "slide_type": "slide"
    },
    "tags": []
   },
   "source": [
    "## 线性回归的基本要素\n",
    "\n",
    "### 模型\n",
    "为了简单起见，这里我们假设价格只取决于房屋状况的两个因素，即面积（平方米）和房龄（年）。接下来我们希望探索价格与这两个因素的具体关系。线性回归假设输出与各个输入之间是线性关系:\n",
    "\n",
    "\n",
    "$$\n",
    "\\mathrm{price} = w_{\\mathrm{area}} \\cdot \\mathrm{area} + w_{\\mathrm{age}} \\cdot \\mathrm{age} + b\n",
    "$$\n",
    "\n",
    "\n",
    "\n",
    "### 数据集\n",
    "我们通常收集一系列的真实数据，例如多栋房屋的真实售出价格和它们对应的面积和房龄。我们希望在这个数据上面寻找模型参数来使模型的预测价格与真实价格的误差最小。在机器学习术语里，该数据集被称为训练数据集（training data set）或训练集（training set），一栋房屋被称为一个样本（sample），其真实售出价格叫作标签（label），用来预测标签的两个因素叫作特征（feature）。特征用来表征样本的特点。\n",
    "### 损失函数\n",
    "在模型训练中，我们需要衡量价格预测值与真实值之间的误差。通常我们会选取一个非负数作为误差，且数值越小表示误差越小。一个常用的选择是平方函数。 它在评估索引为 $i$ 的样本误差的表达式为\n",
    "\n",
    "\n",
    "$$\n",
    "l^{(i)}(\\mathbf{w}, b) = \\frac{1}{2} \\left(\\hat{y}^{(i)} - y^{(i)}\\right)^2,\n",
    "$$\n",
    "\n",
    "\n",
    "\n",
    "$$\n",
    "L(\\mathbf{w}, b) =\\frac{1}{n}\\sum_{i=1}^n l^{(i)}(\\mathbf{w}, b) =\\frac{1}{n} \\sum_{i=1}^n \\frac{1}{2}\\left(\\mathbf{w}^\\top \\mathbf{x}^{(i)} + b - y^{(i)}\\right)^2.\n",
    "$$\n",
    "\n",
    "\n",
    "### 优化函数 - 随机梯度下降\n",
    "当模型和损失函数形式较为简单时，上面的误差最小化问题的解可以直接用公式表达出来。这类解叫作解析解（analytical solution）。本节使用的线性回归和平方误差刚好属于这个范畴。然而，大多数深度学习模型并没有解析解，只能通过优化算法有限次迭代模型参数来尽可能降低损失函数的值。这类解叫作数值解（numerical solution）。\n",
    "\n",
    "在求数值解的优化算法中，小批量随机梯度下降（mini-batch stochastic gradient descent）在深度学习中被广泛使用。它的算法很简单：先选取一组模型参数的初始值，如随机选取；接下来对参数进行多次迭代，使每次迭代都可能降低损失函数的值。在每次迭代中，先随机均匀采样一个由固定数目训练数据样本所组成的小批量（mini-batch）$\\mathcal{B}$，然后求小批量中数据样本的平均损失有关模型参数的导数（梯度），最后用此结果与预先设定的一个正数的乘积作为模型参数在本次迭代的减小量。   \n",
    "\n",
    "$$\n",
    "(\\mathbf{w},b) \\leftarrow (\\mathbf{w},b) - \\frac{\\eta}{|\\mathcal{B}|} \\sum_{i \\in \\mathcal{B}} \\partial_{(\\mathbf{w},b)} l^{(i)}(\\mathbf{w},b)\n",
    "$$\n",
    "  \n",
    "学习率: $\\eta$代表在每次优化中，能够学习的步长的大小    \n",
    "批量大小: $\\mathcal{B}$是小批量计算中的批量大小batch size   \n",
    "\n",
    "总结一下，优化函数的有以下两个步骤：\n",
    "\n",
    "- (i)初始化模型参数，一般来说使用随机初始化；\n",
    "- (ii)我们在数据上迭代多次，通过在负梯度方向移动参数来更新每个参数。"
   ]
  },
  {
   "cell_type": "markdown",
   "metadata": {
    "graffitiCellId": "id_v3gyr0b",
    "id": "469D697FF90B48B7B0B61AED429EB8D6",
    "jupyter": {},
    "mdEditEnable": false,
    "slideshow": {
     "slide_type": "slide"
    },
    "tags": []
   },
   "source": [
    "## 矢量计算\n",
    "在模型训练或预测时，我们常常会同时处理多个数据样本并用到矢量计算。在介绍线性回归的矢量计算表达式之前，让我们先考虑对两个向量相加的两种方法。\n",
    "\n",
    "\n",
    "1. 向量相加的一种方法是，将这两个向量按元素逐一做标量加法。\n",
    "2. 向量相加的另一种方法是，将这两个向量直接做矢量加法。"
   ]
  },
  {
   "cell_type": "code",
   "execution_count": 1,
   "metadata": {
    "ExecuteTime": {
     "end_time": "2020-02-15T15:55:22.340841Z",
     "start_time": "2020-02-15T15:55:22.002351Z"
    },
    "graffitiCellId": "id_bp6luds",
    "id": "631AD2C3EA1A431287E30A95D535D877",
    "jupyter": {},
    "scrolled": false,
    "slideshow": {
     "slide_type": "slide"
    },
    "tags": []
   },
   "outputs": [
    {
     "name": "stdout",
     "output_type": "stream",
     "text": [
      "torch.Size([1000])\n",
      "torch.Size([1000])\n"
     ]
    }
   ],
   "source": [
    "import torch\n",
    "import time\n",
    "\n",
    "# init variable a, b as 1000 dimension vector\n",
    "n = 1000\n",
    "a = torch.ones(n)\n",
    "b = torch.ones(n)\n",
    "\n",
    "print(a.shape)\n",
    "print(b.shape)"
   ]
  },
  {
   "cell_type": "code",
   "execution_count": null,
   "metadata": {
    "id": "58317D23934A4F5085F1B86694B8BC8C",
    "jupyter": {},
    "scrolled": false,
    "slideshow": {
     "slide_type": "slide"
    },
    "tags": []
   },
   "outputs": [],
   "source": []
  },
  {
   "cell_type": "code",
   "execution_count": 2,
   "metadata": {
    "ExecuteTime": {
     "end_time": "2020-02-15T15:55:22.348136Z",
     "start_time": "2020-02-15T15:55:22.342564Z"
    },
    "graffitiCellId": "id_xxj5nbf",
    "id": "55B0FCA128314322808F46633FA9B944",
    "jupyter": {},
    "scrolled": false,
    "slideshow": {
     "slide_type": "slide"
    },
    "tags": []
   },
   "outputs": [],
   "source": [
    "# define a timer class to record time\n",
    "class Timer(object):\n",
    "    \"\"\"Record multiple running times.\"\"\"\n",
    "    def __init__(self):\n",
    "        self.times = []\n",
    "        self.start()\n",
    "\n",
    "    def start(self):\n",
    "        # start the timer\n",
    "        self.start_time = time.time()\n",
    "\n",
    "    def stop(self):\n",
    "        # stop the timer and record time into a list\n",
    "        self.times.append(time.time() - self.start_time)\n",
    "        return self.times[-1]\n",
    "\n",
    "    def avg(self):\n",
    "        # calculate the average and return\n",
    "        return sum(self.times)/len(self.times)\n",
    "\n",
    "    def sum(self):\n",
    "        # return the sum of recorded time\n",
    "        return sum(self.times)"
   ]
  },
  {
   "cell_type": "markdown",
   "metadata": {
    "graffitiCellId": "id_g9h7dg8",
    "id": "2698821CF46844989522D09B8B1C76DB",
    "jupyter": {},
    "mdEditEnable": false,
    "slideshow": {
     "slide_type": "slide"
    },
    "tags": []
   },
   "source": [
    "现在我们可以来测试了。首先将两个向量使用for循环按元素逐一做标量加法。"
   ]
  },
  {
   "cell_type": "code",
   "execution_count": 3,
   "metadata": {
    "ExecuteTime": {
     "end_time": "2020-02-15T15:55:22.374969Z",
     "start_time": "2020-02-15T15:55:22.350358Z"
    },
    "graffitiCellId": "id_eoz706b",
    "id": "DF2AACFBA2EA42698CC82C33AF79AEDB",
    "jupyter": {},
    "scrolled": false,
    "slideshow": {
     "slide_type": "slide"
    },
    "tags": []
   },
   "outputs": [
    {
     "name": "stdout",
     "output_type": "stream",
     "text": [
      "torch.Size([1000])\n"
     ]
    },
    {
     "data": {
      "text/plain": [
       "'0.01426 sec'"
      ]
     },
     "execution_count": 3,
     "metadata": {},
     "output_type": "execute_result"
    }
   ],
   "source": [
    "timer = Timer()\n",
    "c = torch.zeros(n)\n",
    "for i in range(n):\n",
    "    c[i] = a[i] + b[i]\n",
    "print(c.shape)\n",
    "'%.5f sec' % timer.stop()"
   ]
  },
  {
   "cell_type": "code",
   "execution_count": 4,
   "metadata": {
    "ExecuteTime": {
     "end_time": "2020-02-15T15:55:22.405808Z",
     "start_time": "2020-02-15T15:55:22.377012Z"
    },
    "id": "D0376BA1FE8E4FC58D01CEAB8382CA99",
    "jupyter": {},
    "scrolled": false,
    "slideshow": {
     "slide_type": "slide"
    },
    "tags": []
   },
   "outputs": [
    {
     "name": "stdout",
     "output_type": "stream",
     "text": [
      "<class 'torch.Tensor'>\n",
      "torch.Size([1000])\n"
     ]
    },
    {
     "data": {
      "text/plain": [
       "tensor([2., 2., 2., 2., 2., 2., 2., 2., 2., 2., 2., 2., 2., 2., 2., 2., 2., 2.,\n",
       "        2., 2., 2., 2., 2., 2., 2., 2., 2., 2., 2., 2., 2., 2., 2., 2., 2., 2.,\n",
       "        2., 2., 2., 2., 2., 2., 2., 2., 2., 2., 2., 2., 2., 2., 2., 2., 2., 2.,\n",
       "        2., 2., 2., 2., 2., 2., 2., 2., 2., 2., 2., 2., 2., 2., 2., 2., 2., 2.,\n",
       "        2., 2., 2., 2., 2., 2., 2., 2., 2., 2., 2., 2., 2., 2., 2., 2., 2., 2.,\n",
       "        2., 2., 2., 2., 2., 2., 2., 2., 2., 2., 2., 2., 2., 2., 2., 2., 2., 2.,\n",
       "        2., 2., 2., 2., 2., 2., 2., 2., 2., 2., 2., 2., 2., 2., 2., 2., 2., 2.,\n",
       "        2., 2., 2., 2., 2., 2., 2., 2., 2., 2., 2., 2., 2., 2., 2., 2., 2., 2.,\n",
       "        2., 2., 2., 2., 2., 2., 2., 2., 2., 2., 2., 2., 2., 2., 2., 2., 2., 2.,\n",
       "        2., 2., 2., 2., 2., 2., 2., 2., 2., 2., 2., 2., 2., 2., 2., 2., 2., 2.,\n",
       "        2., 2., 2., 2., 2., 2., 2., 2., 2., 2., 2., 2., 2., 2., 2., 2., 2., 2.,\n",
       "        2., 2., 2., 2., 2., 2., 2., 2., 2., 2., 2., 2., 2., 2., 2., 2., 2., 2.,\n",
       "        2., 2., 2., 2., 2., 2., 2., 2., 2., 2., 2., 2., 2., 2., 2., 2., 2., 2.,\n",
       "        2., 2., 2., 2., 2., 2., 2., 2., 2., 2., 2., 2., 2., 2., 2., 2., 2., 2.,\n",
       "        2., 2., 2., 2., 2., 2., 2., 2., 2., 2., 2., 2., 2., 2., 2., 2., 2., 2.,\n",
       "        2., 2., 2., 2., 2., 2., 2., 2., 2., 2., 2., 2., 2., 2., 2., 2., 2., 2.,\n",
       "        2., 2., 2., 2., 2., 2., 2., 2., 2., 2., 2., 2., 2., 2., 2., 2., 2., 2.,\n",
       "        2., 2., 2., 2., 2., 2., 2., 2., 2., 2., 2., 2., 2., 2., 2., 2., 2., 2.,\n",
       "        2., 2., 2., 2., 2., 2., 2., 2., 2., 2., 2., 2., 2., 2., 2., 2., 2., 2.,\n",
       "        2., 2., 2., 2., 2., 2., 2., 2., 2., 2., 2., 2., 2., 2., 2., 2., 2., 2.,\n",
       "        2., 2., 2., 2., 2., 2., 2., 2., 2., 2., 2., 2., 2., 2., 2., 2., 2., 2.,\n",
       "        2., 2., 2., 2., 2., 2., 2., 2., 2., 2., 2., 2., 2., 2., 2., 2., 2., 2.,\n",
       "        2., 2., 2., 2., 2., 2., 2., 2., 2., 2., 2., 2., 2., 2., 2., 2., 2., 2.,\n",
       "        2., 2., 2., 2., 2., 2., 2., 2., 2., 2., 2., 2., 2., 2., 2., 2., 2., 2.,\n",
       "        2., 2., 2., 2., 2., 2., 2., 2., 2., 2., 2., 2., 2., 2., 2., 2., 2., 2.,\n",
       "        2., 2., 2., 2., 2., 2., 2., 2., 2., 2., 2., 2., 2., 2., 2., 2., 2., 2.,\n",
       "        2., 2., 2., 2., 2., 2., 2., 2., 2., 2., 2., 2., 2., 2., 2., 2., 2., 2.,\n",
       "        2., 2., 2., 2., 2., 2., 2., 2., 2., 2., 2., 2., 2., 2., 2., 2., 2., 2.,\n",
       "        2., 2., 2., 2., 2., 2., 2., 2., 2., 2., 2., 2., 2., 2., 2., 2., 2., 2.,\n",
       "        2., 2., 2., 2., 2., 2., 2., 2., 2., 2., 2., 2., 2., 2., 2., 2., 2., 2.,\n",
       "        2., 2., 2., 2., 2., 2., 2., 2., 2., 2., 2., 2., 2., 2., 2., 2., 2., 2.,\n",
       "        2., 2., 2., 2., 2., 2., 2., 2., 2., 2., 2., 2., 2., 2., 2., 2., 2., 2.,\n",
       "        2., 2., 2., 2., 2., 2., 2., 2., 2., 2., 2., 2., 2., 2., 2., 2., 2., 2.,\n",
       "        2., 2., 2., 2., 2., 2., 2., 2., 2., 2., 2., 2., 2., 2., 2., 2., 2., 2.,\n",
       "        2., 2., 2., 2., 2., 2., 2., 2., 2., 2., 2., 2., 2., 2., 2., 2., 2., 2.,\n",
       "        2., 2., 2., 2., 2., 2., 2., 2., 2., 2., 2., 2., 2., 2., 2., 2., 2., 2.,\n",
       "        2., 2., 2., 2., 2., 2., 2., 2., 2., 2., 2., 2., 2., 2., 2., 2., 2., 2.,\n",
       "        2., 2., 2., 2., 2., 2., 2., 2., 2., 2., 2., 2., 2., 2., 2., 2., 2., 2.,\n",
       "        2., 2., 2., 2., 2., 2., 2., 2., 2., 2., 2., 2., 2., 2., 2., 2., 2., 2.,\n",
       "        2., 2., 2., 2., 2., 2., 2., 2., 2., 2., 2., 2., 2., 2., 2., 2., 2., 2.,\n",
       "        2., 2., 2., 2., 2., 2., 2., 2., 2., 2., 2., 2., 2., 2., 2., 2., 2., 2.,\n",
       "        2., 2., 2., 2., 2., 2., 2., 2., 2., 2., 2., 2., 2., 2., 2., 2., 2., 2.,\n",
       "        2., 2., 2., 2., 2., 2., 2., 2., 2., 2., 2., 2., 2., 2., 2., 2., 2., 2.,\n",
       "        2., 2., 2., 2., 2., 2., 2., 2., 2., 2., 2., 2., 2., 2., 2., 2., 2., 2.,\n",
       "        2., 2., 2., 2., 2., 2., 2., 2., 2., 2., 2., 2., 2., 2., 2., 2., 2., 2.,\n",
       "        2., 2., 2., 2., 2., 2., 2., 2., 2., 2., 2., 2., 2., 2., 2., 2., 2., 2.,\n",
       "        2., 2., 2., 2., 2., 2., 2., 2., 2., 2., 2., 2., 2., 2., 2., 2., 2., 2.,\n",
       "        2., 2., 2., 2., 2., 2., 2., 2., 2., 2., 2., 2., 2., 2., 2., 2., 2., 2.,\n",
       "        2., 2., 2., 2., 2., 2., 2., 2., 2., 2., 2., 2., 2., 2., 2., 2., 2., 2.,\n",
       "        2., 2., 2., 2., 2., 2., 2., 2., 2., 2., 2., 2., 2., 2., 2., 2., 2., 2.,\n",
       "        2., 2., 2., 2., 2., 2., 2., 2., 2., 2., 2., 2., 2., 2., 2., 2., 2., 2.,\n",
       "        2., 2., 2., 2., 2., 2., 2., 2., 2., 2., 2., 2., 2., 2., 2., 2., 2., 2.,\n",
       "        2., 2., 2., 2., 2., 2., 2., 2., 2., 2., 2., 2., 2., 2., 2., 2., 2., 2.,\n",
       "        2., 2., 2., 2., 2., 2., 2., 2., 2., 2., 2., 2., 2., 2., 2., 2., 2., 2.,\n",
       "        2., 2., 2., 2., 2., 2., 2., 2., 2., 2., 2., 2., 2., 2., 2., 2., 2., 2.,\n",
       "        2., 2., 2., 2., 2., 2., 2., 2., 2., 2.])"
      ]
     },
     "execution_count": 4,
     "metadata": {},
     "output_type": "execute_result"
    }
   ],
   "source": [
    "print(type(c))\n",
    "print(c.size())\n",
    "c"
   ]
  },
  {
   "cell_type": "markdown",
   "metadata": {
    "graffitiCellId": "id_akkwkh8",
    "id": "B00F06B72BB5471DA82C945B04FED140",
    "jupyter": {},
    "mdEditEnable": false,
    "slideshow": {
     "slide_type": "slide"
    },
    "tags": []
   },
   "source": [
    "另外是使用torch来将两个向量直接做矢量加法："
   ]
  },
  {
   "cell_type": "code",
   "execution_count": 5,
   "metadata": {
    "ExecuteTime": {
     "end_time": "2020-02-15T15:55:22.412197Z",
     "start_time": "2020-02-15T15:55:22.407946Z"
    },
    "graffitiCellId": "id_a8sw68j",
    "id": "6D2503874A514A7590AF8F710B5F325C",
    "jupyter": {},
    "scrolled": false,
    "slideshow": {
     "slide_type": "slide"
    },
    "tags": []
   },
   "outputs": [
    {
     "data": {
      "text/plain": [
       "'0.00043 sec'"
      ]
     },
     "execution_count": 5,
     "metadata": {},
     "output_type": "execute_result"
    }
   ],
   "source": [
    "timer.start()\n",
    "d = a + b\n",
    "'%.5f sec' % timer.stop()"
   ]
  },
  {
   "cell_type": "markdown",
   "metadata": {
    "graffitiCellId": "id_oonn3xx",
    "id": "B0CA3D998E0A4B5C848F9C1BAC37DB13",
    "jupyter": {},
    "mdEditEnable": false,
    "slideshow": {
     "slide_type": "slide"
    },
    "tags": []
   },
   "source": [
    "结果很明显,后者比前者运算速度更快。因此，我们应该尽可能采用矢量计算，以提升计算效率。"
   ]
  },
  {
   "cell_type": "markdown",
   "metadata": {
    "graffitiCellId": "id_3y8h3t7",
    "id": "84D91561397548D7ACB5FAB71E66AB9B",
    "jupyter": {},
    "mdEditEnable": false,
    "slideshow": {
     "slide_type": "slide"
    },
    "tags": []
   },
   "source": [
    "## 线性回归模型从零开始的实现\n",
    "\n"
   ]
  },
  {
   "cell_type": "code",
   "execution_count": 6,
   "metadata": {
    "ExecuteTime": {
     "end_time": "2020-02-15T15:55:22.707144Z",
     "start_time": "2020-02-15T15:55:22.414216Z"
    },
    "graffitiCellId": "id_3snj2zc",
    "id": "B3148881D9514B898929430997FD781C",
    "jupyter": {},
    "scrolled": false,
    "slideshow": {
     "slide_type": "slide"
    },
    "tags": []
   },
   "outputs": [
    {
     "name": "stdout",
     "output_type": "stream",
     "text": [
      "1.3.1\n"
     ]
    }
   ],
   "source": [
    "# import packages and modules\n",
    "%matplotlib inline\n",
    "import torch\n",
    "from IPython import display\n",
    "from matplotlib import pyplot as plt\n",
    "import numpy as np\n",
    "import random\n",
    "\n",
    "print(torch.__version__)"
   ]
  },
  {
   "cell_type": "markdown",
   "metadata": {
    "graffitiCellId": "id_ofruiuq",
    "id": "D7C96AC35B12411E8A1530B965CB34E0",
    "jupyter": {},
    "mdEditEnable": false,
    "slideshow": {
     "slide_type": "slide"
    },
    "tags": []
   },
   "source": [
    "### 生成数据集\n",
    "使用线性模型来生成数据集，生成一个1000个样本的数据集，下面是用来生成数据的线性关系：\n",
    "\n",
    "$$\n",
    "\\mathrm{price} = w_{\\mathrm{area}} \\cdot \\mathrm{area} + w_{\\mathrm{age}} \\cdot \\mathrm{age} + b\n",
    "$$\n",
    "\n"
   ]
  },
  {
   "cell_type": "code",
   "execution_count": 7,
   "metadata": {
    "ExecuteTime": {
     "end_time": "2020-02-15T15:55:22.714521Z",
     "start_time": "2020-02-15T15:55:22.708634Z"
    },
    "graffitiCellId": "id_h3bosrm",
    "id": "1A5F9ED7F99643A3A440960077439F0F",
    "jupyter": {},
    "scrolled": false,
    "slideshow": {
     "slide_type": "slide"
    },
    "tags": []
   },
   "outputs": [],
   "source": [
    "# set input feature number \n",
    "num_inputs = 2\n",
    "# set example number\n",
    "num_examples = 1000\n",
    "\n",
    "# set true weight and bias in order to generate corresponded label\n",
    "true_w = [2, -3.4]\n",
    "true_b = 4.2\n",
    "\n",
    "# [2, 1000]\n",
    "features = torch.randn(num_examples, num_inputs,\n",
    "                      dtype=torch.float32)\n",
    "# y\n",
    "# w*x+b 线性关系表达式\n",
    "labels = true_w[0] * features[:, 0] + true_w[1] * features[:, 1] + true_b\n",
    "labels_s = labels + torch.tensor(np.random.normal(0, 0.01, size=labels.size()),\n",
    "                      dtype=torch.float32)"
   ]
  },
  {
   "cell_type": "code",
   "execution_count": 8,
   "metadata": {
    "ExecuteTime": {
     "end_time": "2020-02-15T15:55:22.720179Z",
     "start_time": "2020-02-15T15:55:22.717038Z"
    },
    "id": "6C21D3B07D234872888120B3A5E1B8D8",
    "jupyter": {},
    "scrolled": false,
    "slideshow": {
     "slide_type": "slide"
    },
    "tags": []
   },
   "outputs": [
    {
     "name": "stdout",
     "output_type": "stream",
     "text": [
      "torch.Size([1000, 2])\n",
      "torch.Size([1000, 2])\n",
      "torch.Size([1000])\n"
     ]
    }
   ],
   "source": [
    "print(features.shape)\n",
    "print(features.size())\n",
    "print(labels.shape)"
   ]
  },
  {
   "cell_type": "markdown",
   "metadata": {
    "graffitiCellId": "id_gr10soh",
    "id": "937B9B59AC2343B58488AAA9B7C11C2A",
    "jupyter": {},
    "mdEditEnable": false,
    "slideshow": {
     "slide_type": "slide"
    },
    "tags": []
   },
   "source": [
    "### 使用图像来展示生成的数据"
   ]
  },
  {
   "cell_type": "code",
   "execution_count": 9,
   "metadata": {
    "ExecuteTime": {
     "end_time": "2020-02-15T15:55:23.102832Z",
     "start_time": "2020-02-15T15:55:22.722321Z"
    },
    "graffitiCellId": "id_ov2af2a",
    "id": "8E2E1E16060241C6A33E4CF1EC65DF1D",
    "jupyter": {},
    "scrolled": false,
    "slideshow": {
     "slide_type": "slide"
    },
    "tags": []
   },
   "outputs": [
    {
     "name": "stderr",
     "output_type": "stream",
     "text": [
      "/Users/nick/.venv/ML-training/lib/python3.6/site-packages/matplotlib/backends/backend_agg.py:211: RuntimeWarning: Glyph 8722 missing from current font.\n",
      "  font.set_text(s, 0.0, flags=flags)\n",
      "/Users/nick/.venv/ML-training/lib/python3.6/site-packages/matplotlib/backends/backend_agg.py:180: RuntimeWarning: Glyph 8722 missing from current font.\n",
      "  font.set_text(s, 0, flags=flags)\n"
     ]
    },
    {
     "data": {
      "image/png": "[encoded data removed]",
      "text/plain": [
       "<Figure size 432x288 with 1 Axes>"
      ]
     },
     "metadata": {
      "needs_background": "light"
     },
     "output_type": "display_data"
    },
    {
     "data": {
      "image/png": "[encoded data removed]",
      "text/plain": [
       "<Figure size 432x288 with 1 Axes>"
      ]
     },
     "metadata": {
      "needs_background": "light"
     },
     "output_type": "display_data"
    }
   ],
   "source": [
    "plt.scatter(features[:, 1].numpy(), labels.numpy(), 1)\n",
    "plt.show()\n",
    "plt.scatter(features[:, 1].numpy(), labels_s.numpy(), 1)\n",
    "plt.show()"
   ]
  },
  {
   "cell_type": "code",
   "execution_count": 10,
   "metadata": {
    "ExecuteTime": {
     "end_time": "2020-02-15T15:55:23.108168Z",
     "start_time": "2020-02-15T15:55:23.105063Z"
    },
    "id": "49057DA0421842399100F4E96A5305C6",
    "jupyter": {},
    "scrolled": false,
    "slideshow": {
     "slide_type": "slide"
    },
    "tags": []
   },
   "outputs": [
    {
     "name": "stdout",
     "output_type": "stream",
     "text": [
      "<class 'torch.Tensor'>\n",
      "<class 'numpy.ndarray'>\n"
     ]
    }
   ],
   "source": [
    "print(type(features[:, 1]))\n",
    "print(type(features[:, 1].numpy()))"
   ]
  },
  {
   "cell_type": "markdown",
   "metadata": {
    "graffitiCellId": "id_iivzo2j",
    "id": "27981A0FD4054AC39194415A90F313EC",
    "jupyter": {},
    "mdEditEnable": false,
    "slideshow": {
     "slide_type": "slide"
    },
    "tags": []
   },
   "source": [
    "### 读取数据集"
   ]
  },
  {
   "cell_type": "code",
   "execution_count": 11,
   "metadata": {
    "ExecuteTime": {
     "end_time": "2020-02-15T15:55:23.113485Z",
     "start_time": "2020-02-15T15:55:23.109606Z"
    },
    "graffitiCellId": "id_0tj7eus",
    "id": "A6E1419DA00C4ABF8CBF0E0F0B2B9E35",
    "jupyter": {},
    "scrolled": false,
    "slideshow": {
     "slide_type": "slide"
    },
    "tags": []
   },
   "outputs": [],
   "source": [
    "def data_iter(batch_size, features, labels):\n",
    "    num_examples = len(features)\n",
    "    indices = list(range(num_examples))\n",
    "    random.shuffle(indices)  # random read 10 samples\n",
    "    for i in range(0, num_examples, batch_size):\n",
    "        j = torch.LongTensor(indices[i: min(i + batch_size, num_examples)]) # the last time may be not enough for a whole batch\n",
    "        yield  features.index_select(0, j), labels.index_select(0, j)"
   ]
  },
  {
   "cell_type": "code",
   "execution_count": 12,
   "metadata": {
    "ExecuteTime": {
     "end_time": "2020-02-15T15:55:23.121044Z",
     "start_time": "2020-02-15T15:55:23.114955Z"
    },
    "graffitiCellId": "id_xc0arq3",
    "id": "1DA3BC30E43E4F76970F712D89BDBC4D",
    "jupyter": {},
    "scrolled": false,
    "slideshow": {
     "slide_type": "slide"
    },
    "tags": []
   },
   "outputs": [
    {
     "name": "stdout",
     "output_type": "stream",
     "text": [
      "tensor([[ 0.1553,  1.4167],\n",
      "        [ 0.0812,  2.3222],\n",
      "        [-1.5269,  0.4403],\n",
      "        [ 1.5687,  1.4923],\n",
      "        [ 0.7613, -1.6801],\n",
      "        [-0.5185, -0.5445],\n",
      "        [ 1.1386, -0.8589],\n",
      "        [-0.9344,  0.1754],\n",
      "        [ 1.3501, -0.1316],\n",
      "        [-0.9411, -1.2553]]) \n",
      " tensor([-0.3059, -3.5329, -0.3511,  2.2636, 11.4350,  5.0144,  9.3976,  1.7347,\n",
      "         7.3477,  6.5860])\n"
     ]
    }
   ],
   "source": [
    "batch_size = 10\n",
    "\n",
    "for X, y in data_iter(batch_size, features, labels):\n",
    "    print(X, '\\n', y)\n",
    "    break"
   ]
  },
  {
   "cell_type": "markdown",
   "metadata": {
    "graffitiCellId": "id_hj6sxxx",
    "id": "1FF819B45B1F44C88012EBB266C10EE8",
    "jupyter": {},
    "mdEditEnable": false,
    "slideshow": {
     "slide_type": "slide"
    },
    "tags": []
   },
   "source": [
    "### 初始化模型参数"
   ]
  },
  {
   "cell_type": "code",
   "execution_count": 13,
   "metadata": {
    "ExecuteTime": {
     "end_time": "2020-02-15T15:55:23.127145Z",
     "start_time": "2020-02-15T15:55:23.122389Z"
    },
    "graffitiCellId": "id_g06bzki",
    "id": "6B11AC0E574140CD9C2E722B05D0049D",
    "jupyter": {},
    "scrolled": false,
    "slideshow": {
     "slide_type": "slide"
    },
    "tags": []
   },
   "outputs": [
    {
     "data": {
      "text/plain": [
       "tensor([0.], requires_grad=True)"
      ]
     },
     "execution_count": 13,
     "metadata": {},
     "output_type": "execute_result"
    }
   ],
   "source": [
    "# 权重 (num_inputs, 1)\n",
    "w = torch.tensor(np.random.normal(0, 0.01, (num_inputs, 1)), dtype=torch.float32)\n",
    "# 偏置\n",
    "b = torch.zeros(1, dtype=torch.float32)\n",
    "\n",
    "w.requires_grad_(requires_grad=True)\n",
    "b.requires_grad_(requires_grad=True)"
   ]
  },
  {
   "cell_type": "code",
   "execution_count": 14,
   "metadata": {
    "ExecuteTime": {
     "end_time": "2020-02-15T15:55:23.131591Z",
     "start_time": "2020-02-15T15:55:23.128629Z"
    },
    "id": "637E090BE1144FF7A8590BDAC99ADE95",
    "jupyter": {},
    "scrolled": false,
    "slideshow": {
     "slide_type": "slide"
    },
    "tags": []
   },
   "outputs": [
    {
     "name": "stdout",
     "output_type": "stream",
     "text": [
      "torch.Size([2, 1])\n",
      "torch.Size([1])\n"
     ]
    }
   ],
   "source": [
    "print(w.shape)\n",
    "print(b.shape)"
   ]
  },
  {
   "cell_type": "markdown",
   "metadata": {
    "graffitiCellId": "id_zvsctyc",
    "id": "A91414B8FDF24835A06B6ADFAEC2C15C",
    "jupyter": {},
    "mdEditEnable": false,
    "slideshow": {
     "slide_type": "slide"
    },
    "tags": []
   },
   "source": [
    "### 定义模型\n",
    "定义用来训练参数的训练模型：\n",
    "\n",
    "$$\n",
    "\\mathrm{price} = w_{\\mathrm{area}} \\cdot \\mathrm{area} + w_{\\mathrm{age}} \\cdot \\mathrm{age} + b\n",
    "$$\n",
    "\n"
   ]
  },
  {
   "cell_type": "code",
   "execution_count": 15,
   "metadata": {
    "ExecuteTime": {
     "end_time": "2020-02-15T15:55:23.136013Z",
     "start_time": "2020-02-15T15:55:23.133293Z"
    },
    "graffitiCellId": "id_l8xu5kf",
    "id": "8DFF5BDD78884936899E3CE720BEEE3C",
    "jupyter": {},
    "scrolled": false,
    "slideshow": {
     "slide_type": "slide"
    },
    "tags": []
   },
   "outputs": [],
   "source": [
    "def linreg(X, w, b):\n",
    "    \"\"\"\n",
    "    线性模型，返回y值\n",
    "    X [10, 2]\n",
    "    w [2, 1]\n",
    "    b [1]\n",
    "    \"\"\"\n",
    "    return torch.mm(X, w) + b"
   ]
  },
  {
   "cell_type": "markdown",
   "metadata": {
    "graffitiCellId": "id_1sta0nq",
    "id": "C9B747281D1842C682F2AEB1F38B959D",
    "jupyter": {},
    "mdEditEnable": false,
    "slideshow": {
     "slide_type": "slide"
    },
    "tags": []
   },
   "source": [
    "### 定义损失函数\n",
    "我们使用的是均方误差损失函数：\n",
    "$$\n",
    "l^{(i)}(\\mathbf{w}, b) = \\frac{1}{2} \\left(\\hat{y}^{(i)} - y^{(i)}\\right)^2,\n",
    "$$\n"
   ]
  },
  {
   "cell_type": "code",
   "execution_count": 16,
   "metadata": {
    "ExecuteTime": {
     "end_time": "2020-02-15T15:55:23.140921Z",
     "start_time": "2020-02-15T15:55:23.137943Z"
    },
    "graffitiCellId": "id_r9p6ncn",
    "id": "58A55DD7B46842578BEA1A8689456B1A",
    "jupyter": {},
    "scrolled": false,
    "slideshow": {
     "slide_type": "slide"
    },
    "tags": []
   },
   "outputs": [],
   "source": [
    "def squared_loss(y_hat, y): \n",
    "    \"\"\"\n",
    "    使用预测值和原始值计算损失（均方误差）\n",
    "    y_hat 预测值\n",
    "    y 原始值\n",
    "    \"\"\"\n",
    "    return (y_hat - y.view(y_hat.size())) ** 2 / 2"
   ]
  },
  {
   "cell_type": "markdown",
   "metadata": {
    "graffitiCellId": "id_jm7ie9i",
    "id": "0A98B83A8FFD4E84B6EFE8A894643634",
    "jupyter": {},
    "mdEditEnable": false,
    "slideshow": {
     "slide_type": "slide"
    },
    "tags": []
   },
   "source": [
    "### 定义优化函数\n",
    "在这里优化函数使用的是小批量随机梯度下降：\n",
    "\n",
    "$$\n",
    "(\\mathbf{w},b) \\leftarrow (\\mathbf{w},b) - \\frac{\\eta}{|\\mathcal{B}|} \\sum_{i \\in \\mathcal{B}} \\partial_{(\\mathbf{w},b)} l^{(i)}(\\mathbf{w},b)\n",
    "$$\n",
    "  "
   ]
  },
  {
   "cell_type": "code",
   "execution_count": 17,
   "metadata": {
    "ExecuteTime": {
     "end_time": "2020-02-15T15:55:23.146369Z",
     "start_time": "2020-02-15T15:55:23.142934Z"
    },
    "graffitiCellId": "id_e41t41x",
    "id": "E9676D1B4F80473B894A4ADA3691D2E0",
    "jupyter": {},
    "scrolled": false,
    "slideshow": {
     "slide_type": "slide"
    },
    "tags": []
   },
   "outputs": [],
   "source": [
    "def sgd(params, lr, batch_size): \n",
    "    \"\"\"\n",
    "    params [w, b] 需要调节的参数\n",
    "    lr 学习率\n",
    "    batch_size  批次数量\n",
    "    \"\"\"\n",
    "    for param in params:\n",
    "        # param.data 值\n",
    "        # param.grad 导数-梯度值\n",
    "        # 这里就是小批量随机梯度下降的公式\n",
    "        # 更新参数值\n",
    "        param.data -= lr * param.grad / batch_size # ues .data to operate param without gradient track"
   ]
  },
  {
   "cell_type": "markdown",
   "metadata": {
    "graffitiCellId": "id_0nsokgo",
    "id": "B18F2D19AA1140478E2E327ECC97F40F",
    "jupyter": {},
    "mdEditEnable": false,
    "slideshow": {
     "slide_type": "slide"
    },
    "tags": []
   },
   "source": [
    "### 训练\n",
    "当数据集、模型、损失函数和优化函数定义完了之后就可来准备进行模型的训练了。\n"
   ]
  },
  {
   "cell_type": "code",
   "execution_count": 18,
   "metadata": {
    "ExecuteTime": {
     "end_time": "2020-02-15T15:55:23.533254Z",
     "start_time": "2020-02-15T15:55:23.149141Z"
    },
    "graffitiCellId": "id_ht68g0d",
    "id": "8C7AA862EE5A4AEAB3CB980F15870D06",
    "jupyter": {},
    "scrolled": true,
    "slideshow": {
     "slide_type": "slide"
    },
    "tags": []
   },
   "outputs": [
    {
     "name": "stdout",
     "output_type": "stream",
     "text": [
      "tensor(152.0253, grad_fn=<SumBackward0>)\n",
      "<class 'torch.Tensor'>\n",
      "tensor(169.7206, grad_fn=<SumBackward0>)\n",
      "<class 'torch.Tensor'>\n",
      "tensor(91.7049, grad_fn=<SumBackward0>)\n",
      "<class 'torch.Tensor'>\n",
      "tensor(93.3271, grad_fn=<SumBackward0>)\n",
      "<class 'torch.Tensor'>\n",
      "tensor(84.5979, grad_fn=<SumBackward0>)\n",
      "<class 'torch.Tensor'>\n",
      "tensor(124.6746, grad_fn=<SumBackward0>)\n",
      "<class 'torch.Tensor'>\n",
      "tensor(80.2412, grad_fn=<SumBackward0>)\n",
      "<class 'torch.Tensor'>\n",
      "tensor(157.3696, grad_fn=<SumBackward0>)\n",
      "<class 'torch.Tensor'>\n",
      "tensor(143.2081, grad_fn=<SumBackward0>)\n",
      "<class 'torch.Tensor'>\n",
      "tensor(161.5078, grad_fn=<SumBackward0>)\n",
      "<class 'torch.Tensor'>\n",
      "tensor(121.9646, grad_fn=<SumBackward0>)\n",
      "<class 'torch.Tensor'>\n",
      "tensor(56.4716, grad_fn=<SumBackward0>)\n",
      "<class 'torch.Tensor'>\n",
      "tensor(97.4457, grad_fn=<SumBackward0>)\n",
      "<class 'torch.Tensor'>\n",
      "tensor(49.7405, grad_fn=<SumBackward0>)\n",
      "<class 'torch.Tensor'>\n",
      "tensor(52.0585, grad_fn=<SumBackward0>)\n",
      "<class 'torch.Tensor'>\n",
      "tensor(87.1099, grad_fn=<SumBackward0>)\n",
      "<class 'torch.Tensor'>\n",
      "tensor(76.8293, grad_fn=<SumBackward0>)\n",
      "<class 'torch.Tensor'>\n",
      "tensor(88.2539, grad_fn=<SumBackward0>)\n",
      "<class 'torch.Tensor'>\n",
      "tensor(52.0129, grad_fn=<SumBackward0>)\n",
      "<class 'torch.Tensor'>\n",
      "tensor(57.5601, grad_fn=<SumBackward0>)\n",
      "<class 'torch.Tensor'>\n",
      "tensor(40.6249, grad_fn=<SumBackward0>)\n",
      "<class 'torch.Tensor'>\n",
      "tensor(57.4849, grad_fn=<SumBackward0>)\n",
      "<class 'torch.Tensor'>\n",
      "tensor(42.1590, grad_fn=<SumBackward0>)\n",
      "<class 'torch.Tensor'>\n",
      "tensor(66.4605, grad_fn=<SumBackward0>)\n",
      "<class 'torch.Tensor'>\n",
      "tensor(47.0662, grad_fn=<SumBackward0>)\n",
      "<class 'torch.Tensor'>\n",
      "tensor(35.4782, grad_fn=<SumBackward0>)\n",
      "<class 'torch.Tensor'>\n",
      "tensor(22.4087, grad_fn=<SumBackward0>)\n",
      "<class 'torch.Tensor'>\n",
      "tensor(27.2456, grad_fn=<SumBackward0>)\n",
      "<class 'torch.Tensor'>\n",
      "tensor(20.3000, grad_fn=<SumBackward0>)\n",
      "<class 'torch.Tensor'>\n",
      "tensor(31.1413, grad_fn=<SumBackward0>)\n",
      "<class 'torch.Tensor'>\n",
      "tensor(23.8377, grad_fn=<SumBackward0>)\n",
      "<class 'torch.Tensor'>\n",
      "tensor(25.3869, grad_fn=<SumBackward0>)\n",
      "<class 'torch.Tensor'>\n",
      "tensor(40.1789, grad_fn=<SumBackward0>)\n",
      "<class 'torch.Tensor'>\n",
      "tensor(10.1806, grad_fn=<SumBackward0>)\n",
      "<class 'torch.Tensor'>\n",
      "tensor(13.8691, grad_fn=<SumBackward0>)\n",
      "<class 'torch.Tensor'>\n",
      "tensor(20.6336, grad_fn=<SumBackward0>)\n",
      "<class 'torch.Tensor'>\n",
      "tensor(8.7292, grad_fn=<SumBackward0>)\n",
      "<class 'torch.Tensor'>\n",
      "tensor(12.5790, grad_fn=<SumBackward0>)\n",
      "<class 'torch.Tensor'>\n",
      "tensor(23.1613, grad_fn=<SumBackward0>)\n",
      "<class 'torch.Tensor'>\n",
      "tensor(15.6363, grad_fn=<SumBackward0>)\n",
      "<class 'torch.Tensor'>\n",
      "tensor(5.3672, grad_fn=<SumBackward0>)\n",
      "<class 'torch.Tensor'>\n",
      "tensor(12.7875, grad_fn=<SumBackward0>)\n",
      "<class 'torch.Tensor'>\n",
      "tensor(12.8470, grad_fn=<SumBackward0>)\n",
      "<class 'torch.Tensor'>\n",
      "tensor(3.6711, grad_fn=<SumBackward0>)\n",
      "<class 'torch.Tensor'>\n",
      "tensor(16.3559, grad_fn=<SumBackward0>)\n",
      "<class 'torch.Tensor'>\n",
      "tensor(16.7917, grad_fn=<SumBackward0>)\n",
      "<class 'torch.Tensor'>\n",
      "tensor(4.6081, grad_fn=<SumBackward0>)\n",
      "<class 'torch.Tensor'>\n",
      "tensor(10.6742, grad_fn=<SumBackward0>)\n",
      "<class 'torch.Tensor'>\n",
      "tensor(15.3181, grad_fn=<SumBackward0>)\n",
      "<class 'torch.Tensor'>\n",
      "tensor(7.6840, grad_fn=<SumBackward0>)\n",
      "<class 'torch.Tensor'>\n",
      "tensor(8.9631, grad_fn=<SumBackward0>)\n",
      "<class 'torch.Tensor'>\n",
      "tensor(14.8185, grad_fn=<SumBackward0>)\n",
      "<class 'torch.Tensor'>\n",
      "tensor(5.9340, grad_fn=<SumBackward0>)\n",
      "<class 'torch.Tensor'>\n",
      "tensor(3.3328, grad_fn=<SumBackward0>)\n",
      "<class 'torch.Tensor'>\n",
      "tensor(7.4762, grad_fn=<SumBackward0>)\n",
      "<class 'torch.Tensor'>\n",
      "tensor(8.5104, grad_fn=<SumBackward0>)\n",
      "<class 'torch.Tensor'>\n",
      "tensor(3.3155, grad_fn=<SumBackward0>)\n",
      "<class 'torch.Tensor'>\n",
      "tensor(2.1134, grad_fn=<SumBackward0>)\n",
      "<class 'torch.Tensor'>\n",
      "tensor(2.3694, grad_fn=<SumBackward0>)\n",
      "<class 'torch.Tensor'>\n",
      "tensor(3.3238, grad_fn=<SumBackward0>)\n",
      "<class 'torch.Tensor'>\n",
      "tensor(4.5724, grad_fn=<SumBackward0>)\n",
      "<class 'torch.Tensor'>\n",
      "tensor(4.7807, grad_fn=<SumBackward0>)\n",
      "<class 'torch.Tensor'>\n",
      "tensor(4.9270, grad_fn=<SumBackward0>)\n",
      "<class 'torch.Tensor'>\n",
      "tensor(3.6475, grad_fn=<SumBackward0>)\n",
      "<class 'torch.Tensor'>\n",
      "tensor(4.7111, grad_fn=<SumBackward0>)\n",
      "<class 'torch.Tensor'>\n",
      "tensor(2.3671, grad_fn=<SumBackward0>)\n",
      "<class 'torch.Tensor'>\n",
      "tensor(4.0402, grad_fn=<SumBackward0>)\n",
      "<class 'torch.Tensor'>\n",
      "tensor(1.8786, grad_fn=<SumBackward0>)\n",
      "<class 'torch.Tensor'>\n",
      "tensor(3.9405, grad_fn=<SumBackward0>)\n",
      "<class 'torch.Tensor'>\n",
      "tensor(3.4153, grad_fn=<SumBackward0>)\n",
      "<class 'torch.Tensor'>\n",
      "tensor(1.4987, grad_fn=<SumBackward0>)\n",
      "<class 'torch.Tensor'>\n",
      "tensor(0.9460, grad_fn=<SumBackward0>)\n",
      "<class 'torch.Tensor'>\n",
      "tensor(1.5948, grad_fn=<SumBackward0>)\n",
      "<class 'torch.Tensor'>\n",
      "tensor(1.4107, grad_fn=<SumBackward0>)\n",
      "<class 'torch.Tensor'>\n",
      "tensor(0.7603, grad_fn=<SumBackward0>)\n",
      "<class 'torch.Tensor'>\n",
      "tensor(1.1540, grad_fn=<SumBackward0>)\n",
      "<class 'torch.Tensor'>\n",
      "tensor(1.1756, grad_fn=<SumBackward0>)\n",
      "<class 'torch.Tensor'>\n",
      "tensor(1.6851, grad_fn=<SumBackward0>)\n",
      "<class 'torch.Tensor'>\n",
      "tensor(2.2208, grad_fn=<SumBackward0>)\n",
      "<class 'torch.Tensor'>\n",
      "tensor(1.2153, grad_fn=<SumBackward0>)\n",
      "<class 'torch.Tensor'>\n",
      "tensor(1.0640, grad_fn=<SumBackward0>)\n",
      "<class 'torch.Tensor'>\n",
      "tensor(1.1859, grad_fn=<SumBackward0>)\n",
      "<class 'torch.Tensor'>\n",
      "tensor(0.7911, grad_fn=<SumBackward0>)\n",
      "<class 'torch.Tensor'>\n",
      "tensor(1.0162, grad_fn=<SumBackward0>)\n",
      "<class 'torch.Tensor'>\n",
      "tensor(0.5164, grad_fn=<SumBackward0>)\n",
      "<class 'torch.Tensor'>\n",
      "tensor(0.7173, grad_fn=<SumBackward0>)\n",
      "<class 'torch.Tensor'>\n",
      "tensor(0.6580, grad_fn=<SumBackward0>)\n",
      "<class 'torch.Tensor'>\n",
      "tensor(0.5694, grad_fn=<SumBackward0>)\n",
      "<class 'torch.Tensor'>\n",
      "tensor(0.4786, grad_fn=<SumBackward0>)\n",
      "<class 'torch.Tensor'>\n",
      "tensor(0.5656, grad_fn=<SumBackward0>)\n",
      "<class 'torch.Tensor'>\n",
      "tensor(0.9003, grad_fn=<SumBackward0>)\n",
      "<class 'torch.Tensor'>\n",
      "tensor(0.5321, grad_fn=<SumBackward0>)\n",
      "<class 'torch.Tensor'>\n",
      "tensor(0.4121, grad_fn=<SumBackward0>)\n",
      "<class 'torch.Tensor'>\n",
      "tensor(0.5925, grad_fn=<SumBackward0>)\n",
      "<class 'torch.Tensor'>\n",
      "tensor(0.4807, grad_fn=<SumBackward0>)\n",
      "<class 'torch.Tensor'>\n",
      "tensor(0.2616, grad_fn=<SumBackward0>)\n",
      "<class 'torch.Tensor'>\n",
      "tensor(0.4556, grad_fn=<SumBackward0>)\n",
      "<class 'torch.Tensor'>\n",
      "tensor(0.2672, grad_fn=<SumBackward0>)\n",
      "<class 'torch.Tensor'>\n",
      "tensor(0.1325, grad_fn=<SumBackward0>)\n",
      "<class 'torch.Tensor'>\n",
      "tensor(0.4250, grad_fn=<SumBackward0>)\n",
      "<class 'torch.Tensor'>\n",
      "epoch 1, loss 0.038330\n",
      "tensor(0.4090, grad_fn=<SumBackward0>)\n",
      "<class 'torch.Tensor'>\n",
      "tensor(0.3829, grad_fn=<SumBackward0>)\n",
      "<class 'torch.Tensor'>\n",
      "tensor(0.2215, grad_fn=<SumBackward0>)\n",
      "<class 'torch.Tensor'>\n",
      "tensor(0.1808, grad_fn=<SumBackward0>)\n",
      "<class 'torch.Tensor'>\n",
      "tensor(0.5133, grad_fn=<SumBackward0>)\n",
      "<class 'torch.Tensor'>\n",
      "tensor(0.3068, grad_fn=<SumBackward0>)\n",
      "<class 'torch.Tensor'>\n",
      "tensor(0.2718, grad_fn=<SumBackward0>)\n",
      "<class 'torch.Tensor'>\n",
      "tensor(0.1761, grad_fn=<SumBackward0>)\n",
      "<class 'torch.Tensor'>\n",
      "tensor(0.2431, grad_fn=<SumBackward0>)\n",
      "<class 'torch.Tensor'>\n",
      "tensor(0.1990, grad_fn=<SumBackward0>)\n",
      "<class 'torch.Tensor'>\n",
      "tensor(0.1155, grad_fn=<SumBackward0>)\n",
      "<class 'torch.Tensor'>\n",
      "tensor(0.3746, grad_fn=<SumBackward0>)\n",
      "<class 'torch.Tensor'>\n",
      "tensor(0.1532, grad_fn=<SumBackward0>)\n",
      "<class 'torch.Tensor'>\n",
      "tensor(0.1233, grad_fn=<SumBackward0>)\n",
      "<class 'torch.Tensor'>\n",
      "tensor(0.1802, grad_fn=<SumBackward0>)\n",
      "<class 'torch.Tensor'>\n",
      "tensor(0.0795, grad_fn=<SumBackward0>)\n",
      "<class 'torch.Tensor'>\n",
      "tensor(0.1818, grad_fn=<SumBackward0>)\n",
      "<class 'torch.Tensor'>\n",
      "tensor(0.0909, grad_fn=<SumBackward0>)\n",
      "<class 'torch.Tensor'>\n",
      "tensor(0.1694, grad_fn=<SumBackward0>)\n",
      "<class 'torch.Tensor'>\n",
      "tensor(0.0914, grad_fn=<SumBackward0>)\n",
      "<class 'torch.Tensor'>\n",
      "tensor(0.1338, grad_fn=<SumBackward0>)\n",
      "<class 'torch.Tensor'>\n",
      "tensor(0.1726, grad_fn=<SumBackward0>)\n",
      "<class 'torch.Tensor'>\n",
      "tensor(0.1662, grad_fn=<SumBackward0>)\n",
      "<class 'torch.Tensor'>\n",
      "tensor(0.0576, grad_fn=<SumBackward0>)\n",
      "<class 'torch.Tensor'>\n",
      "tensor(0.1026, grad_fn=<SumBackward0>)\n",
      "<class 'torch.Tensor'>\n",
      "tensor(0.0433, grad_fn=<SumBackward0>)\n",
      "<class 'torch.Tensor'>\n",
      "tensor(0.1068, grad_fn=<SumBackward0>)\n",
      "<class 'torch.Tensor'>\n",
      "tensor(0.0836, grad_fn=<SumBackward0>)\n",
      "<class 'torch.Tensor'>\n",
      "tensor(0.0673, grad_fn=<SumBackward0>)\n",
      "<class 'torch.Tensor'>\n",
      "tensor(0.0228, grad_fn=<SumBackward0>)\n",
      "<class 'torch.Tensor'>\n",
      "tensor(0.0678, grad_fn=<SumBackward0>)\n",
      "<class 'torch.Tensor'>\n",
      "tensor(0.0538, grad_fn=<SumBackward0>)\n",
      "<class 'torch.Tensor'>\n",
      "tensor(0.0566, grad_fn=<SumBackward0>)\n",
      "<class 'torch.Tensor'>\n",
      "tensor(0.0658, grad_fn=<SumBackward0>)\n",
      "<class 'torch.Tensor'>\n",
      "tensor(0.0414, grad_fn=<SumBackward0>)\n",
      "<class 'torch.Tensor'>\n",
      "tensor(0.0410, grad_fn=<SumBackward0>)\n",
      "<class 'torch.Tensor'>\n",
      "tensor(0.0645, grad_fn=<SumBackward0>)\n",
      "<class 'torch.Tensor'>\n",
      "tensor(0.0604, grad_fn=<SumBackward0>)\n",
      "<class 'torch.Tensor'>\n",
      "tensor(0.0386, grad_fn=<SumBackward0>)\n",
      "<class 'torch.Tensor'>\n",
      "tensor(0.0115, grad_fn=<SumBackward0>)\n",
      "<class 'torch.Tensor'>\n",
      "tensor(0.0226, grad_fn=<SumBackward0>)\n",
      "<class 'torch.Tensor'>\n",
      "tensor(0.0289, grad_fn=<SumBackward0>)\n",
      "<class 'torch.Tensor'>\n",
      "tensor(0.0623, grad_fn=<SumBackward0>)\n",
      "<class 'torch.Tensor'>\n",
      "tensor(0.0292, grad_fn=<SumBackward0>)\n",
      "<class 'torch.Tensor'>\n",
      "tensor(0.0156, grad_fn=<SumBackward0>)\n",
      "<class 'torch.Tensor'>\n",
      "tensor(0.0271, grad_fn=<SumBackward0>)\n",
      "<class 'torch.Tensor'>\n",
      "tensor(0.0367, grad_fn=<SumBackward0>)\n",
      "<class 'torch.Tensor'>\n",
      "tensor(0.0240, grad_fn=<SumBackward0>)\n",
      "<class 'torch.Tensor'>\n",
      "tensor(0.0216, grad_fn=<SumBackward0>)\n",
      "<class 'torch.Tensor'>\n",
      "tensor(0.0249, grad_fn=<SumBackward0>)\n",
      "<class 'torch.Tensor'>\n",
      "tensor(0.0221, grad_fn=<SumBackward0>)\n",
      "<class 'torch.Tensor'>\n",
      "tensor(0.0299, grad_fn=<SumBackward0>)\n",
      "<class 'torch.Tensor'>\n",
      "tensor(0.0168, grad_fn=<SumBackward0>)\n",
      "<class 'torch.Tensor'>\n",
      "tensor(0.0184, grad_fn=<SumBackward0>)\n",
      "<class 'torch.Tensor'>\n",
      "tensor(0.0130, grad_fn=<SumBackward0>)\n",
      "<class 'torch.Tensor'>\n",
      "tensor(0.0124, grad_fn=<SumBackward0>)\n",
      "<class 'torch.Tensor'>\n",
      "tensor(0.0212, grad_fn=<SumBackward0>)\n",
      "<class 'torch.Tensor'>\n",
      "tensor(0.0164, grad_fn=<SumBackward0>)\n",
      "<class 'torch.Tensor'>\n",
      "tensor(0.0190, grad_fn=<SumBackward0>)\n",
      "<class 'torch.Tensor'>\n",
      "tensor(0.0094, grad_fn=<SumBackward0>)\n",
      "<class 'torch.Tensor'>\n",
      "tensor(0.0120, grad_fn=<SumBackward0>)\n",
      "<class 'torch.Tensor'>\n",
      "tensor(0.0079, grad_fn=<SumBackward0>)\n",
      "<class 'torch.Tensor'>\n",
      "tensor(0.0175, grad_fn=<SumBackward0>)\n",
      "<class 'torch.Tensor'>\n",
      "tensor(0.0151, grad_fn=<SumBackward0>)\n",
      "<class 'torch.Tensor'>\n",
      "tensor(0.0083, grad_fn=<SumBackward0>)\n",
      "<class 'torch.Tensor'>\n",
      "tensor(0.0044, grad_fn=<SumBackward0>)\n",
      "<class 'torch.Tensor'>\n",
      "tensor(0.0080, grad_fn=<SumBackward0>)\n",
      "<class 'torch.Tensor'>\n",
      "tensor(0.0069, grad_fn=<SumBackward0>)\n",
      "<class 'torch.Tensor'>\n",
      "tensor(0.0097, grad_fn=<SumBackward0>)\n",
      "<class 'torch.Tensor'>\n",
      "tensor(0.0070, grad_fn=<SumBackward0>)\n",
      "<class 'torch.Tensor'>\n",
      "tensor(0.0115, grad_fn=<SumBackward0>)\n",
      "<class 'torch.Tensor'>\n",
      "tensor(0.0057, grad_fn=<SumBackward0>)\n",
      "<class 'torch.Tensor'>\n",
      "tensor(0.0053, grad_fn=<SumBackward0>)\n",
      "<class 'torch.Tensor'>\n",
      "tensor(0.0046, grad_fn=<SumBackward0>)\n",
      "<class 'torch.Tensor'>\n",
      "tensor(0.0056, grad_fn=<SumBackward0>)\n",
      "<class 'torch.Tensor'>\n",
      "tensor(0.0061, grad_fn=<SumBackward0>)\n",
      "<class 'torch.Tensor'>\n",
      "tensor(0.0061, grad_fn=<SumBackward0>)\n",
      "<class 'torch.Tensor'>\n",
      "tensor(0.0017, grad_fn=<SumBackward0>)\n",
      "<class 'torch.Tensor'>\n",
      "tensor(0.0024, grad_fn=<SumBackward0>)\n",
      "<class 'torch.Tensor'>\n",
      "tensor(0.0042, grad_fn=<SumBackward0>)\n",
      "<class 'torch.Tensor'>\n",
      "tensor(0.0020, grad_fn=<SumBackward0>)\n",
      "<class 'torch.Tensor'>\n",
      "tensor(0.0028, grad_fn=<SumBackward0>)\n",
      "<class 'torch.Tensor'>\n",
      "tensor(0.0011, grad_fn=<SumBackward0>)\n",
      "<class 'torch.Tensor'>\n",
      "tensor(0.0014, grad_fn=<SumBackward0>)\n",
      "<class 'torch.Tensor'>\n",
      "tensor(0.0013, grad_fn=<SumBackward0>)\n",
      "<class 'torch.Tensor'>\n",
      "tensor(0.0022, grad_fn=<SumBackward0>)\n",
      "<class 'torch.Tensor'>\n",
      "tensor(0.0026, grad_fn=<SumBackward0>)\n",
      "<class 'torch.Tensor'>\n",
      "tensor(0.0042, grad_fn=<SumBackward0>)\n",
      "<class 'torch.Tensor'>\n",
      "tensor(0.0025, grad_fn=<SumBackward0>)\n",
      "<class 'torch.Tensor'>\n",
      "tensor(0.0023, grad_fn=<SumBackward0>)\n",
      "<class 'torch.Tensor'>\n",
      "tensor(0.0015, grad_fn=<SumBackward0>)\n",
      "<class 'torch.Tensor'>\n",
      "tensor(0.0011, grad_fn=<SumBackward0>)\n",
      "<class 'torch.Tensor'>\n",
      "tensor(0.0004, grad_fn=<SumBackward0>)\n",
      "<class 'torch.Tensor'>\n",
      "tensor(0.0018, grad_fn=<SumBackward0>)\n",
      "<class 'torch.Tensor'>\n",
      "tensor(0.0012, grad_fn=<SumBackward0>)\n",
      "<class 'torch.Tensor'>\n",
      "tensor(0.0009, grad_fn=<SumBackward0>)\n",
      "<class 'torch.Tensor'>\n"
     ]
    },
    {
     "name": "stdout",
     "output_type": "stream",
     "text": [
      "tensor(0.0013, grad_fn=<SumBackward0>)\n",
      "<class 'torch.Tensor'>\n",
      "tensor(0.0019, grad_fn=<SumBackward0>)\n",
      "<class 'torch.Tensor'>\n",
      "tensor(0.0011, grad_fn=<SumBackward0>)\n",
      "<class 'torch.Tensor'>\n",
      "tensor(0.0015, grad_fn=<SumBackward0>)\n",
      "<class 'torch.Tensor'>\n",
      "epoch 2, loss 0.000093\n",
      "tensor(0.0012, grad_fn=<SumBackward0>)\n",
      "<class 'torch.Tensor'>\n",
      "tensor(0.0010, grad_fn=<SumBackward0>)\n",
      "<class 'torch.Tensor'>\n",
      "tensor(0.0009, grad_fn=<SumBackward0>)\n",
      "<class 'torch.Tensor'>\n",
      "tensor(0.0005, grad_fn=<SumBackward0>)\n",
      "<class 'torch.Tensor'>\n",
      "tensor(0.0007, grad_fn=<SumBackward0>)\n",
      "<class 'torch.Tensor'>\n",
      "tensor(0.0008, grad_fn=<SumBackward0>)\n",
      "<class 'torch.Tensor'>\n",
      "tensor(0.0007, grad_fn=<SumBackward0>)\n",
      "<class 'torch.Tensor'>\n",
      "tensor(0.0005, grad_fn=<SumBackward0>)\n",
      "<class 'torch.Tensor'>\n",
      "tensor(0.0003, grad_fn=<SumBackward0>)\n",
      "<class 'torch.Tensor'>\n",
      "tensor(0.0006, grad_fn=<SumBackward0>)\n",
      "<class 'torch.Tensor'>\n",
      "tensor(0.0005, grad_fn=<SumBackward0>)\n",
      "<class 'torch.Tensor'>\n",
      "tensor(0.0005, grad_fn=<SumBackward0>)\n",
      "<class 'torch.Tensor'>\n",
      "tensor(0.0005, grad_fn=<SumBackward0>)\n",
      "<class 'torch.Tensor'>\n",
      "tensor(0.0004, grad_fn=<SumBackward0>)\n",
      "<class 'torch.Tensor'>\n",
      "tensor(0.0003, grad_fn=<SumBackward0>)\n",
      "<class 'torch.Tensor'>\n",
      "tensor(0.0002, grad_fn=<SumBackward0>)\n",
      "<class 'torch.Tensor'>\n",
      "tensor(0.0004, grad_fn=<SumBackward0>)\n",
      "<class 'torch.Tensor'>\n",
      "tensor(0.0003, grad_fn=<SumBackward0>)\n",
      "<class 'torch.Tensor'>\n",
      "tensor(0.0003, grad_fn=<SumBackward0>)\n",
      "<class 'torch.Tensor'>\n",
      "tensor(0.0003, grad_fn=<SumBackward0>)\n",
      "<class 'torch.Tensor'>\n",
      "tensor(0.0003, grad_fn=<SumBackward0>)\n",
      "<class 'torch.Tensor'>\n",
      "tensor(0.0002, grad_fn=<SumBackward0>)\n",
      "<class 'torch.Tensor'>\n",
      "tensor(0.0003, grad_fn=<SumBackward0>)\n",
      "<class 'torch.Tensor'>\n",
      "tensor(9.2301e-05, grad_fn=<SumBackward0>)\n",
      "<class 'torch.Tensor'>\n",
      "tensor(0.0002, grad_fn=<SumBackward0>)\n",
      "<class 'torch.Tensor'>\n",
      "tensor(0.0001, grad_fn=<SumBackward0>)\n",
      "<class 'torch.Tensor'>\n",
      "tensor(0.0002, grad_fn=<SumBackward0>)\n",
      "<class 'torch.Tensor'>\n",
      "tensor(0.0002, grad_fn=<SumBackward0>)\n",
      "<class 'torch.Tensor'>\n",
      "tensor(9.4204e-05, grad_fn=<SumBackward0>)\n",
      "<class 'torch.Tensor'>\n",
      "tensor(9.4276e-05, grad_fn=<SumBackward0>)\n",
      "<class 'torch.Tensor'>\n",
      "tensor(0.0003, grad_fn=<SumBackward0>)\n",
      "<class 'torch.Tensor'>\n",
      "tensor(0.0002, grad_fn=<SumBackward0>)\n",
      "<class 'torch.Tensor'>\n",
      "tensor(0.0002, grad_fn=<SumBackward0>)\n",
      "<class 'torch.Tensor'>\n",
      "tensor(0.0001, grad_fn=<SumBackward0>)\n",
      "<class 'torch.Tensor'>\n",
      "tensor(0.0001, grad_fn=<SumBackward0>)\n",
      "<class 'torch.Tensor'>\n",
      "tensor(0.0001, grad_fn=<SumBackward0>)\n",
      "<class 'torch.Tensor'>\n",
      "tensor(0.0001, grad_fn=<SumBackward0>)\n",
      "<class 'torch.Tensor'>\n",
      "tensor(9.0627e-05, grad_fn=<SumBackward0>)\n",
      "<class 'torch.Tensor'>\n",
      "tensor(0.0001, grad_fn=<SumBackward0>)\n",
      "<class 'torch.Tensor'>\n",
      "tensor(9.2987e-05, grad_fn=<SumBackward0>)\n",
      "<class 'torch.Tensor'>\n",
      "tensor(0.0001, grad_fn=<SumBackward0>)\n",
      "<class 'torch.Tensor'>\n",
      "tensor(0.0002, grad_fn=<SumBackward0>)\n",
      "<class 'torch.Tensor'>\n",
      "tensor(7.4577e-05, grad_fn=<SumBackward0>)\n",
      "<class 'torch.Tensor'>\n",
      "tensor(6.8407e-05, grad_fn=<SumBackward0>)\n",
      "<class 'torch.Tensor'>\n",
      "tensor(9.8178e-05, grad_fn=<SumBackward0>)\n",
      "<class 'torch.Tensor'>\n",
      "tensor(8.4012e-05, grad_fn=<SumBackward0>)\n",
      "<class 'torch.Tensor'>\n",
      "tensor(0.0001, grad_fn=<SumBackward0>)\n",
      "<class 'torch.Tensor'>\n",
      "tensor(6.6953e-05, grad_fn=<SumBackward0>)\n",
      "<class 'torch.Tensor'>\n",
      "tensor(8.4866e-05, grad_fn=<SumBackward0>)\n",
      "<class 'torch.Tensor'>\n",
      "tensor(2.4578e-05, grad_fn=<SumBackward0>)\n",
      "<class 'torch.Tensor'>\n",
      "tensor(3.1192e-05, grad_fn=<SumBackward0>)\n",
      "<class 'torch.Tensor'>\n",
      "tensor(4.5286e-05, grad_fn=<SumBackward0>)\n",
      "<class 'torch.Tensor'>\n",
      "tensor(7.9346e-05, grad_fn=<SumBackward0>)\n",
      "<class 'torch.Tensor'>\n",
      "tensor(4.5228e-05, grad_fn=<SumBackward0>)\n",
      "<class 'torch.Tensor'>\n",
      "tensor(1.8170e-05, grad_fn=<SumBackward0>)\n",
      "<class 'torch.Tensor'>\n",
      "tensor(6.4339e-05, grad_fn=<SumBackward0>)\n",
      "<class 'torch.Tensor'>\n",
      "tensor(4.1628e-05, grad_fn=<SumBackward0>)\n",
      "<class 'torch.Tensor'>\n",
      "tensor(3.6601e-05, grad_fn=<SumBackward0>)\n",
      "<class 'torch.Tensor'>\n",
      "tensor(4.7653e-05, grad_fn=<SumBackward0>)\n",
      "<class 'torch.Tensor'>\n",
      "tensor(2.4517e-05, grad_fn=<SumBackward0>)\n",
      "<class 'torch.Tensor'>\n",
      "tensor(3.0899e-05, grad_fn=<SumBackward0>)\n",
      "<class 'torch.Tensor'>\n",
      "tensor(3.0984e-05, grad_fn=<SumBackward0>)\n",
      "<class 'torch.Tensor'>\n",
      "tensor(2.5801e-05, grad_fn=<SumBackward0>)\n",
      "<class 'torch.Tensor'>\n",
      "tensor(3.5828e-05, grad_fn=<SumBackward0>)\n",
      "<class 'torch.Tensor'>\n",
      "tensor(2.6083e-05, grad_fn=<SumBackward0>)\n",
      "<class 'torch.Tensor'>\n",
      "tensor(3.7925e-05, grad_fn=<SumBackward0>)\n",
      "<class 'torch.Tensor'>\n",
      "tensor(2.2344e-05, grad_fn=<SumBackward0>)\n",
      "<class 'torch.Tensor'>\n",
      "tensor(2.6014e-05, grad_fn=<SumBackward0>)\n",
      "<class 'torch.Tensor'>\n",
      "tensor(2.2614e-05, grad_fn=<SumBackward0>)\n",
      "<class 'torch.Tensor'>\n",
      "tensor(8.6253e-06, grad_fn=<SumBackward0>)\n",
      "<class 'torch.Tensor'>\n",
      "tensor(2.8039e-05, grad_fn=<SumBackward0>)\n",
      "<class 'torch.Tensor'>\n",
      "tensor(2.5358e-05, grad_fn=<SumBackward0>)\n",
      "<class 'torch.Tensor'>\n",
      "tensor(1.3634e-05, grad_fn=<SumBackward0>)\n",
      "<class 'torch.Tensor'>\n",
      "tensor(1.3320e-05, grad_fn=<SumBackward0>)\n",
      "<class 'torch.Tensor'>\n",
      "tensor(2.4531e-05, grad_fn=<SumBackward0>)\n",
      "<class 'torch.Tensor'>\n",
      "tensor(1.3202e-05, grad_fn=<SumBackward0>)\n",
      "<class 'torch.Tensor'>\n",
      "tensor(7.0890e-06, grad_fn=<SumBackward0>)\n",
      "<class 'torch.Tensor'>\n",
      "tensor(1.5705e-05, grad_fn=<SumBackward0>)\n",
      "<class 'torch.Tensor'>\n",
      "tensor(1.1905e-05, grad_fn=<SumBackward0>)\n",
      "<class 'torch.Tensor'>\n",
      "tensor(1.2377e-05, grad_fn=<SumBackward0>)\n",
      "<class 'torch.Tensor'>\n",
      "tensor(8.3693e-06, grad_fn=<SumBackward0>)\n",
      "<class 'torch.Tensor'>\n",
      "tensor(6.5644e-06, grad_fn=<SumBackward0>)\n",
      "<class 'torch.Tensor'>\n",
      "tensor(3.8823e-06, grad_fn=<SumBackward0>)\n",
      "<class 'torch.Tensor'>\n",
      "tensor(5.8214e-06, grad_fn=<SumBackward0>)\n",
      "<class 'torch.Tensor'>\n",
      "tensor(7.1625e-06, grad_fn=<SumBackward0>)\n",
      "<class 'torch.Tensor'>\n",
      "tensor(5.6984e-06, grad_fn=<SumBackward0>)\n",
      "<class 'torch.Tensor'>\n",
      "tensor(1.1732e-05, grad_fn=<SumBackward0>)\n",
      "<class 'torch.Tensor'>\n",
      "tensor(1.3097e-05, grad_fn=<SumBackward0>)\n",
      "<class 'torch.Tensor'>\n",
      "tensor(7.0101e-06, grad_fn=<SumBackward0>)\n",
      "<class 'torch.Tensor'>\n",
      "tensor(4.9297e-06, grad_fn=<SumBackward0>)\n",
      "<class 'torch.Tensor'>\n",
      "tensor(2.5271e-06, grad_fn=<SumBackward0>)\n",
      "<class 'torch.Tensor'>\n",
      "tensor(2.0319e-06, grad_fn=<SumBackward0>)\n",
      "<class 'torch.Tensor'>\n",
      "tensor(4.3736e-06, grad_fn=<SumBackward0>)\n",
      "<class 'torch.Tensor'>\n",
      "tensor(5.7366e-06, grad_fn=<SumBackward0>)\n",
      "<class 'torch.Tensor'>\n",
      "tensor(2.8311e-06, grad_fn=<SumBackward0>)\n",
      "<class 'torch.Tensor'>\n",
      "tensor(3.1949e-06, grad_fn=<SumBackward0>)\n",
      "<class 'torch.Tensor'>\n",
      "tensor(1.9333e-06, grad_fn=<SumBackward0>)\n",
      "<class 'torch.Tensor'>\n",
      "tensor(3.9655e-06, grad_fn=<SumBackward0>)\n",
      "<class 'torch.Tensor'>\n",
      "tensor(4.0432e-06, grad_fn=<SumBackward0>)\n",
      "<class 'torch.Tensor'>\n",
      "tensor(3.2909e-06, grad_fn=<SumBackward0>)\n",
      "<class 'torch.Tensor'>\n",
      "epoch 3, loss 0.000000\n",
      "tensor(3.0301e-06, grad_fn=<SumBackward0>)\n",
      "<class 'torch.Tensor'>\n",
      "tensor(1.6333e-06, grad_fn=<SumBackward0>)\n",
      "<class 'torch.Tensor'>\n",
      "tensor(2.3268e-06, grad_fn=<SumBackward0>)\n",
      "<class 'torch.Tensor'>\n",
      "tensor(1.1173e-06, grad_fn=<SumBackward0>)\n",
      "<class 'torch.Tensor'>\n",
      "tensor(1.3618e-06, grad_fn=<SumBackward0>)\n",
      "<class 'torch.Tensor'>\n",
      "tensor(9.7445e-07, grad_fn=<SumBackward0>)\n",
      "<class 'torch.Tensor'>\n",
      "tensor(9.2502e-07, grad_fn=<SumBackward0>)\n",
      "<class 'torch.Tensor'>\n",
      "tensor(1.3688e-06, grad_fn=<SumBackward0>)\n",
      "<class 'torch.Tensor'>\n",
      "tensor(1.8320e-06, grad_fn=<SumBackward0>)\n",
      "<class 'torch.Tensor'>\n",
      "tensor(1.0226e-06, grad_fn=<SumBackward0>)\n",
      "<class 'torch.Tensor'>\n",
      "tensor(1.1762e-06, grad_fn=<SumBackward0>)\n",
      "<class 'torch.Tensor'>\n",
      "tensor(9.0692e-07, grad_fn=<SumBackward0>)\n",
      "<class 'torch.Tensor'>\n",
      "tensor(1.1502e-06, grad_fn=<SumBackward0>)\n",
      "<class 'torch.Tensor'>\n",
      "tensor(1.0296e-06, grad_fn=<SumBackward0>)\n",
      "<class 'torch.Tensor'>\n",
      "tensor(1.0645e-06, grad_fn=<SumBackward0>)\n",
      "<class 'torch.Tensor'>\n",
      "tensor(1.9499e-06, grad_fn=<SumBackward0>)\n",
      "<class 'torch.Tensor'>\n",
      "tensor(1.4214e-06, grad_fn=<SumBackward0>)\n",
      "<class 'torch.Tensor'>\n",
      "tensor(1.1004e-06, grad_fn=<SumBackward0>)\n",
      "<class 'torch.Tensor'>\n",
      "tensor(1.1900e-06, grad_fn=<SumBackward0>)\n",
      "<class 'torch.Tensor'>\n",
      "tensor(8.4590e-07, grad_fn=<SumBackward0>)\n",
      "<class 'torch.Tensor'>\n",
      "tensor(2.5994e-07, grad_fn=<SumBackward0>)\n",
      "<class 'torch.Tensor'>\n",
      "tensor(6.2976e-07, grad_fn=<SumBackward0>)\n",
      "<class 'torch.Tensor'>\n",
      "tensor(6.2501e-07, grad_fn=<SumBackward0>)\n",
      "<class 'torch.Tensor'>\n",
      "tensor(9.0810e-07, grad_fn=<SumBackward0>)\n",
      "<class 'torch.Tensor'>\n",
      "tensor(4.5986e-07, grad_fn=<SumBackward0>)\n",
      "<class 'torch.Tensor'>\n",
      "tensor(5.8079e-07, grad_fn=<SumBackward0>)\n",
      "<class 'torch.Tensor'>\n",
      "tensor(3.6675e-07, grad_fn=<SumBackward0>)\n",
      "<class 'torch.Tensor'>\n",
      "tensor(3.5038e-07, grad_fn=<SumBackward0>)\n",
      "<class 'torch.Tensor'>\n",
      "tensor(6.6254e-07, grad_fn=<SumBackward0>)\n",
      "<class 'torch.Tensor'>\n",
      "tensor(4.9438e-07, grad_fn=<SumBackward0>)\n",
      "<class 'torch.Tensor'>\n",
      "tensor(4.4143e-07, grad_fn=<SumBackward0>)\n",
      "<class 'torch.Tensor'>\n",
      "tensor(3.9864e-07, grad_fn=<SumBackward0>)\n",
      "<class 'torch.Tensor'>\n",
      "tensor(7.7234e-08, grad_fn=<SumBackward0>)\n",
      "<class 'torch.Tensor'>\n",
      "tensor(3.2463e-07, grad_fn=<SumBackward0>)\n",
      "<class 'torch.Tensor'>\n",
      "tensor(6.1629e-07, grad_fn=<SumBackward0>)\n",
      "<class 'torch.Tensor'>\n",
      "tensor(4.9886e-07, grad_fn=<SumBackward0>)\n",
      "<class 'torch.Tensor'>\n",
      "tensor(5.4239e-07, grad_fn=<SumBackward0>)\n",
      "<class 'torch.Tensor'>\n",
      "tensor(2.9701e-07, grad_fn=<SumBackward0>)\n",
      "<class 'torch.Tensor'>\n",
      "tensor(2.7571e-07, grad_fn=<SumBackward0>)\n",
      "<class 'torch.Tensor'>\n",
      "tensor(1.3072e-07, grad_fn=<SumBackward0>)\n",
      "<class 'torch.Tensor'>\n",
      "tensor(2.4677e-07, grad_fn=<SumBackward0>)\n",
      "<class 'torch.Tensor'>\n",
      "tensor(2.7554e-07, grad_fn=<SumBackward0>)\n",
      "<class 'torch.Tensor'>\n",
      "tensor(1.9696e-07, grad_fn=<SumBackward0>)\n",
      "<class 'torch.Tensor'>\n",
      "tensor(8.4319e-08, grad_fn=<SumBackward0>)\n",
      "<class 'torch.Tensor'>\n",
      "tensor(2.9622e-07, grad_fn=<SumBackward0>)\n",
      "<class 'torch.Tensor'>\n",
      "tensor(1.8627e-07, grad_fn=<SumBackward0>)\n",
      "<class 'torch.Tensor'>\n",
      "tensor(1.8826e-07, grad_fn=<SumBackward0>)\n",
      "<class 'torch.Tensor'>\n",
      "tensor(1.7015e-07, grad_fn=<SumBackward0>)\n",
      "<class 'torch.Tensor'>\n",
      "tensor(4.0579e-07, grad_fn=<SumBackward0>)\n",
      "<class 'torch.Tensor'>\n",
      "tensor(2.1563e-07, grad_fn=<SumBackward0>)\n",
      "<class 'torch.Tensor'>\n",
      "tensor(1.3449e-07, grad_fn=<SumBackward0>)\n",
      "<class 'torch.Tensor'>\n",
      "tensor(1.6007e-07, grad_fn=<SumBackward0>)\n",
      "<class 'torch.Tensor'>\n",
      "tensor(9.7806e-08, grad_fn=<SumBackward0>)\n",
      "<class 'torch.Tensor'>\n",
      "tensor(1.3019e-07, grad_fn=<SumBackward0>)\n",
      "<class 'torch.Tensor'>\n",
      "tensor(1.7685e-07, grad_fn=<SumBackward0>)\n",
      "<class 'torch.Tensor'>\n",
      "tensor(2.0433e-07, grad_fn=<SumBackward0>)\n",
      "<class 'torch.Tensor'>\n",
      "tensor(1.6879e-07, grad_fn=<SumBackward0>)\n",
      "<class 'torch.Tensor'>\n",
      "tensor(7.6520e-08, grad_fn=<SumBackward0>)\n",
      "<class 'torch.Tensor'>\n",
      "tensor(6.9638e-08, grad_fn=<SumBackward0>)\n",
      "<class 'torch.Tensor'>\n",
      "tensor(1.1281e-07, grad_fn=<SumBackward0>)\n",
      "<class 'torch.Tensor'>\n",
      "tensor(6.7377e-08, grad_fn=<SumBackward0>)\n",
      "<class 'torch.Tensor'>\n",
      "tensor(6.8770e-08, grad_fn=<SumBackward0>)\n",
      "<class 'torch.Tensor'>\n",
      "tensor(3.7702e-08, grad_fn=<SumBackward0>)\n",
      "<class 'torch.Tensor'>\n",
      "tensor(7.1544e-08, grad_fn=<SumBackward0>)\n",
      "<class 'torch.Tensor'>\n",
      "tensor(7.9437e-08, grad_fn=<SumBackward0>)\n",
      "<class 'torch.Tensor'>\n",
      "tensor(5.6091e-08, grad_fn=<SumBackward0>)\n",
      "<class 'torch.Tensor'>\n",
      "tensor(4.2491e-08, grad_fn=<SumBackward0>)\n",
      "<class 'torch.Tensor'>\n",
      "tensor(4.5925e-08, grad_fn=<SumBackward0>)\n",
      "<class 'torch.Tensor'>\n",
      "tensor(2.3805e-08, grad_fn=<SumBackward0>)\n",
      "<class 'torch.Tensor'>\n",
      "tensor(4.3301e-08, grad_fn=<SumBackward0>)\n",
      "<class 'torch.Tensor'>\n",
      "tensor(2.3101e-08, grad_fn=<SumBackward0>)\n",
      "<class 'torch.Tensor'>\n",
      "tensor(4.8689e-08, grad_fn=<SumBackward0>)\n",
      "<class 'torch.Tensor'>\n",
      "tensor(2.1107e-08, grad_fn=<SumBackward0>)\n",
      "<class 'torch.Tensor'>\n",
      "tensor(2.9771e-08, grad_fn=<SumBackward0>)\n",
      "<class 'torch.Tensor'>\n",
      "tensor(2.7593e-08, grad_fn=<SumBackward0>)\n",
      "<class 'torch.Tensor'>\n",
      "tensor(2.3511e-08, grad_fn=<SumBackward0>)\n",
      "<class 'torch.Tensor'>\n",
      "tensor(3.2105e-08, grad_fn=<SumBackward0>)\n",
      "<class 'torch.Tensor'>\n",
      "tensor(3.6199e-08, grad_fn=<SumBackward0>)\n",
      "<class 'torch.Tensor'>\n",
      "tensor(2.1868e-08, grad_fn=<SumBackward0>)\n",
      "<class 'torch.Tensor'>\n",
      "tensor(4.1227e-08, grad_fn=<SumBackward0>)\n",
      "<class 'torch.Tensor'>\n",
      "tensor(1.6006e-08, grad_fn=<SumBackward0>)\n",
      "<class 'torch.Tensor'>\n",
      "tensor(1.0521e-08, grad_fn=<SumBackward0>)\n",
      "<class 'torch.Tensor'>\n",
      "tensor(1.0774e-08, grad_fn=<SumBackward0>)\n",
      "<class 'torch.Tensor'>\n",
      "tensor(8.7862e-09, grad_fn=<SumBackward0>)\n",
      "<class 'torch.Tensor'>\n",
      "tensor(9.6578e-09, grad_fn=<SumBackward0>)\n",
      "<class 'torch.Tensor'>\n",
      "tensor(2.4614e-08, grad_fn=<SumBackward0>)\n",
      "<class 'torch.Tensor'>\n",
      "tensor(7.4325e-09, grad_fn=<SumBackward0>)\n",
      "<class 'torch.Tensor'>\n",
      "tensor(1.6954e-08, grad_fn=<SumBackward0>)\n",
      "<class 'torch.Tensor'>\n",
      "tensor(1.1851e-08, grad_fn=<SumBackward0>)\n",
      "<class 'torch.Tensor'>\n",
      "tensor(1.3170e-08, grad_fn=<SumBackward0>)\n",
      "<class 'torch.Tensor'>\n",
      "tensor(9.9761e-09, grad_fn=<SumBackward0>)\n",
      "<class 'torch.Tensor'>\n",
      "tensor(1.7019e-08, grad_fn=<SumBackward0>)\n",
      "<class 'torch.Tensor'>\n",
      "tensor(1.0571e-08, grad_fn=<SumBackward0>)\n",
      "<class 'torch.Tensor'>\n",
      "tensor(1.3277e-08, grad_fn=<SumBackward0>)\n",
      "<class 'torch.Tensor'>\n",
      "tensor(8.1731e-09, grad_fn=<SumBackward0>)\n",
      "<class 'torch.Tensor'>\n",
      "tensor(1.2468e-08, grad_fn=<SumBackward0>)\n",
      "<class 'torch.Tensor'>\n",
      "tensor(6.9616e-09, grad_fn=<SumBackward0>)\n",
      "<class 'torch.Tensor'>\n",
      "tensor(1.1007e-08, grad_fn=<SumBackward0>)\n",
      "<class 'torch.Tensor'>\n",
      "tensor(2.7221e-09, grad_fn=<SumBackward0>)\n",
      "<class 'torch.Tensor'>\n",
      "tensor(6.7089e-09, grad_fn=<SumBackward0>)\n",
      "<class 'torch.Tensor'>\n",
      "epoch 4, loss 0.000000\n",
      "tensor(2.8386e-09, grad_fn=<SumBackward0>)\n",
      "<class 'torch.Tensor'>\n",
      "tensor(6.2325e-09, grad_fn=<SumBackward0>)\n",
      "<class 'torch.Tensor'>\n",
      "tensor(6.1160e-09, grad_fn=<SumBackward0>)\n",
      "<class 'torch.Tensor'>\n",
      "tensor(6.3758e-09, grad_fn=<SumBackward0>)\n",
      "<class 'torch.Tensor'>\n",
      "tensor(8.1381e-09, grad_fn=<SumBackward0>)\n",
      "<class 'torch.Tensor'>\n",
      "tensor(1.9593e-09, grad_fn=<SumBackward0>)\n",
      "<class 'torch.Tensor'>\n",
      "tensor(5.6023e-09, grad_fn=<SumBackward0>)\n",
      "<class 'torch.Tensor'>\n",
      "tensor(1.2800e-09, grad_fn=<SumBackward0>)\n",
      "<class 'torch.Tensor'>\n",
      "tensor(2.7208e-09, grad_fn=<SumBackward0>)\n",
      "<class 'torch.Tensor'>\n",
      "tensor(5.8903e-09, grad_fn=<SumBackward0>)\n",
      "<class 'torch.Tensor'>\n",
      "tensor(3.1363e-09, grad_fn=<SumBackward0>)\n",
      "<class 'torch.Tensor'>\n",
      "tensor(6.4225e-10, grad_fn=<SumBackward0>)\n",
      "<class 'torch.Tensor'>\n",
      "tensor(3.9271e-09, grad_fn=<SumBackward0>)\n",
      "<class 'torch.Tensor'>\n",
      "tensor(2.7725e-09, grad_fn=<SumBackward0>)\n",
      "<class 'torch.Tensor'>\n",
      "tensor(1.7563e-09, grad_fn=<SumBackward0>)\n",
      "<class 'torch.Tensor'>\n",
      "tensor(1.9739e-09, grad_fn=<SumBackward0>)\n",
      "<class 'torch.Tensor'>\n",
      "tensor(1.9615e-09, grad_fn=<SumBackward0>)\n",
      "<class 'torch.Tensor'>\n",
      "tensor(1.0019e-09, grad_fn=<SumBackward0>)\n",
      "<class 'torch.Tensor'>\n",
      "tensor(2.6562e-09, grad_fn=<SumBackward0>)\n",
      "<class 'torch.Tensor'>\n",
      "tensor(1.1281e-09, grad_fn=<SumBackward0>)\n",
      "<class 'torch.Tensor'>\n",
      "tensor(2.3742e-09, grad_fn=<SumBackward0>)\n",
      "<class 'torch.Tensor'>\n",
      "tensor(2.5326e-09, grad_fn=<SumBackward0>)\n",
      "<class 'torch.Tensor'>\n",
      "tensor(3.9762e-10, grad_fn=<SumBackward0>)\n",
      "<class 'torch.Tensor'>\n",
      "tensor(3.5300e-09, grad_fn=<SumBackward0>)\n",
      "<class 'torch.Tensor'>\n",
      "tensor(8.7823e-10, grad_fn=<SumBackward0>)\n",
      "<class 'torch.Tensor'>\n",
      "tensor(8.7724e-10, grad_fn=<SumBackward0>)\n",
      "<class 'torch.Tensor'>\n",
      "tensor(1.5891e-09, grad_fn=<SumBackward0>)\n",
      "<class 'torch.Tensor'>\n",
      "tensor(1.4267e-09, grad_fn=<SumBackward0>)\n",
      "<class 'torch.Tensor'>\n",
      "tensor(1.7916e-09, grad_fn=<SumBackward0>)\n",
      "<class 'torch.Tensor'>\n",
      "tensor(1.1970e-09, grad_fn=<SumBackward0>)\n",
      "<class 'torch.Tensor'>\n",
      "tensor(1.6296e-09, grad_fn=<SumBackward0>)\n",
      "<class 'torch.Tensor'>\n",
      "tensor(1.4028e-09, grad_fn=<SumBackward0>)\n",
      "<class 'torch.Tensor'>\n",
      "tensor(1.3227e-09, grad_fn=<SumBackward0>)\n",
      "<class 'torch.Tensor'>\n",
      "tensor(7.7372e-10, grad_fn=<SumBackward0>)\n",
      "<class 'torch.Tensor'>\n",
      "tensor(8.4918e-10, grad_fn=<SumBackward0>)\n",
      "<class 'torch.Tensor'>\n",
      "tensor(1.1617e-09, grad_fn=<SumBackward0>)\n",
      "<class 'torch.Tensor'>\n",
      "tensor(8.2699e-10, grad_fn=<SumBackward0>)\n",
      "<class 'torch.Tensor'>\n",
      "tensor(1.0811e-09, grad_fn=<SumBackward0>)\n",
      "<class 'torch.Tensor'>\n",
      "tensor(1.3803e-09, grad_fn=<SumBackward0>)\n",
      "<class 'torch.Tensor'>\n",
      "tensor(6.1880e-10, grad_fn=<SumBackward0>)\n",
      "<class 'torch.Tensor'>\n",
      "tensor(6.6848e-10, grad_fn=<SumBackward0>)\n",
      "<class 'torch.Tensor'>\n",
      "tensor(3.3864e-10, grad_fn=<SumBackward0>)\n",
      "<class 'torch.Tensor'>\n",
      "tensor(5.2492e-10, grad_fn=<SumBackward0>)\n",
      "<class 'torch.Tensor'>\n",
      "tensor(6.2388e-10, grad_fn=<SumBackward0>)\n",
      "<class 'torch.Tensor'>\n",
      "tensor(6.1834e-10, grad_fn=<SumBackward0>)\n",
      "<class 'torch.Tensor'>\n",
      "tensor(4.6293e-10, grad_fn=<SumBackward0>)\n",
      "<class 'torch.Tensor'>\n",
      "tensor(4.0782e-10, grad_fn=<SumBackward0>)\n",
      "<class 'torch.Tensor'>\n",
      "tensor(3.0684e-10, grad_fn=<SumBackward0>)\n",
      "<class 'torch.Tensor'>\n",
      "tensor(3.0343e-10, grad_fn=<SumBackward0>)\n",
      "<class 'torch.Tensor'>\n",
      "tensor(1.8352e-10, grad_fn=<SumBackward0>)\n",
      "<class 'torch.Tensor'>\n",
      "tensor(4.7143e-10, grad_fn=<SumBackward0>)\n",
      "<class 'torch.Tensor'>\n",
      "tensor(4.2186e-10, grad_fn=<SumBackward0>)\n",
      "<class 'torch.Tensor'>\n",
      "tensor(2.1592e-10, grad_fn=<SumBackward0>)\n",
      "<class 'torch.Tensor'>\n",
      "tensor(2.2172e-10, grad_fn=<SumBackward0>)\n",
      "<class 'torch.Tensor'>\n",
      "tensor(4.1712e-10, grad_fn=<SumBackward0>)\n",
      "<class 'torch.Tensor'>\n",
      "tensor(3.2483e-10, grad_fn=<SumBackward0>)\n",
      "<class 'torch.Tensor'>\n",
      "tensor(2.6407e-10, grad_fn=<SumBackward0>)\n",
      "<class 'torch.Tensor'>\n",
      "tensor(2.4104e-10, grad_fn=<SumBackward0>)\n",
      "<class 'torch.Tensor'>\n",
      "tensor(2.7012e-10, grad_fn=<SumBackward0>)\n",
      "<class 'torch.Tensor'>\n",
      "tensor(1.9162e-10, grad_fn=<SumBackward0>)\n",
      "<class 'torch.Tensor'>\n",
      "tensor(2.4673e-10, grad_fn=<SumBackward0>)\n",
      "<class 'torch.Tensor'>\n",
      "tensor(4.5046e-10, grad_fn=<SumBackward0>)\n",
      "<class 'torch.Tensor'>\n",
      "tensor(4.0612e-10, grad_fn=<SumBackward0>)\n",
      "<class 'torch.Tensor'>\n",
      "tensor(1.5072e-10, grad_fn=<SumBackward0>)\n",
      "<class 'torch.Tensor'>\n",
      "tensor(2.4599e-10, grad_fn=<SumBackward0>)\n",
      "<class 'torch.Tensor'>\n",
      "tensor(1.1289e-10, grad_fn=<SumBackward0>)\n",
      "<class 'torch.Tensor'>\n",
      "tensor(1.9307e-10, grad_fn=<SumBackward0>)\n",
      "<class 'torch.Tensor'>\n",
      "tensor(1.9568e-10, grad_fn=<SumBackward0>)\n",
      "<class 'torch.Tensor'>\n",
      "tensor(1.8377e-10, grad_fn=<SumBackward0>)\n",
      "<class 'torch.Tensor'>\n"
     ]
    },
    {
     "name": "stdout",
     "output_type": "stream",
     "text": [
      "tensor(2.7751e-10, grad_fn=<SumBackward0>)\n",
      "<class 'torch.Tensor'>\n",
      "tensor(1.5953e-10, grad_fn=<SumBackward0>)\n",
      "<class 'torch.Tensor'>\n",
      "tensor(2.7370e-10, grad_fn=<SumBackward0>)\n",
      "<class 'torch.Tensor'>\n",
      "tensor(2.1433e-10, grad_fn=<SumBackward0>)\n",
      "<class 'torch.Tensor'>\n",
      "tensor(1.6237e-10, grad_fn=<SumBackward0>)\n",
      "<class 'torch.Tensor'>\n",
      "tensor(1.3517e-10, grad_fn=<SumBackward0>)\n",
      "<class 'torch.Tensor'>\n",
      "tensor(1.1715e-10, grad_fn=<SumBackward0>)\n",
      "<class 'torch.Tensor'>\n",
      "tensor(1.4313e-10, grad_fn=<SumBackward0>)\n",
      "<class 'torch.Tensor'>\n",
      "tensor(2.1899e-10, grad_fn=<SumBackward0>)\n",
      "<class 'torch.Tensor'>\n",
      "tensor(1.5044e-10, grad_fn=<SumBackward0>)\n",
      "<class 'torch.Tensor'>\n",
      "tensor(1.5783e-10, grad_fn=<SumBackward0>)\n",
      "<class 'torch.Tensor'>\n",
      "tensor(2.3084e-10, grad_fn=<SumBackward0>)\n",
      "<class 'torch.Tensor'>\n",
      "tensor(1.5791e-10, grad_fn=<SumBackward0>)\n",
      "<class 'torch.Tensor'>\n",
      "tensor(1.3077e-10, grad_fn=<SumBackward0>)\n",
      "<class 'torch.Tensor'>\n",
      "tensor(1.4501e-10, grad_fn=<SumBackward0>)\n",
      "<class 'torch.Tensor'>\n",
      "tensor(1.7306e-10, grad_fn=<SumBackward0>)\n",
      "<class 'torch.Tensor'>\n",
      "tensor(1.6615e-10, grad_fn=<SumBackward0>)\n",
      "<class 'torch.Tensor'>\n",
      "tensor(2.1919e-10, grad_fn=<SumBackward0>)\n",
      "<class 'torch.Tensor'>\n",
      "tensor(2.3329e-10, grad_fn=<SumBackward0>)\n",
      "<class 'torch.Tensor'>\n",
      "tensor(1.3605e-10, grad_fn=<SumBackward0>)\n",
      "<class 'torch.Tensor'>\n",
      "tensor(1.3816e-10, grad_fn=<SumBackward0>)\n",
      "<class 'torch.Tensor'>\n",
      "tensor(1.3577e-10, grad_fn=<SumBackward0>)\n",
      "<class 'torch.Tensor'>\n",
      "tensor(1.8204e-10, grad_fn=<SumBackward0>)\n",
      "<class 'torch.Tensor'>\n",
      "tensor(1.7940e-10, grad_fn=<SumBackward0>)\n",
      "<class 'torch.Tensor'>\n",
      "tensor(1.2986e-10, grad_fn=<SumBackward0>)\n",
      "<class 'torch.Tensor'>\n",
      "tensor(1.6450e-10, grad_fn=<SumBackward0>)\n",
      "<class 'torch.Tensor'>\n",
      "tensor(1.1269e-10, grad_fn=<SumBackward0>)\n",
      "<class 'torch.Tensor'>\n",
      "tensor(1.4055e-10, grad_fn=<SumBackward0>)\n",
      "<class 'torch.Tensor'>\n",
      "tensor(1.4174e-10, grad_fn=<SumBackward0>)\n",
      "<class 'torch.Tensor'>\n",
      "tensor(1.6774e-10, grad_fn=<SumBackward0>)\n",
      "<class 'torch.Tensor'>\n",
      "tensor(1.6206e-10, grad_fn=<SumBackward0>)\n",
      "<class 'torch.Tensor'>\n",
      "epoch 5, loss 0.000000\n"
     ]
    }
   ],
   "source": [
    "# super parameters init\n",
    "lr = 0.03\n",
    "num_epochs = 5\n",
    "\n",
    "net = linreg  # 网络结构\n",
    "loss = squared_loss  # 损失函数\n",
    "\n",
    "# training\n",
    "for epoch in range(num_epochs):  # training repeats num_epochs times\n",
    "    # in each epoch, all the samples in dataset will be used once\n",
    "    \n",
    "    # X is the feature and y is the label of a batch sample\n",
    "    for X, y in data_iter(batch_size, features, labels):\n",
    "        l = loss(net(X, w, b), y).sum()  # 计算损失\n",
    "        print(l)\n",
    "        print(type(l))\n",
    "        # calculate the gradient of batch sample loss \n",
    "        l.backward()  # 求梯度，有梯度才能迭代更新参数\n",
    "        # using small batch random gradient descent to iter model parameters\n",
    "        # 使用小批量随机梯度下降迭代模型参数\n",
    "        sgd([w, b], lr, batch_size)  \n",
    "        # reset parameter gradient\n",
    "        # 重置参数梯度\n",
    "        w.grad.data.zero_()\n",
    "        b.grad.data.zero_()\n",
    "    # features [1000, 2]\n",
    "    train_l = loss(net(features, w, b), labels)  # 使用更新后的参数训练\n",
    "    # 输出每次训练的损失值\n",
    "    print('epoch %d, loss %f' % (epoch + 1, train_l.mean().item()))  "
   ]
  },
  {
   "cell_type": "code",
   "execution_count": 19,
   "metadata": {
    "ExecuteTime": {
     "end_time": "2020-02-15T15:55:23.539833Z",
     "start_time": "2020-02-15T15:55:23.535053Z"
    },
    "graffitiCellId": "id_6t702dg",
    "id": "2E791A3F92EF4CCF91E2096630C0E8D9",
    "jupyter": {},
    "scrolled": false,
    "slideshow": {
     "slide_type": "slide"
    },
    "tags": []
   },
   "outputs": [
    {
     "data": {
      "text/plain": [
       "(tensor([[ 2.0000],\n",
       "         [-3.4000]], requires_grad=True),\n",
       " [2, -3.4],\n",
       " tensor([4.2000], requires_grad=True),\n",
       " 4.2)"
      ]
     },
     "execution_count": 19,
     "metadata": {},
     "output_type": "execute_result"
    }
   ],
   "source": [
    "w, true_w, b, true_b"
   ]
  },
  {
   "cell_type": "markdown",
   "metadata": {
    "graffitiCellId": "id_pi6pxp6",
    "id": "7E8D79B69557446883330AB1E8DE07E2",
    "jupyter": {},
    "mdEditEnable": false,
    "slideshow": {
     "slide_type": "slide"
    },
    "tags": []
   },
   "source": [
    "## 线性回归模型使用pytorch的简洁实现\n"
   ]
  },
  {
   "cell_type": "code",
   "execution_count": 20,
   "metadata": {
    "ExecuteTime": {
     "end_time": "2020-02-15T15:55:23.546979Z",
     "start_time": "2020-02-15T15:55:23.541746Z"
    },
    "graffitiCellId": "id_sdic11w",
    "id": "D5CCF3AE67794558930978F1815C38B9",
    "jupyter": {},
    "scrolled": false,
    "slideshow": {
     "slide_type": "slide"
    },
    "tags": []
   },
   "outputs": [
    {
     "name": "stdout",
     "output_type": "stream",
     "text": [
      "1.3.1\n"
     ]
    }
   ],
   "source": [
    "import torch\n",
    "from torch import nn\n",
    "import numpy as np\n",
    "torch.manual_seed(1)\n",
    "\n",
    "print(torch.__version__)\n",
    "torch.set_default_tensor_type('torch.FloatTensor')"
   ]
  },
  {
   "cell_type": "markdown",
   "metadata": {
    "graffitiCellId": "id_07nlorv",
    "id": "34B9AE6FB3D64DFD83E93D5CEF9EEE65",
    "jupyter": {},
    "mdEditEnable": false,
    "slideshow": {
     "slide_type": "slide"
    },
    "tags": []
   },
   "source": [
    "### 生成数据集\n",
    "在这里生成数据集跟从零开始的实现中是完全一样的。"
   ]
  },
  {
   "cell_type": "code",
   "execution_count": 21,
   "metadata": {
    "ExecuteTime": {
     "end_time": "2020-02-15T15:55:23.554384Z",
     "start_time": "2020-02-15T15:55:23.548913Z"
    },
    "graffitiCellId": "id_k7z5rd0",
    "id": "83C2DB9468394624BB4934DBF194A353",
    "jupyter": {},
    "scrolled": false,
    "slideshow": {
     "slide_type": "slide"
    },
    "tags": []
   },
   "outputs": [],
   "source": [
    "num_inputs = 2\n",
    "num_examples = 1000\n",
    "\n",
    "true_w = [2, -3.4]\n",
    "true_b = 4.2\n",
    "\n",
    "features = torch.tensor(np.random.normal(0, 1, (num_examples, num_inputs)), dtype=torch.float)\n",
    "labels = true_w[0] * features[:, 0] + true_w[1] * features[:, 1] + true_b\n",
    "# 使数据偏离真实值，后续训练\n",
    "labels += torch.tensor(np.random.normal(0, 0.01, size=labels.size()), dtype=torch.float)  "
   ]
  },
  {
   "cell_type": "markdown",
   "metadata": {
    "graffitiCellId": "id_io6yz0p",
    "id": "0FB74CD3CD784A82B2A422E54BB0DEDD",
    "jupyter": {},
    "mdEditEnable": false,
    "slideshow": {
     "slide_type": "slide"
    },
    "tags": []
   },
   "source": [
    "### 读取数据集"
   ]
  },
  {
   "cell_type": "code",
   "execution_count": 22,
   "metadata": {
    "ExecuteTime": {
     "end_time": "2020-02-15T15:55:23.559942Z",
     "start_time": "2020-02-15T15:55:23.556363Z"
    },
    "graffitiCellId": "id_bxmqh9f",
    "id": "8704CA375BF04440839AB16AA995E3AB",
    "jupyter": {},
    "scrolled": false,
    "slideshow": {
     "slide_type": "slide"
    },
    "tags": []
   },
   "outputs": [],
   "source": [
    "import torch.utils.data as Data\n",
    "\n",
    "batch_size = 10\n",
    "\n",
    "# combine featues and labels of dataset\n",
    "dataset = Data.TensorDataset(features, labels)\n",
    "\n",
    "# put dataset into DataLoader\n",
    "data_iter = Data.DataLoader(\n",
    "    dataset=dataset,            # torch TensorDataset format\n",
    "    batch_size=batch_size,      # mini batch size\n",
    "    shuffle=True,               # whether shuffle the data or not\n",
    "    num_workers=2,              # read data in multithreading\n",
    ")"
   ]
  },
  {
   "cell_type": "code",
   "execution_count": 23,
   "metadata": {
    "ExecuteTime": {
     "end_time": "2020-02-15T15:55:23.688664Z",
     "start_time": "2020-02-15T15:55:23.563464Z"
    },
    "graffitiCellId": "id_nnjw15x",
    "id": "C1FFC0FD8F5741D78AFD26B883BE192C",
    "jupyter": {},
    "scrolled": false,
    "slideshow": {
     "slide_type": "slide"
    },
    "tags": []
   },
   "outputs": [
    {
     "name": "stdout",
     "output_type": "stream",
     "text": [
      "tensor([[ 0.2934,  1.1519],\n",
      "        [-0.7003,  1.0072],\n",
      "        [ 0.1113,  0.2001],\n",
      "        [ 0.5379,  0.1424],\n",
      "        [-1.0161, -0.2702],\n",
      "        [-0.0723,  0.9134],\n",
      "        [-0.1023, -0.0513],\n",
      "        [ 0.8609,  0.5516],\n",
      "        [ 0.9321,  2.0255],\n",
      "        [ 3.0795,  1.0149]]) \n",
      " tensor([ 0.8712, -0.6438,  3.7280,  4.7947,  3.0812,  0.9644,  4.1662,  4.0355,\n",
      "        -0.8271,  6.8921])\n"
     ]
    }
   ],
   "source": [
    "for X, y in data_iter:\n",
    "    print(X, '\\n', y)\n",
    "    break"
   ]
  },
  {
   "cell_type": "markdown",
   "metadata": {
    "graffitiCellId": "id_zobpfwu",
    "id": "F9085AAAB3BB45E289329A5EA5446848",
    "jupyter": {},
    "mdEditEnable": false,
    "slideshow": {
     "slide_type": "slide"
    },
    "tags": []
   },
   "source": [
    "### 定义模型"
   ]
  },
  {
   "cell_type": "code",
   "execution_count": 24,
   "metadata": {
    "ExecuteTime": {
     "end_time": "2020-02-15T15:55:23.695993Z",
     "start_time": "2020-02-15T15:55:23.690839Z"
    },
    "graffitiCellId": "id_gxy6vho",
    "id": "28DD8C6981314D148B5FD1915639151C",
    "jupyter": {},
    "scrolled": false,
    "slideshow": {
     "slide_type": "slide"
    },
    "tags": []
   },
   "outputs": [
    {
     "name": "stdout",
     "output_type": "stream",
     "text": [
      "LinearNet(\n",
      "  (linear): Linear(in_features=2, out_features=1, bias=True)\n",
      ")\n"
     ]
    }
   ],
   "source": [
    "class LinearNet(nn.Module):\n",
    "    def __init__(self, n_feature):\n",
    "        super(LinearNet, self).__init__()      # call father function to init \n",
    "        self.linear = nn.Linear(n_feature, 1)  # function prototype: `torch.nn.Linear(in_features, out_features, bias=True)`\n",
    "\n",
    "    def forward(self, x):\n",
    "        y = self.linear(x)\n",
    "        return y\n",
    "    \n",
    "net = LinearNet(num_inputs)\n",
    "print(net)"
   ]
  },
  {
   "cell_type": "code",
   "execution_count": 25,
   "metadata": {
    "ExecuteTime": {
     "end_time": "2020-02-15T15:55:23.702874Z",
     "start_time": "2020-02-15T15:55:23.697736Z"
    },
    "graffitiCellId": "id_q5pjt1j",
    "id": "56CADFC7B65448BC989411C2C9950816",
    "jupyter": {},
    "scrolled": false,
    "slideshow": {
     "slide_type": "slide"
    },
    "tags": []
   },
   "outputs": [
    {
     "name": "stdout",
     "output_type": "stream",
     "text": [
      "Sequential(\n",
      "  (linear): Linear(in_features=2, out_features=1, bias=True)\n",
      ")\n",
      "Linear(in_features=2, out_features=1, bias=True)\n"
     ]
    }
   ],
   "source": [
    "# ways to init a multilayer network\n",
    "# method one\n",
    "net = nn.Sequential(\n",
    "    nn.Linear(num_inputs, 1)\n",
    "    # other layers can be added here\n",
    "    )\n",
    "\n",
    "# method two\n",
    "net = nn.Sequential()\n",
    "net.add_module('linear', nn.Linear(num_inputs, 1))\n",
    "# net.add_module ......\n",
    "\n",
    "# method three\n",
    "from collections import OrderedDict\n",
    "net = nn.Sequential(OrderedDict([\n",
    "          ('linear', nn.Linear(num_inputs, 1))\n",
    "          # ......\n",
    "        ]))\n",
    "\n",
    "print(net)\n",
    "print(net[0])"
   ]
  },
  {
   "cell_type": "markdown",
   "metadata": {
    "graffitiCellId": "id_fl434p3",
    "id": "1BE602743BCD4C5D948A24212760162D",
    "jupyter": {},
    "mdEditEnable": false,
    "slideshow": {
     "slide_type": "slide"
    },
    "tags": []
   },
   "source": [
    "### 初始化模型参数"
   ]
  },
  {
   "cell_type": "code",
   "execution_count": 26,
   "metadata": {
    "ExecuteTime": {
     "end_time": "2020-02-15T15:55:23.709725Z",
     "start_time": "2020-02-15T15:55:23.704255Z"
    },
    "graffitiCellId": "id_zdl7vmt",
    "id": "025B064D1ED1432385DEE75240A790F6",
    "jupyter": {},
    "scrolled": false,
    "slideshow": {
     "slide_type": "slide"
    },
    "tags": []
   },
   "outputs": [
    {
     "data": {
      "text/plain": [
       "Parameter containing:\n",
       "tensor([0.], requires_grad=True)"
      ]
     },
     "execution_count": 26,
     "metadata": {},
     "output_type": "execute_result"
    }
   ],
   "source": [
    "from torch.nn import init\n",
    "\n",
    "# 初始化 w b\n",
    "# w使用正态分布，设置均值和标准差\n",
    "init.normal_(net[0].weight, mean=0.0, std=0.01)\n",
    "# b使用常量0\n",
    "init.constant_(net[0].bias, val=0.0)  # or you can use `net[0].bias.data.fill_(0)` to modify it directly"
   ]
  },
  {
   "cell_type": "code",
   "execution_count": 27,
   "metadata": {
    "ExecuteTime": {
     "end_time": "2020-02-15T15:55:23.716234Z",
     "start_time": "2020-02-15T15:55:23.711261Z"
    },
    "graffitiCellId": "id_7s9m78k",
    "id": "C6A909A717B545E6802264EBD711588D",
    "jupyter": {},
    "scrolled": false,
    "slideshow": {
     "slide_type": "slide"
    },
    "tags": []
   },
   "outputs": [
    {
     "name": "stdout",
     "output_type": "stream",
     "text": [
      "<generator object Module.parameters at 0x12d025468>\n",
      "[Parameter containing:\n",
      "tensor([[-0.0142, -0.0161]], requires_grad=True), Parameter containing:\n",
      "tensor([0.], requires_grad=True)]\n",
      "===\n",
      "Parameter containing:\n",
      "tensor([[-0.0142, -0.0161]], requires_grad=True)\n",
      "Parameter containing:\n",
      "tensor([0.], requires_grad=True)\n"
     ]
    }
   ],
   "source": [
    "# 查看网络参数\n",
    "print(net.parameters())\n",
    "print(list(net.parameters()))\n",
    "print(\"===\")\n",
    "for param in net.parameters():\n",
    "    print(param)"
   ]
  },
  {
   "cell_type": "markdown",
   "metadata": {
    "graffitiCellId": "id_l729glu",
    "id": "BBFF587F757A4C7EB49AD0D536AD363E",
    "jupyter": {},
    "mdEditEnable": false,
    "slideshow": {
     "slide_type": "slide"
    },
    "tags": []
   },
   "source": [
    "### 定义损失函数"
   ]
  },
  {
   "cell_type": "code",
   "execution_count": 28,
   "metadata": {
    "ExecuteTime": {
     "end_time": "2020-02-15T15:55:23.720089Z",
     "start_time": "2020-02-15T15:55:23.717742Z"
    },
    "graffitiCellId": "id_or1wah4",
    "id": "B721F8DD4811434BB1984B5B2DABC143",
    "jupyter": {},
    "scrolled": false,
    "slideshow": {
     "slide_type": "slide"
    },
    "tags": []
   },
   "outputs": [],
   "source": [
    "loss = nn.MSELoss()    # nn built-in squared loss function\n",
    "                       # function prototype: `torch.nn.MSELoss(size_average=None, reduce=None, reduction='mean')`"
   ]
  },
  {
   "cell_type": "markdown",
   "metadata": {
    "graffitiCellId": "id_zyt512e",
    "id": "6490FA20F3D4462CB2B98902F694E525",
    "jupyter": {},
    "mdEditEnable": false,
    "slideshow": {
     "slide_type": "slide"
    },
    "tags": []
   },
   "source": [
    "### 定义优化函数"
   ]
  },
  {
   "cell_type": "code",
   "execution_count": 29,
   "metadata": {
    "ExecuteTime": {
     "end_time": "2020-02-15T15:55:23.725258Z",
     "start_time": "2020-02-15T15:55:23.721757Z"
    },
    "graffitiCellId": "id_pmx4gbq",
    "id": "1998CEB53B534F178AC6223011627B0B",
    "jupyter": {},
    "scrolled": false,
    "slideshow": {
     "slide_type": "slide"
    },
    "tags": []
   },
   "outputs": [
    {
     "name": "stdout",
     "output_type": "stream",
     "text": [
      "SGD (\n",
      "Parameter Group 0\n",
      "    dampening: 0\n",
      "    lr: 0.03\n",
      "    momentum: 0\n",
      "    nesterov: False\n",
      "    weight_decay: 0\n",
      ")\n"
     ]
    }
   ],
   "source": [
    "import torch.optim as optim\n",
    "\n",
    "optimizer = optim.SGD(net.parameters(), lr=0.03)   # built-in random gradient descent function\n",
    "print(optimizer)  # function prototype: `torch.optim.SGD(params, lr=, momentum=0, dampening=0, weight_decay=0, nesterov=False)`"
   ]
  },
  {
   "cell_type": "markdown",
   "metadata": {
    "graffitiCellId": "id_n2klgfl",
    "id": "090AC5BD4E214B75BD7C4AB9B68720D0",
    "jupyter": {},
    "mdEditEnable": false,
    "slideshow": {
     "slide_type": "slide"
    },
    "tags": []
   },
   "source": [
    "### 训练"
   ]
  },
  {
   "cell_type": "code",
   "execution_count": 30,
   "metadata": {
    "ExecuteTime": {
     "end_time": "2020-02-15T15:55:23.991526Z",
     "start_time": "2020-02-15T15:55:23.727583Z"
    },
    "graffitiCellId": "id_qj2fl3l",
    "id": "A4B0F83F71F94728811A619F1AE74CD2",
    "jupyter": {},
    "scrolled": false,
    "slideshow": {
     "slide_type": "slide"
    },
    "tags": []
   },
   "outputs": [
    {
     "name": "stdout",
     "output_type": "stream",
     "text": [
      "epoch 1, loss: 0.000259\n",
      "epoch 2, loss: 0.000218\n",
      "epoch 3, loss: 0.000122\n"
     ]
    }
   ],
   "source": [
    "num_epochs = 3\n",
    "for epoch in range(1, num_epochs + 1):\n",
    "    for X, y in data_iter:\n",
    "        output = net(X)\n",
    "        l = loss(output, y.view(-1, 1))  # 计算损失\n",
    "        # 重置梯度值\n",
    "        optimizer.zero_grad() # reset gradient, equal to net.zero_grad()\n",
    "        l.backward()  # 求梯度值\n",
    "        optimizer.step()  # 执行梯度下降计算\n",
    "    print('epoch %d, loss: %f' % (epoch, l.item()))"
   ]
  },
  {
   "cell_type": "code",
   "execution_count": 31,
   "metadata": {
    "ExecuteTime": {
     "end_time": "2020-02-15T15:55:23.999172Z",
     "start_time": "2020-02-15T15:55:23.993973Z"
    },
    "graffitiCellId": "id_ke4hsr4",
    "id": "704087439A114181B3A7FE79539127AB",
    "jupyter": {},
    "scrolled": false,
    "slideshow": {
     "slide_type": "slide"
    },
    "tags": []
   },
   "outputs": [
    {
     "name": "stdout",
     "output_type": "stream",
     "text": [
      "[2, -3.4] tensor([[ 2.0002, -3.4001]])\n",
      "4.2 tensor([4.1999])\n"
     ]
    }
   ],
   "source": [
    "# result comparision\n",
    "# 比较原始值和优化之后的值\n",
    "dense = net[0]\n",
    "print(true_w, dense.weight.data)\n",
    "print(true_b, dense.bias.data)"
   ]
  },
  {
   "cell_type": "markdown",
   "metadata": {
    "graffitiCellId": "id_v7cg0i4",
    "id": "A968DC29635C4CDF8394A6F779661DC5",
    "jupyter": {},
    "mdEditEnable": false,
    "slideshow": {
     "slide_type": "slide"
    },
    "tags": []
   },
   "source": [
    "## 两种实现方式的比较\n",
    "1. 从零开始的实现（推荐用来学习）\n",
    "\n",
    "   能够更好的理解模型和神经网络底层的原理\n",
    "   \n",
    "\n",
    "2. 使用pytorch的简洁实现\n",
    "\n",
    "   能够更加快速地完成模型的设计与实现\n",
    "   "
   ]
  },
  {
   "cell_type": "markdown",
   "metadata": {
    "id": "36E58BBC1CAF4E6D9DB3D26B59AD74A2",
    "jupyter": {},
    "mdEditEnable": false,
    "slideshow": {
     "slide_type": "slide"
    },
    "tags": []
   },
   "source": [
    "# 基础代码"
   ]
  },
  {
   "cell_type": "code",
   "execution_count": 32,
   "metadata": {
    "ExecuteTime": {
     "end_time": "2020-02-15T15:55:24.008901Z",
     "start_time": "2020-02-15T15:55:24.000757Z"
    },
    "id": "717E1ADFC7DF41E8878861934F562764",
    "jupyter": {},
    "scrolled": false,
    "slideshow": {
     "slide_type": "slide"
    },
    "tags": []
   },
   "outputs": [
    {
     "name": "stdout",
     "output_type": "stream",
     "text": [
      "tensor([[1., 1.],\n",
      "        [1., 1.]], requires_grad=True)\n",
      "None\n",
      "===========\n",
      "tensor([[3., 3.],\n",
      "        [3., 3.]], grad_fn=<AddBackward0>)\n",
      "<AddBackward0 object at 0x12cf985c0>\n",
      "===========\n",
      "tensor([[27., 27.],\n",
      "        [27., 27.]], grad_fn=<MulBackward0>) tensor(27., grad_fn=<MeanBackward0>)\n"
     ]
    }
   ],
   "source": [
    "import torch\n",
    "x = torch.ones(2, 2, requires_grad=True)\n",
    "print(x)\n",
    "print(x.grad_fn)\n",
    "\n",
    "print(\"===========\")\n",
    "y = x+2\n",
    "print(y)\n",
    "print(y.grad_fn)\n",
    "\n",
    "print(\"===========\")\n",
    "z = y*y*3\n",
    "out=z.mean()\n",
    "print(z,out)"
   ]
  },
  {
   "cell_type": "code",
   "execution_count": 33,
   "metadata": {
    "ExecuteTime": {
     "end_time": "2020-02-15T15:55:24.013726Z",
     "start_time": "2020-02-15T15:55:24.010439Z"
    },
    "id": "E664E81AC1B34F16AFEF74DAE1FB3E60",
    "jupyter": {},
    "scrolled": false,
    "slideshow": {
     "slide_type": "slide"
    },
    "tags": []
   },
   "outputs": [
    {
     "name": "stdout",
     "output_type": "stream",
     "text": [
      "True False\n"
     ]
    }
   ],
   "source": [
    "print(x.is_leaf, y.is_leaf)"
   ]
  },
  {
   "cell_type": "code",
   "execution_count": 34,
   "metadata": {
    "ExecuteTime": {
     "end_time": "2020-02-15T15:55:24.021351Z",
     "start_time": "2020-02-15T15:55:24.015482Z"
    },
    "id": "E14AC9725597452D8505E82E6894B6C8",
    "jupyter": {},
    "scrolled": false,
    "slideshow": {
     "slide_type": "slide"
    },
    "tags": []
   },
   "outputs": [
    {
     "name": "stdout",
     "output_type": "stream",
     "text": [
      "False\n",
      "True\n",
      "tensor(9.3096, grad_fn=<SumBackward0>)\n",
      "<SumBackward0 object at 0x12cf98588>\n"
     ]
    }
   ],
   "source": [
    "a = torch.randn(2, 2) # 缺失情况下默认 requires_grad = False\n",
    "a = ((a * 3) / (a - 1))\n",
    "print(a.requires_grad) # False\n",
    "a.requires_grad_(True)\n",
    "print(a.requires_grad) # True\n",
    "b = (a * a).sum()\n",
    "print(b)\n",
    "print(b.grad_fn)"
   ]
  },
  {
   "cell_type": "code",
   "execution_count": 35,
   "metadata": {
    "ExecuteTime": {
     "end_time": "2020-02-15T15:55:24.034108Z",
     "start_time": "2020-02-15T15:55:24.023650Z"
    },
    "id": "05EB11202AA24F698F4896AC5D3AA069",
    "jupyter": {},
    "scrolled": false,
    "slideshow": {
     "slide_type": "slide"
    },
    "tags": []
   },
   "outputs": [
    {
     "name": "stdout",
     "output_type": "stream",
     "text": [
      "tensor([[1., 1.],\n",
      "        [1., 1.]], requires_grad=True)\n",
      "None\n",
      "===========\n",
      "tensor([[3., 3.],\n",
      "        [3., 3.]], grad_fn=<AddBackward0>)\n",
      "<AddBackward0 object at 0x12cfa57f0>\n",
      "===========\n",
      "None\n",
      "tensor([[4., 4.],\n",
      "        [4., 4.]])\n",
      "None\n"
     ]
    }
   ],
   "source": [
    "x = torch.ones(2, 2, requires_grad=True)\n",
    "print(x)\n",
    "print(x.grad_fn)\n",
    "print(\"===========\")\n",
    "\n",
    "y = x+2\n",
    "print(y)\n",
    "print(y.grad_fn)\n",
    "print(\"===========\")\n",
    "\n",
    "z = y*4\n",
    "z.backward(torch.ones_like(z))\n",
    "print(y.grad) #None  \n",
    "print(x.grad)\n",
    "print(z.grad)"
   ]
  },
  {
   "cell_type": "code",
   "execution_count": 36,
   "metadata": {
    "ExecuteTime": {
     "end_time": "2020-02-15T15:55:24.047724Z",
     "start_time": "2020-02-15T15:55:24.036171Z"
    },
    "id": "BE69C6A0492640798D6286B42794216C",
    "jupyter": {},
    "scrolled": false,
    "slideshow": {
     "slide_type": "slide"
    },
    "tags": []
   },
   "outputs": [
    {
     "name": "stdout",
     "output_type": "stream",
     "text": [
      "tensor([[1., 1.],\n",
      "        [1., 1.]], requires_grad=True)\n",
      "None\n",
      "===========\n",
      "tensor([[3., 3.],\n",
      "        [3., 3.]], grad_fn=<AddBackward0>)\n",
      "<AddBackward0 object at 0x12cfaf6d8>\n",
      "===========\n",
      "torch.Size([2, 2])\n",
      "tensor([[3., 6.],\n",
      "        [3., 6.]])\n",
      "===========\n",
      "tensor([[3., 3.],\n",
      "        [3., 3.]])\n"
     ]
    }
   ],
   "source": [
    "x = torch.ones(2, 2, requires_grad=True)\n",
    "print(x)\n",
    "print(x.grad_fn)\n",
    "print(\"===========\")\n",
    "y = x+2\n",
    "print(y)\n",
    "print(y.grad_fn)\n",
    "print(\"===========\")\n",
    "z = y*3\n",
    "print(z.shape)\n",
    "w1=torch.Tensor([[1,2],[1,2]])\n",
    "z.backward([w1])\n",
    "print(x.grad)\n",
    "print(\"===========\")\n",
    "x.grad.data.zero_()\n",
    "z = y*3\n",
    "w2=torch.Tensor([[1,1],[1,1]])\n",
    "z.backward([w2])\n",
    "print(x.grad)"
   ]
  },
  {
   "cell_type": "code",
   "execution_count": null,
   "metadata": {
    "id": "84BC15552EC241ADB4062F4A8BEF8AB0",
    "jupyter": {},
    "scrolled": false,
    "slideshow": {
     "slide_type": "slide"
    },
    "tags": []
   },
   "outputs": [],
   "source": []
  }
 ],
 "metadata": {
  "kernelspec": {
   "display_name": "Python 3",
   "language": "python",
   "name": "python3"
  },
  "language_info": {
   "codemirror_mode": {
    "name": "ipython",
    "version": 3
   },
   "file_extension": ".py",
   "mimetype": "text/x-python",
   "name": "python",
   "nbconvert_exporter": "python",
   "pygments_lexer": "ipython3",
   "version": "3.6.5"
  }
 },
 "nbformat": 4,
 "nbformat_minor": 1
}
