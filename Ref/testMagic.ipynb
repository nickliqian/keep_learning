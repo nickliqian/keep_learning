{
 "cells": [
  {
   "cell_type": "code",
   "execution_count": 1,
   "metadata": {},
   "outputs": [
    {
     "name": "stdout",
     "output_type": "stream",
     "text": [
      "{\n",
      "  \"iopub_port\": 58689,\n",
      "  \"hb_port\": 36988,\n",
      "  \"stdin_port\": 54036,\n",
      "  \"key\": \"e0f5c41f-9180ef068404b7b6934cf933\",\n",
      "  \"shell_port\": 55643,\n",
      "  \"kernel_name\": \"\",\n",
      "  \"signature_scheme\": \"hmac-sha256\",\n",
      "  \"transport\": \"tcp\",\n",
      "  \"control_port\": 41644,\n",
      "  \"ip\": \"127.0.0.1\"\n",
      "}\n",
      "\n",
      "Paste the above JSON into a file, and connect with:\n",
      "    $> jupyter <app> --existing <file>\n",
      "or, if you are local, you can connect with just:\n",
      "    $> jupyter <app> --existing kernel-48ac61ec-7950-47e7-a955-dfac2ac717c5.json\n",
      "or even just:\n",
      "    $> jupyter <app> --existing\n",
      "if this is the most recent Jupyter kernel you have started.\n"
     ]
    }
   ],
   "source": [
    "%connect_info"
   ]
  },
  {
   "cell_type": "code",
   "execution_count": null,
   "metadata": {},
   "outputs": [],
   "source": []
  }
 ],
 "metadata": {
  "kernelspec": {
   "display_name": "Python 3",
   "language": "python",
   "name": "python3"
  },
  "language_info": {
   "codemirror_mode": {
    "name": "ipython",
    "version": 3
   },
   "file_extension": ".py",
   "mimetype": "text/x-python",
   "name": "python",
   "nbconvert_exporter": "python",
   "pygments_lexer": "ipython3",
   "version": "3.5.2"
  }
 },
 "nbformat": 4,
 "nbformat_minor": 2
}
