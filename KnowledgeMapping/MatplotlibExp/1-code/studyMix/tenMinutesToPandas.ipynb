{
 "cells": [
  {
   "cell_type": "code",
   "execution_count": 9,
   "metadata": {},
   "outputs": [],
   "source": [
    "import pandas as pd\n",
    "import numpy as np\n",
    "import matplotlib.pyplot as plt"
   ]
  },
  {
   "cell_type": "markdown",
   "metadata": {},
   "source": [
    "# 1.创建对象"
   ]
  },
  {
   "cell_type": "markdown",
   "metadata": {},
   "source": [
    "`np.nan 是非数字`  \n",
    "`这里通过传递一个list对象类创建一个Series，同时pandas默认创建整型索引`"
   ]
  },
  {
   "cell_type": "code",
   "execution_count": 12,
   "metadata": {},
   "outputs": [],
   "source": [
    "s = pd.Series([1, 3, 5, np.nan, 6, 8])"
   ]
  },
  {
   "cell_type": "code",
   "execution_count": 13,
   "metadata": {},
   "outputs": [
    {
     "data": {
      "text/plain": [
       "0    1.0\n",
       "1    3.0\n",
       "2    5.0\n",
       "3    NaN\n",
       "4    6.0\n",
       "5    8.0\n",
       "dtype: float64"
      ]
     },
     "execution_count": 13,
     "metadata": {},
     "output_type": "execute_result"
    }
   ],
   "source": [
    "s"
   ]
  },
  {
   "cell_type": "markdown",
   "metadata": {},
   "source": [
    "`显示Series的形状`"
   ]
  },
  {
   "cell_type": "code",
   "execution_count": 14,
   "metadata": {},
   "outputs": [
    {
     "data": {
      "text/plain": [
       "(6,)"
      ]
     },
     "execution_count": 14,
     "metadata": {},
     "output_type": "execute_result"
    }
   ],
   "source": [
    "s.shape"
   ]
  },
  {
   "cell_type": "code",
   "execution_count": 16,
   "metadata": {},
   "outputs": [
    {
     "name": "stdout",
     "output_type": "stream",
     "text": [
      "<class 'pandas.core.indexes.datetimes.DatetimeIndex'>\n"
     ]
    },
    {
     "data": {
      "text/plain": [
       "DatetimeIndex(['2013-01-01', '2013-01-02', '2013-01-03', '2013-01-04',\n",
       "               '2013-01-05', '2013-01-06'],\n",
       "              dtype='datetime64[ns]', freq='D')"
      ]
     },
     "execution_count": 16,
     "metadata": {},
     "output_type": "execute_result"
    }
   ],
   "source": [
    "# 创建一个DataFrame 创建一个以时间序列为类型的索引对象\n",
    "dates = pd.date_range('20130101', periods=6)\n",
    "print(type(dates))\n",
    "dates"
   ]
  },
  {
   "cell_type": "markdown",
   "metadata": {},
   "source": [
    "`定义一个DataFrame 参数为：二维对象/日期索引/列名称`"
   ]
  },
  {
   "cell_type": "code",
   "execution_count": 20,
   "metadata": {},
   "outputs": [
    {
     "name": "stdout",
     "output_type": "stream",
     "text": [
      "[[-0.03064071 -0.48634143  0.04501794 -1.3260063 ]\n",
      " [-0.97299222  0.27997097 -0.89156965  1.12844809]\n",
      " [ 0.80180183  0.23196925  0.27018955  0.92087587]\n",
      " [ 1.1518892  -1.43718646  0.21432007  0.35549949]\n",
      " [-0.09214883 -0.27686505 -0.37575536 -0.4452939 ]\n",
      " [ 1.71932363  0.98011946  0.4586644  -0.17475911]]\n",
      "<class 'numpy.ndarray'>\n"
     ]
    }
   ],
   "source": [
    "lis = np.random.randn(6, 4)\n",
    "print(lis)\n",
    "print(type(lis))\n",
    "df = pd.DataFrame(lis, index=dates, columns=list('ABCD'))"
   ]
  },
  {
   "cell_type": "code",
   "execution_count": 19,
   "metadata": {},
   "outputs": [
    {
     "data": {
      "text/html": [
       "<div>\n",
       "<style scoped>\n",
       "    .dataframe tbody tr th:only-of-type {\n",
       "        vertical-align: middle;\n",
       "    }\n",
       "\n",
       "    .dataframe tbody tr th {\n",
       "        vertical-align: top;\n",
       "    }\n",
       "\n",
       "    .dataframe thead th {\n",
       "        text-align: right;\n",
       "    }\n",
       "</style>\n",
       "<table border=\"1\" class=\"dataframe\">\n",
       "  <thead>\n",
       "    <tr style=\"text-align: right;\">\n",
       "      <th></th>\n",
       "      <th>A</th>\n",
       "      <th>B</th>\n",
       "      <th>C</th>\n",
       "      <th>D</th>\n",
       "    </tr>\n",
       "  </thead>\n",
       "  <tbody>\n",
       "    <tr>\n",
       "      <th>2013-01-01</th>\n",
       "      <td>0.128481</td>\n",
       "      <td>0.560223</td>\n",
       "      <td>-0.619091</td>\n",
       "      <td>0.630456</td>\n",
       "    </tr>\n",
       "    <tr>\n",
       "      <th>2013-01-02</th>\n",
       "      <td>-0.593963</td>\n",
       "      <td>-0.517941</td>\n",
       "      <td>-0.176410</td>\n",
       "      <td>0.827096</td>\n",
       "    </tr>\n",
       "    <tr>\n",
       "      <th>2013-01-03</th>\n",
       "      <td>1.594059</td>\n",
       "      <td>0.514401</td>\n",
       "      <td>1.269176</td>\n",
       "      <td>2.721205</td>\n",
       "    </tr>\n",
       "    <tr>\n",
       "      <th>2013-01-04</th>\n",
       "      <td>0.949491</td>\n",
       "      <td>0.750915</td>\n",
       "      <td>-0.192096</td>\n",
       "      <td>-0.620918</td>\n",
       "    </tr>\n",
       "    <tr>\n",
       "      <th>2013-01-05</th>\n",
       "      <td>0.855511</td>\n",
       "      <td>0.868556</td>\n",
       "      <td>1.831027</td>\n",
       "      <td>-1.445911</td>\n",
       "    </tr>\n",
       "    <tr>\n",
       "      <th>2013-01-06</th>\n",
       "      <td>-0.385136</td>\n",
       "      <td>-0.341458</td>\n",
       "      <td>-0.272479</td>\n",
       "      <td>0.664618</td>\n",
       "    </tr>\n",
       "  </tbody>\n",
       "</table>\n",
       "</div>"
      ],
      "text/plain": [
       "                   A         B         C         D\n",
       "2013-01-01  0.128481  0.560223 -0.619091  0.630456\n",
       "2013-01-02 -0.593963 -0.517941 -0.176410  0.827096\n",
       "2013-01-03  1.594059  0.514401  1.269176  2.721205\n",
       "2013-01-04  0.949491  0.750915 -0.192096 -0.620918\n",
       "2013-01-05  0.855511  0.868556  1.831027 -1.445911\n",
       "2013-01-06 -0.385136 -0.341458 -0.272479  0.664618"
      ]
     },
     "execution_count": 19,
     "metadata": {},
     "output_type": "execute_result"
    }
   ],
   "source": [
    "# 定义DataFrame时，使用index给行索引赋值，columns给列索引赋值\n",
    "df"
   ]
  },
  {
   "cell_type": "code",
   "execution_count": 21,
   "metadata": {},
   "outputs": [
    {
     "name": "stdout",
     "output_type": "stream",
     "text": [
      "---Timestamp对象---\n",
      "2013-01-02 00:00:00\n",
      "<class 'pandas._libs.tslib.Timestamp'>\n",
      "--------------------\n",
      "---Series对象 dtype指定类型---\n",
      "0    1.0\n",
      "1    1.0\n",
      "2    1.0\n",
      "3    1.0\n",
      "dtype: float32\n",
      "<class 'pandas.core.series.Series'>\n",
      "--------------------\n",
      "---ndarray类型---\n",
      "[3 3 3 3]\n",
      "<class 'numpy.ndarray'>\n",
      "--------------------\n",
      "---Categorical类型---\n",
      "[test, train, test, train]\n",
      "Categories (2, object): [test, train]\n",
      "<class 'pandas.core.categorical.Categorical'>\n",
      "--------------------\n"
     ]
    }
   ],
   "source": [
    "print('---Timestamp对象---')\n",
    "b = pd.Timestamp('20130102')\n",
    "print(b)\n",
    "print(type(b))\n",
    "print('-' * 20)\n",
    "# this 1 -> [1, 1, 1, 1]\n",
    "print('---Series对象 dtype指定类型---')\n",
    "c = pd.Series(1, index=list(range(4)), dtype='float32')\n",
    "print(c)\n",
    "print(type(c))\n",
    "print('-' * 20)\n",
    "# [3]*4 -> [3, 3, 3, 3]\n",
    "print('---ndarray类型---')\n",
    "d = np.array([3]*4, dtype='int32')\n",
    "print(d)\n",
    "print(type(d))\n",
    "print('-' * 20)\n",
    "print('---Categorical类型---')\n",
    "e = pd.Categorical(['test', 'train', 'test', 'train'])\n",
    "print(e)\n",
    "print(type(e))\n",
    "print('-' * 20)"
   ]
  },
  {
   "cell_type": "code",
   "execution_count": 22,
   "metadata": {},
   "outputs": [
    {
     "name": "stdout",
     "output_type": "stream",
     "text": [
      "     A          B    C  D      E    F\n",
      "0  1.0 2013-01-02  1.0  3   test  foo\n",
      "1  1.0 2013-01-02  1.0  3  train  foo\n",
      "2  1.0 2013-01-02  1.0  3   test  foo\n",
      "3  1.0 2013-01-02  1.0  3  train  foo\n"
     ]
    }
   ],
   "source": [
    "# 给 DataFrame 列的值可以为 list，Timestamp，Series，ndarray，Categorical 类型\n",
    "dic = {  # 字典key为列名称，value为列元素(内容)\n",
    "    'A': 1.,   # 默认表示为一维矩阵\n",
    "    'B': b,    # Timestamp可以表示为一维矩阵\n",
    "    'C': c,    # 使用Series作为列元素\n",
    "    'D': d,    # 使用ndarray作为列元素\n",
    "    'E': e,    # Categorical序列作为列元素\n",
    "    'F': 'foo' # 字符串默认表示为列元素\n",
    "}\n",
    "df2 = pd.DataFrame(dic)\n",
    "print(df2)"
   ]
  },
  {
   "cell_type": "code",
   "execution_count": 23,
   "metadata": {},
   "outputs": [
    {
     "data": {
      "text/plain": [
       "A           float64\n",
       "B    datetime64[ns]\n",
       "C           float32\n",
       "D             int32\n",
       "E          category\n",
       "F            object\n",
       "dtype: object"
      ]
     },
     "execution_count": 23,
     "metadata": {},
     "output_type": "execute_result"
    }
   ],
   "source": [
    "# 查看每一列的数据类型\n",
    "df2.dtypes"
   ]
  },
  {
   "cell_type": "code",
   "execution_count": 24,
   "metadata": {},
   "outputs": [
    {
     "data": {
      "text/html": [
       "<div>\n",
       "<style scoped>\n",
       "    .dataframe tbody tr th:only-of-type {\n",
       "        vertical-align: middle;\n",
       "    }\n",
       "\n",
       "    .dataframe tbody tr th {\n",
       "        vertical-align: top;\n",
       "    }\n",
       "\n",
       "    .dataframe thead th {\n",
       "        text-align: right;\n",
       "    }\n",
       "</style>\n",
       "<table border=\"1\" class=\"dataframe\">\n",
       "  <thead>\n",
       "    <tr style=\"text-align: right;\">\n",
       "      <th></th>\n",
       "      <th>A</th>\n",
       "      <th>B</th>\n",
       "      <th>C</th>\n",
       "      <th>D</th>\n",
       "    </tr>\n",
       "  </thead>\n",
       "  <tbody>\n",
       "    <tr>\n",
       "      <th>2013-01-01</th>\n",
       "      <td>-0.030641</td>\n",
       "      <td>-0.486341</td>\n",
       "      <td>0.045018</td>\n",
       "      <td>-1.326006</td>\n",
       "    </tr>\n",
       "    <tr>\n",
       "      <th>2013-01-02</th>\n",
       "      <td>-0.972992</td>\n",
       "      <td>0.279971</td>\n",
       "      <td>-0.891570</td>\n",
       "      <td>1.128448</td>\n",
       "    </tr>\n",
       "    <tr>\n",
       "      <th>2013-01-03</th>\n",
       "      <td>0.801802</td>\n",
       "      <td>0.231969</td>\n",
       "      <td>0.270190</td>\n",
       "      <td>0.920876</td>\n",
       "    </tr>\n",
       "    <tr>\n",
       "      <th>2013-01-04</th>\n",
       "      <td>1.151889</td>\n",
       "      <td>-1.437186</td>\n",
       "      <td>0.214320</td>\n",
       "      <td>0.355499</td>\n",
       "    </tr>\n",
       "    <tr>\n",
       "      <th>2013-01-05</th>\n",
       "      <td>-0.092149</td>\n",
       "      <td>-0.276865</td>\n",
       "      <td>-0.375755</td>\n",
       "      <td>-0.445294</td>\n",
       "    </tr>\n",
       "    <tr>\n",
       "      <th>2013-01-06</th>\n",
       "      <td>1.719324</td>\n",
       "      <td>0.980119</td>\n",
       "      <td>0.458664</td>\n",
       "      <td>-0.174759</td>\n",
       "    </tr>\n",
       "  </tbody>\n",
       "</table>\n",
       "</div>"
      ],
      "text/plain": [
       "                   A         B         C         D\n",
       "2013-01-01 -0.030641 -0.486341  0.045018 -1.326006\n",
       "2013-01-02 -0.972992  0.279971 -0.891570  1.128448\n",
       "2013-01-03  0.801802  0.231969  0.270190  0.920876\n",
       "2013-01-04  1.151889 -1.437186  0.214320  0.355499\n",
       "2013-01-05 -0.092149 -0.276865 -0.375755 -0.445294\n",
       "2013-01-06  1.719324  0.980119  0.458664 -0.174759"
      ]
     },
     "execution_count": 24,
     "metadata": {},
     "output_type": "execute_result"
    }
   ],
   "source": [
    "df"
   ]
  },
  {
   "cell_type": "markdown",
   "metadata": {},
   "source": [
    "# 2.查看数据"
   ]
  },
  {
   "cell_type": "code",
   "execution_count": 26,
   "metadata": {},
   "outputs": [
    {
     "data": {
      "text/html": [
       "<div>\n",
       "<style scoped>\n",
       "    .dataframe tbody tr th:only-of-type {\n",
       "        vertical-align: middle;\n",
       "    }\n",
       "\n",
       "    .dataframe tbody tr th {\n",
       "        vertical-align: top;\n",
       "    }\n",
       "\n",
       "    .dataframe thead th {\n",
       "        text-align: right;\n",
       "    }\n",
       "</style>\n",
       "<table border=\"1\" class=\"dataframe\">\n",
       "  <thead>\n",
       "    <tr style=\"text-align: right;\">\n",
       "      <th></th>\n",
       "      <th>A</th>\n",
       "      <th>B</th>\n",
       "      <th>C</th>\n",
       "      <th>D</th>\n",
       "    </tr>\n",
       "  </thead>\n",
       "  <tbody>\n",
       "    <tr>\n",
       "      <th>2013-01-01</th>\n",
       "      <td>-0.030641</td>\n",
       "      <td>-0.486341</td>\n",
       "      <td>0.045018</td>\n",
       "      <td>-1.326006</td>\n",
       "    </tr>\n",
       "    <tr>\n",
       "      <th>2013-01-02</th>\n",
       "      <td>-0.972992</td>\n",
       "      <td>0.279971</td>\n",
       "      <td>-0.891570</td>\n",
       "      <td>1.128448</td>\n",
       "    </tr>\n",
       "  </tbody>\n",
       "</table>\n",
       "</div>"
      ],
      "text/plain": [
       "                   A         B         C         D\n",
       "2013-01-01 -0.030641 -0.486341  0.045018 -1.326006\n",
       "2013-01-02 -0.972992  0.279971 -0.891570  1.128448"
      ]
     },
     "execution_count": 26,
     "metadata": {},
     "output_type": "execute_result"
    }
   ],
   "source": [
    "# 查看头部指定几行数据（不填参数默认为5行）\n",
    "df.head(2)"
   ]
  },
  {
   "cell_type": "code",
   "execution_count": 28,
   "metadata": {},
   "outputs": [
    {
     "data": {
      "text/html": [
       "<div>\n",
       "<style scoped>\n",
       "    .dataframe tbody tr th:only-of-type {\n",
       "        vertical-align: middle;\n",
       "    }\n",
       "\n",
       "    .dataframe tbody tr th {\n",
       "        vertical-align: top;\n",
       "    }\n",
       "\n",
       "    .dataframe thead th {\n",
       "        text-align: right;\n",
       "    }\n",
       "</style>\n",
       "<table border=\"1\" class=\"dataframe\">\n",
       "  <thead>\n",
       "    <tr style=\"text-align: right;\">\n",
       "      <th></th>\n",
       "      <th>A</th>\n",
       "      <th>B</th>\n",
       "      <th>C</th>\n",
       "      <th>D</th>\n",
       "    </tr>\n",
       "  </thead>\n",
       "  <tbody>\n",
       "    <tr>\n",
       "      <th>2013-01-04</th>\n",
       "      <td>1.151889</td>\n",
       "      <td>-1.437186</td>\n",
       "      <td>0.214320</td>\n",
       "      <td>0.355499</td>\n",
       "    </tr>\n",
       "    <tr>\n",
       "      <th>2013-01-05</th>\n",
       "      <td>-0.092149</td>\n",
       "      <td>-0.276865</td>\n",
       "      <td>-0.375755</td>\n",
       "      <td>-0.445294</td>\n",
       "    </tr>\n",
       "    <tr>\n",
       "      <th>2013-01-06</th>\n",
       "      <td>1.719324</td>\n",
       "      <td>0.980119</td>\n",
       "      <td>0.458664</td>\n",
       "      <td>-0.174759</td>\n",
       "    </tr>\n",
       "  </tbody>\n",
       "</table>\n",
       "</div>"
      ],
      "text/plain": [
       "                   A         B         C         D\n",
       "2013-01-04  1.151889 -1.437186  0.214320  0.355499\n",
       "2013-01-05 -0.092149 -0.276865 -0.375755 -0.445294\n",
       "2013-01-06  1.719324  0.980119  0.458664 -0.174759"
      ]
     },
     "execution_count": 28,
     "metadata": {},
     "output_type": "execute_result"
    }
   ],
   "source": [
    "# 查看尾部指定几行数据（不填参数默认为5行）\n",
    "df.tail(3)"
   ]
  },
  {
   "cell_type": "code",
   "execution_count": 29,
   "metadata": {},
   "outputs": [
    {
     "data": {
      "text/plain": [
       "DatetimeIndex(['2013-01-01', '2013-01-02', '2013-01-03', '2013-01-04',\n",
       "               '2013-01-05', '2013-01-06'],\n",
       "              dtype='datetime64[ns]', freq='D')"
      ]
     },
     "execution_count": 29,
     "metadata": {},
     "output_type": "execute_result"
    }
   ],
   "source": [
    "# 查看DataFrame索引对象，类型为 datetime64\n",
    "df.index"
   ]
  },
  {
   "cell_type": "code",
   "execution_count": 30,
   "metadata": {},
   "outputs": [
    {
     "data": {
      "text/plain": [
       "Index(['A', 'B', 'C', 'D'], dtype='object')"
      ]
     },
     "execution_count": 30,
     "metadata": {},
     "output_type": "execute_result"
    }
   ],
   "source": [
    "# 查看列信息\n",
    "df.columns"
   ]
  },
  {
   "cell_type": "code",
   "execution_count": 32,
   "metadata": {},
   "outputs": [
    {
     "data": {
      "text/html": [
       "<div>\n",
       "<style scoped>\n",
       "    .dataframe tbody tr th:only-of-type {\n",
       "        vertical-align: middle;\n",
       "    }\n",
       "\n",
       "    .dataframe tbody tr th {\n",
       "        vertical-align: top;\n",
       "    }\n",
       "\n",
       "    .dataframe thead th {\n",
       "        text-align: right;\n",
       "    }\n",
       "</style>\n",
       "<table border=\"1\" class=\"dataframe\">\n",
       "  <thead>\n",
       "    <tr style=\"text-align: right;\">\n",
       "      <th></th>\n",
       "      <th>A</th>\n",
       "      <th>B</th>\n",
       "      <th>C</th>\n",
       "      <th>D</th>\n",
       "    </tr>\n",
       "  </thead>\n",
       "  <tbody>\n",
       "    <tr>\n",
       "      <th>count</th>\n",
       "      <td>6.000000</td>\n",
       "      <td>6.000000</td>\n",
       "      <td>6.000000</td>\n",
       "      <td>6.000000</td>\n",
       "    </tr>\n",
       "    <tr>\n",
       "      <th>mean</th>\n",
       "      <td>0.429539</td>\n",
       "      <td>-0.118056</td>\n",
       "      <td>-0.046522</td>\n",
       "      <td>0.076461</td>\n",
       "    </tr>\n",
       "    <tr>\n",
       "      <th>std</th>\n",
       "      <td>0.977234</td>\n",
       "      <td>0.823152</td>\n",
       "      <td>0.500887</td>\n",
       "      <td>0.916497</td>\n",
       "    </tr>\n",
       "    <tr>\n",
       "      <th>min</th>\n",
       "      <td>-0.972992</td>\n",
       "      <td>-1.437186</td>\n",
       "      <td>-0.891570</td>\n",
       "      <td>-1.326006</td>\n",
       "    </tr>\n",
       "    <tr>\n",
       "      <th>25%</th>\n",
       "      <td>-0.076772</td>\n",
       "      <td>-0.433972</td>\n",
       "      <td>-0.270562</td>\n",
       "      <td>-0.377660</td>\n",
       "    </tr>\n",
       "    <tr>\n",
       "      <th>50%</th>\n",
       "      <td>0.385581</td>\n",
       "      <td>-0.022448</td>\n",
       "      <td>0.129669</td>\n",
       "      <td>0.090370</td>\n",
       "    </tr>\n",
       "    <tr>\n",
       "      <th>75%</th>\n",
       "      <td>1.064367</td>\n",
       "      <td>0.267971</td>\n",
       "      <td>0.256222</td>\n",
       "      <td>0.779532</td>\n",
       "    </tr>\n",
       "    <tr>\n",
       "      <th>max</th>\n",
       "      <td>1.719324</td>\n",
       "      <td>0.980119</td>\n",
       "      <td>0.458664</td>\n",
       "      <td>1.128448</td>\n",
       "    </tr>\n",
       "  </tbody>\n",
       "</table>\n",
       "</div>"
      ],
      "text/plain": [
       "              A         B         C         D\n",
       "count  6.000000  6.000000  6.000000  6.000000\n",
       "mean   0.429539 -0.118056 -0.046522  0.076461\n",
       "std    0.977234  0.823152  0.500887  0.916497\n",
       "min   -0.972992 -1.437186 -0.891570 -1.326006\n",
       "25%   -0.076772 -0.433972 -0.270562 -0.377660\n",
       "50%    0.385581 -0.022448  0.129669  0.090370\n",
       "75%    1.064367  0.267971  0.256222  0.779532\n",
       "max    1.719324  0.980119  0.458664  1.128448"
      ]
     },
     "execution_count": 32,
     "metadata": {},
     "output_type": "execute_result"
    }
   ],
   "source": [
    "# 查看快速统计\n",
    "df.describe()"
   ]
  },
  {
   "cell_type": "code",
   "execution_count": 33,
   "metadata": {},
   "outputs": [
    {
     "data": {
      "text/html": [
       "<div>\n",
       "<style scoped>\n",
       "    .dataframe tbody tr th:only-of-type {\n",
       "        vertical-align: middle;\n",
       "    }\n",
       "\n",
       "    .dataframe tbody tr th {\n",
       "        vertical-align: top;\n",
       "    }\n",
       "\n",
       "    .dataframe thead th {\n",
       "        text-align: right;\n",
       "    }\n",
       "</style>\n",
       "<table border=\"1\" class=\"dataframe\">\n",
       "  <thead>\n",
       "    <tr style=\"text-align: right;\">\n",
       "      <th></th>\n",
       "      <th>2013-01-01 00:00:00</th>\n",
       "      <th>2013-01-02 00:00:00</th>\n",
       "      <th>2013-01-03 00:00:00</th>\n",
       "      <th>2013-01-04 00:00:00</th>\n",
       "      <th>2013-01-05 00:00:00</th>\n",
       "      <th>2013-01-06 00:00:00</th>\n",
       "    </tr>\n",
       "  </thead>\n",
       "  <tbody>\n",
       "    <tr>\n",
       "      <th>A</th>\n",
       "      <td>-0.030641</td>\n",
       "      <td>-0.972992</td>\n",
       "      <td>0.801802</td>\n",
       "      <td>1.151889</td>\n",
       "      <td>-0.092149</td>\n",
       "      <td>1.719324</td>\n",
       "    </tr>\n",
       "    <tr>\n",
       "      <th>B</th>\n",
       "      <td>-0.486341</td>\n",
       "      <td>0.279971</td>\n",
       "      <td>0.231969</td>\n",
       "      <td>-1.437186</td>\n",
       "      <td>-0.276865</td>\n",
       "      <td>0.980119</td>\n",
       "    </tr>\n",
       "    <tr>\n",
       "      <th>C</th>\n",
       "      <td>0.045018</td>\n",
       "      <td>-0.891570</td>\n",
       "      <td>0.270190</td>\n",
       "      <td>0.214320</td>\n",
       "      <td>-0.375755</td>\n",
       "      <td>0.458664</td>\n",
       "    </tr>\n",
       "    <tr>\n",
       "      <th>D</th>\n",
       "      <td>-1.326006</td>\n",
       "      <td>1.128448</td>\n",
       "      <td>0.920876</td>\n",
       "      <td>0.355499</td>\n",
       "      <td>-0.445294</td>\n",
       "      <td>-0.174759</td>\n",
       "    </tr>\n",
       "  </tbody>\n",
       "</table>\n",
       "</div>"
      ],
      "text/plain": [
       "   2013-01-01  2013-01-02  2013-01-03  2013-01-04  2013-01-05  2013-01-06\n",
       "A   -0.030641   -0.972992    0.801802    1.151889   -0.092149    1.719324\n",
       "B   -0.486341    0.279971    0.231969   -1.437186   -0.276865    0.980119\n",
       "C    0.045018   -0.891570    0.270190    0.214320   -0.375755    0.458664\n",
       "D   -1.326006    1.128448    0.920876    0.355499   -0.445294   -0.174759"
      ]
     },
     "execution_count": 33,
     "metadata": {},
     "output_type": "execute_result"
    }
   ],
   "source": [
    "# 转置\n",
    "df.T"
   ]
  },
  {
   "cell_type": "code",
   "execution_count": 34,
   "metadata": {},
   "outputs": [
    {
     "data": {
      "text/html": [
       "<div>\n",
       "<style scoped>\n",
       "    .dataframe tbody tr th:only-of-type {\n",
       "        vertical-align: middle;\n",
       "    }\n",
       "\n",
       "    .dataframe tbody tr th {\n",
       "        vertical-align: top;\n",
       "    }\n",
       "\n",
       "    .dataframe thead th {\n",
       "        text-align: right;\n",
       "    }\n",
       "</style>\n",
       "<table border=\"1\" class=\"dataframe\">\n",
       "  <thead>\n",
       "    <tr style=\"text-align: right;\">\n",
       "      <th></th>\n",
       "      <th>D</th>\n",
       "      <th>C</th>\n",
       "      <th>B</th>\n",
       "      <th>A</th>\n",
       "    </tr>\n",
       "  </thead>\n",
       "  <tbody>\n",
       "    <tr>\n",
       "      <th>2013-01-01</th>\n",
       "      <td>-1.326006</td>\n",
       "      <td>0.045018</td>\n",
       "      <td>-0.486341</td>\n",
       "      <td>-0.030641</td>\n",
       "    </tr>\n",
       "    <tr>\n",
       "      <th>2013-01-02</th>\n",
       "      <td>1.128448</td>\n",
       "      <td>-0.891570</td>\n",
       "      <td>0.279971</td>\n",
       "      <td>-0.972992</td>\n",
       "    </tr>\n",
       "    <tr>\n",
       "      <th>2013-01-03</th>\n",
       "      <td>0.920876</td>\n",
       "      <td>0.270190</td>\n",
       "      <td>0.231969</td>\n",
       "      <td>0.801802</td>\n",
       "    </tr>\n",
       "    <tr>\n",
       "      <th>2013-01-04</th>\n",
       "      <td>0.355499</td>\n",
       "      <td>0.214320</td>\n",
       "      <td>-1.437186</td>\n",
       "      <td>1.151889</td>\n",
       "    </tr>\n",
       "    <tr>\n",
       "      <th>2013-01-05</th>\n",
       "      <td>-0.445294</td>\n",
       "      <td>-0.375755</td>\n",
       "      <td>-0.276865</td>\n",
       "      <td>-0.092149</td>\n",
       "    </tr>\n",
       "    <tr>\n",
       "      <th>2013-01-06</th>\n",
       "      <td>-0.174759</td>\n",
       "      <td>0.458664</td>\n",
       "      <td>0.980119</td>\n",
       "      <td>1.719324</td>\n",
       "    </tr>\n",
       "  </tbody>\n",
       "</table>\n",
       "</div>"
      ],
      "text/plain": [
       "                   D         C         B         A\n",
       "2013-01-01 -1.326006  0.045018 -0.486341 -0.030641\n",
       "2013-01-02  1.128448 -0.891570  0.279971 -0.972992\n",
       "2013-01-03  0.920876  0.270190  0.231969  0.801802\n",
       "2013-01-04  0.355499  0.214320 -1.437186  1.151889\n",
       "2013-01-05 -0.445294 -0.375755 -0.276865 -0.092149\n",
       "2013-01-06 -0.174759  0.458664  0.980119  1.719324"
      ]
     },
     "execution_count": 34,
     "metadata": {},
     "output_type": "execute_result"
    }
   ],
   "source": [
    "# 对轴进行排序 axis 影响列索引 ascending 影响行索引 正序倒序\n",
    "df.sort_index(axis=1, ascending=False)"
   ]
  },
  {
   "cell_type": "code",
   "execution_count": 35,
   "metadata": {},
   "outputs": [
    {
     "data": {
      "text/html": [
       "<div>\n",
       "<style scoped>\n",
       "    .dataframe tbody tr th:only-of-type {\n",
       "        vertical-align: middle;\n",
       "    }\n",
       "\n",
       "    .dataframe tbody tr th {\n",
       "        vertical-align: top;\n",
       "    }\n",
       "\n",
       "    .dataframe thead th {\n",
       "        text-align: right;\n",
       "    }\n",
       "</style>\n",
       "<table border=\"1\" class=\"dataframe\">\n",
       "  <thead>\n",
       "    <tr style=\"text-align: right;\">\n",
       "      <th></th>\n",
       "      <th>A</th>\n",
       "      <th>B</th>\n",
       "      <th>C</th>\n",
       "      <th>D</th>\n",
       "    </tr>\n",
       "  </thead>\n",
       "  <tbody>\n",
       "    <tr>\n",
       "      <th>2013-01-04</th>\n",
       "      <td>1.151889</td>\n",
       "      <td>-1.437186</td>\n",
       "      <td>0.214320</td>\n",
       "      <td>0.355499</td>\n",
       "    </tr>\n",
       "    <tr>\n",
       "      <th>2013-01-01</th>\n",
       "      <td>-0.030641</td>\n",
       "      <td>-0.486341</td>\n",
       "      <td>0.045018</td>\n",
       "      <td>-1.326006</td>\n",
       "    </tr>\n",
       "    <tr>\n",
       "      <th>2013-01-05</th>\n",
       "      <td>-0.092149</td>\n",
       "      <td>-0.276865</td>\n",
       "      <td>-0.375755</td>\n",
       "      <td>-0.445294</td>\n",
       "    </tr>\n",
       "    <tr>\n",
       "      <th>2013-01-03</th>\n",
       "      <td>0.801802</td>\n",
       "      <td>0.231969</td>\n",
       "      <td>0.270190</td>\n",
       "      <td>0.920876</td>\n",
       "    </tr>\n",
       "    <tr>\n",
       "      <th>2013-01-02</th>\n",
       "      <td>-0.972992</td>\n",
       "      <td>0.279971</td>\n",
       "      <td>-0.891570</td>\n",
       "      <td>1.128448</td>\n",
       "    </tr>\n",
       "    <tr>\n",
       "      <th>2013-01-06</th>\n",
       "      <td>1.719324</td>\n",
       "      <td>0.980119</td>\n",
       "      <td>0.458664</td>\n",
       "      <td>-0.174759</td>\n",
       "    </tr>\n",
       "  </tbody>\n",
       "</table>\n",
       "</div>"
      ],
      "text/plain": [
       "                   A         B         C         D\n",
       "2013-01-04  1.151889 -1.437186  0.214320  0.355499\n",
       "2013-01-01 -0.030641 -0.486341  0.045018 -1.326006\n",
       "2013-01-05 -0.092149 -0.276865 -0.375755 -0.445294\n",
       "2013-01-03  0.801802  0.231969  0.270190  0.920876\n",
       "2013-01-02 -0.972992  0.279971 -0.891570  1.128448\n",
       "2013-01-06  1.719324  0.980119  0.458664 -0.174759"
      ]
     },
     "execution_count": 35,
     "metadata": {},
     "output_type": "execute_result"
    }
   ],
   "source": [
    "# 按值进行排序\n",
    "df.sort_values(by=['B'])"
   ]
  },
  {
   "cell_type": "markdown",
   "metadata": {},
   "source": [
    "# 3.选择"
   ]
  },
  {
   "cell_type": "code",
   "execution_count": 37,
   "metadata": {},
   "outputs": [
    {
     "data": {
      "text/plain": [
       "2013-01-01   -0.030641\n",
       "2013-01-02   -0.972992\n",
       "2013-01-03    0.801802\n",
       "2013-01-04    1.151889\n",
       "2013-01-05   -0.092149\n",
       "2013-01-06    1.719324\n",
       "Freq: D, Name: A, dtype: float64"
      ]
     },
     "execution_count": 37,
     "metadata": {},
     "output_type": "execute_result"
    }
   ],
   "source": [
    "# 选中单独的列\n",
    "df['A']"
   ]
  },
  {
   "cell_type": "code",
   "execution_count": 38,
   "metadata": {},
   "outputs": [
    {
     "data": {
      "text/html": [
       "<div>\n",
       "<style scoped>\n",
       "    .dataframe tbody tr th:only-of-type {\n",
       "        vertical-align: middle;\n",
       "    }\n",
       "\n",
       "    .dataframe tbody tr th {\n",
       "        vertical-align: top;\n",
       "    }\n",
       "\n",
       "    .dataframe thead th {\n",
       "        text-align: right;\n",
       "    }\n",
       "</style>\n",
       "<table border=\"1\" class=\"dataframe\">\n",
       "  <thead>\n",
       "    <tr style=\"text-align: right;\">\n",
       "      <th></th>\n",
       "      <th>A</th>\n",
       "      <th>B</th>\n",
       "      <th>C</th>\n",
       "      <th>D</th>\n",
       "    </tr>\n",
       "  </thead>\n",
       "  <tbody>\n",
       "    <tr>\n",
       "      <th>2013-01-01</th>\n",
       "      <td>-0.030641</td>\n",
       "      <td>-0.486341</td>\n",
       "      <td>0.045018</td>\n",
       "      <td>-1.326006</td>\n",
       "    </tr>\n",
       "    <tr>\n",
       "      <th>2013-01-02</th>\n",
       "      <td>-0.972992</td>\n",
       "      <td>0.279971</td>\n",
       "      <td>-0.891570</td>\n",
       "      <td>1.128448</td>\n",
       "    </tr>\n",
       "    <tr>\n",
       "      <th>2013-01-03</th>\n",
       "      <td>0.801802</td>\n",
       "      <td>0.231969</td>\n",
       "      <td>0.270190</td>\n",
       "      <td>0.920876</td>\n",
       "    </tr>\n",
       "  </tbody>\n",
       "</table>\n",
       "</div>"
      ],
      "text/plain": [
       "                   A         B         C         D\n",
       "2013-01-01 -0.030641 -0.486341  0.045018 -1.326006\n",
       "2013-01-02 -0.972992  0.279971 -0.891570  1.128448\n",
       "2013-01-03  0.801802  0.231969  0.270190  0.920876"
      ]
     },
     "execution_count": 38,
     "metadata": {},
     "output_type": "execute_result"
    }
   ],
   "source": [
    "# 通过[]进行选择，会对行进行切片\n",
    "df[0:3]"
   ]
  },
  {
   "cell_type": "code",
   "execution_count": 49,
   "metadata": {},
   "outputs": [
    {
     "data": {
      "text/html": [
       "<div>\n",
       "<style scoped>\n",
       "    .dataframe tbody tr th:only-of-type {\n",
       "        vertical-align: middle;\n",
       "    }\n",
       "\n",
       "    .dataframe tbody tr th {\n",
       "        vertical-align: top;\n",
       "    }\n",
       "\n",
       "    .dataframe thead th {\n",
       "        text-align: right;\n",
       "    }\n",
       "</style>\n",
       "<table border=\"1\" class=\"dataframe\">\n",
       "  <thead>\n",
       "    <tr style=\"text-align: right;\">\n",
       "      <th></th>\n",
       "      <th>A</th>\n",
       "      <th>B</th>\n",
       "      <th>C</th>\n",
       "      <th>D</th>\n",
       "    </tr>\n",
       "  </thead>\n",
       "  <tbody>\n",
       "    <tr>\n",
       "      <th>2013-01-02</th>\n",
       "      <td>-0.972992</td>\n",
       "      <td>0.279971</td>\n",
       "      <td>-0.89157</td>\n",
       "      <td>1.128448</td>\n",
       "    </tr>\n",
       "    <tr>\n",
       "      <th>2013-01-03</th>\n",
       "      <td>0.801802</td>\n",
       "      <td>0.231969</td>\n",
       "      <td>0.27019</td>\n",
       "      <td>0.920876</td>\n",
       "    </tr>\n",
       "    <tr>\n",
       "      <th>2013-01-04</th>\n",
       "      <td>1.151889</td>\n",
       "      <td>-1.437186</td>\n",
       "      <td>0.21432</td>\n",
       "      <td>0.355499</td>\n",
       "    </tr>\n",
       "  </tbody>\n",
       "</table>\n",
       "</div>"
      ],
      "text/plain": [
       "                   A         B        C         D\n",
       "2013-01-02 -0.972992  0.279971 -0.89157  1.128448\n",
       "2013-01-03  0.801802  0.231969  0.27019  0.920876\n",
       "2013-01-04  1.151889 -1.437186  0.21432  0.355499"
      ]
     },
     "execution_count": 49,
     "metadata": {},
     "output_type": "execute_result"
    }
   ],
   "source": [
    "df['20130102':'20130104']"
   ]
  },
  {
   "cell_type": "code",
   "execution_count": 44,
   "metadata": {},
   "outputs": [
    {
     "data": {
      "text/html": [
       "<div>\n",
       "<style scoped>\n",
       "    .dataframe tbody tr th:only-of-type {\n",
       "        vertical-align: middle;\n",
       "    }\n",
       "\n",
       "    .dataframe tbody tr th {\n",
       "        vertical-align: top;\n",
       "    }\n",
       "\n",
       "    .dataframe thead th {\n",
       "        text-align: right;\n",
       "    }\n",
       "</style>\n",
       "<table border=\"1\" class=\"dataframe\">\n",
       "  <thead>\n",
       "    <tr style=\"text-align: right;\">\n",
       "      <th></th>\n",
       "      <th>A</th>\n",
       "      <th>B</th>\n",
       "      <th>C</th>\n",
       "      <th>D</th>\n",
       "    </tr>\n",
       "  </thead>\n",
       "  <tbody>\n",
       "    <tr>\n",
       "      <th>2013-01-01</th>\n",
       "      <td>-0.030641</td>\n",
       "      <td>-0.486341</td>\n",
       "      <td>0.045018</td>\n",
       "      <td>-1.326006</td>\n",
       "    </tr>\n",
       "    <tr>\n",
       "      <th>2013-01-02</th>\n",
       "      <td>-0.972992</td>\n",
       "      <td>0.279971</td>\n",
       "      <td>-0.891570</td>\n",
       "      <td>1.128448</td>\n",
       "    </tr>\n",
       "    <tr>\n",
       "      <th>2013-01-03</th>\n",
       "      <td>0.801802</td>\n",
       "      <td>0.231969</td>\n",
       "      <td>0.270190</td>\n",
       "      <td>0.920876</td>\n",
       "    </tr>\n",
       "    <tr>\n",
       "      <th>2013-01-04</th>\n",
       "      <td>1.151889</td>\n",
       "      <td>-1.437186</td>\n",
       "      <td>0.214320</td>\n",
       "      <td>0.355499</td>\n",
       "    </tr>\n",
       "    <tr>\n",
       "      <th>2013-01-05</th>\n",
       "      <td>-0.092149</td>\n",
       "      <td>-0.276865</td>\n",
       "      <td>-0.375755</td>\n",
       "      <td>-0.445294</td>\n",
       "    </tr>\n",
       "    <tr>\n",
       "      <th>2013-01-06</th>\n",
       "      <td>1.719324</td>\n",
       "      <td>0.980119</td>\n",
       "      <td>0.458664</td>\n",
       "      <td>-0.174759</td>\n",
       "    </tr>\n",
       "  </tbody>\n",
       "</table>\n",
       "</div>"
      ],
      "text/plain": [
       "                   A         B         C         D\n",
       "2013-01-01 -0.030641 -0.486341  0.045018 -1.326006\n",
       "2013-01-02 -0.972992  0.279971 -0.891570  1.128448\n",
       "2013-01-03  0.801802  0.231969  0.270190  0.920876\n",
       "2013-01-04  1.151889 -1.437186  0.214320  0.355499\n",
       "2013-01-05 -0.092149 -0.276865 -0.375755 -0.445294\n",
       "2013-01-06  1.719324  0.980119  0.458664 -0.174759"
      ]
     },
     "execution_count": 44,
     "metadata": {},
     "output_type": "execute_result"
    }
   ],
   "source": [
    "df"
   ]
  },
  {
   "cell_type": "code",
   "execution_count": 61,
   "metadata": {},
   "outputs": [
    {
     "data": {
      "text/plain": [
       "A   -0.030641\n",
       "B   -0.486341\n",
       "C    0.045018\n",
       "D   -1.326006\n",
       "Name: 2013-01-01 00:00:00, dtype: float64"
      ]
     },
     "execution_count": 61,
     "metadata": {},
     "output_type": "execute_result"
    }
   ],
   "source": [
    "# 获得日期第一行\n",
    "df.loc[dates[0]]"
   ]
  },
  {
   "cell_type": "code",
   "execution_count": 72,
   "metadata": {},
   "outputs": [
    {
     "data": {
      "text/html": [
       "<div>\n",
       "<style scoped>\n",
       "    .dataframe tbody tr th:only-of-type {\n",
       "        vertical-align: middle;\n",
       "    }\n",
       "\n",
       "    .dataframe tbody tr th {\n",
       "        vertical-align: top;\n",
       "    }\n",
       "\n",
       "    .dataframe thead th {\n",
       "        text-align: right;\n",
       "    }\n",
       "</style>\n",
       "<table border=\"1\" class=\"dataframe\">\n",
       "  <thead>\n",
       "    <tr style=\"text-align: right;\">\n",
       "      <th></th>\n",
       "      <th>A</th>\n",
       "      <th>B</th>\n",
       "    </tr>\n",
       "  </thead>\n",
       "  <tbody>\n",
       "    <tr>\n",
       "      <th>2013-01-01</th>\n",
       "      <td>-0.030641</td>\n",
       "      <td>-0.486341</td>\n",
       "    </tr>\n",
       "    <tr>\n",
       "      <th>2013-01-02</th>\n",
       "      <td>-0.972992</td>\n",
       "      <td>0.279971</td>\n",
       "    </tr>\n",
       "    <tr>\n",
       "      <th>2013-01-03</th>\n",
       "      <td>0.801802</td>\n",
       "      <td>0.231969</td>\n",
       "    </tr>\n",
       "    <tr>\n",
       "      <th>2013-01-04</th>\n",
       "      <td>1.151889</td>\n",
       "      <td>-1.437186</td>\n",
       "    </tr>\n",
       "    <tr>\n",
       "      <th>2013-01-05</th>\n",
       "      <td>-0.092149</td>\n",
       "      <td>-0.276865</td>\n",
       "    </tr>\n",
       "    <tr>\n",
       "      <th>2013-01-06</th>\n",
       "      <td>1.719324</td>\n",
       "      <td>0.980119</td>\n",
       "    </tr>\n",
       "  </tbody>\n",
       "</table>\n",
       "</div>"
      ],
      "text/plain": [
       "                   A         B\n",
       "2013-01-01 -0.030641 -0.486341\n",
       "2013-01-02 -0.972992  0.279971\n",
       "2013-01-03  0.801802  0.231969\n",
       "2013-01-04  1.151889 -1.437186\n",
       "2013-01-05 -0.092149 -0.276865\n",
       "2013-01-06  1.719324  0.980119"
      ]
     },
     "execution_count": 72,
     "metadata": {},
     "output_type": "execute_result"
    }
   ],
   "source": [
    "# loc通过标签进行选择\n",
    "# 先选择所有行，再选择指定列\n",
    "df.loc[:,['A','B']]"
   ]
  },
  {
   "cell_type": "code",
   "execution_count": 56,
   "metadata": {},
   "outputs": [
    {
     "data": {
      "text/html": [
       "<div>\n",
       "<style scoped>\n",
       "    .dataframe tbody tr th:only-of-type {\n",
       "        vertical-align: middle;\n",
       "    }\n",
       "\n",
       "    .dataframe tbody tr th {\n",
       "        vertical-align: top;\n",
       "    }\n",
       "\n",
       "    .dataframe thead th {\n",
       "        text-align: right;\n",
       "    }\n",
       "</style>\n",
       "<table border=\"1\" class=\"dataframe\">\n",
       "  <thead>\n",
       "    <tr style=\"text-align: right;\">\n",
       "      <th></th>\n",
       "      <th>A</th>\n",
       "      <th>B</th>\n",
       "    </tr>\n",
       "  </thead>\n",
       "  <tbody>\n",
       "    <tr>\n",
       "      <th>2013-01-02</th>\n",
       "      <td>-0.972992</td>\n",
       "      <td>0.279971</td>\n",
       "    </tr>\n",
       "    <tr>\n",
       "      <th>2013-01-03</th>\n",
       "      <td>0.801802</td>\n",
       "      <td>0.231969</td>\n",
       "    </tr>\n",
       "    <tr>\n",
       "      <th>2013-01-04</th>\n",
       "      <td>1.151889</td>\n",
       "      <td>-1.437186</td>\n",
       "    </tr>\n",
       "    <tr>\n",
       "      <th>2013-01-05</th>\n",
       "      <td>-0.092149</td>\n",
       "      <td>-0.276865</td>\n",
       "    </tr>\n",
       "  </tbody>\n",
       "</table>\n",
       "</div>"
      ],
      "text/plain": [
       "                   A         B\n",
       "2013-01-02 -0.972992  0.279971\n",
       "2013-01-03  0.801802  0.231969\n",
       "2013-01-04  1.151889 -1.437186\n",
       "2013-01-05 -0.092149 -0.276865"
      ]
     },
     "execution_count": 56,
     "metadata": {},
     "output_type": "execute_result"
    }
   ],
   "source": [
    "# 选择指定行和列的交叉区域\n",
    "df.loc['20130102':'20130105', ['A','B']]"
   ]
  },
  {
   "cell_type": "code",
   "execution_count": 59,
   "metadata": {},
   "outputs": [
    {
     "data": {
      "text/plain": [
       "A   -0.972992\n",
       "B    0.279971\n",
       "Name: 2013-01-02 00:00:00, dtype: float64"
      ]
     },
     "execution_count": 59,
     "metadata": {},
     "output_type": "execute_result"
    }
   ],
   "source": [
    "# 选择指定列的指定行的数据 维度缩减\n",
    "df.loc['20130102',['A','B']]"
   ]
  },
  {
   "cell_type": "code",
   "execution_count": 63,
   "metadata": {},
   "outputs": [
    {
     "data": {
      "text/plain": [
       "-0.030640708579392422"
      ]
     },
     "execution_count": 63,
     "metadata": {},
     "output_type": "execute_result"
    }
   ],
   "source": [
    "# 获得一个标量\n",
    "df.loc[dates[0], 'A']"
   ]
  },
  {
   "cell_type": "code",
   "execution_count": 65,
   "metadata": {},
   "outputs": [
    {
     "data": {
      "text/plain": [
       "-0.030640708579392422"
      ]
     },
     "execution_count": 65,
     "metadata": {},
     "output_type": "execute_result"
    }
   ],
   "source": [
    "# 快速访问一个标量\n",
    "df.at[dates[0], 'A']"
   ]
  },
  {
   "cell_type": "code",
   "execution_count": 70,
   "metadata": {},
   "outputs": [
    {
     "name": "stdout",
     "output_type": "stream",
     "text": [
      "-->df.loc['20130102':'20130105', ['A','B']]\n",
      "<class 'pandas.core.frame.DataFrame'> \n",
      "\n",
      "-->df.loc['20130102',['A','B']]\n",
      "<class 'pandas.core.series.Series'> \n",
      "\n",
      "-->df.loc[dates[0], 'A']\n",
      "<class 'numpy.float64'> \n",
      "\n"
     ]
    }
   ],
   "source": [
    "a = df.loc['20130102':'20130105', ['A','B']]\n",
    "print(\"-->df.loc['20130102':'20130105', ['A','B']]\")\n",
    "print(type(a), \"\\n\")\n",
    "\n",
    "b = df.loc['20130102',['A','B']]\n",
    "print(\"-->df.loc['20130102',['A','B']]\")\n",
    "print(type(b), \"\\n\")\n",
    "\n",
    "c = df.loc[dates[0], 'A']\n",
    "print(\"-->df.loc[dates[0], 'A']\")\n",
    "print(type(c), \"\\n\")"
   ]
  },
  {
   "cell_type": "code",
   "execution_count": 73,
   "metadata": {},
   "outputs": [
    {
     "data": {
      "text/plain": [
       "A    1.151889\n",
       "B   -1.437186\n",
       "C    0.214320\n",
       "D    0.355499\n",
       "Name: 2013-01-04 00:00:00, dtype: float64"
      ]
     },
     "execution_count": 73,
     "metadata": {},
     "output_type": "execute_result"
    }
   ],
   "source": [
    "# 选择一行\n",
    "df.iloc[3]"
   ]
  },
  {
   "cell_type": "code",
   "execution_count": 76,
   "metadata": {},
   "outputs": [
    {
     "data": {
      "text/html": [
       "<div>\n",
       "<style scoped>\n",
       "    .dataframe tbody tr th:only-of-type {\n",
       "        vertical-align: middle;\n",
       "    }\n",
       "\n",
       "    .dataframe tbody tr th {\n",
       "        vertical-align: top;\n",
       "    }\n",
       "\n",
       "    .dataframe thead th {\n",
       "        text-align: right;\n",
       "    }\n",
       "</style>\n",
       "<table border=\"1\" class=\"dataframe\">\n",
       "  <thead>\n",
       "    <tr style=\"text-align: right;\">\n",
       "      <th></th>\n",
       "      <th>A</th>\n",
       "      <th>B</th>\n",
       "    </tr>\n",
       "  </thead>\n",
       "  <tbody>\n",
       "    <tr>\n",
       "      <th>2013-01-04</th>\n",
       "      <td>1.151889</td>\n",
       "      <td>-1.437186</td>\n",
       "    </tr>\n",
       "    <tr>\n",
       "      <th>2013-01-05</th>\n",
       "      <td>-0.092149</td>\n",
       "      <td>-0.276865</td>\n",
       "    </tr>\n",
       "  </tbody>\n",
       "</table>\n",
       "</div>"
      ],
      "text/plain": [
       "                   A         B\n",
       "2013-01-04  1.151889 -1.437186\n",
       "2013-01-05 -0.092149 -0.276865"
      ]
     },
     "execution_count": 76,
     "metadata": {},
     "output_type": "execute_result"
    }
   ],
   "source": [
    "# 先选行，再选列 类似切片\n",
    "df.iloc[3:5, 0:2]"
   ]
  },
  {
   "cell_type": "code",
   "execution_count": 78,
   "metadata": {},
   "outputs": [
    {
     "data": {
      "text/html": [
       "<div>\n",
       "<style scoped>\n",
       "    .dataframe tbody tr th:only-of-type {\n",
       "        vertical-align: middle;\n",
       "    }\n",
       "\n",
       "    .dataframe tbody tr th {\n",
       "        vertical-align: top;\n",
       "    }\n",
       "\n",
       "    .dataframe thead th {\n",
       "        text-align: right;\n",
       "    }\n",
       "</style>\n",
       "<table border=\"1\" class=\"dataframe\">\n",
       "  <thead>\n",
       "    <tr style=\"text-align: right;\">\n",
       "      <th></th>\n",
       "      <th>A</th>\n",
       "      <th>C</th>\n",
       "    </tr>\n",
       "  </thead>\n",
       "  <tbody>\n",
       "    <tr>\n",
       "      <th>2013-01-02</th>\n",
       "      <td>-0.972992</td>\n",
       "      <td>-0.891570</td>\n",
       "    </tr>\n",
       "    <tr>\n",
       "      <th>2013-01-03</th>\n",
       "      <td>0.801802</td>\n",
       "      <td>0.270190</td>\n",
       "    </tr>\n",
       "    <tr>\n",
       "      <th>2013-01-05</th>\n",
       "      <td>-0.092149</td>\n",
       "      <td>-0.375755</td>\n",
       "    </tr>\n",
       "  </tbody>\n",
       "</table>\n",
       "</div>"
      ],
      "text/plain": [
       "                   A         C\n",
       "2013-01-02 -0.972992 -0.891570\n",
       "2013-01-03  0.801802  0.270190\n",
       "2013-01-05 -0.092149 -0.375755"
      ]
     },
     "execution_count": 78,
     "metadata": {},
     "output_type": "execute_result"
    }
   ],
   "source": [
    "# 通过一个二维数组切片\n",
    "df.iloc[[1,2,4],[0,2]]"
   ]
  },
  {
   "cell_type": "code",
   "execution_count": 79,
   "metadata": {},
   "outputs": [
    {
     "data": {
      "text/html": [
       "<div>\n",
       "<style scoped>\n",
       "    .dataframe tbody tr th:only-of-type {\n",
       "        vertical-align: middle;\n",
       "    }\n",
       "\n",
       "    .dataframe tbody tr th {\n",
       "        vertical-align: top;\n",
       "    }\n",
       "\n",
       "    .dataframe thead th {\n",
       "        text-align: right;\n",
       "    }\n",
       "</style>\n",
       "<table border=\"1\" class=\"dataframe\">\n",
       "  <thead>\n",
       "    <tr style=\"text-align: right;\">\n",
       "      <th></th>\n",
       "      <th>A</th>\n",
       "      <th>B</th>\n",
       "      <th>C</th>\n",
       "      <th>D</th>\n",
       "    </tr>\n",
       "  </thead>\n",
       "  <tbody>\n",
       "    <tr>\n",
       "      <th>2013-01-02</th>\n",
       "      <td>-0.972992</td>\n",
       "      <td>0.279971</td>\n",
       "      <td>-0.89157</td>\n",
       "      <td>1.128448</td>\n",
       "    </tr>\n",
       "    <tr>\n",
       "      <th>2013-01-03</th>\n",
       "      <td>0.801802</td>\n",
       "      <td>0.231969</td>\n",
       "      <td>0.27019</td>\n",
       "      <td>0.920876</td>\n",
       "    </tr>\n",
       "  </tbody>\n",
       "</table>\n",
       "</div>"
      ],
      "text/plain": [
       "                   A         B        C         D\n",
       "2013-01-02 -0.972992  0.279971 -0.89157  1.128448\n",
       "2013-01-03  0.801802  0.231969  0.27019  0.920876"
      ]
     },
     "execution_count": 79,
     "metadata": {},
     "output_type": "execute_result"
    }
   ],
   "source": [
    "df.iloc[1:3, :]"
   ]
  },
  {
   "cell_type": "code",
   "execution_count": 80,
   "metadata": {},
   "outputs": [
    {
     "data": {
      "text/html": [
       "<div>\n",
       "<style scoped>\n",
       "    .dataframe tbody tr th:only-of-type {\n",
       "        vertical-align: middle;\n",
       "    }\n",
       "\n",
       "    .dataframe tbody tr th {\n",
       "        vertical-align: top;\n",
       "    }\n",
       "\n",
       "    .dataframe thead th {\n",
       "        text-align: right;\n",
       "    }\n",
       "</style>\n",
       "<table border=\"1\" class=\"dataframe\">\n",
       "  <thead>\n",
       "    <tr style=\"text-align: right;\">\n",
       "      <th></th>\n",
       "      <th>B</th>\n",
       "      <th>C</th>\n",
       "    </tr>\n",
       "  </thead>\n",
       "  <tbody>\n",
       "    <tr>\n",
       "      <th>2013-01-01</th>\n",
       "      <td>-0.486341</td>\n",
       "      <td>0.045018</td>\n",
       "    </tr>\n",
       "    <tr>\n",
       "      <th>2013-01-02</th>\n",
       "      <td>0.279971</td>\n",
       "      <td>-0.891570</td>\n",
       "    </tr>\n",
       "    <tr>\n",
       "      <th>2013-01-03</th>\n",
       "      <td>0.231969</td>\n",
       "      <td>0.270190</td>\n",
       "    </tr>\n",
       "    <tr>\n",
       "      <th>2013-01-04</th>\n",
       "      <td>-1.437186</td>\n",
       "      <td>0.214320</td>\n",
       "    </tr>\n",
       "    <tr>\n",
       "      <th>2013-01-05</th>\n",
       "      <td>-0.276865</td>\n",
       "      <td>-0.375755</td>\n",
       "    </tr>\n",
       "    <tr>\n",
       "      <th>2013-01-06</th>\n",
       "      <td>0.980119</td>\n",
       "      <td>0.458664</td>\n",
       "    </tr>\n",
       "  </tbody>\n",
       "</table>\n",
       "</div>"
      ],
      "text/plain": [
       "                   B         C\n",
       "2013-01-01 -0.486341  0.045018\n",
       "2013-01-02  0.279971 -0.891570\n",
       "2013-01-03  0.231969  0.270190\n",
       "2013-01-04 -1.437186  0.214320\n",
       "2013-01-05 -0.276865 -0.375755\n",
       "2013-01-06  0.980119  0.458664"
      ]
     },
     "execution_count": 80,
     "metadata": {},
     "output_type": "execute_result"
    }
   ],
   "source": [
    "df.iloc[:, 1:3]"
   ]
  },
  {
   "cell_type": "code",
   "execution_count": 85,
   "metadata": {},
   "outputs": [
    {
     "data": {
      "text/plain": [
       "0.27997097295632301"
      ]
     },
     "execution_count": 85,
     "metadata": {},
     "output_type": "execute_result"
    }
   ],
   "source": [
    "# 获取特定的值\n",
    "df.iloc[1, 1]"
   ]
  },
  {
   "cell_type": "code",
   "execution_count": 86,
   "metadata": {},
   "outputs": [
    {
     "data": {
      "text/plain": [
       "-0.89156964687635265"
      ]
     },
     "execution_count": 86,
     "metadata": {},
     "output_type": "execute_result"
    }
   ],
   "source": [
    "# 获取特定的值\n",
    "df.iat[1, 2]"
   ]
  },
  {
   "cell_type": "markdown",
   "metadata": {},
   "source": [
    "## 布尔索引"
   ]
  },
  {
   "cell_type": "code",
   "execution_count": 88,
   "metadata": {},
   "outputs": [
    {
     "data": {
      "text/html": [
       "<div>\n",
       "<style scoped>\n",
       "    .dataframe tbody tr th:only-of-type {\n",
       "        vertical-align: middle;\n",
       "    }\n",
       "\n",
       "    .dataframe tbody tr th {\n",
       "        vertical-align: top;\n",
       "    }\n",
       "\n",
       "    .dataframe thead th {\n",
       "        text-align: right;\n",
       "    }\n",
       "</style>\n",
       "<table border=\"1\" class=\"dataframe\">\n",
       "  <thead>\n",
       "    <tr style=\"text-align: right;\">\n",
       "      <th></th>\n",
       "      <th>A</th>\n",
       "      <th>B</th>\n",
       "      <th>C</th>\n",
       "      <th>D</th>\n",
       "    </tr>\n",
       "  </thead>\n",
       "  <tbody>\n",
       "    <tr>\n",
       "      <th>2013-01-03</th>\n",
       "      <td>0.801802</td>\n",
       "      <td>0.231969</td>\n",
       "      <td>0.270190</td>\n",
       "      <td>0.920876</td>\n",
       "    </tr>\n",
       "    <tr>\n",
       "      <th>2013-01-04</th>\n",
       "      <td>1.151889</td>\n",
       "      <td>-1.437186</td>\n",
       "      <td>0.214320</td>\n",
       "      <td>0.355499</td>\n",
       "    </tr>\n",
       "    <tr>\n",
       "      <th>2013-01-06</th>\n",
       "      <td>1.719324</td>\n",
       "      <td>0.980119</td>\n",
       "      <td>0.458664</td>\n",
       "      <td>-0.174759</td>\n",
       "    </tr>\n",
       "  </tbody>\n",
       "</table>\n",
       "</div>"
      ],
      "text/plain": [
       "                   A         B         C         D\n",
       "2013-01-03  0.801802  0.231969  0.270190  0.920876\n",
       "2013-01-04  1.151889 -1.437186  0.214320  0.355499\n",
       "2013-01-06  1.719324  0.980119  0.458664 -0.174759"
      ]
     },
     "execution_count": 88,
     "metadata": {},
     "output_type": "execute_result"
    }
   ],
   "source": [
    "# 选择符合条件的行出来 这里是选择列A的值大于0的行\n",
    "df[df.A>0]"
   ]
  },
  {
   "cell_type": "code",
   "execution_count": 92,
   "metadata": {},
   "outputs": [
    {
     "name": "stdout",
     "output_type": "stream",
     "text": [
      "<class 'pandas.core.frame.DataFrame'>\n",
      "                   A         B         C         D\n",
      "2013-01-01       NaN       NaN  0.045018       NaN\n",
      "2013-01-02       NaN  0.279971       NaN  1.128448\n",
      "2013-01-03  0.801802  0.231969  0.270190  0.920876\n",
      "2013-01-04  1.151889       NaN  0.214320  0.355499\n",
      "2013-01-05       NaN       NaN       NaN       NaN\n",
      "2013-01-06  1.719324  0.980119  0.458664       NaN\n"
     ]
    }
   ],
   "source": [
    "newdf = df[df>0]\n",
    "print(type(newdf))\n",
    "print(newdf)"
   ]
  },
  {
   "cell_type": "code",
   "execution_count": 99,
   "metadata": {},
   "outputs": [
    {
     "data": {
      "text/html": [
       "<div>\n",
       "<style scoped>\n",
       "    .dataframe tbody tr th:only-of-type {\n",
       "        vertical-align: middle;\n",
       "    }\n",
       "\n",
       "    .dataframe tbody tr th {\n",
       "        vertical-align: top;\n",
       "    }\n",
       "\n",
       "    .dataframe thead th {\n",
       "        text-align: right;\n",
       "    }\n",
       "</style>\n",
       "<table border=\"1\" class=\"dataframe\">\n",
       "  <thead>\n",
       "    <tr style=\"text-align: right;\">\n",
       "      <th></th>\n",
       "      <th>A</th>\n",
       "      <th>B</th>\n",
       "      <th>C</th>\n",
       "      <th>D</th>\n",
       "      <th>E</th>\n",
       "    </tr>\n",
       "  </thead>\n",
       "  <tbody>\n",
       "    <tr>\n",
       "      <th>2013-01-01</th>\n",
       "      <td>-0.030641</td>\n",
       "      <td>-0.486341</td>\n",
       "      <td>0.045018</td>\n",
       "      <td>-1.326006</td>\n",
       "      <td>o</td>\n",
       "    </tr>\n",
       "    <tr>\n",
       "      <th>2013-01-02</th>\n",
       "      <td>-0.972992</td>\n",
       "      <td>0.279971</td>\n",
       "      <td>-0.891570</td>\n",
       "      <td>1.128448</td>\n",
       "      <td>o</td>\n",
       "    </tr>\n",
       "    <tr>\n",
       "      <th>2013-01-03</th>\n",
       "      <td>0.801802</td>\n",
       "      <td>0.231969</td>\n",
       "      <td>0.270190</td>\n",
       "      <td>0.920876</td>\n",
       "      <td>t</td>\n",
       "    </tr>\n",
       "    <tr>\n",
       "      <th>2013-01-04</th>\n",
       "      <td>1.151889</td>\n",
       "      <td>-1.437186</td>\n",
       "      <td>0.214320</td>\n",
       "      <td>0.355499</td>\n",
       "      <td>t</td>\n",
       "    </tr>\n",
       "    <tr>\n",
       "      <th>2013-01-05</th>\n",
       "      <td>-0.092149</td>\n",
       "      <td>-0.276865</td>\n",
       "      <td>-0.375755</td>\n",
       "      <td>-0.445294</td>\n",
       "      <td>p</td>\n",
       "    </tr>\n",
       "    <tr>\n",
       "      <th>2013-01-06</th>\n",
       "      <td>1.719324</td>\n",
       "      <td>0.980119</td>\n",
       "      <td>0.458664</td>\n",
       "      <td>-0.174759</td>\n",
       "      <td>t</td>\n",
       "    </tr>\n",
       "  </tbody>\n",
       "</table>\n",
       "</div>"
      ],
      "text/plain": [
       "                   A         B         C         D  E\n",
       "2013-01-01 -0.030641 -0.486341  0.045018 -1.326006  o\n",
       "2013-01-02 -0.972992  0.279971 -0.891570  1.128448  o\n",
       "2013-01-03  0.801802  0.231969  0.270190  0.920876  t\n",
       "2013-01-04  1.151889 -1.437186  0.214320  0.355499  t\n",
       "2013-01-05 -0.092149 -0.276865 -0.375755 -0.445294  p\n",
       "2013-01-06  1.719324  0.980119  0.458664 -0.174759  t"
      ]
     },
     "execution_count": 99,
     "metadata": {},
     "output_type": "execute_result"
    }
   ],
   "source": [
    "df3 = df.copy()\n",
    "# 设置了一个新的列\n",
    "df3['E'] = ['o','o','t','t','p','t']\n",
    "df3"
   ]
  },
  {
   "cell_type": "code",
   "execution_count": 100,
   "metadata": {},
   "outputs": [
    {
     "data": {
      "text/html": [
       "<div>\n",
       "<style scoped>\n",
       "    .dataframe tbody tr th:only-of-type {\n",
       "        vertical-align: middle;\n",
       "    }\n",
       "\n",
       "    .dataframe tbody tr th {\n",
       "        vertical-align: top;\n",
       "    }\n",
       "\n",
       "    .dataframe thead th {\n",
       "        text-align: right;\n",
       "    }\n",
       "</style>\n",
       "<table border=\"1\" class=\"dataframe\">\n",
       "  <thead>\n",
       "    <tr style=\"text-align: right;\">\n",
       "      <th></th>\n",
       "      <th>A</th>\n",
       "      <th>B</th>\n",
       "      <th>C</th>\n",
       "      <th>D</th>\n",
       "      <th>E</th>\n",
       "    </tr>\n",
       "  </thead>\n",
       "  <tbody>\n",
       "    <tr>\n",
       "      <th>2013-01-03</th>\n",
       "      <td>0.801802</td>\n",
       "      <td>0.231969</td>\n",
       "      <td>0.270190</td>\n",
       "      <td>0.920876</td>\n",
       "      <td>t</td>\n",
       "    </tr>\n",
       "    <tr>\n",
       "      <th>2013-01-04</th>\n",
       "      <td>1.151889</td>\n",
       "      <td>-1.437186</td>\n",
       "      <td>0.214320</td>\n",
       "      <td>0.355499</td>\n",
       "      <td>t</td>\n",
       "    </tr>\n",
       "    <tr>\n",
       "      <th>2013-01-06</th>\n",
       "      <td>1.719324</td>\n",
       "      <td>0.980119</td>\n",
       "      <td>0.458664</td>\n",
       "      <td>-0.174759</td>\n",
       "      <td>t</td>\n",
       "    </tr>\n",
       "  </tbody>\n",
       "</table>\n",
       "</div>"
      ],
      "text/plain": [
       "                   A         B         C         D  E\n",
       "2013-01-03  0.801802  0.231969  0.270190  0.920876  t\n",
       "2013-01-04  1.151889 -1.437186  0.214320  0.355499  t\n",
       "2013-01-06  1.719324  0.980119  0.458664 -0.174759  t"
      ]
     },
     "execution_count": 100,
     "metadata": {},
     "output_type": "execute_result"
    }
   ],
   "source": [
    "# isin方法过滤 很好用\n",
    "df3[df3['E'].isin(['t','f'])]"
   ]
  },
  {
   "cell_type": "markdown",
   "metadata": {},
   "source": [
    "## 设置"
   ]
  },
  {
   "cell_type": "code",
   "execution_count": 101,
   "metadata": {},
   "outputs": [
    {
     "data": {
      "text/plain": [
       "2013-01-02    1\n",
       "2013-01-03    2\n",
       "2013-01-04    3\n",
       "2013-01-05    4\n",
       "2013-01-06    5\n",
       "2013-01-07    6\n",
       "Freq: D, dtype: int64"
      ]
     },
     "execution_count": 101,
     "metadata": {},
     "output_type": "execute_result"
    }
   ],
   "source": [
    "s1 = pd.Series([1,2,3,4,5,6], index=pd.date_range('20130102', periods=6))\n",
    "s1"
   ]
  },
  {
   "cell_type": "code",
   "execution_count": 104,
   "metadata": {},
   "outputs": [
    {
     "data": {
      "text/html": [
       "<div>\n",
       "<style scoped>\n",
       "    .dataframe tbody tr th:only-of-type {\n",
       "        vertical-align: middle;\n",
       "    }\n",
       "\n",
       "    .dataframe tbody tr th {\n",
       "        vertical-align: top;\n",
       "    }\n",
       "\n",
       "    .dataframe thead th {\n",
       "        text-align: right;\n",
       "    }\n",
       "</style>\n",
       "<table border=\"1\" class=\"dataframe\">\n",
       "  <thead>\n",
       "    <tr style=\"text-align: right;\">\n",
       "      <th></th>\n",
       "      <th>A</th>\n",
       "      <th>B</th>\n",
       "      <th>C</th>\n",
       "      <th>D</th>\n",
       "      <th>F</th>\n",
       "    </tr>\n",
       "  </thead>\n",
       "  <tbody>\n",
       "    <tr>\n",
       "      <th>2013-01-01</th>\n",
       "      <td>-0.030641</td>\n",
       "      <td>-0.486341</td>\n",
       "      <td>0.045018</td>\n",
       "      <td>-1.326006</td>\n",
       "      <td>NaN</td>\n",
       "    </tr>\n",
       "    <tr>\n",
       "      <th>2013-01-02</th>\n",
       "      <td>-0.972992</td>\n",
       "      <td>0.279971</td>\n",
       "      <td>-0.891570</td>\n",
       "      <td>1.128448</td>\n",
       "      <td>1.0</td>\n",
       "    </tr>\n",
       "    <tr>\n",
       "      <th>2013-01-03</th>\n",
       "      <td>0.801802</td>\n",
       "      <td>0.231969</td>\n",
       "      <td>0.270190</td>\n",
       "      <td>0.920876</td>\n",
       "      <td>2.0</td>\n",
       "    </tr>\n",
       "    <tr>\n",
       "      <th>2013-01-04</th>\n",
       "      <td>1.151889</td>\n",
       "      <td>-1.437186</td>\n",
       "      <td>0.214320</td>\n",
       "      <td>0.355499</td>\n",
       "      <td>3.0</td>\n",
       "    </tr>\n",
       "    <tr>\n",
       "      <th>2013-01-05</th>\n",
       "      <td>-0.092149</td>\n",
       "      <td>-0.276865</td>\n",
       "      <td>-0.375755</td>\n",
       "      <td>-0.445294</td>\n",
       "      <td>4.0</td>\n",
       "    </tr>\n",
       "    <tr>\n",
       "      <th>2013-01-06</th>\n",
       "      <td>1.719324</td>\n",
       "      <td>0.980119</td>\n",
       "      <td>0.458664</td>\n",
       "      <td>-0.174759</td>\n",
       "      <td>5.0</td>\n",
       "    </tr>\n",
       "  </tbody>\n",
       "</table>\n",
       "</div>"
      ],
      "text/plain": [
       "                   A         B         C         D    F\n",
       "2013-01-01 -0.030641 -0.486341  0.045018 -1.326006  NaN\n",
       "2013-01-02 -0.972992  0.279971 -0.891570  1.128448  1.0\n",
       "2013-01-03  0.801802  0.231969  0.270190  0.920876  2.0\n",
       "2013-01-04  1.151889 -1.437186  0.214320  0.355499  3.0\n",
       "2013-01-05 -0.092149 -0.276865 -0.375755 -0.445294  4.0\n",
       "2013-01-06  1.719324  0.980119  0.458664 -0.174759  5.0"
      ]
     },
     "execution_count": 104,
     "metadata": {},
     "output_type": "execute_result"
    }
   ],
   "source": [
    "df['F'] = s1\n",
    "df"
   ]
  },
  {
   "cell_type": "code",
   "execution_count": 106,
   "metadata": {},
   "outputs": [
    {
     "data": {
      "text/html": [
       "<div>\n",
       "<style scoped>\n",
       "    .dataframe tbody tr th:only-of-type {\n",
       "        vertical-align: middle;\n",
       "    }\n",
       "\n",
       "    .dataframe tbody tr th {\n",
       "        vertical-align: top;\n",
       "    }\n",
       "\n",
       "    .dataframe thead th {\n",
       "        text-align: right;\n",
       "    }\n",
       "</style>\n",
       "<table border=\"1\" class=\"dataframe\">\n",
       "  <thead>\n",
       "    <tr style=\"text-align: right;\">\n",
       "      <th></th>\n",
       "      <th>A</th>\n",
       "      <th>B</th>\n",
       "      <th>C</th>\n",
       "      <th>D</th>\n",
       "      <th>F</th>\n",
       "    </tr>\n",
       "  </thead>\n",
       "  <tbody>\n",
       "    <tr>\n",
       "      <th>2013-01-01</th>\n",
       "      <td>0.000000</td>\n",
       "      <td>-0.486341</td>\n",
       "      <td>0.045018</td>\n",
       "      <td>-1.326006</td>\n",
       "      <td>NaN</td>\n",
       "    </tr>\n",
       "    <tr>\n",
       "      <th>2013-01-02</th>\n",
       "      <td>-0.972992</td>\n",
       "      <td>0.279971</td>\n",
       "      <td>-0.891570</td>\n",
       "      <td>1.128448</td>\n",
       "      <td>1.0</td>\n",
       "    </tr>\n",
       "    <tr>\n",
       "      <th>2013-01-03</th>\n",
       "      <td>0.801802</td>\n",
       "      <td>0.231969</td>\n",
       "      <td>0.270190</td>\n",
       "      <td>0.920876</td>\n",
       "      <td>2.0</td>\n",
       "    </tr>\n",
       "    <tr>\n",
       "      <th>2013-01-04</th>\n",
       "      <td>1.151889</td>\n",
       "      <td>-1.437186</td>\n",
       "      <td>0.214320</td>\n",
       "      <td>0.355499</td>\n",
       "      <td>3.0</td>\n",
       "    </tr>\n",
       "    <tr>\n",
       "      <th>2013-01-05</th>\n",
       "      <td>-0.092149</td>\n",
       "      <td>-0.276865</td>\n",
       "      <td>-0.375755</td>\n",
       "      <td>-0.445294</td>\n",
       "      <td>4.0</td>\n",
       "    </tr>\n",
       "    <tr>\n",
       "      <th>2013-01-06</th>\n",
       "      <td>1.719324</td>\n",
       "      <td>0.980119</td>\n",
       "      <td>0.458664</td>\n",
       "      <td>-0.174759</td>\n",
       "      <td>5.0</td>\n",
       "    </tr>\n",
       "  </tbody>\n",
       "</table>\n",
       "</div>"
      ],
      "text/plain": [
       "                   A         B         C         D    F\n",
       "2013-01-01  0.000000 -0.486341  0.045018 -1.326006  NaN\n",
       "2013-01-02 -0.972992  0.279971 -0.891570  1.128448  1.0\n",
       "2013-01-03  0.801802  0.231969  0.270190  0.920876  2.0\n",
       "2013-01-04  1.151889 -1.437186  0.214320  0.355499  3.0\n",
       "2013-01-05 -0.092149 -0.276865 -0.375755 -0.445294  4.0\n",
       "2013-01-06  1.719324  0.980119  0.458664 -0.174759  5.0"
      ]
     },
     "execution_count": 106,
     "metadata": {},
     "output_type": "execute_result"
    }
   ],
   "source": [
    "# 通过标签设置新的值\n",
    "df.at[dates[0], 'A'] = 0\n",
    "df"
   ]
  },
  {
   "cell_type": "code",
   "execution_count": 112,
   "metadata": {},
   "outputs": [
    {
     "name": "stdout",
     "output_type": "stream",
     "text": [
      "6\n",
      "                    A         B         C         D    F\n",
      "2013-01-01  10.000000 -0.486341  0.045018 -1.326006  NaN\n",
      "2013-01-02  -0.972992  0.279971 -0.891570  1.128448  1.0\n",
      "2013-01-03   0.801802  0.231969  0.270190  0.920876  2.0\n",
      "2013-01-04   1.151889 -1.437186  0.214320  0.355499  3.0\n",
      "2013-01-05  -0.092149 -0.276865 -0.375755 -0.445294  4.0\n",
      "2013-01-06   1.719324  0.980119  0.458664 -0.174759  5.0\n"
     ]
    }
   ],
   "source": [
    "# 通过位置设置新的值\n",
    "df.iat[0, 0] = 10\n",
    "# 长度是指行数\n",
    "print(len(df))\n",
    "print(df)"
   ]
  },
  {
   "cell_type": "code",
   "execution_count": 115,
   "metadata": {},
   "outputs": [
    {
     "data": {
      "text/html": [
       "<div>\n",
       "<style scoped>\n",
       "    .dataframe tbody tr th:only-of-type {\n",
       "        vertical-align: middle;\n",
       "    }\n",
       "\n",
       "    .dataframe tbody tr th {\n",
       "        vertical-align: top;\n",
       "    }\n",
       "\n",
       "    .dataframe thead th {\n",
       "        text-align: right;\n",
       "    }\n",
       "</style>\n",
       "<table border=\"1\" class=\"dataframe\">\n",
       "  <thead>\n",
       "    <tr style=\"text-align: right;\">\n",
       "      <th></th>\n",
       "      <th>A</th>\n",
       "      <th>B</th>\n",
       "      <th>C</th>\n",
       "      <th>D</th>\n",
       "      <th>F</th>\n",
       "    </tr>\n",
       "  </thead>\n",
       "  <tbody>\n",
       "    <tr>\n",
       "      <th>2013-01-01</th>\n",
       "      <td>10.000000</td>\n",
       "      <td>-0.486341</td>\n",
       "      <td>0.045018</td>\n",
       "      <td>5</td>\n",
       "      <td>NaN</td>\n",
       "    </tr>\n",
       "    <tr>\n",
       "      <th>2013-01-02</th>\n",
       "      <td>-0.972992</td>\n",
       "      <td>0.279971</td>\n",
       "      <td>-0.891570</td>\n",
       "      <td>5</td>\n",
       "      <td>1.0</td>\n",
       "    </tr>\n",
       "    <tr>\n",
       "      <th>2013-01-03</th>\n",
       "      <td>0.801802</td>\n",
       "      <td>0.231969</td>\n",
       "      <td>0.270190</td>\n",
       "      <td>5</td>\n",
       "      <td>2.0</td>\n",
       "    </tr>\n",
       "    <tr>\n",
       "      <th>2013-01-04</th>\n",
       "      <td>1.151889</td>\n",
       "      <td>-1.437186</td>\n",
       "      <td>0.214320</td>\n",
       "      <td>5</td>\n",
       "      <td>3.0</td>\n",
       "    </tr>\n",
       "    <tr>\n",
       "      <th>2013-01-05</th>\n",
       "      <td>-0.092149</td>\n",
       "      <td>-0.276865</td>\n",
       "      <td>-0.375755</td>\n",
       "      <td>5</td>\n",
       "      <td>4.0</td>\n",
       "    </tr>\n",
       "    <tr>\n",
       "      <th>2013-01-06</th>\n",
       "      <td>1.719324</td>\n",
       "      <td>0.980119</td>\n",
       "      <td>0.458664</td>\n",
       "      <td>5</td>\n",
       "      <td>5.0</td>\n",
       "    </tr>\n",
       "  </tbody>\n",
       "</table>\n",
       "</div>"
      ],
      "text/plain": [
       "                    A         B         C  D    F\n",
       "2013-01-01  10.000000 -0.486341  0.045018  5  NaN\n",
       "2013-01-02  -0.972992  0.279971 -0.891570  5  1.0\n",
       "2013-01-03   0.801802  0.231969  0.270190  5  2.0\n",
       "2013-01-04   1.151889 -1.437186  0.214320  5  3.0\n",
       "2013-01-05  -0.092149 -0.276865 -0.375755  5  4.0\n",
       "2013-01-06   1.719324  0.980119  0.458664  5  5.0"
      ]
     },
     "execution_count": 115,
     "metadata": {},
     "output_type": "execute_result"
    }
   ],
   "source": [
    "# 设置一列的数据\n",
    "df.loc[:, 'D'] = np.array([5]*len(df))\n",
    "df"
   ]
  },
  {
   "cell_type": "code",
   "execution_count": 116,
   "metadata": {},
   "outputs": [
    {
     "data": {
      "text/html": [
       "<div>\n",
       "<style scoped>\n",
       "    .dataframe tbody tr th:only-of-type {\n",
       "        vertical-align: middle;\n",
       "    }\n",
       "\n",
       "    .dataframe tbody tr th {\n",
       "        vertical-align: top;\n",
       "    }\n",
       "\n",
       "    .dataframe thead th {\n",
       "        text-align: right;\n",
       "    }\n",
       "</style>\n",
       "<table border=\"1\" class=\"dataframe\">\n",
       "  <thead>\n",
       "    <tr style=\"text-align: right;\">\n",
       "      <th></th>\n",
       "      <th>A</th>\n",
       "      <th>B</th>\n",
       "      <th>C</th>\n",
       "      <th>D</th>\n",
       "      <th>E</th>\n",
       "    </tr>\n",
       "  </thead>\n",
       "  <tbody>\n",
       "    <tr>\n",
       "      <th>2013-01-01</th>\n",
       "      <td>-0.030641</td>\n",
       "      <td>-0.486341</td>\n",
       "      <td>0.045018</td>\n",
       "      <td>-1.326006</td>\n",
       "      <td>o</td>\n",
       "    </tr>\n",
       "    <tr>\n",
       "      <th>2013-01-02</th>\n",
       "      <td>-0.972992</td>\n",
       "      <td>0.279971</td>\n",
       "      <td>-0.891570</td>\n",
       "      <td>1.128448</td>\n",
       "      <td>o</td>\n",
       "    </tr>\n",
       "    <tr>\n",
       "      <th>2013-01-03</th>\n",
       "      <td>0.801802</td>\n",
       "      <td>0.231969</td>\n",
       "      <td>0.270190</td>\n",
       "      <td>0.920876</td>\n",
       "      <td>t</td>\n",
       "    </tr>\n",
       "    <tr>\n",
       "      <th>2013-01-04</th>\n",
       "      <td>1.151889</td>\n",
       "      <td>-1.437186</td>\n",
       "      <td>0.214320</td>\n",
       "      <td>0.355499</td>\n",
       "      <td>t</td>\n",
       "    </tr>\n",
       "    <tr>\n",
       "      <th>2013-01-05</th>\n",
       "      <td>-0.092149</td>\n",
       "      <td>-0.276865</td>\n",
       "      <td>-0.375755</td>\n",
       "      <td>-0.445294</td>\n",
       "      <td>p</td>\n",
       "    </tr>\n",
       "    <tr>\n",
       "      <th>2013-01-06</th>\n",
       "      <td>1.719324</td>\n",
       "      <td>0.980119</td>\n",
       "      <td>0.458664</td>\n",
       "      <td>-0.174759</td>\n",
       "      <td>t</td>\n",
       "    </tr>\n",
       "  </tbody>\n",
       "</table>\n",
       "</div>"
      ],
      "text/plain": [
       "                   A         B         C         D  E\n",
       "2013-01-01 -0.030641 -0.486341  0.045018 -1.326006  o\n",
       "2013-01-02 -0.972992  0.279971 -0.891570  1.128448  o\n",
       "2013-01-03  0.801802  0.231969  0.270190  0.920876  t\n",
       "2013-01-04  1.151889 -1.437186  0.214320  0.355499  t\n",
       "2013-01-05 -0.092149 -0.276865 -0.375755 -0.445294  p\n",
       "2013-01-06  1.719324  0.980119  0.458664 -0.174759  t"
      ]
     },
     "execution_count": 116,
     "metadata": {},
     "output_type": "execute_result"
    }
   ],
   "source": [
    "df3"
   ]
  },
  {
   "cell_type": "code",
   "execution_count": 121,
   "metadata": {},
   "outputs": [
    {
     "data": {
      "text/html": [
       "<div>\n",
       "<style scoped>\n",
       "    .dataframe tbody tr th:only-of-type {\n",
       "        vertical-align: middle;\n",
       "    }\n",
       "\n",
       "    .dataframe tbody tr th {\n",
       "        vertical-align: top;\n",
       "    }\n",
       "\n",
       "    .dataframe thead th {\n",
       "        text-align: right;\n",
       "    }\n",
       "</style>\n",
       "<table border=\"1\" class=\"dataframe\">\n",
       "  <thead>\n",
       "    <tr style=\"text-align: right;\">\n",
       "      <th></th>\n",
       "      <th>A</th>\n",
       "      <th>B</th>\n",
       "      <th>C</th>\n",
       "      <th>D</th>\n",
       "      <th>F</th>\n",
       "    </tr>\n",
       "  </thead>\n",
       "  <tbody>\n",
       "    <tr>\n",
       "      <th>2013-01-01</th>\n",
       "      <td>-10.000000</td>\n",
       "      <td>-0.486341</td>\n",
       "      <td>-0.045018</td>\n",
       "      <td>-5</td>\n",
       "      <td>NaN</td>\n",
       "    </tr>\n",
       "    <tr>\n",
       "      <th>2013-01-02</th>\n",
       "      <td>-0.972992</td>\n",
       "      <td>-0.279971</td>\n",
       "      <td>-0.891570</td>\n",
       "      <td>-5</td>\n",
       "      <td>-1.0</td>\n",
       "    </tr>\n",
       "    <tr>\n",
       "      <th>2013-01-03</th>\n",
       "      <td>-0.801802</td>\n",
       "      <td>-0.231969</td>\n",
       "      <td>-0.270190</td>\n",
       "      <td>-5</td>\n",
       "      <td>-2.0</td>\n",
       "    </tr>\n",
       "    <tr>\n",
       "      <th>2013-01-04</th>\n",
       "      <td>-1.151889</td>\n",
       "      <td>-1.437186</td>\n",
       "      <td>-0.214320</td>\n",
       "      <td>-5</td>\n",
       "      <td>-3.0</td>\n",
       "    </tr>\n",
       "    <tr>\n",
       "      <th>2013-01-05</th>\n",
       "      <td>-0.092149</td>\n",
       "      <td>-0.276865</td>\n",
       "      <td>-0.375755</td>\n",
       "      <td>-5</td>\n",
       "      <td>-4.0</td>\n",
       "    </tr>\n",
       "    <tr>\n",
       "      <th>2013-01-06</th>\n",
       "      <td>-1.719324</td>\n",
       "      <td>-0.980119</td>\n",
       "      <td>-0.458664</td>\n",
       "      <td>-5</td>\n",
       "      <td>-5.0</td>\n",
       "    </tr>\n",
       "  </tbody>\n",
       "</table>\n",
       "</div>"
      ],
      "text/plain": [
       "                    A         B         C  D    F\n",
       "2013-01-01 -10.000000 -0.486341 -0.045018 -5  NaN\n",
       "2013-01-02  -0.972992 -0.279971 -0.891570 -5 -1.0\n",
       "2013-01-03  -0.801802 -0.231969 -0.270190 -5 -2.0\n",
       "2013-01-04  -1.151889 -1.437186 -0.214320 -5 -3.0\n",
       "2013-01-05  -0.092149 -0.276865 -0.375755 -5 -4.0\n",
       "2013-01-06  -1.719324 -0.980119 -0.458664 -5 -5.0"
      ]
     },
     "execution_count": 121,
     "metadata": {},
     "output_type": "execute_result"
    }
   ],
   "source": [
    "df4 = df.copy()\n",
    "# 大于0的部分都设置为负数\n",
    "df4[df4>0] = -df4\n",
    "df4"
   ]
  },
  {
   "cell_type": "markdown",
   "metadata": {},
   "source": [
    "# 缺失值处理"
   ]
  },
  {
   "cell_type": "code",
   "execution_count": 122,
   "metadata": {},
   "outputs": [
    {
     "data": {
      "text/html": [
       "<div>\n",
       "<style scoped>\n",
       "    .dataframe tbody tr th:only-of-type {\n",
       "        vertical-align: middle;\n",
       "    }\n",
       "\n",
       "    .dataframe tbody tr th {\n",
       "        vertical-align: top;\n",
       "    }\n",
       "\n",
       "    .dataframe thead th {\n",
       "        text-align: right;\n",
       "    }\n",
       "</style>\n",
       "<table border=\"1\" class=\"dataframe\">\n",
       "  <thead>\n",
       "    <tr style=\"text-align: right;\">\n",
       "      <th></th>\n",
       "      <th>A</th>\n",
       "      <th>B</th>\n",
       "      <th>C</th>\n",
       "      <th>D</th>\n",
       "      <th>F</th>\n",
       "    </tr>\n",
       "  </thead>\n",
       "  <tbody>\n",
       "    <tr>\n",
       "      <th>2013-01-01</th>\n",
       "      <td>10.000000</td>\n",
       "      <td>-0.486341</td>\n",
       "      <td>0.045018</td>\n",
       "      <td>5</td>\n",
       "      <td>NaN</td>\n",
       "    </tr>\n",
       "    <tr>\n",
       "      <th>2013-01-02</th>\n",
       "      <td>-0.972992</td>\n",
       "      <td>0.279971</td>\n",
       "      <td>-0.891570</td>\n",
       "      <td>5</td>\n",
       "      <td>1.0</td>\n",
       "    </tr>\n",
       "    <tr>\n",
       "      <th>2013-01-03</th>\n",
       "      <td>0.801802</td>\n",
       "      <td>0.231969</td>\n",
       "      <td>0.270190</td>\n",
       "      <td>5</td>\n",
       "      <td>2.0</td>\n",
       "    </tr>\n",
       "    <tr>\n",
       "      <th>2013-01-04</th>\n",
       "      <td>1.151889</td>\n",
       "      <td>-1.437186</td>\n",
       "      <td>0.214320</td>\n",
       "      <td>5</td>\n",
       "      <td>3.0</td>\n",
       "    </tr>\n",
       "    <tr>\n",
       "      <th>2013-01-05</th>\n",
       "      <td>-0.092149</td>\n",
       "      <td>-0.276865</td>\n",
       "      <td>-0.375755</td>\n",
       "      <td>5</td>\n",
       "      <td>4.0</td>\n",
       "    </tr>\n",
       "    <tr>\n",
       "      <th>2013-01-06</th>\n",
       "      <td>1.719324</td>\n",
       "      <td>0.980119</td>\n",
       "      <td>0.458664</td>\n",
       "      <td>5</td>\n",
       "      <td>5.0</td>\n",
       "    </tr>\n",
       "  </tbody>\n",
       "</table>\n",
       "</div>"
      ],
      "text/plain": [
       "                    A         B         C  D    F\n",
       "2013-01-01  10.000000 -0.486341  0.045018  5  NaN\n",
       "2013-01-02  -0.972992  0.279971 -0.891570  5  1.0\n",
       "2013-01-03   0.801802  0.231969  0.270190  5  2.0\n",
       "2013-01-04   1.151889 -1.437186  0.214320  5  3.0\n",
       "2013-01-05  -0.092149 -0.276865 -0.375755  5  4.0\n",
       "2013-01-06   1.719324  0.980119  0.458664  5  5.0"
      ]
     },
     "execution_count": 122,
     "metadata": {},
     "output_type": "execute_result"
    }
   ],
   "source": [
    "df"
   ]
  },
  {
   "cell_type": "code",
   "execution_count": 125,
   "metadata": {},
   "outputs": [
    {
     "data": {
      "text/html": [
       "<div>\n",
       "<style scoped>\n",
       "    .dataframe tbody tr th:only-of-type {\n",
       "        vertical-align: middle;\n",
       "    }\n",
       "\n",
       "    .dataframe tbody tr th {\n",
       "        vertical-align: top;\n",
       "    }\n",
       "\n",
       "    .dataframe thead th {\n",
       "        text-align: right;\n",
       "    }\n",
       "</style>\n",
       "<table border=\"1\" class=\"dataframe\">\n",
       "  <thead>\n",
       "    <tr style=\"text-align: right;\">\n",
       "      <th></th>\n",
       "      <th>A</th>\n",
       "      <th>B</th>\n",
       "      <th>C</th>\n",
       "      <th>D</th>\n",
       "      <th>F</th>\n",
       "      <th>E</th>\n",
       "    </tr>\n",
       "  </thead>\n",
       "  <tbody>\n",
       "    <tr>\n",
       "      <th>2013-01-01</th>\n",
       "      <td>10.000000</td>\n",
       "      <td>-0.486341</td>\n",
       "      <td>0.045018</td>\n",
       "      <td>5</td>\n",
       "      <td>NaN</td>\n",
       "      <td>NaN</td>\n",
       "    </tr>\n",
       "    <tr>\n",
       "      <th>2013-01-02</th>\n",
       "      <td>-0.972992</td>\n",
       "      <td>0.279971</td>\n",
       "      <td>-0.891570</td>\n",
       "      <td>5</td>\n",
       "      <td>1.0</td>\n",
       "      <td>NaN</td>\n",
       "    </tr>\n",
       "    <tr>\n",
       "      <th>2013-01-03</th>\n",
       "      <td>0.801802</td>\n",
       "      <td>0.231969</td>\n",
       "      <td>0.270190</td>\n",
       "      <td>5</td>\n",
       "      <td>2.0</td>\n",
       "      <td>NaN</td>\n",
       "    </tr>\n",
       "    <tr>\n",
       "      <th>2013-01-04</th>\n",
       "      <td>1.151889</td>\n",
       "      <td>-1.437186</td>\n",
       "      <td>0.214320</td>\n",
       "      <td>5</td>\n",
       "      <td>3.0</td>\n",
       "      <td>NaN</td>\n",
       "    </tr>\n",
       "  </tbody>\n",
       "</table>\n",
       "</div>"
      ],
      "text/plain": [
       "                    A         B         C  D    F   E\n",
       "2013-01-01  10.000000 -0.486341  0.045018  5  NaN NaN\n",
       "2013-01-02  -0.972992  0.279971 -0.891570  5  1.0 NaN\n",
       "2013-01-03   0.801802  0.231969  0.270190  5  2.0 NaN\n",
       "2013-01-04   1.151889 -1.437186  0.214320  5  3.0 NaN"
      ]
     },
     "execution_count": 125,
     "metadata": {},
     "output_type": "execute_result"
    }
   ],
   "source": [
    "#  reindex()方法可以对指定轴上的索引进行改变/增加/删除操作，这将返回原始数据的一个拷贝\n",
    "df1 = df.reindex(index=dates[0:4], columns=list(df.columns) + ['E'])\n",
    "df1"
   ]
  },
  {
   "cell_type": "code",
   "execution_count": 126,
   "metadata": {},
   "outputs": [
    {
     "data": {
      "text/html": [
       "<div>\n",
       "<style scoped>\n",
       "    .dataframe tbody tr th:only-of-type {\n",
       "        vertical-align: middle;\n",
       "    }\n",
       "\n",
       "    .dataframe tbody tr th {\n",
       "        vertical-align: top;\n",
       "    }\n",
       "\n",
       "    .dataframe thead th {\n",
       "        text-align: right;\n",
       "    }\n",
       "</style>\n",
       "<table border=\"1\" class=\"dataframe\">\n",
       "  <thead>\n",
       "    <tr style=\"text-align: right;\">\n",
       "      <th></th>\n",
       "      <th>A</th>\n",
       "      <th>B</th>\n",
       "      <th>C</th>\n",
       "      <th>D</th>\n",
       "      <th>F</th>\n",
       "      <th>E</th>\n",
       "    </tr>\n",
       "  </thead>\n",
       "  <tbody>\n",
       "    <tr>\n",
       "      <th>2013-01-01</th>\n",
       "      <td>10.000000</td>\n",
       "      <td>-0.486341</td>\n",
       "      <td>0.045018</td>\n",
       "      <td>5</td>\n",
       "      <td>NaN</td>\n",
       "      <td>1.0</td>\n",
       "    </tr>\n",
       "    <tr>\n",
       "      <th>2013-01-02</th>\n",
       "      <td>-0.972992</td>\n",
       "      <td>0.279971</td>\n",
       "      <td>-0.891570</td>\n",
       "      <td>5</td>\n",
       "      <td>1.0</td>\n",
       "      <td>1.0</td>\n",
       "    </tr>\n",
       "    <tr>\n",
       "      <th>2013-01-03</th>\n",
       "      <td>0.801802</td>\n",
       "      <td>0.231969</td>\n",
       "      <td>0.270190</td>\n",
       "      <td>5</td>\n",
       "      <td>2.0</td>\n",
       "      <td>NaN</td>\n",
       "    </tr>\n",
       "    <tr>\n",
       "      <th>2013-01-04</th>\n",
       "      <td>1.151889</td>\n",
       "      <td>-1.437186</td>\n",
       "      <td>0.214320</td>\n",
       "      <td>5</td>\n",
       "      <td>3.0</td>\n",
       "      <td>NaN</td>\n",
       "    </tr>\n",
       "  </tbody>\n",
       "</table>\n",
       "</div>"
      ],
      "text/plain": [
       "                    A         B         C  D    F    E\n",
       "2013-01-01  10.000000 -0.486341  0.045018  5  NaN  1.0\n",
       "2013-01-02  -0.972992  0.279971 -0.891570  5  1.0  1.0\n",
       "2013-01-03   0.801802  0.231969  0.270190  5  2.0  NaN\n",
       "2013-01-04   1.151889 -1.437186  0.214320  5  3.0  NaN"
      ]
     },
     "execution_count": 126,
     "metadata": {},
     "output_type": "execute_result"
    }
   ],
   "source": [
    "df1.loc[dates[0]:dates[1], 'E'] = 1\n",
    "df1"
   ]
  },
  {
   "cell_type": "code",
   "execution_count": 129,
   "metadata": {},
   "outputs": [
    {
     "data": {
      "text/html": [
       "<div>\n",
       "<style scoped>\n",
       "    .dataframe tbody tr th:only-of-type {\n",
       "        vertical-align: middle;\n",
       "    }\n",
       "\n",
       "    .dataframe tbody tr th {\n",
       "        vertical-align: top;\n",
       "    }\n",
       "\n",
       "    .dataframe thead th {\n",
       "        text-align: right;\n",
       "    }\n",
       "</style>\n",
       "<table border=\"1\" class=\"dataframe\">\n",
       "  <thead>\n",
       "    <tr style=\"text-align: right;\">\n",
       "      <th></th>\n",
       "      <th>A</th>\n",
       "      <th>B</th>\n",
       "      <th>C</th>\n",
       "      <th>D</th>\n",
       "      <th>F</th>\n",
       "      <th>E</th>\n",
       "    </tr>\n",
       "  </thead>\n",
       "  <tbody>\n",
       "    <tr>\n",
       "      <th>2013-01-02</th>\n",
       "      <td>-0.972992</td>\n",
       "      <td>0.279971</td>\n",
       "      <td>-0.89157</td>\n",
       "      <td>5</td>\n",
       "      <td>1.0</td>\n",
       "      <td>1.0</td>\n",
       "    </tr>\n",
       "  </tbody>\n",
       "</table>\n",
       "</div>"
      ],
      "text/plain": [
       "                   A         B        C  D    F    E\n",
       "2013-01-02 -0.972992  0.279971 -0.89157  5  1.0  1.0"
      ]
     },
     "execution_count": 129,
     "metadata": {},
     "output_type": "execute_result"
    }
   ],
   "source": [
    "# 去掉包含缺失值的行\n",
    "df1.dropna(how=\"any\")"
   ]
  },
  {
   "cell_type": "code",
   "execution_count": 131,
   "metadata": {},
   "outputs": [
    {
     "data": {
      "text/html": [
       "<div>\n",
       "<style scoped>\n",
       "    .dataframe tbody tr th:only-of-type {\n",
       "        vertical-align: middle;\n",
       "    }\n",
       "\n",
       "    .dataframe tbody tr th {\n",
       "        vertical-align: top;\n",
       "    }\n",
       "\n",
       "    .dataframe thead th {\n",
       "        text-align: right;\n",
       "    }\n",
       "</style>\n",
       "<table border=\"1\" class=\"dataframe\">\n",
       "  <thead>\n",
       "    <tr style=\"text-align: right;\">\n",
       "      <th></th>\n",
       "      <th>A</th>\n",
       "      <th>B</th>\n",
       "      <th>C</th>\n",
       "      <th>D</th>\n",
       "      <th>F</th>\n",
       "      <th>E</th>\n",
       "    </tr>\n",
       "  </thead>\n",
       "  <tbody>\n",
       "    <tr>\n",
       "      <th>2013-01-01</th>\n",
       "      <td>10.000000</td>\n",
       "      <td>-0.486341</td>\n",
       "      <td>0.045018</td>\n",
       "      <td>5</td>\n",
       "      <td>100000.0</td>\n",
       "      <td>1.0</td>\n",
       "    </tr>\n",
       "    <tr>\n",
       "      <th>2013-01-02</th>\n",
       "      <td>-0.972992</td>\n",
       "      <td>0.279971</td>\n",
       "      <td>-0.891570</td>\n",
       "      <td>5</td>\n",
       "      <td>1.0</td>\n",
       "      <td>1.0</td>\n",
       "    </tr>\n",
       "    <tr>\n",
       "      <th>2013-01-03</th>\n",
       "      <td>0.801802</td>\n",
       "      <td>0.231969</td>\n",
       "      <td>0.270190</td>\n",
       "      <td>5</td>\n",
       "      <td>2.0</td>\n",
       "      <td>100000.0</td>\n",
       "    </tr>\n",
       "    <tr>\n",
       "      <th>2013-01-04</th>\n",
       "      <td>1.151889</td>\n",
       "      <td>-1.437186</td>\n",
       "      <td>0.214320</td>\n",
       "      <td>5</td>\n",
       "      <td>3.0</td>\n",
       "      <td>100000.0</td>\n",
       "    </tr>\n",
       "  </tbody>\n",
       "</table>\n",
       "</div>"
      ],
      "text/plain": [
       "                    A         B         C  D         F         E\n",
       "2013-01-01  10.000000 -0.486341  0.045018  5  100000.0       1.0\n",
       "2013-01-02  -0.972992  0.279971 -0.891570  5       1.0       1.0\n",
       "2013-01-03   0.801802  0.231969  0.270190  5       2.0  100000.0\n",
       "2013-01-04   1.151889 -1.437186  0.214320  5       3.0  100000.0"
      ]
     },
     "execution_count": 131,
     "metadata": {},
     "output_type": "execute_result"
    }
   ],
   "source": [
    "# 对缺失值进行填充\n",
    "df1.fillna(value=100000)"
   ]
  },
  {
   "cell_type": "code",
   "execution_count": 133,
   "metadata": {},
   "outputs": [
    {
     "data": {
      "text/html": [
       "<div>\n",
       "<style scoped>\n",
       "    .dataframe tbody tr th:only-of-type {\n",
       "        vertical-align: middle;\n",
       "    }\n",
       "\n",
       "    .dataframe tbody tr th {\n",
       "        vertical-align: top;\n",
       "    }\n",
       "\n",
       "    .dataframe thead th {\n",
       "        text-align: right;\n",
       "    }\n",
       "</style>\n",
       "<table border=\"1\" class=\"dataframe\">\n",
       "  <thead>\n",
       "    <tr style=\"text-align: right;\">\n",
       "      <th></th>\n",
       "      <th>A</th>\n",
       "      <th>B</th>\n",
       "      <th>C</th>\n",
       "      <th>D</th>\n",
       "      <th>F</th>\n",
       "      <th>E</th>\n",
       "    </tr>\n",
       "  </thead>\n",
       "  <tbody>\n",
       "    <tr>\n",
       "      <th>2013-01-01</th>\n",
       "      <td>False</td>\n",
       "      <td>False</td>\n",
       "      <td>False</td>\n",
       "      <td>False</td>\n",
       "      <td>True</td>\n",
       "      <td>False</td>\n",
       "    </tr>\n",
       "    <tr>\n",
       "      <th>2013-01-02</th>\n",
       "      <td>False</td>\n",
       "      <td>False</td>\n",
       "      <td>False</td>\n",
       "      <td>False</td>\n",
       "      <td>False</td>\n",
       "      <td>False</td>\n",
       "    </tr>\n",
       "    <tr>\n",
       "      <th>2013-01-03</th>\n",
       "      <td>False</td>\n",
       "      <td>False</td>\n",
       "      <td>False</td>\n",
       "      <td>False</td>\n",
       "      <td>False</td>\n",
       "      <td>True</td>\n",
       "    </tr>\n",
       "    <tr>\n",
       "      <th>2013-01-04</th>\n",
       "      <td>False</td>\n",
       "      <td>False</td>\n",
       "      <td>False</td>\n",
       "      <td>False</td>\n",
       "      <td>False</td>\n",
       "      <td>True</td>\n",
       "    </tr>\n",
       "  </tbody>\n",
       "</table>\n",
       "</div>"
      ],
      "text/plain": [
       "                A      B      C      D      F      E\n",
       "2013-01-01  False  False  False  False   True  False\n",
       "2013-01-02  False  False  False  False  False  False\n",
       "2013-01-03  False  False  False  False  False   True\n",
       "2013-01-04  False  False  False  False  False   True"
      ]
     },
     "execution_count": 133,
     "metadata": {},
     "output_type": "execute_result"
    }
   ],
   "source": [
    "# 对数据进行布尔填充 nan都将变为True，其余的变为True\n",
    "pd.isnull(df1)"
   ]
  },
  {
   "cell_type": "markdown",
   "metadata": {},
   "source": [
    "# 相关操作"
   ]
  },
  {
   "cell_type": "code",
   "execution_count": 134,
   "metadata": {},
   "outputs": [
    {
     "data": {
      "text/html": [
       "<div>\n",
       "<style scoped>\n",
       "    .dataframe tbody tr th:only-of-type {\n",
       "        vertical-align: middle;\n",
       "    }\n",
       "\n",
       "    .dataframe tbody tr th {\n",
       "        vertical-align: top;\n",
       "    }\n",
       "\n",
       "    .dataframe thead th {\n",
       "        text-align: right;\n",
       "    }\n",
       "</style>\n",
       "<table border=\"1\" class=\"dataframe\">\n",
       "  <thead>\n",
       "    <tr style=\"text-align: right;\">\n",
       "      <th></th>\n",
       "      <th>A</th>\n",
       "      <th>B</th>\n",
       "      <th>C</th>\n",
       "      <th>D</th>\n",
       "      <th>F</th>\n",
       "    </tr>\n",
       "  </thead>\n",
       "  <tbody>\n",
       "    <tr>\n",
       "      <th>2013-01-01</th>\n",
       "      <td>10.000000</td>\n",
       "      <td>-0.486341</td>\n",
       "      <td>0.045018</td>\n",
       "      <td>5</td>\n",
       "      <td>NaN</td>\n",
       "    </tr>\n",
       "    <tr>\n",
       "      <th>2013-01-02</th>\n",
       "      <td>-0.972992</td>\n",
       "      <td>0.279971</td>\n",
       "      <td>-0.891570</td>\n",
       "      <td>5</td>\n",
       "      <td>1.0</td>\n",
       "    </tr>\n",
       "    <tr>\n",
       "      <th>2013-01-03</th>\n",
       "      <td>0.801802</td>\n",
       "      <td>0.231969</td>\n",
       "      <td>0.270190</td>\n",
       "      <td>5</td>\n",
       "      <td>2.0</td>\n",
       "    </tr>\n",
       "    <tr>\n",
       "      <th>2013-01-04</th>\n",
       "      <td>1.151889</td>\n",
       "      <td>-1.437186</td>\n",
       "      <td>0.214320</td>\n",
       "      <td>5</td>\n",
       "      <td>3.0</td>\n",
       "    </tr>\n",
       "    <tr>\n",
       "      <th>2013-01-05</th>\n",
       "      <td>-0.092149</td>\n",
       "      <td>-0.276865</td>\n",
       "      <td>-0.375755</td>\n",
       "      <td>5</td>\n",
       "      <td>4.0</td>\n",
       "    </tr>\n",
       "    <tr>\n",
       "      <th>2013-01-06</th>\n",
       "      <td>1.719324</td>\n",
       "      <td>0.980119</td>\n",
       "      <td>0.458664</td>\n",
       "      <td>5</td>\n",
       "      <td>5.0</td>\n",
       "    </tr>\n",
       "  </tbody>\n",
       "</table>\n",
       "</div>"
      ],
      "text/plain": [
       "                    A         B         C  D    F\n",
       "2013-01-01  10.000000 -0.486341  0.045018  5  NaN\n",
       "2013-01-02  -0.972992  0.279971 -0.891570  5  1.0\n",
       "2013-01-03   0.801802  0.231969  0.270190  5  2.0\n",
       "2013-01-04   1.151889 -1.437186  0.214320  5  3.0\n",
       "2013-01-05  -0.092149 -0.276865 -0.375755  5  4.0\n",
       "2013-01-06   1.719324  0.980119  0.458664  5  5.0"
      ]
     },
     "execution_count": 134,
     "metadata": {},
     "output_type": "execute_result"
    }
   ],
   "source": [
    "df"
   ]
  },
  {
   "cell_type": "code",
   "execution_count": 136,
   "metadata": {},
   "outputs": [
    {
     "data": {
      "text/plain": [
       "A    2.101312\n",
       "B   -0.118056\n",
       "C   -0.046522\n",
       "D    5.000000\n",
       "F    3.000000\n",
       "dtype: float64"
      ]
     },
     "execution_count": 136,
     "metadata": {},
     "output_type": "execute_result"
    }
   ],
   "source": [
    "# 平均值\n",
    "df.mean()"
   ]
  },
  {
   "cell_type": "code",
   "execution_count": 139,
   "metadata": {},
   "outputs": [
    {
     "data": {
      "text/plain": [
       "2013-01-01    3.639669\n",
       "2013-01-02    0.883082\n",
       "2013-01-03    1.660792\n",
       "2013-01-04    1.585805\n",
       "2013-01-05    1.651046\n",
       "2013-01-06    2.631621\n",
       "Freq: D, dtype: float64"
      ]
     },
     "execution_count": 139,
     "metadata": {},
     "output_type": "execute_result"
    }
   ],
   "source": [
    "# 在其他轴上进行相同的操作\n",
    "df.mean(1)"
   ]
  },
  {
   "cell_type": "code",
   "execution_count": 140,
   "metadata": {},
   "outputs": [
    {
     "data": {
      "text/plain": [
       "DatetimeIndex(['2013-01-01', '2013-01-02', '2013-01-03', '2013-01-04',\n",
       "               '2013-01-05', '2013-01-06'],\n",
       "              dtype='datetime64[ns]', freq='D')"
      ]
     },
     "execution_count": 140,
     "metadata": {},
     "output_type": "execute_result"
    }
   ],
   "source": [
    "dates"
   ]
  },
  {
   "cell_type": "code",
   "execution_count": 147,
   "metadata": {},
   "outputs": [
    {
     "data": {
      "text/plain": [
       "2013-01-01    NaN\n",
       "2013-01-02    NaN\n",
       "2013-01-03    1.0\n",
       "2013-01-04    3.0\n",
       "2013-01-05    4.0\n",
       "2013-01-06    NaN\n",
       "Freq: D, dtype: float64"
      ]
     },
     "execution_count": 147,
     "metadata": {},
     "output_type": "execute_result"
    }
   ],
   "source": [
    "s = pd.Series([1,3,4,np.nan,6,8], index=dates).shift(2)  # 向下偏移，空值补充nan\n",
    "s"
   ]
  },
  {
   "cell_type": "code",
   "execution_count": 152,
   "metadata": {},
   "outputs": [
    {
     "data": {
      "text/html": [
       "<div>\n",
       "<style scoped>\n",
       "    .dataframe tbody tr th:only-of-type {\n",
       "        vertical-align: middle;\n",
       "    }\n",
       "\n",
       "    .dataframe tbody tr th {\n",
       "        vertical-align: top;\n",
       "    }\n",
       "\n",
       "    .dataframe thead th {\n",
       "        text-align: right;\n",
       "    }\n",
       "</style>\n",
       "<table border=\"1\" class=\"dataframe\">\n",
       "  <thead>\n",
       "    <tr style=\"text-align: right;\">\n",
       "      <th></th>\n",
       "      <th>A</th>\n",
       "      <th>B</th>\n",
       "      <th>C</th>\n",
       "      <th>D</th>\n",
       "      <th>F</th>\n",
       "    </tr>\n",
       "  </thead>\n",
       "  <tbody>\n",
       "    <tr>\n",
       "      <th>2013-01-01</th>\n",
       "      <td>10.000000</td>\n",
       "      <td>-0.486341</td>\n",
       "      <td>0.045018</td>\n",
       "      <td>5</td>\n",
       "      <td>NaN</td>\n",
       "    </tr>\n",
       "    <tr>\n",
       "      <th>2013-01-02</th>\n",
       "      <td>-0.972992</td>\n",
       "      <td>0.279971</td>\n",
       "      <td>-0.891570</td>\n",
       "      <td>5</td>\n",
       "      <td>1.0</td>\n",
       "    </tr>\n",
       "    <tr>\n",
       "      <th>2013-01-03</th>\n",
       "      <td>0.801802</td>\n",
       "      <td>0.231969</td>\n",
       "      <td>0.270190</td>\n",
       "      <td>5</td>\n",
       "      <td>2.0</td>\n",
       "    </tr>\n",
       "    <tr>\n",
       "      <th>2013-01-04</th>\n",
       "      <td>1.151889</td>\n",
       "      <td>-1.437186</td>\n",
       "      <td>0.214320</td>\n",
       "      <td>5</td>\n",
       "      <td>3.0</td>\n",
       "    </tr>\n",
       "    <tr>\n",
       "      <th>2013-01-05</th>\n",
       "      <td>-0.092149</td>\n",
       "      <td>-0.276865</td>\n",
       "      <td>-0.375755</td>\n",
       "      <td>5</td>\n",
       "      <td>4.0</td>\n",
       "    </tr>\n",
       "    <tr>\n",
       "      <th>2013-01-06</th>\n",
       "      <td>1.719324</td>\n",
       "      <td>0.980119</td>\n",
       "      <td>0.458664</td>\n",
       "      <td>5</td>\n",
       "      <td>5.0</td>\n",
       "    </tr>\n",
       "  </tbody>\n",
       "</table>\n",
       "</div>"
      ],
      "text/plain": [
       "                    A         B         C  D    F\n",
       "2013-01-01  10.000000 -0.486341  0.045018  5  NaN\n",
       "2013-01-02  -0.972992  0.279971 -0.891570  5  1.0\n",
       "2013-01-03   0.801802  0.231969  0.270190  5  2.0\n",
       "2013-01-04   1.151889 -1.437186  0.214320  5  3.0\n",
       "2013-01-05  -0.092149 -0.276865 -0.375755  5  4.0\n",
       "2013-01-06   1.719324  0.980119  0.458664  5  5.0"
      ]
     },
     "execution_count": 152,
     "metadata": {},
     "output_type": "execute_result"
    }
   ],
   "source": [
    "df"
   ]
  },
  {
   "cell_type": "code",
   "execution_count": 154,
   "metadata": {},
   "outputs": [
    {
     "data": {
      "text/html": [
       "<div>\n",
       "<style scoped>\n",
       "    .dataframe tbody tr th:only-of-type {\n",
       "        vertical-align: middle;\n",
       "    }\n",
       "\n",
       "    .dataframe tbody tr th {\n",
       "        vertical-align: top;\n",
       "    }\n",
       "\n",
       "    .dataframe thead th {\n",
       "        text-align: right;\n",
       "    }\n",
       "</style>\n",
       "<table border=\"1\" class=\"dataframe\">\n",
       "  <thead>\n",
       "    <tr style=\"text-align: right;\">\n",
       "      <th></th>\n",
       "      <th>A</th>\n",
       "      <th>B</th>\n",
       "      <th>C</th>\n",
       "      <th>D</th>\n",
       "      <th>F</th>\n",
       "    </tr>\n",
       "  </thead>\n",
       "  <tbody>\n",
       "    <tr>\n",
       "      <th>2013-01-01</th>\n",
       "      <td>NaN</td>\n",
       "      <td>NaN</td>\n",
       "      <td>NaN</td>\n",
       "      <td>NaN</td>\n",
       "      <td>NaN</td>\n",
       "    </tr>\n",
       "    <tr>\n",
       "      <th>2013-01-02</th>\n",
       "      <td>NaN</td>\n",
       "      <td>NaN</td>\n",
       "      <td>NaN</td>\n",
       "      <td>NaN</td>\n",
       "      <td>NaN</td>\n",
       "    </tr>\n",
       "    <tr>\n",
       "      <th>2013-01-03</th>\n",
       "      <td>-0.198198</td>\n",
       "      <td>-0.768031</td>\n",
       "      <td>-0.729810</td>\n",
       "      <td>4.0</td>\n",
       "      <td>1.0</td>\n",
       "    </tr>\n",
       "    <tr>\n",
       "      <th>2013-01-04</th>\n",
       "      <td>-1.848111</td>\n",
       "      <td>-4.437186</td>\n",
       "      <td>-2.785680</td>\n",
       "      <td>2.0</td>\n",
       "      <td>0.0</td>\n",
       "    </tr>\n",
       "    <tr>\n",
       "      <th>2013-01-05</th>\n",
       "      <td>-4.092149</td>\n",
       "      <td>-4.276865</td>\n",
       "      <td>-4.375755</td>\n",
       "      <td>1.0</td>\n",
       "      <td>0.0</td>\n",
       "    </tr>\n",
       "    <tr>\n",
       "      <th>2013-01-06</th>\n",
       "      <td>NaN</td>\n",
       "      <td>NaN</td>\n",
       "      <td>NaN</td>\n",
       "      <td>NaN</td>\n",
       "      <td>NaN</td>\n",
       "    </tr>\n",
       "  </tbody>\n",
       "</table>\n",
       "</div>"
      ],
      "text/plain": [
       "                   A         B         C    D    F\n",
       "2013-01-01       NaN       NaN       NaN  NaN  NaN\n",
       "2013-01-02       NaN       NaN       NaN  NaN  NaN\n",
       "2013-01-03 -0.198198 -0.768031 -0.729810  4.0  1.0\n",
       "2013-01-04 -1.848111 -4.437186 -2.785680  2.0  0.0\n",
       "2013-01-05 -4.092149 -4.276865 -4.375755  1.0  0.0\n",
       "2013-01-06       NaN       NaN       NaN  NaN  NaN"
      ]
     },
     "execution_count": 154,
     "metadata": {},
     "output_type": "execute_result"
    }
   ],
   "source": [
    "df.sub(s, axis='index')  # df的每一列都整体去跟s相减"
   ]
  },
  {
   "cell_type": "code",
   "execution_count": 156,
   "metadata": {},
   "outputs": [
    {
     "data": {
      "text/html": [
       "<div>\n",
       "<style scoped>\n",
       "    .dataframe tbody tr th:only-of-type {\n",
       "        vertical-align: middle;\n",
       "    }\n",
       "\n",
       "    .dataframe tbody tr th {\n",
       "        vertical-align: top;\n",
       "    }\n",
       "\n",
       "    .dataframe thead th {\n",
       "        text-align: right;\n",
       "    }\n",
       "</style>\n",
       "<table border=\"1\" class=\"dataframe\">\n",
       "  <thead>\n",
       "    <tr style=\"text-align: right;\">\n",
       "      <th></th>\n",
       "      <th>A</th>\n",
       "      <th>B</th>\n",
       "      <th>C</th>\n",
       "      <th>D</th>\n",
       "      <th>F</th>\n",
       "    </tr>\n",
       "  </thead>\n",
       "  <tbody>\n",
       "    <tr>\n",
       "      <th>2013-01-01</th>\n",
       "      <td>10.000000</td>\n",
       "      <td>-0.486341</td>\n",
       "      <td>0.045018</td>\n",
       "      <td>5</td>\n",
       "      <td>NaN</td>\n",
       "    </tr>\n",
       "    <tr>\n",
       "      <th>2013-01-02</th>\n",
       "      <td>9.027008</td>\n",
       "      <td>-0.206370</td>\n",
       "      <td>-0.846552</td>\n",
       "      <td>10</td>\n",
       "      <td>1.0</td>\n",
       "    </tr>\n",
       "    <tr>\n",
       "      <th>2013-01-03</th>\n",
       "      <td>9.828810</td>\n",
       "      <td>0.025599</td>\n",
       "      <td>-0.576362</td>\n",
       "      <td>15</td>\n",
       "      <td>3.0</td>\n",
       "    </tr>\n",
       "    <tr>\n",
       "      <th>2013-01-04</th>\n",
       "      <td>10.980699</td>\n",
       "      <td>-1.411588</td>\n",
       "      <td>-0.362042</td>\n",
       "      <td>20</td>\n",
       "      <td>6.0</td>\n",
       "    </tr>\n",
       "    <tr>\n",
       "      <th>2013-01-05</th>\n",
       "      <td>10.888550</td>\n",
       "      <td>-1.688453</td>\n",
       "      <td>-0.737797</td>\n",
       "      <td>25</td>\n",
       "      <td>10.0</td>\n",
       "    </tr>\n",
       "    <tr>\n",
       "      <th>2013-01-06</th>\n",
       "      <td>12.607874</td>\n",
       "      <td>-0.708333</td>\n",
       "      <td>-0.279133</td>\n",
       "      <td>30</td>\n",
       "      <td>15.0</td>\n",
       "    </tr>\n",
       "  </tbody>\n",
       "</table>\n",
       "</div>"
      ],
      "text/plain": [
       "                    A         B         C   D     F\n",
       "2013-01-01  10.000000 -0.486341  0.045018   5   NaN\n",
       "2013-01-02   9.027008 -0.206370 -0.846552  10   1.0\n",
       "2013-01-03   9.828810  0.025599 -0.576362  15   3.0\n",
       "2013-01-04  10.980699 -1.411588 -0.362042  20   6.0\n",
       "2013-01-05  10.888550 -1.688453 -0.737797  25  10.0\n",
       "2013-01-06  12.607874 -0.708333 -0.279133  30  15.0"
      ]
     },
     "execution_count": 156,
     "metadata": {},
     "output_type": "execute_result"
    }
   ],
   "source": [
    "df.apply(np.cumsum)"
   ]
  },
  {
   "cell_type": "code",
   "execution_count": 157,
   "metadata": {},
   "outputs": [
    {
     "data": {
      "text/plain": [
       "A    10.972992\n",
       "B     2.417306\n",
       "C     1.350234\n",
       "D     0.000000\n",
       "F     4.000000\n",
       "dtype: float64"
      ]
     },
     "execution_count": 157,
     "metadata": {},
     "output_type": "execute_result"
    }
   ],
   "source": [
    "df.apply(lambda x: x.max()-x.min())"
   ]
  },
  {
   "cell_type": "code",
   "execution_count": 158,
   "metadata": {},
   "outputs": [
    {
     "data": {
      "text/plain": [
       "0    3\n",
       "1    1\n",
       "2    2\n",
       "3    5\n",
       "4    3\n",
       "5    6\n",
       "6    6\n",
       "7    6\n",
       "8    4\n",
       "9    5\n",
       "dtype: int64"
      ]
     },
     "execution_count": 158,
     "metadata": {},
     "output_type": "execute_result"
    }
   ],
   "source": [
    "# 直方图\n",
    "s = pd.Series(np.random.randint(0,7,size=10))\n",
    "s"
   ]
  },
  {
   "cell_type": "code",
   "execution_count": 159,
   "metadata": {},
   "outputs": [
    {
     "data": {
      "text/plain": [
       "6    3\n",
       "5    2\n",
       "3    2\n",
       "4    1\n",
       "2    1\n",
       "1    1\n",
       "dtype: int64"
      ]
     },
     "execution_count": 159,
     "metadata": {},
     "output_type": "execute_result"
    }
   ],
   "source": [
    "s.value_counts()"
   ]
  },
  {
   "cell_type": "code",
   "execution_count": 160,
   "metadata": {},
   "outputs": [
    {
     "data": {
      "text/plain": [
       "0       A\n",
       "1       B\n",
       "2       C\n",
       "3    Aaba\n",
       "4    Baca\n",
       "5     NaN\n",
       "6    CABA\n",
       "7     dog\n",
       "8     cat\n",
       "dtype: object"
      ]
     },
     "execution_count": 160,
     "metadata": {},
     "output_type": "execute_result"
    }
   ],
   "source": [
    "s = pd.Series(['A', 'B', 'C', 'Aaba', 'Baca', np.nan, 'CABA', 'dog', 'cat'])\n",
    "s"
   ]
  },
  {
   "cell_type": "code",
   "execution_count": 161,
   "metadata": {},
   "outputs": [
    {
     "data": {
      "text/plain": [
       "0       a\n",
       "1       b\n",
       "2       c\n",
       "3    aaba\n",
       "4    baca\n",
       "5     NaN\n",
       "6    caba\n",
       "7     dog\n",
       "8     cat\n",
       "dtype: object"
      ]
     },
     "execution_count": 161,
     "metadata": {},
     "output_type": "execute_result"
    }
   ],
   "source": [
    "s.str.lower()  # upper len"
   ]
  },
  {
   "cell_type": "code",
   "execution_count": 162,
   "metadata": {},
   "outputs": [
    {
     "data": {
      "text/plain": [
       "0    1.0\n",
       "1    1.0\n",
       "2    1.0\n",
       "3    4.0\n",
       "4    4.0\n",
       "5    NaN\n",
       "6    4.0\n",
       "7    3.0\n",
       "8    3.0\n",
       "dtype: float64"
      ]
     },
     "execution_count": 162,
     "metadata": {},
     "output_type": "execute_result"
    }
   ],
   "source": [
    "s.str.len()"
   ]
  },
  {
   "cell_type": "markdown",
   "metadata": {},
   "source": [
    "# 6.合并\n",
    "Pandas提供了大量的方法能够轻松的对Series，DataFrame和Panel对象进行各种符合各种逻辑关系的合并操作。"
   ]
  },
  {
   "cell_type": "code",
   "execution_count": 164,
   "metadata": {},
   "outputs": [
    {
     "data": {
      "text/html": [
       "<div>\n",
       "<style scoped>\n",
       "    .dataframe tbody tr th:only-of-type {\n",
       "        vertical-align: middle;\n",
       "    }\n",
       "\n",
       "    .dataframe tbody tr th {\n",
       "        vertical-align: top;\n",
       "    }\n",
       "\n",
       "    .dataframe thead th {\n",
       "        text-align: right;\n",
       "    }\n",
       "</style>\n",
       "<table border=\"1\" class=\"dataframe\">\n",
       "  <thead>\n",
       "    <tr style=\"text-align: right;\">\n",
       "      <th></th>\n",
       "      <th>0</th>\n",
       "      <th>1</th>\n",
       "      <th>2</th>\n",
       "      <th>3</th>\n",
       "    </tr>\n",
       "  </thead>\n",
       "  <tbody>\n",
       "    <tr>\n",
       "      <th>0</th>\n",
       "      <td>0.888990</td>\n",
       "      <td>-0.882167</td>\n",
       "      <td>0.294443</td>\n",
       "      <td>-0.661221</td>\n",
       "    </tr>\n",
       "    <tr>\n",
       "      <th>1</th>\n",
       "      <td>-0.800955</td>\n",
       "      <td>0.581737</td>\n",
       "      <td>-1.775647</td>\n",
       "      <td>-1.577302</td>\n",
       "    </tr>\n",
       "    <tr>\n",
       "      <th>2</th>\n",
       "      <td>1.399941</td>\n",
       "      <td>-0.019278</td>\n",
       "      <td>-1.264974</td>\n",
       "      <td>0.086712</td>\n",
       "    </tr>\n",
       "    <tr>\n",
       "      <th>3</th>\n",
       "      <td>-0.312036</td>\n",
       "      <td>0.919042</td>\n",
       "      <td>2.112403</td>\n",
       "      <td>-1.330721</td>\n",
       "    </tr>\n",
       "    <tr>\n",
       "      <th>4</th>\n",
       "      <td>-0.399272</td>\n",
       "      <td>0.622482</td>\n",
       "      <td>0.679134</td>\n",
       "      <td>0.441278</td>\n",
       "    </tr>\n",
       "    <tr>\n",
       "      <th>5</th>\n",
       "      <td>-0.540670</td>\n",
       "      <td>0.624904</td>\n",
       "      <td>-0.583593</td>\n",
       "      <td>-0.275068</td>\n",
       "    </tr>\n",
       "    <tr>\n",
       "      <th>6</th>\n",
       "      <td>-0.288586</td>\n",
       "      <td>0.298749</td>\n",
       "      <td>-0.472490</td>\n",
       "      <td>-0.537158</td>\n",
       "    </tr>\n",
       "    <tr>\n",
       "      <th>7</th>\n",
       "      <td>0.956054</td>\n",
       "      <td>-0.206017</td>\n",
       "      <td>0.712079</td>\n",
       "      <td>0.419134</td>\n",
       "    </tr>\n",
       "    <tr>\n",
       "      <th>8</th>\n",
       "      <td>0.282060</td>\n",
       "      <td>-0.538186</td>\n",
       "      <td>0.981178</td>\n",
       "      <td>-0.204894</td>\n",
       "    </tr>\n",
       "    <tr>\n",
       "      <th>9</th>\n",
       "      <td>0.038499</td>\n",
       "      <td>0.354016</td>\n",
       "      <td>1.934643</td>\n",
       "      <td>0.133261</td>\n",
       "    </tr>\n",
       "  </tbody>\n",
       "</table>\n",
       "</div>"
      ],
      "text/plain": [
       "          0         1         2         3\n",
       "0  0.888990 -0.882167  0.294443 -0.661221\n",
       "1 -0.800955  0.581737 -1.775647 -1.577302\n",
       "2  1.399941 -0.019278 -1.264974  0.086712\n",
       "3 -0.312036  0.919042  2.112403 -1.330721\n",
       "4 -0.399272  0.622482  0.679134  0.441278\n",
       "5 -0.540670  0.624904 -0.583593 -0.275068\n",
       "6 -0.288586  0.298749 -0.472490 -0.537158\n",
       "7  0.956054 -0.206017  0.712079  0.419134\n",
       "8  0.282060 -0.538186  0.981178 -0.204894\n",
       "9  0.038499  0.354016  1.934643  0.133261"
      ]
     },
     "execution_count": 164,
     "metadata": {},
     "output_type": "execute_result"
    }
   ],
   "source": [
    "df = pd.DataFrame(np.random.randn(10, 4))\n",
    "df"
   ]
  },
  {
   "cell_type": "code",
   "execution_count": 167,
   "metadata": {},
   "outputs": [
    {
     "data": {
      "text/plain": [
       "[          0         1         2         3\n",
       " 0  0.888990 -0.882167  0.294443 -0.661221\n",
       " 1 -0.800955  0.581737 -1.775647 -1.577302\n",
       " 2  1.399941 -0.019278 -1.264974  0.086712,\n",
       "           0         1         2         3\n",
       " 3 -0.312036  0.919042  2.112403 -1.330721\n",
       " 4 -0.399272  0.622482  0.679134  0.441278\n",
       " 5 -0.540670  0.624904 -0.583593 -0.275068\n",
       " 6 -0.288586  0.298749 -0.472490 -0.537158,\n",
       "           0         1         2         3\n",
       " 7  0.956054 -0.206017  0.712079  0.419134\n",
       " 8  0.282060 -0.538186  0.981178 -0.204894\n",
       " 9  0.038499  0.354016  1.934643  0.133261]"
      ]
     },
     "execution_count": 167,
     "metadata": {},
     "output_type": "execute_result"
    }
   ],
   "source": [
    "pieces = [df[:3], df[3:7], df[7:]]\n",
    "pieces"
   ]
  },
  {
   "cell_type": "code",
   "execution_count": 169,
   "metadata": {},
   "outputs": [
    {
     "data": {
      "text/html": [
       "<div>\n",
       "<style scoped>\n",
       "    .dataframe tbody tr th:only-of-type {\n",
       "        vertical-align: middle;\n",
       "    }\n",
       "\n",
       "    .dataframe tbody tr th {\n",
       "        vertical-align: top;\n",
       "    }\n",
       "\n",
       "    .dataframe thead th {\n",
       "        text-align: right;\n",
       "    }\n",
       "</style>\n",
       "<table border=\"1\" class=\"dataframe\">\n",
       "  <thead>\n",
       "    <tr style=\"text-align: right;\">\n",
       "      <th></th>\n",
       "      <th>0</th>\n",
       "      <th>1</th>\n",
       "      <th>2</th>\n",
       "      <th>3</th>\n",
       "    </tr>\n",
       "  </thead>\n",
       "  <tbody>\n",
       "    <tr>\n",
       "      <th>0</th>\n",
       "      <td>0.888990</td>\n",
       "      <td>-0.882167</td>\n",
       "      <td>0.294443</td>\n",
       "      <td>-0.661221</td>\n",
       "    </tr>\n",
       "    <tr>\n",
       "      <th>1</th>\n",
       "      <td>-0.800955</td>\n",
       "      <td>0.581737</td>\n",
       "      <td>-1.775647</td>\n",
       "      <td>-1.577302</td>\n",
       "    </tr>\n",
       "    <tr>\n",
       "      <th>2</th>\n",
       "      <td>1.399941</td>\n",
       "      <td>-0.019278</td>\n",
       "      <td>-1.264974</td>\n",
       "      <td>0.086712</td>\n",
       "    </tr>\n",
       "    <tr>\n",
       "      <th>3</th>\n",
       "      <td>-0.312036</td>\n",
       "      <td>0.919042</td>\n",
       "      <td>2.112403</td>\n",
       "      <td>-1.330721</td>\n",
       "    </tr>\n",
       "    <tr>\n",
       "      <th>4</th>\n",
       "      <td>-0.399272</td>\n",
       "      <td>0.622482</td>\n",
       "      <td>0.679134</td>\n",
       "      <td>0.441278</td>\n",
       "    </tr>\n",
       "    <tr>\n",
       "      <th>5</th>\n",
       "      <td>-0.540670</td>\n",
       "      <td>0.624904</td>\n",
       "      <td>-0.583593</td>\n",
       "      <td>-0.275068</td>\n",
       "    </tr>\n",
       "    <tr>\n",
       "      <th>6</th>\n",
       "      <td>-0.288586</td>\n",
       "      <td>0.298749</td>\n",
       "      <td>-0.472490</td>\n",
       "      <td>-0.537158</td>\n",
       "    </tr>\n",
       "    <tr>\n",
       "      <th>7</th>\n",
       "      <td>0.956054</td>\n",
       "      <td>-0.206017</td>\n",
       "      <td>0.712079</td>\n",
       "      <td>0.419134</td>\n",
       "    </tr>\n",
       "    <tr>\n",
       "      <th>8</th>\n",
       "      <td>0.282060</td>\n",
       "      <td>-0.538186</td>\n",
       "      <td>0.981178</td>\n",
       "      <td>-0.204894</td>\n",
       "    </tr>\n",
       "    <tr>\n",
       "      <th>9</th>\n",
       "      <td>0.038499</td>\n",
       "      <td>0.354016</td>\n",
       "      <td>1.934643</td>\n",
       "      <td>0.133261</td>\n",
       "    </tr>\n",
       "  </tbody>\n",
       "</table>\n",
       "</div>"
      ],
      "text/plain": [
       "          0         1         2         3\n",
       "0  0.888990 -0.882167  0.294443 -0.661221\n",
       "1 -0.800955  0.581737 -1.775647 -1.577302\n",
       "2  1.399941 -0.019278 -1.264974  0.086712\n",
       "3 -0.312036  0.919042  2.112403 -1.330721\n",
       "4 -0.399272  0.622482  0.679134  0.441278\n",
       "5 -0.540670  0.624904 -0.583593 -0.275068\n",
       "6 -0.288586  0.298749 -0.472490 -0.537158\n",
       "7  0.956054 -0.206017  0.712079  0.419134\n",
       "8  0.282060 -0.538186  0.981178 -0.204894\n",
       "9  0.038499  0.354016  1.934643  0.133261"
      ]
     },
     "execution_count": 169,
     "metadata": {},
     "output_type": "execute_result"
    }
   ],
   "source": [
    "# 合并\n",
    "pd.concat(pieces)"
   ]
  },
  {
   "cell_type": "code",
   "execution_count": 189,
   "metadata": {},
   "outputs": [
    {
     "data": {
      "text/html": [
       "<div>\n",
       "<style scoped>\n",
       "    .dataframe tbody tr th:only-of-type {\n",
       "        vertical-align: middle;\n",
       "    }\n",
       "\n",
       "    .dataframe tbody tr th {\n",
       "        vertical-align: top;\n",
       "    }\n",
       "\n",
       "    .dataframe thead th {\n",
       "        text-align: right;\n",
       "    }\n",
       "</style>\n",
       "<table border=\"1\" class=\"dataframe\">\n",
       "  <thead>\n",
       "    <tr style=\"text-align: right;\">\n",
       "      <th></th>\n",
       "      <th>key</th>\n",
       "      <th>lval</th>\n",
       "    </tr>\n",
       "  </thead>\n",
       "  <tbody>\n",
       "    <tr>\n",
       "      <th>0</th>\n",
       "      <td>a</td>\n",
       "      <td>1</td>\n",
       "    </tr>\n",
       "    <tr>\n",
       "      <th>1</th>\n",
       "      <td>a</td>\n",
       "      <td>2</td>\n",
       "    </tr>\n",
       "  </tbody>\n",
       "</table>\n",
       "</div>"
      ],
      "text/plain": [
       "  key  lval\n",
       "0   a     1\n",
       "1   a     2"
      ]
     },
     "execution_count": 189,
     "metadata": {},
     "output_type": "execute_result"
    }
   ],
   "source": [
    "left = pd.DataFrame({'key': ['a','a'], 'lval': [1, 2]})\n",
    "left"
   ]
  },
  {
   "cell_type": "code",
   "execution_count": 190,
   "metadata": {},
   "outputs": [
    {
     "data": {
      "text/html": [
       "<div>\n",
       "<style scoped>\n",
       "    .dataframe tbody tr th:only-of-type {\n",
       "        vertical-align: middle;\n",
       "    }\n",
       "\n",
       "    .dataframe tbody tr th {\n",
       "        vertical-align: top;\n",
       "    }\n",
       "\n",
       "    .dataframe thead th {\n",
       "        text-align: right;\n",
       "    }\n",
       "</style>\n",
       "<table border=\"1\" class=\"dataframe\">\n",
       "  <thead>\n",
       "    <tr style=\"text-align: right;\">\n",
       "      <th></th>\n",
       "      <th>key</th>\n",
       "      <th>lval</th>\n",
       "    </tr>\n",
       "  </thead>\n",
       "  <tbody>\n",
       "    <tr>\n",
       "      <th>0</th>\n",
       "      <td>a</td>\n",
       "      <td>4</td>\n",
       "    </tr>\n",
       "    <tr>\n",
       "      <th>1</th>\n",
       "      <td>a</td>\n",
       "      <td>5</td>\n",
       "    </tr>\n",
       "  </tbody>\n",
       "</table>\n",
       "</div>"
      ],
      "text/plain": [
       "  key  lval\n",
       "0   a     4\n",
       "1   a     5"
      ]
     },
     "execution_count": 190,
     "metadata": {},
     "output_type": "execute_result"
    }
   ],
   "source": [
    "right = pd.DataFrame({'key': ['a','a'], 'lval': [4, 5]})\n",
    "right"
   ]
  },
  {
   "cell_type": "code",
   "execution_count": 191,
   "metadata": {},
   "outputs": [
    {
     "data": {
      "text/html": [
       "<div>\n",
       "<style scoped>\n",
       "    .dataframe tbody tr th:only-of-type {\n",
       "        vertical-align: middle;\n",
       "    }\n",
       "\n",
       "    .dataframe tbody tr th {\n",
       "        vertical-align: top;\n",
       "    }\n",
       "\n",
       "    .dataframe thead th {\n",
       "        text-align: right;\n",
       "    }\n",
       "</style>\n",
       "<table border=\"1\" class=\"dataframe\">\n",
       "  <thead>\n",
       "    <tr style=\"text-align: right;\">\n",
       "      <th></th>\n",
       "      <th>key</th>\n",
       "      <th>lval_x</th>\n",
       "      <th>lval_y</th>\n",
       "    </tr>\n",
       "  </thead>\n",
       "  <tbody>\n",
       "    <tr>\n",
       "      <th>0</th>\n",
       "      <td>a</td>\n",
       "      <td>1</td>\n",
       "      <td>4</td>\n",
       "    </tr>\n",
       "    <tr>\n",
       "      <th>1</th>\n",
       "      <td>a</td>\n",
       "      <td>1</td>\n",
       "      <td>5</td>\n",
       "    </tr>\n",
       "    <tr>\n",
       "      <th>2</th>\n",
       "      <td>a</td>\n",
       "      <td>2</td>\n",
       "      <td>4</td>\n",
       "    </tr>\n",
       "    <tr>\n",
       "      <th>3</th>\n",
       "      <td>a</td>\n",
       "      <td>2</td>\n",
       "      <td>5</td>\n",
       "    </tr>\n",
       "  </tbody>\n",
       "</table>\n",
       "</div>"
      ],
      "text/plain": [
       "  key  lval_x  lval_y\n",
       "0   a       1       4\n",
       "1   a       1       5\n",
       "2   a       2       4\n",
       "3   a       2       5"
      ]
     },
     "execution_count": 191,
     "metadata": {},
     "output_type": "execute_result"
    }
   ],
   "source": [
    "pd.merge(left, right, on=\"key\")"
   ]
  },
  {
   "cell_type": "code",
   "execution_count": 192,
   "metadata": {},
   "outputs": [],
   "source": [
    "df5 = pd.DataFrame(np.random.randn(8, 4), columns=['A','B','C','D'])"
   ]
  },
  {
   "cell_type": "code",
   "execution_count": 193,
   "metadata": {},
   "outputs": [
    {
     "data": {
      "text/html": [
       "<div>\n",
       "<style scoped>\n",
       "    .dataframe tbody tr th:only-of-type {\n",
       "        vertical-align: middle;\n",
       "    }\n",
       "\n",
       "    .dataframe tbody tr th {\n",
       "        vertical-align: top;\n",
       "    }\n",
       "\n",
       "    .dataframe thead th {\n",
       "        text-align: right;\n",
       "    }\n",
       "</style>\n",
       "<table border=\"1\" class=\"dataframe\">\n",
       "  <thead>\n",
       "    <tr style=\"text-align: right;\">\n",
       "      <th></th>\n",
       "      <th>A</th>\n",
       "      <th>B</th>\n",
       "      <th>C</th>\n",
       "      <th>D</th>\n",
       "    </tr>\n",
       "  </thead>\n",
       "  <tbody>\n",
       "    <tr>\n",
       "      <th>0</th>\n",
       "      <td>-0.210691</td>\n",
       "      <td>-2.301648</td>\n",
       "      <td>0.118644</td>\n",
       "      <td>-0.992739</td>\n",
       "    </tr>\n",
       "    <tr>\n",
       "      <th>1</th>\n",
       "      <td>-2.211251</td>\n",
       "      <td>-0.174315</td>\n",
       "      <td>-1.236718</td>\n",
       "      <td>1.205840</td>\n",
       "    </tr>\n",
       "    <tr>\n",
       "      <th>2</th>\n",
       "      <td>-1.990133</td>\n",
       "      <td>-0.228034</td>\n",
       "      <td>-0.236053</td>\n",
       "      <td>0.082409</td>\n",
       "    </tr>\n",
       "    <tr>\n",
       "      <th>3</th>\n",
       "      <td>0.374194</td>\n",
       "      <td>0.834089</td>\n",
       "      <td>-0.680568</td>\n",
       "      <td>-0.563332</td>\n",
       "    </tr>\n",
       "    <tr>\n",
       "      <th>4</th>\n",
       "      <td>0.793490</td>\n",
       "      <td>1.281398</td>\n",
       "      <td>0.210155</td>\n",
       "      <td>0.097974</td>\n",
       "    </tr>\n",
       "    <tr>\n",
       "      <th>5</th>\n",
       "      <td>-1.302011</td>\n",
       "      <td>0.108617</td>\n",
       "      <td>-1.010736</td>\n",
       "      <td>0.619627</td>\n",
       "    </tr>\n",
       "    <tr>\n",
       "      <th>6</th>\n",
       "      <td>-0.021759</td>\n",
       "      <td>0.753980</td>\n",
       "      <td>-0.745115</td>\n",
       "      <td>-0.577464</td>\n",
       "    </tr>\n",
       "    <tr>\n",
       "      <th>7</th>\n",
       "      <td>-0.029082</td>\n",
       "      <td>-0.346992</td>\n",
       "      <td>-0.666640</td>\n",
       "      <td>1.299019</td>\n",
       "    </tr>\n",
       "  </tbody>\n",
       "</table>\n",
       "</div>"
      ],
      "text/plain": [
       "          A         B         C         D\n",
       "0 -0.210691 -2.301648  0.118644 -0.992739\n",
       "1 -2.211251 -0.174315 -1.236718  1.205840\n",
       "2 -1.990133 -0.228034 -0.236053  0.082409\n",
       "3  0.374194  0.834089 -0.680568 -0.563332\n",
       "4  0.793490  1.281398  0.210155  0.097974\n",
       "5 -1.302011  0.108617 -1.010736  0.619627\n",
       "6 -0.021759  0.753980 -0.745115 -0.577464\n",
       "7 -0.029082 -0.346992 -0.666640  1.299019"
      ]
     },
     "execution_count": 193,
     "metadata": {},
     "output_type": "execute_result"
    }
   ],
   "source": [
    "df5"
   ]
  },
  {
   "cell_type": "code",
   "execution_count": 196,
   "metadata": {},
   "outputs": [
    {
     "data": {
      "text/plain": [
       "A    0.374194\n",
       "B    0.834089\n",
       "C   -0.680568\n",
       "D   -0.563332\n",
       "Name: 3, dtype: float64"
      ]
     },
     "execution_count": 196,
     "metadata": {},
     "output_type": "execute_result"
    }
   ],
   "source": [
    "s = df5.iloc[3]\n",
    "s"
   ]
  },
  {
   "cell_type": "code",
   "execution_count": 201,
   "metadata": {},
   "outputs": [
    {
     "data": {
      "text/html": [
       "<div>\n",
       "<style scoped>\n",
       "    .dataframe tbody tr th:only-of-type {\n",
       "        vertical-align: middle;\n",
       "    }\n",
       "\n",
       "    .dataframe tbody tr th {\n",
       "        vertical-align: top;\n",
       "    }\n",
       "\n",
       "    .dataframe thead th {\n",
       "        text-align: right;\n",
       "    }\n",
       "</style>\n",
       "<table border=\"1\" class=\"dataframe\">\n",
       "  <thead>\n",
       "    <tr style=\"text-align: right;\">\n",
       "      <th></th>\n",
       "      <th>A</th>\n",
       "      <th>B</th>\n",
       "      <th>C</th>\n",
       "      <th>D</th>\n",
       "    </tr>\n",
       "  </thead>\n",
       "  <tbody>\n",
       "    <tr>\n",
       "      <th>0</th>\n",
       "      <td>-0.210691</td>\n",
       "      <td>-2.301648</td>\n",
       "      <td>0.118644</td>\n",
       "      <td>-0.992739</td>\n",
       "    </tr>\n",
       "    <tr>\n",
       "      <th>1</th>\n",
       "      <td>-2.211251</td>\n",
       "      <td>-0.174315</td>\n",
       "      <td>-1.236718</td>\n",
       "      <td>1.205840</td>\n",
       "    </tr>\n",
       "    <tr>\n",
       "      <th>2</th>\n",
       "      <td>-1.990133</td>\n",
       "      <td>-0.228034</td>\n",
       "      <td>-0.236053</td>\n",
       "      <td>0.082409</td>\n",
       "    </tr>\n",
       "    <tr>\n",
       "      <th>3</th>\n",
       "      <td>0.374194</td>\n",
       "      <td>0.834089</td>\n",
       "      <td>-0.680568</td>\n",
       "      <td>-0.563332</td>\n",
       "    </tr>\n",
       "    <tr>\n",
       "      <th>4</th>\n",
       "      <td>0.793490</td>\n",
       "      <td>1.281398</td>\n",
       "      <td>0.210155</td>\n",
       "      <td>0.097974</td>\n",
       "    </tr>\n",
       "    <tr>\n",
       "      <th>5</th>\n",
       "      <td>-1.302011</td>\n",
       "      <td>0.108617</td>\n",
       "      <td>-1.010736</td>\n",
       "      <td>0.619627</td>\n",
       "    </tr>\n",
       "    <tr>\n",
       "      <th>6</th>\n",
       "      <td>-0.021759</td>\n",
       "      <td>0.753980</td>\n",
       "      <td>-0.745115</td>\n",
       "      <td>-0.577464</td>\n",
       "    </tr>\n",
       "    <tr>\n",
       "      <th>7</th>\n",
       "      <td>-0.029082</td>\n",
       "      <td>-0.346992</td>\n",
       "      <td>-0.666640</td>\n",
       "      <td>1.299019</td>\n",
       "    </tr>\n",
       "    <tr>\n",
       "      <th>8</th>\n",
       "      <td>0.374194</td>\n",
       "      <td>0.834089</td>\n",
       "      <td>-0.680568</td>\n",
       "      <td>-0.563332</td>\n",
       "    </tr>\n",
       "  </tbody>\n",
       "</table>\n",
       "</div>"
      ],
      "text/plain": [
       "          A         B         C         D\n",
       "0 -0.210691 -2.301648  0.118644 -0.992739\n",
       "1 -2.211251 -0.174315 -1.236718  1.205840\n",
       "2 -1.990133 -0.228034 -0.236053  0.082409\n",
       "3  0.374194  0.834089 -0.680568 -0.563332\n",
       "4  0.793490  1.281398  0.210155  0.097974\n",
       "5 -1.302011  0.108617 -1.010736  0.619627\n",
       "6 -0.021759  0.753980 -0.745115 -0.577464\n",
       "7 -0.029082 -0.346992 -0.666640  1.299019\n",
       "8  0.374194  0.834089 -0.680568 -0.563332"
      ]
     },
     "execution_count": 201,
     "metadata": {},
     "output_type": "execute_result"
    }
   ],
   "source": [
    "df5.append(s, ignore_index=True)  # ignore_index=False时会将这行之前的Name附带到DataFrame里面"
   ]
  },
  {
   "cell_type": "markdown",
   "metadata": {},
   "source": [
    "# 7.分组\n",
    "对于”group by”操作，我们通常是指以下一个或多个操作步骤：\n",
    "\n",
    "- （Splitting）按照一些规则将数据分为不同的组；\n",
    "- （Applying）对于每组数据分别执行一个函数；\n",
    "- （Combining）将结果组合到一个数据结构中；"
   ]
  },
  {
   "cell_type": "code",
   "execution_count": 202,
   "metadata": {},
   "outputs": [
    {
     "data": {
      "text/html": [
       "<div>\n",
       "<style scoped>\n",
       "    .dataframe tbody tr th:only-of-type {\n",
       "        vertical-align: middle;\n",
       "    }\n",
       "\n",
       "    .dataframe tbody tr th {\n",
       "        vertical-align: top;\n",
       "    }\n",
       "\n",
       "    .dataframe thead th {\n",
       "        text-align: right;\n",
       "    }\n",
       "</style>\n",
       "<table border=\"1\" class=\"dataframe\">\n",
       "  <thead>\n",
       "    <tr style=\"text-align: right;\">\n",
       "      <th></th>\n",
       "      <th>A</th>\n",
       "      <th>B</th>\n",
       "      <th>C</th>\n",
       "      <th>D</th>\n",
       "    </tr>\n",
       "  </thead>\n",
       "  <tbody>\n",
       "    <tr>\n",
       "      <th>0</th>\n",
       "      <td>foo</td>\n",
       "      <td>one</td>\n",
       "      <td>0.525111</td>\n",
       "      <td>-0.339709</td>\n",
       "    </tr>\n",
       "    <tr>\n",
       "      <th>1</th>\n",
       "      <td>bar</td>\n",
       "      <td>one</td>\n",
       "      <td>0.503238</td>\n",
       "      <td>1.046024</td>\n",
       "    </tr>\n",
       "    <tr>\n",
       "      <th>2</th>\n",
       "      <td>foo</td>\n",
       "      <td>two</td>\n",
       "      <td>0.583732</td>\n",
       "      <td>-0.005186</td>\n",
       "    </tr>\n",
       "    <tr>\n",
       "      <th>3</th>\n",
       "      <td>bar</td>\n",
       "      <td>three</td>\n",
       "      <td>-1.035239</td>\n",
       "      <td>0.054197</td>\n",
       "    </tr>\n",
       "    <tr>\n",
       "      <th>4</th>\n",
       "      <td>foo</td>\n",
       "      <td>two</td>\n",
       "      <td>-1.193339</td>\n",
       "      <td>-0.220146</td>\n",
       "    </tr>\n",
       "    <tr>\n",
       "      <th>5</th>\n",
       "      <td>bar</td>\n",
       "      <td>two</td>\n",
       "      <td>0.941995</td>\n",
       "      <td>-1.178883</td>\n",
       "    </tr>\n",
       "    <tr>\n",
       "      <th>6</th>\n",
       "      <td>foo</td>\n",
       "      <td>one</td>\n",
       "      <td>1.886588</td>\n",
       "      <td>-1.630271</td>\n",
       "    </tr>\n",
       "    <tr>\n",
       "      <th>7</th>\n",
       "      <td>foo</td>\n",
       "      <td>three</td>\n",
       "      <td>1.121706</td>\n",
       "      <td>-1.575989</td>\n",
       "    </tr>\n",
       "  </tbody>\n",
       "</table>\n",
       "</div>"
      ],
      "text/plain": [
       "     A      B         C         D\n",
       "0  foo    one  0.525111 -0.339709\n",
       "1  bar    one  0.503238  1.046024\n",
       "2  foo    two  0.583732 -0.005186\n",
       "3  bar  three -1.035239  0.054197\n",
       "4  foo    two -1.193339 -0.220146\n",
       "5  bar    two  0.941995 -1.178883\n",
       "6  foo    one  1.886588 -1.630271\n",
       "7  foo  three  1.121706 -1.575989"
      ]
     },
     "execution_count": 202,
     "metadata": {},
     "output_type": "execute_result"
    }
   ],
   "source": [
    "df = pd.DataFrame({\n",
    "                   'A' : ['foo', 'bar', 'foo', 'bar', 'foo', 'bar', 'foo', 'foo'],\n",
    "                   'B' : ['one', 'one', 'two', 'three', 'two', 'two', 'one', 'three'],\n",
    "                   'C' : np.random.randn(8),\n",
    "                   'D' : np.random.randn(8)\n",
    "})\n",
    "df"
   ]
  },
  {
   "cell_type": "code",
   "execution_count": 204,
   "metadata": {},
   "outputs": [
    {
     "data": {
      "text/html": [
       "<div>\n",
       "<style scoped>\n",
       "    .dataframe tbody tr th:only-of-type {\n",
       "        vertical-align: middle;\n",
       "    }\n",
       "\n",
       "    .dataframe tbody tr th {\n",
       "        vertical-align: top;\n",
       "    }\n",
       "\n",
       "    .dataframe thead th {\n",
       "        text-align: right;\n",
       "    }\n",
       "</style>\n",
       "<table border=\"1\" class=\"dataframe\">\n",
       "  <thead>\n",
       "    <tr style=\"text-align: right;\">\n",
       "      <th></th>\n",
       "      <th>C</th>\n",
       "      <th>D</th>\n",
       "    </tr>\n",
       "    <tr>\n",
       "      <th>A</th>\n",
       "      <th></th>\n",
       "      <th></th>\n",
       "    </tr>\n",
       "  </thead>\n",
       "  <tbody>\n",
       "    <tr>\n",
       "      <th>bar</th>\n",
       "      <td>0.409994</td>\n",
       "      <td>-0.078662</td>\n",
       "    </tr>\n",
       "    <tr>\n",
       "      <th>foo</th>\n",
       "      <td>2.923798</td>\n",
       "      <td>-3.771301</td>\n",
       "    </tr>\n",
       "  </tbody>\n",
       "</table>\n",
       "</div>"
      ],
      "text/plain": [
       "            C         D\n",
       "A                      \n",
       "bar  0.409994 -0.078662\n",
       "foo  2.923798 -3.771301"
      ]
     },
     "execution_count": 204,
     "metadata": {},
     "output_type": "execute_result"
    }
   ],
   "source": [
    "# 把A列的字段聚合\n",
    "df.groupby('A').sum()"
   ]
  },
  {
   "cell_type": "code",
   "execution_count": 205,
   "metadata": {},
   "outputs": [
    {
     "data": {
      "text/html": [
       "<div>\n",
       "<style scoped>\n",
       "    .dataframe tbody tr th:only-of-type {\n",
       "        vertical-align: middle;\n",
       "    }\n",
       "\n",
       "    .dataframe tbody tr th {\n",
       "        vertical-align: top;\n",
       "    }\n",
       "\n",
       "    .dataframe thead th {\n",
       "        text-align: right;\n",
       "    }\n",
       "</style>\n",
       "<table border=\"1\" class=\"dataframe\">\n",
       "  <thead>\n",
       "    <tr style=\"text-align: right;\">\n",
       "      <th></th>\n",
       "      <th></th>\n",
       "      <th>C</th>\n",
       "      <th>D</th>\n",
       "    </tr>\n",
       "    <tr>\n",
       "      <th>A</th>\n",
       "      <th>B</th>\n",
       "      <th></th>\n",
       "      <th></th>\n",
       "    </tr>\n",
       "  </thead>\n",
       "  <tbody>\n",
       "    <tr>\n",
       "      <th rowspan=\"3\" valign=\"top\">bar</th>\n",
       "      <th>one</th>\n",
       "      <td>0.503238</td>\n",
       "      <td>1.046024</td>\n",
       "    </tr>\n",
       "    <tr>\n",
       "      <th>three</th>\n",
       "      <td>-1.035239</td>\n",
       "      <td>0.054197</td>\n",
       "    </tr>\n",
       "    <tr>\n",
       "      <th>two</th>\n",
       "      <td>0.941995</td>\n",
       "      <td>-1.178883</td>\n",
       "    </tr>\n",
       "    <tr>\n",
       "      <th rowspan=\"3\" valign=\"top\">foo</th>\n",
       "      <th>one</th>\n",
       "      <td>2.411699</td>\n",
       "      <td>-1.969980</td>\n",
       "    </tr>\n",
       "    <tr>\n",
       "      <th>three</th>\n",
       "      <td>1.121706</td>\n",
       "      <td>-1.575989</td>\n",
       "    </tr>\n",
       "    <tr>\n",
       "      <th>two</th>\n",
       "      <td>-0.609607</td>\n",
       "      <td>-0.225332</td>\n",
       "    </tr>\n",
       "  </tbody>\n",
       "</table>\n",
       "</div>"
      ],
      "text/plain": [
       "                  C         D\n",
       "A   B                        \n",
       "bar one    0.503238  1.046024\n",
       "    three -1.035239  0.054197\n",
       "    two    0.941995 -1.178883\n",
       "foo one    2.411699 -1.969980\n",
       "    three  1.121706 -1.575989\n",
       "    two   -0.609607 -0.225332"
      ]
     },
     "execution_count": 205,
     "metadata": {},
     "output_type": "execute_result"
    }
   ],
   "source": [
    "df.groupby(['A','B']).sum()"
   ]
  },
  {
   "cell_type": "markdown",
   "metadata": {},
   "source": [
    "# 8.Reshaping"
   ]
  },
  {
   "cell_type": "code",
   "execution_count": 206,
   "metadata": {},
   "outputs": [
    {
     "data": {
      "text/plain": [
       "[('bar', 'one'),\n",
       " ('bar', 'two'),\n",
       " ('baz', 'one'),\n",
       " ('baz', 'two'),\n",
       " ('foo', 'one'),\n",
       " ('foo', 'two'),\n",
       " ('qux', 'one'),\n",
       " ('qux', 'two')]"
      ]
     },
     "execution_count": 206,
     "metadata": {},
     "output_type": "execute_result"
    }
   ],
   "source": [
    "arrays = [['bar', 'bar', 'baz', 'baz', 'foo', 'foo', 'qux', 'qux'],\n",
    "           ['one', 'two', 'one', 'two', 'one', 'two', 'one', 'two']]\n",
    "tuples = list(zip(*arrays))\n",
    "tuples"
   ]
  },
  {
   "cell_type": "code",
   "execution_count": 211,
   "metadata": {},
   "outputs": [
    {
     "data": {
      "text/plain": [
       "MultiIndex(levels=[['bar', 'baz', 'foo', 'qux'], ['one', 'two']],\n",
       "           labels=[[0, 0, 1, 1, 2, 2, 3, 3], [0, 1, 0, 1, 0, 1, 0, 1]],\n",
       "           names=['first', 'second'])"
      ]
     },
     "execution_count": 211,
     "metadata": {},
     "output_type": "execute_result"
    }
   ],
   "source": [
    "# 多行索引\n",
    "index = pd.MultiIndex.from_tuples(tuples, names=['first', 'second'])\n",
    "index"
   ]
  },
  {
   "cell_type": "code",
   "execution_count": 210,
   "metadata": {},
   "outputs": [
    {
     "data": {
      "text/html": [
       "<div>\n",
       "<style scoped>\n",
       "    .dataframe tbody tr th:only-of-type {\n",
       "        vertical-align: middle;\n",
       "    }\n",
       "\n",
       "    .dataframe tbody tr th {\n",
       "        vertical-align: top;\n",
       "    }\n",
       "\n",
       "    .dataframe thead th {\n",
       "        text-align: right;\n",
       "    }\n",
       "</style>\n",
       "<table border=\"1\" class=\"dataframe\">\n",
       "  <thead>\n",
       "    <tr style=\"text-align: right;\">\n",
       "      <th></th>\n",
       "      <th></th>\n",
       "      <th>A</th>\n",
       "      <th>B</th>\n",
       "    </tr>\n",
       "    <tr>\n",
       "      <th>first</th>\n",
       "      <th>second</th>\n",
       "      <th></th>\n",
       "      <th></th>\n",
       "    </tr>\n",
       "  </thead>\n",
       "  <tbody>\n",
       "    <tr>\n",
       "      <th rowspan=\"2\" valign=\"top\">bar</th>\n",
       "      <th>one</th>\n",
       "      <td>2.792136</td>\n",
       "      <td>-1.139140</td>\n",
       "    </tr>\n",
       "    <tr>\n",
       "      <th>two</th>\n",
       "      <td>0.529019</td>\n",
       "      <td>0.322354</td>\n",
       "    </tr>\n",
       "    <tr>\n",
       "      <th rowspan=\"2\" valign=\"top\">baz</th>\n",
       "      <th>one</th>\n",
       "      <td>-0.314201</td>\n",
       "      <td>-3.230947</td>\n",
       "    </tr>\n",
       "    <tr>\n",
       "      <th>two</th>\n",
       "      <td>-1.245024</td>\n",
       "      <td>-1.024977</td>\n",
       "    </tr>\n",
       "    <tr>\n",
       "      <th rowspan=\"2\" valign=\"top\">foo</th>\n",
       "      <th>one</th>\n",
       "      <td>-0.610808</td>\n",
       "      <td>-0.104575</td>\n",
       "    </tr>\n",
       "    <tr>\n",
       "      <th>two</th>\n",
       "      <td>-0.982754</td>\n",
       "      <td>0.321927</td>\n",
       "    </tr>\n",
       "    <tr>\n",
       "      <th rowspan=\"2\" valign=\"top\">qux</th>\n",
       "      <th>one</th>\n",
       "      <td>0.325285</td>\n",
       "      <td>1.123528</td>\n",
       "    </tr>\n",
       "    <tr>\n",
       "      <th>two</th>\n",
       "      <td>0.181062</td>\n",
       "      <td>-0.067325</td>\n",
       "    </tr>\n",
       "  </tbody>\n",
       "</table>\n",
       "</div>"
      ],
      "text/plain": [
       "                     A         B\n",
       "first second                    \n",
       "bar   one     2.792136 -1.139140\n",
       "      two     0.529019  0.322354\n",
       "baz   one    -0.314201 -3.230947\n",
       "      two    -1.245024 -1.024977\n",
       "foo   one    -0.610808 -0.104575\n",
       "      two    -0.982754  0.321927\n",
       "qux   one     0.325285  1.123528\n",
       "      two     0.181062 -0.067325"
      ]
     },
     "execution_count": 210,
     "metadata": {},
     "output_type": "execute_result"
    }
   ],
   "source": [
    "# 两个行索引以及行索引的名称\n",
    "df6 = pd.DataFrame(np.random.randn(8, 2), index=index, columns=['A', 'B'])\n",
    "df6"
   ]
  },
  {
   "cell_type": "code",
   "execution_count": 214,
   "metadata": {},
   "outputs": [
    {
     "data": {
      "text/plain": [
       "first  second   \n",
       "bar    one     A    2.792136\n",
       "               B   -1.139140\n",
       "       two     A    0.529019\n",
       "               B    0.322354\n",
       "baz    one     A   -0.314201\n",
       "               B   -3.230947\n",
       "       two     A   -1.245024\n",
       "               B   -1.024977\n",
       "foo    one     A   -0.610808\n",
       "               B   -0.104575\n",
       "       two     A   -0.982754\n",
       "               B    0.321927\n",
       "qux    one     A    0.325285\n",
       "               B    1.123528\n",
       "       two     A    0.181062\n",
       "               B   -0.067325\n",
       "dtype: float64"
      ]
     },
     "execution_count": 214,
     "metadata": {},
     "output_type": "execute_result"
    }
   ],
   "source": [
    "stacked = df6.stack()\n",
    "stacked"
   ]
  },
  {
   "cell_type": "code",
   "execution_count": 219,
   "metadata": {},
   "outputs": [
    {
     "name": "stdout",
     "output_type": "stream",
     "text": [
      "<class 'pandas.core.series.Series'>\n",
      "(16,)\n",
      "float64\n"
     ]
    }
   ],
   "source": [
    "# 多个行索引的Series\n",
    "print(type(stacked))\n",
    "print(stacked.shape)\n",
    "print(stacked.dtypes)"
   ]
  },
  {
   "cell_type": "code",
   "execution_count": 221,
   "metadata": {},
   "outputs": [
    {
     "data": {
      "text/html": [
       "<div>\n",
       "<style scoped>\n",
       "    .dataframe tbody tr th:only-of-type {\n",
       "        vertical-align: middle;\n",
       "    }\n",
       "\n",
       "    .dataframe tbody tr th {\n",
       "        vertical-align: top;\n",
       "    }\n",
       "\n",
       "    .dataframe thead th {\n",
       "        text-align: right;\n",
       "    }\n",
       "</style>\n",
       "<table border=\"1\" class=\"dataframe\">\n",
       "  <thead>\n",
       "    <tr style=\"text-align: right;\">\n",
       "      <th></th>\n",
       "      <th></th>\n",
       "      <th>A</th>\n",
       "      <th>B</th>\n",
       "    </tr>\n",
       "    <tr>\n",
       "      <th>first</th>\n",
       "      <th>second</th>\n",
       "      <th></th>\n",
       "      <th></th>\n",
       "    </tr>\n",
       "  </thead>\n",
       "  <tbody>\n",
       "    <tr>\n",
       "      <th rowspan=\"2\" valign=\"top\">bar</th>\n",
       "      <th>one</th>\n",
       "      <td>2.792136</td>\n",
       "      <td>-1.139140</td>\n",
       "    </tr>\n",
       "    <tr>\n",
       "      <th>two</th>\n",
       "      <td>0.529019</td>\n",
       "      <td>0.322354</td>\n",
       "    </tr>\n",
       "    <tr>\n",
       "      <th rowspan=\"2\" valign=\"top\">baz</th>\n",
       "      <th>one</th>\n",
       "      <td>-0.314201</td>\n",
       "      <td>-3.230947</td>\n",
       "    </tr>\n",
       "    <tr>\n",
       "      <th>two</th>\n",
       "      <td>-1.245024</td>\n",
       "      <td>-1.024977</td>\n",
       "    </tr>\n",
       "    <tr>\n",
       "      <th rowspan=\"2\" valign=\"top\">foo</th>\n",
       "      <th>one</th>\n",
       "      <td>-0.610808</td>\n",
       "      <td>-0.104575</td>\n",
       "    </tr>\n",
       "    <tr>\n",
       "      <th>two</th>\n",
       "      <td>-0.982754</td>\n",
       "      <td>0.321927</td>\n",
       "    </tr>\n",
       "    <tr>\n",
       "      <th rowspan=\"2\" valign=\"top\">qux</th>\n",
       "      <th>one</th>\n",
       "      <td>0.325285</td>\n",
       "      <td>1.123528</td>\n",
       "    </tr>\n",
       "    <tr>\n",
       "      <th>two</th>\n",
       "      <td>0.181062</td>\n",
       "      <td>-0.067325</td>\n",
       "    </tr>\n",
       "  </tbody>\n",
       "</table>\n",
       "</div>"
      ],
      "text/plain": [
       "                     A         B\n",
       "first second                    \n",
       "bar   one     2.792136 -1.139140\n",
       "      two     0.529019  0.322354\n",
       "baz   one    -0.314201 -3.230947\n",
       "      two    -1.245024 -1.024977\n",
       "foo   one    -0.610808 -0.104575\n",
       "      two    -0.982754  0.321927\n",
       "qux   one     0.325285  1.123528\n",
       "      two     0.181062 -0.067325"
      ]
     },
     "execution_count": 221,
     "metadata": {},
     "output_type": "execute_result"
    }
   ],
   "source": [
    "# 多个行索引的Series解压为DataFrame\n",
    "stacked.unstack()"
   ]
  },
  {
   "cell_type": "code",
   "execution_count": 229,
   "metadata": {},
   "outputs": [
    {
     "data": {
      "text/html": [
       "<div>\n",
       "<style scoped>\n",
       "    .dataframe tbody tr th:only-of-type {\n",
       "        vertical-align: middle;\n",
       "    }\n",
       "\n",
       "    .dataframe tbody tr th {\n",
       "        vertical-align: top;\n",
       "    }\n",
       "\n",
       "    .dataframe thead th {\n",
       "        text-align: right;\n",
       "    }\n",
       "</style>\n",
       "<table border=\"1\" class=\"dataframe\">\n",
       "  <thead>\n",
       "    <tr style=\"text-align: right;\">\n",
       "      <th></th>\n",
       "      <th>second</th>\n",
       "      <th>one</th>\n",
       "      <th>two</th>\n",
       "    </tr>\n",
       "    <tr>\n",
       "      <th>first</th>\n",
       "      <th></th>\n",
       "      <th></th>\n",
       "      <th></th>\n",
       "    </tr>\n",
       "  </thead>\n",
       "  <tbody>\n",
       "    <tr>\n",
       "      <th rowspan=\"2\" valign=\"top\">bar</th>\n",
       "      <th>A</th>\n",
       "      <td>2.792136</td>\n",
       "      <td>0.529019</td>\n",
       "    </tr>\n",
       "    <tr>\n",
       "      <th>B</th>\n",
       "      <td>-1.139140</td>\n",
       "      <td>0.322354</td>\n",
       "    </tr>\n",
       "    <tr>\n",
       "      <th rowspan=\"2\" valign=\"top\">baz</th>\n",
       "      <th>A</th>\n",
       "      <td>-0.314201</td>\n",
       "      <td>-1.245024</td>\n",
       "    </tr>\n",
       "    <tr>\n",
       "      <th>B</th>\n",
       "      <td>-3.230947</td>\n",
       "      <td>-1.024977</td>\n",
       "    </tr>\n",
       "    <tr>\n",
       "      <th rowspan=\"2\" valign=\"top\">foo</th>\n",
       "      <th>A</th>\n",
       "      <td>-0.610808</td>\n",
       "      <td>-0.982754</td>\n",
       "    </tr>\n",
       "    <tr>\n",
       "      <th>B</th>\n",
       "      <td>-0.104575</td>\n",
       "      <td>0.321927</td>\n",
       "    </tr>\n",
       "    <tr>\n",
       "      <th rowspan=\"2\" valign=\"top\">qux</th>\n",
       "      <th>A</th>\n",
       "      <td>0.325285</td>\n",
       "      <td>0.181062</td>\n",
       "    </tr>\n",
       "    <tr>\n",
       "      <th>B</th>\n",
       "      <td>1.123528</td>\n",
       "      <td>-0.067325</td>\n",
       "    </tr>\n",
       "  </tbody>\n",
       "</table>\n",
       "</div>"
      ],
      "text/plain": [
       "second        one       two\n",
       "first                      \n",
       "bar   A  2.792136  0.529019\n",
       "      B -1.139140  0.322354\n",
       "baz   A -0.314201 -1.245024\n",
       "      B -3.230947 -1.024977\n",
       "foo   A -0.610808 -0.982754\n",
       "      B -0.104575  0.321927\n",
       "qux   A  0.325285  0.181062\n",
       "      B  1.123528 -0.067325"
      ]
     },
     "execution_count": 229,
     "metadata": {},
     "output_type": "execute_result"
    }
   ],
   "source": [
    "dfstack = stacked.unstack(1)\n",
    "dfstack"
   ]
  },
  {
   "cell_type": "code",
   "execution_count": 230,
   "metadata": {},
   "outputs": [
    {
     "data": {
      "text/html": [
       "<div>\n",
       "<style scoped>\n",
       "    .dataframe tbody tr th:only-of-type {\n",
       "        vertical-align: middle;\n",
       "    }\n",
       "\n",
       "    .dataframe tbody tr th {\n",
       "        vertical-align: top;\n",
       "    }\n",
       "\n",
       "    .dataframe thead th {\n",
       "        text-align: right;\n",
       "    }\n",
       "</style>\n",
       "<table border=\"1\" class=\"dataframe\">\n",
       "  <thead>\n",
       "    <tr style=\"text-align: right;\">\n",
       "      <th></th>\n",
       "      <th>first</th>\n",
       "      <th>bar</th>\n",
       "      <th>baz</th>\n",
       "      <th>foo</th>\n",
       "      <th>qux</th>\n",
       "    </tr>\n",
       "    <tr>\n",
       "      <th>second</th>\n",
       "      <th></th>\n",
       "      <th></th>\n",
       "      <th></th>\n",
       "      <th></th>\n",
       "      <th></th>\n",
       "    </tr>\n",
       "  </thead>\n",
       "  <tbody>\n",
       "    <tr>\n",
       "      <th rowspan=\"2\" valign=\"top\">one</th>\n",
       "      <th>A</th>\n",
       "      <td>2.792136</td>\n",
       "      <td>-0.314201</td>\n",
       "      <td>-0.610808</td>\n",
       "      <td>0.325285</td>\n",
       "    </tr>\n",
       "    <tr>\n",
       "      <th>B</th>\n",
       "      <td>-1.139140</td>\n",
       "      <td>-3.230947</td>\n",
       "      <td>-0.104575</td>\n",
       "      <td>1.123528</td>\n",
       "    </tr>\n",
       "    <tr>\n",
       "      <th rowspan=\"2\" valign=\"top\">two</th>\n",
       "      <th>A</th>\n",
       "      <td>0.529019</td>\n",
       "      <td>-1.245024</td>\n",
       "      <td>-0.982754</td>\n",
       "      <td>0.181062</td>\n",
       "    </tr>\n",
       "    <tr>\n",
       "      <th>B</th>\n",
       "      <td>0.322354</td>\n",
       "      <td>-1.024977</td>\n",
       "      <td>0.321927</td>\n",
       "      <td>-0.067325</td>\n",
       "    </tr>\n",
       "  </tbody>\n",
       "</table>\n",
       "</div>"
      ],
      "text/plain": [
       "first          bar       baz       foo       qux\n",
       "second                                          \n",
       "one    A  2.792136 -0.314201 -0.610808  0.325285\n",
       "       B -1.139140 -3.230947 -0.104575  1.123528\n",
       "two    A  0.529019 -1.245024 -0.982754  0.181062\n",
       "       B  0.322354 -1.024977  0.321927 -0.067325"
      ]
     },
     "execution_count": 230,
     "metadata": {},
     "output_type": "execute_result"
    }
   ],
   "source": [
    "# 在不同的方向解包\n",
    "stacked.unstack(0)"
   ]
  },
  {
   "cell_type": "code",
   "execution_count": 238,
   "metadata": {},
   "outputs": [
    {
     "data": {
      "text/html": [
       "<div>\n",
       "<style scoped>\n",
       "    .dataframe tbody tr th:only-of-type {\n",
       "        vertical-align: middle;\n",
       "    }\n",
       "\n",
       "    .dataframe tbody tr th {\n",
       "        vertical-align: top;\n",
       "    }\n",
       "\n",
       "    .dataframe thead th {\n",
       "        text-align: right;\n",
       "    }\n",
       "</style>\n",
       "<table border=\"1\" class=\"dataframe\">\n",
       "  <thead>\n",
       "    <tr style=\"text-align: right;\">\n",
       "      <th></th>\n",
       "      <th>A</th>\n",
       "      <th>B</th>\n",
       "      <th>C</th>\n",
       "      <th>D</th>\n",
       "      <th>E</th>\n",
       "      <th>F</th>\n",
       "    </tr>\n",
       "  </thead>\n",
       "  <tbody>\n",
       "    <tr>\n",
       "      <th>0</th>\n",
       "      <td>one</td>\n",
       "      <td>x</td>\n",
       "      <td>foo</td>\n",
       "      <td>-0.109495</td>\n",
       "      <td>1.857485</td>\n",
       "      <td>2013-01-01</td>\n",
       "    </tr>\n",
       "    <tr>\n",
       "      <th>1</th>\n",
       "      <td>one</td>\n",
       "      <td>y</td>\n",
       "      <td>foo</td>\n",
       "      <td>1.884986</td>\n",
       "      <td>-0.056270</td>\n",
       "      <td>2013-02-01</td>\n",
       "    </tr>\n",
       "    <tr>\n",
       "      <th>2</th>\n",
       "      <td>two</td>\n",
       "      <td>z</td>\n",
       "      <td>foo</td>\n",
       "      <td>-2.327598</td>\n",
       "      <td>1.600925</td>\n",
       "      <td>2013-03-01</td>\n",
       "    </tr>\n",
       "    <tr>\n",
       "      <th>3</th>\n",
       "      <td>three</td>\n",
       "      <td>x</td>\n",
       "      <td>bar</td>\n",
       "      <td>-1.462311</td>\n",
       "      <td>-0.028318</td>\n",
       "      <td>2013-04-01</td>\n",
       "    </tr>\n",
       "    <tr>\n",
       "      <th>4</th>\n",
       "      <td>one</td>\n",
       "      <td>y</td>\n",
       "      <td>bar</td>\n",
       "      <td>-1.059092</td>\n",
       "      <td>-1.348700</td>\n",
       "      <td>2013-05-01</td>\n",
       "    </tr>\n",
       "    <tr>\n",
       "      <th>5</th>\n",
       "      <td>one</td>\n",
       "      <td>z</td>\n",
       "      <td>bar</td>\n",
       "      <td>-1.109855</td>\n",
       "      <td>0.649700</td>\n",
       "      <td>2013-06-01</td>\n",
       "    </tr>\n",
       "    <tr>\n",
       "      <th>6</th>\n",
       "      <td>two</td>\n",
       "      <td>x</td>\n",
       "      <td>foo</td>\n",
       "      <td>0.146656</td>\n",
       "      <td>0.028898</td>\n",
       "      <td>2013-07-01</td>\n",
       "    </tr>\n",
       "    <tr>\n",
       "      <th>7</th>\n",
       "      <td>three</td>\n",
       "      <td>y</td>\n",
       "      <td>foo</td>\n",
       "      <td>0.565139</td>\n",
       "      <td>0.747265</td>\n",
       "      <td>2013-08-01</td>\n",
       "    </tr>\n",
       "    <tr>\n",
       "      <th>8</th>\n",
       "      <td>one</td>\n",
       "      <td>z</td>\n",
       "      <td>foo</td>\n",
       "      <td>2.020345</td>\n",
       "      <td>-0.441670</td>\n",
       "      <td>2013-09-01</td>\n",
       "    </tr>\n",
       "    <tr>\n",
       "      <th>9</th>\n",
       "      <td>one</td>\n",
       "      <td>x</td>\n",
       "      <td>bar</td>\n",
       "      <td>1.411962</td>\n",
       "      <td>2.062692</td>\n",
       "      <td>2013-10-01</td>\n",
       "    </tr>\n",
       "    <tr>\n",
       "      <th>10</th>\n",
       "      <td>two</td>\n",
       "      <td>y</td>\n",
       "      <td>bar</td>\n",
       "      <td>-0.445385</td>\n",
       "      <td>1.179022</td>\n",
       "      <td>2013-11-01</td>\n",
       "    </tr>\n",
       "    <tr>\n",
       "      <th>11</th>\n",
       "      <td>three</td>\n",
       "      <td>z</td>\n",
       "      <td>bar</td>\n",
       "      <td>0.520813</td>\n",
       "      <td>-0.334307</td>\n",
       "      <td>2013-12-01</td>\n",
       "    </tr>\n",
       "    <tr>\n",
       "      <th>12</th>\n",
       "      <td>one</td>\n",
       "      <td>x</td>\n",
       "      <td>foo</td>\n",
       "      <td>0.107381</td>\n",
       "      <td>-1.638481</td>\n",
       "      <td>2013-01-15</td>\n",
       "    </tr>\n",
       "    <tr>\n",
       "      <th>13</th>\n",
       "      <td>one</td>\n",
       "      <td>y</td>\n",
       "      <td>foo</td>\n",
       "      <td>1.141318</td>\n",
       "      <td>-0.522706</td>\n",
       "      <td>2013-02-15</td>\n",
       "    </tr>\n",
       "    <tr>\n",
       "      <th>14</th>\n",
       "      <td>two</td>\n",
       "      <td>z</td>\n",
       "      <td>foo</td>\n",
       "      <td>0.366781</td>\n",
       "      <td>0.131894</td>\n",
       "      <td>2013-03-15</td>\n",
       "    </tr>\n",
       "    <tr>\n",
       "      <th>15</th>\n",
       "      <td>three</td>\n",
       "      <td>x</td>\n",
       "      <td>bar</td>\n",
       "      <td>-0.455295</td>\n",
       "      <td>-0.158915</td>\n",
       "      <td>2013-04-15</td>\n",
       "    </tr>\n",
       "    <tr>\n",
       "      <th>16</th>\n",
       "      <td>one</td>\n",
       "      <td>y</td>\n",
       "      <td>bar</td>\n",
       "      <td>-0.802081</td>\n",
       "      <td>-1.708334</td>\n",
       "      <td>2013-05-15</td>\n",
       "    </tr>\n",
       "    <tr>\n",
       "      <th>17</th>\n",
       "      <td>one</td>\n",
       "      <td>z</td>\n",
       "      <td>bar</td>\n",
       "      <td>-1.323535</td>\n",
       "      <td>-1.986032</td>\n",
       "      <td>2013-06-15</td>\n",
       "    </tr>\n",
       "    <tr>\n",
       "      <th>18</th>\n",
       "      <td>two</td>\n",
       "      <td>x</td>\n",
       "      <td>foo</td>\n",
       "      <td>0.921719</td>\n",
       "      <td>1.002149</td>\n",
       "      <td>2013-07-15</td>\n",
       "    </tr>\n",
       "    <tr>\n",
       "      <th>19</th>\n",
       "      <td>three</td>\n",
       "      <td>y</td>\n",
       "      <td>foo</td>\n",
       "      <td>0.962161</td>\n",
       "      <td>-1.161497</td>\n",
       "      <td>2013-08-15</td>\n",
       "    </tr>\n",
       "    <tr>\n",
       "      <th>20</th>\n",
       "      <td>one</td>\n",
       "      <td>z</td>\n",
       "      <td>foo</td>\n",
       "      <td>-1.789774</td>\n",
       "      <td>2.170976</td>\n",
       "      <td>2013-09-15</td>\n",
       "    </tr>\n",
       "    <tr>\n",
       "      <th>21</th>\n",
       "      <td>one</td>\n",
       "      <td>x</td>\n",
       "      <td>bar</td>\n",
       "      <td>-1.212935</td>\n",
       "      <td>-0.512367</td>\n",
       "      <td>2013-10-15</td>\n",
       "    </tr>\n",
       "    <tr>\n",
       "      <th>22</th>\n",
       "      <td>two</td>\n",
       "      <td>y</td>\n",
       "      <td>bar</td>\n",
       "      <td>0.947518</td>\n",
       "      <td>-0.322795</td>\n",
       "      <td>2013-11-15</td>\n",
       "    </tr>\n",
       "    <tr>\n",
       "      <th>23</th>\n",
       "      <td>three</td>\n",
       "      <td>z</td>\n",
       "      <td>bar</td>\n",
       "      <td>-1.284814</td>\n",
       "      <td>0.535037</td>\n",
       "      <td>2013-12-15</td>\n",
       "    </tr>\n",
       "  </tbody>\n",
       "</table>\n",
       "</div>"
      ],
      "text/plain": [
       "        A  B    C         D         E          F\n",
       "0     one  x  foo -0.109495  1.857485 2013-01-01\n",
       "1     one  y  foo  1.884986 -0.056270 2013-02-01\n",
       "2     two  z  foo -2.327598  1.600925 2013-03-01\n",
       "3   three  x  bar -1.462311 -0.028318 2013-04-01\n",
       "4     one  y  bar -1.059092 -1.348700 2013-05-01\n",
       "5     one  z  bar -1.109855  0.649700 2013-06-01\n",
       "6     two  x  foo  0.146656  0.028898 2013-07-01\n",
       "7   three  y  foo  0.565139  0.747265 2013-08-01\n",
       "8     one  z  foo  2.020345 -0.441670 2013-09-01\n",
       "9     one  x  bar  1.411962  2.062692 2013-10-01\n",
       "10    two  y  bar -0.445385  1.179022 2013-11-01\n",
       "11  three  z  bar  0.520813 -0.334307 2013-12-01\n",
       "12    one  x  foo  0.107381 -1.638481 2013-01-15\n",
       "13    one  y  foo  1.141318 -0.522706 2013-02-15\n",
       "14    two  z  foo  0.366781  0.131894 2013-03-15\n",
       "15  three  x  bar -0.455295 -0.158915 2013-04-15\n",
       "16    one  y  bar -0.802081 -1.708334 2013-05-15\n",
       "17    one  z  bar -1.323535 -1.986032 2013-06-15\n",
       "18    two  x  foo  0.921719  1.002149 2013-07-15\n",
       "19  three  y  foo  0.962161 -1.161497 2013-08-15\n",
       "20    one  z  foo -1.789774  2.170976 2013-09-15\n",
       "21    one  x  bar -1.212935 -0.512367 2013-10-15\n",
       "22    two  y  bar  0.947518 -0.322795 2013-11-15\n",
       "23  three  z  bar -1.284814  0.535037 2013-12-15"
      ]
     },
     "execution_count": 238,
     "metadata": {},
     "output_type": "execute_result"
    }
   ],
   "source": [
    "import datetime\n",
    "dfpivot = pd.DataFrame({'A': ['one', 'one', 'two', 'three'] * 6,\n",
    "                  'B': ['x', 'y', 'z'] * 8,\n",
    "                  'C': ['foo', 'foo', 'foo', 'bar', 'bar', 'bar'] * 4,\n",
    "                  'D': np.random.randn(24),\n",
    "                  'E': np.random.randn(24),\n",
    "                  'F': [datetime.datetime(2013, i, 1) for i in range(1, 13)] +\n",
    "                     [datetime.datetime(2013, i, 15) for i in range(1, 13)]})\n",
    "dfpivot"
   ]
  },
  {
   "cell_type": "code",
   "execution_count": 240,
   "metadata": {},
   "outputs": [
    {
     "data": {
      "text/html": [
       "<div>\n",
       "<style scoped>\n",
       "    .dataframe tbody tr th:only-of-type {\n",
       "        vertical-align: middle;\n",
       "    }\n",
       "\n",
       "    .dataframe tbody tr th {\n",
       "        vertical-align: top;\n",
       "    }\n",
       "\n",
       "    .dataframe thead th {\n",
       "        text-align: right;\n",
       "    }\n",
       "</style>\n",
       "<table border=\"1\" class=\"dataframe\">\n",
       "  <thead>\n",
       "    <tr style=\"text-align: right;\">\n",
       "      <th></th>\n",
       "      <th>C</th>\n",
       "      <th>bar</th>\n",
       "      <th>foo</th>\n",
       "    </tr>\n",
       "    <tr>\n",
       "      <th>A</th>\n",
       "      <th>B</th>\n",
       "      <th></th>\n",
       "      <th></th>\n",
       "    </tr>\n",
       "  </thead>\n",
       "  <tbody>\n",
       "    <tr>\n",
       "      <th rowspan=\"3\" valign=\"top\">one</th>\n",
       "      <th>x</th>\n",
       "      <td>0.099513</td>\n",
       "      <td>-0.001057</td>\n",
       "    </tr>\n",
       "    <tr>\n",
       "      <th>y</th>\n",
       "      <td>-0.930587</td>\n",
       "      <td>1.513152</td>\n",
       "    </tr>\n",
       "    <tr>\n",
       "      <th>z</th>\n",
       "      <td>-1.216695</td>\n",
       "      <td>0.115285</td>\n",
       "    </tr>\n",
       "    <tr>\n",
       "      <th rowspan=\"3\" valign=\"top\">three</th>\n",
       "      <th>x</th>\n",
       "      <td>-0.958803</td>\n",
       "      <td>NaN</td>\n",
       "    </tr>\n",
       "    <tr>\n",
       "      <th>y</th>\n",
       "      <td>NaN</td>\n",
       "      <td>0.763650</td>\n",
       "    </tr>\n",
       "    <tr>\n",
       "      <th>z</th>\n",
       "      <td>-0.382001</td>\n",
       "      <td>NaN</td>\n",
       "    </tr>\n",
       "    <tr>\n",
       "      <th rowspan=\"3\" valign=\"top\">two</th>\n",
       "      <th>x</th>\n",
       "      <td>NaN</td>\n",
       "      <td>0.534187</td>\n",
       "    </tr>\n",
       "    <tr>\n",
       "      <th>y</th>\n",
       "      <td>0.251066</td>\n",
       "      <td>NaN</td>\n",
       "    </tr>\n",
       "    <tr>\n",
       "      <th>z</th>\n",
       "      <td>NaN</td>\n",
       "      <td>-0.980408</td>\n",
       "    </tr>\n",
       "  </tbody>\n",
       "</table>\n",
       "</div>"
      ],
      "text/plain": [
       "C             bar       foo\n",
       "A     B                    \n",
       "one   x  0.099513 -0.001057\n",
       "      y -0.930587  1.513152\n",
       "      z -1.216695  0.115285\n",
       "three x -0.958803       NaN\n",
       "      y       NaN  0.763650\n",
       "      z -0.382001       NaN\n",
       "two   x       NaN  0.534187\n",
       "      y  0.251066       NaN\n",
       "      z       NaN -0.980408"
      ]
     },
     "execution_count": 240,
     "metadata": {},
     "output_type": "execute_result"
    }
   ],
   "source": [
    "# 数据透视图\n",
    "pd.pivot_table(dfpivot, values='D', index=['A', 'B'], columns=['C'])"
   ]
  },
  {
   "cell_type": "code",
   "execution_count": 250,
   "metadata": {},
   "outputs": [],
   "source": [
    "rng = pd.date_range('1/1/2012', periods=120, freq='S')  # 生成时间索引序列，以每秒为单位，共100个时间点"
   ]
  },
  {
   "cell_type": "code",
   "execution_count": 251,
   "metadata": {},
   "outputs": [
    {
     "data": {
      "text/plain": [
       "2012-01-01 00:00:00    387\n",
       "2012-01-01 00:00:01    322\n",
       "2012-01-01 00:00:02    326\n",
       "2012-01-01 00:00:03    322\n",
       "2012-01-01 00:00:04    201\n",
       "2012-01-01 00:00:05    294\n",
       "2012-01-01 00:00:06     62\n",
       "2012-01-01 00:00:07     89\n",
       "2012-01-01 00:00:08    331\n",
       "2012-01-01 00:00:09    200\n",
       "2012-01-01 00:00:10    295\n",
       "2012-01-01 00:00:11    161\n",
       "2012-01-01 00:00:12    161\n",
       "2012-01-01 00:00:13     13\n",
       "2012-01-01 00:00:14    415\n",
       "2012-01-01 00:00:15    424\n",
       "2012-01-01 00:00:16    466\n",
       "2012-01-01 00:00:17    483\n",
       "2012-01-01 00:00:18    142\n",
       "2012-01-01 00:00:19    306\n",
       "2012-01-01 00:00:20    390\n",
       "2012-01-01 00:00:21    270\n",
       "2012-01-01 00:00:22    281\n",
       "2012-01-01 00:00:23    282\n",
       "2012-01-01 00:00:24    301\n",
       "2012-01-01 00:00:25    210\n",
       "2012-01-01 00:00:26    225\n",
       "2012-01-01 00:00:27    249\n",
       "2012-01-01 00:00:28    388\n",
       "2012-01-01 00:00:29    181\n",
       "                      ... \n",
       "2012-01-01 00:01:30    127\n",
       "2012-01-01 00:01:31    313\n",
       "2012-01-01 00:01:32    369\n",
       "2012-01-01 00:01:33    396\n",
       "2012-01-01 00:01:34    101\n",
       "2012-01-01 00:01:35    380\n",
       "2012-01-01 00:01:36    360\n",
       "2012-01-01 00:01:37     72\n",
       "2012-01-01 00:01:38    106\n",
       "2012-01-01 00:01:39    257\n",
       "2012-01-01 00:01:40     91\n",
       "2012-01-01 00:01:41     65\n",
       "2012-01-01 00:01:42    383\n",
       "2012-01-01 00:01:43    362\n",
       "2012-01-01 00:01:44     86\n",
       "2012-01-01 00:01:45    320\n",
       "2012-01-01 00:01:46    361\n",
       "2012-01-01 00:01:47    438\n",
       "2012-01-01 00:01:48    246\n",
       "2012-01-01 00:01:49    380\n",
       "2012-01-01 00:01:50    124\n",
       "2012-01-01 00:01:51    244\n",
       "2012-01-01 00:01:52    144\n",
       "2012-01-01 00:01:53    341\n",
       "2012-01-01 00:01:54    145\n",
       "2012-01-01 00:01:55    179\n",
       "2012-01-01 00:01:56    454\n",
       "2012-01-01 00:01:57    337\n",
       "2012-01-01 00:01:58    237\n",
       "2012-01-01 00:01:59     14\n",
       "Freq: S, Length: 120, dtype: int64"
      ]
     },
     "execution_count": 251,
     "metadata": {},
     "output_type": "execute_result"
    }
   ],
   "source": [
    "ts = pd.Series(np.random.randint(0, 500, len(rng)), index=rng)\n",
    "ts"
   ]
  },
  {
   "cell_type": "code",
   "execution_count": 254,
   "metadata": {},
   "outputs": [
    {
     "data": {
      "text/plain": [
       "2012-01-01 00:00:00    16373\n",
       "2012-01-01 00:01:00    14918\n",
       "Freq: T, dtype: int64"
      ]
     },
     "execution_count": 254,
     "metadata": {},
     "output_type": "execute_result"
    }
   ],
   "source": [
    "ts.resample('1Min').sum()"
   ]
  },
  {
   "cell_type": "code",
   "execution_count": 255,
   "metadata": {},
   "outputs": [
    {
     "data": {
      "text/plain": [
       "DatetimeIndex(['2012-03-06', '2012-03-07', '2012-03-08', '2012-03-09',\n",
       "               '2012-03-10'],\n",
       "              dtype='datetime64[ns]', freq='D')"
      ]
     },
     "execution_count": 255,
     "metadata": {},
     "output_type": "execute_result"
    }
   ],
   "source": [
    "rng = pd.date_range('3/6/2012 00:00', periods=5, freq='D')\n",
    "rng"
   ]
  },
  {
   "cell_type": "code",
   "execution_count": 256,
   "metadata": {},
   "outputs": [
    {
     "data": {
      "text/plain": [
       "2012-03-06    0.018959\n",
       "2012-03-07   -1.897525\n",
       "2012-03-08   -1.131079\n",
       "2012-03-09   -0.095893\n",
       "2012-03-10    0.731720\n",
       "Freq: D, dtype: float64"
      ]
     },
     "execution_count": 256,
     "metadata": {},
     "output_type": "execute_result"
    }
   ],
   "source": [
    "ts = pd.Series(np.random.randn(len(rng)), index=rng)\n",
    "ts"
   ]
  },
  {
   "cell_type": "code",
   "execution_count": 257,
   "metadata": {},
   "outputs": [
    {
     "data": {
      "text/plain": [
       "2012-03-06 00:00:00+00:00    0.018959\n",
       "2012-03-07 00:00:00+00:00   -1.897525\n",
       "2012-03-08 00:00:00+00:00   -1.131079\n",
       "2012-03-09 00:00:00+00:00   -0.095893\n",
       "2012-03-10 00:00:00+00:00    0.731720\n",
       "Freq: D, dtype: float64"
      ]
     },
     "execution_count": 257,
     "metadata": {},
     "output_type": "execute_result"
    }
   ],
   "source": [
    "ts_utc = ts.tz_localize('UTC')\n",
    "ts_utc"
   ]
  },
  {
   "cell_type": "code",
   "execution_count": 260,
   "metadata": {},
   "outputs": [
    {
     "data": {
      "text/plain": [
       "2012-03-06 08:00:00+08:00    0.018959\n",
       "2012-03-07 08:00:00+08:00   -1.897525\n",
       "2012-03-08 08:00:00+08:00   -1.131079\n",
       "2012-03-09 08:00:00+08:00   -0.095893\n",
       "2012-03-10 08:00:00+08:00    0.731720\n",
       "Freq: D, dtype: float64"
      ]
     },
     "execution_count": 260,
     "metadata": {},
     "output_type": "execute_result"
    }
   ],
   "source": [
    "ts_utc.tz_convert('Asia/Shanghai')"
   ]
  },
  {
   "cell_type": "code",
   "execution_count": 264,
   "metadata": {},
   "outputs": [
    {
     "data": {
      "text/plain": [
       "DatetimeIndex(['2012-01-31', '2012-02-29', '2012-03-31', '2012-04-30',\n",
       "               '2012-05-31'],\n",
       "              dtype='datetime64[ns]', freq='M')"
      ]
     },
     "execution_count": 264,
     "metadata": {},
     "output_type": "execute_result"
    }
   ],
   "source": [
    "rng = pd.date_range('1/10/2012', periods=5, freq='M')\n",
    "rng"
   ]
  },
  {
   "cell_type": "code",
   "execution_count": 265,
   "metadata": {},
   "outputs": [
    {
     "data": {
      "text/plain": [
       "2012-01-31    0.433279\n",
       "2012-02-29    0.198843\n",
       "2012-03-31    2.329300\n",
       "2012-04-30   -0.214334\n",
       "2012-05-31   -0.404805\n",
       "Freq: M, dtype: float64"
      ]
     },
     "execution_count": 265,
     "metadata": {},
     "output_type": "execute_result"
    }
   ],
   "source": [
    "ts = pd.Series(np.random.randn(len(rng)), index=rng)\n",
    "ts"
   ]
  },
  {
   "cell_type": "code",
   "execution_count": 266,
   "metadata": {},
   "outputs": [
    {
     "data": {
      "text/plain": [
       "2012-01    0.433279\n",
       "2012-02    0.198843\n",
       "2012-03    2.329300\n",
       "2012-04   -0.214334\n",
       "2012-05   -0.404805\n",
       "Freq: M, dtype: float64"
      ]
     },
     "execution_count": 266,
     "metadata": {},
     "output_type": "execute_result"
    }
   ],
   "source": [
    "ps = ts.to_period()\n",
    "ps"
   ]
  },
  {
   "cell_type": "code",
   "execution_count": 267,
   "metadata": {},
   "outputs": [
    {
     "data": {
      "text/plain": [
       "2012-01-01    0.433279\n",
       "2012-02-01    0.198843\n",
       "2012-03-01    2.329300\n",
       "2012-04-01   -0.214334\n",
       "2012-05-01   -0.404805\n",
       "Freq: MS, dtype: float64"
      ]
     },
     "execution_count": 267,
     "metadata": {},
     "output_type": "execute_result"
    }
   ],
   "source": [
    "ps.to_timestamp()"
   ]
  },
  {
   "cell_type": "code",
   "execution_count": 268,
   "metadata": {},
   "outputs": [
    {
     "data": {
      "text/plain": [
       "PeriodIndex(['1990Q1', '1990Q2', '1990Q3', '1990Q4', '1991Q1', '1991Q2',\n",
       "             '1991Q3', '1991Q4', '1992Q1', '1992Q2', '1992Q3', '1992Q4',\n",
       "             '1993Q1', '1993Q2', '1993Q3', '1993Q4', '1994Q1', '1994Q2',\n",
       "             '1994Q3', '1994Q4', '1995Q1', '1995Q2', '1995Q3', '1995Q4',\n",
       "             '1996Q1', '1996Q2', '1996Q3', '1996Q4', '1997Q1', '1997Q2',\n",
       "             '1997Q3', '1997Q4', '1998Q1', '1998Q2', '1998Q3', '1998Q4',\n",
       "             '1999Q1', '1999Q2', '1999Q3', '1999Q4', '2000Q1', '2000Q2',\n",
       "             '2000Q3', '2000Q4'],\n",
       "            dtype='period[Q-NOV]', freq='Q-NOV')"
      ]
     },
     "execution_count": 268,
     "metadata": {},
     "output_type": "execute_result"
    }
   ],
   "source": [
    "prng = pd.period_range('1990Q1', '2000Q4', freq='Q-NOV')\n",
    "prng"
   ]
  },
  {
   "cell_type": "code",
   "execution_count": 269,
   "metadata": {},
   "outputs": [
    {
     "data": {
      "text/plain": [
       "1990Q1   -0.905804\n",
       "1990Q2    0.591112\n",
       "1990Q3   -1.528968\n",
       "1990Q4   -0.142490\n",
       "1991Q1   -0.522659\n",
       "1991Q2    0.697689\n",
       "1991Q3    0.993225\n",
       "1991Q4    1.319663\n",
       "1992Q1   -1.018536\n",
       "1992Q2   -0.186732\n",
       "1992Q3    0.568239\n",
       "1992Q4   -0.565195\n",
       "1993Q1   -0.209746\n",
       "1993Q2   -1.366113\n",
       "1993Q3   -0.444598\n",
       "1993Q4   -0.132961\n",
       "1994Q1   -0.470678\n",
       "1994Q2    0.087941\n",
       "1994Q3   -1.773335\n",
       "1994Q4    0.813086\n",
       "1995Q1    2.239539\n",
       "1995Q2   -0.421306\n",
       "1995Q3    0.381529\n",
       "1995Q4   -0.035132\n",
       "1996Q1   -0.021281\n",
       "1996Q2   -0.662257\n",
       "1996Q3   -0.262912\n",
       "1996Q4    1.697315\n",
       "1997Q1   -0.345781\n",
       "1997Q2    0.156068\n",
       "1997Q3    3.513497\n",
       "1997Q4   -1.161114\n",
       "1998Q1    0.732810\n",
       "1998Q2   -1.862603\n",
       "1998Q3    0.114971\n",
       "1998Q4   -1.049375\n",
       "1999Q1    2.479662\n",
       "1999Q2   -0.817222\n",
       "1999Q3    1.389996\n",
       "1999Q4   -0.832205\n",
       "2000Q1   -0.577317\n",
       "2000Q2    0.872608\n",
       "2000Q3    1.679093\n",
       "2000Q4   -0.247581\n",
       "Freq: Q-NOV, dtype: float64"
      ]
     },
     "execution_count": 269,
     "metadata": {},
     "output_type": "execute_result"
    }
   ],
   "source": [
    "ts = pd.Series(np.random.randn(len(prng)), prng)\n",
    "ts"
   ]
  },
  {
   "cell_type": "code",
   "execution_count": 273,
   "metadata": {},
   "outputs": [
    {
     "data": {
      "text/plain": [
       "1990-03-01 09:00   -0.905804\n",
       "1990-06-01 09:00    0.591112\n",
       "1990-09-01 09:00   -1.528968\n",
       "1990-12-01 09:00   -0.142490\n",
       "1991-03-01 09:00   -0.522659\n",
       "1991-06-01 09:00    0.697689\n",
       "1991-09-01 09:00    0.993225\n",
       "1991-12-01 09:00    1.319663\n",
       "1992-03-01 09:00   -1.018536\n",
       "1992-06-01 09:00   -0.186732\n",
       "1992-09-01 09:00    0.568239\n",
       "1992-12-01 09:00   -0.565195\n",
       "1993-03-01 09:00   -0.209746\n",
       "1993-06-01 09:00   -1.366113\n",
       "1993-09-01 09:00   -0.444598\n",
       "1993-12-01 09:00   -0.132961\n",
       "1994-03-01 09:00   -0.470678\n",
       "1994-06-01 09:00    0.087941\n",
       "1994-09-01 09:00   -1.773335\n",
       "1994-12-01 09:00    0.813086\n",
       "1995-03-01 09:00    2.239539\n",
       "1995-06-01 09:00   -0.421306\n",
       "1995-09-01 09:00    0.381529\n",
       "1995-12-01 09:00   -0.035132\n",
       "1996-03-01 09:00   -0.021281\n",
       "1996-06-01 09:00   -0.662257\n",
       "1996-09-01 09:00   -0.262912\n",
       "1996-12-01 09:00    1.697315\n",
       "1997-03-01 09:00   -0.345781\n",
       "1997-06-01 09:00    0.156068\n",
       "1997-09-01 09:00    3.513497\n",
       "1997-12-01 09:00   -1.161114\n",
       "1998-03-01 09:00    0.732810\n",
       "1998-06-01 09:00   -1.862603\n",
       "1998-09-01 09:00    0.114971\n",
       "1998-12-01 09:00   -1.049375\n",
       "1999-03-01 09:00    2.479662\n",
       "1999-06-01 09:00   -0.817222\n",
       "1999-09-01 09:00    1.389996\n",
       "1999-12-01 09:00   -0.832205\n",
       "2000-03-01 09:00   -0.577317\n",
       "2000-06-01 09:00    0.872608\n",
       "2000-09-01 09:00    1.679093\n",
       "2000-12-01 09:00   -0.247581\n",
       "Freq: H, dtype: float64"
      ]
     },
     "execution_count": 273,
     "metadata": {},
     "output_type": "execute_result"
    }
   ],
   "source": [
    "ts.index = (prng.asfreq('M', 'e') + 1).asfreq('H', 's') + 9\n",
    "ts"
   ]
  },
  {
   "cell_type": "markdown",
   "metadata": {},
   "source": [
    "   # 10.Categorical"
   ]
  },
  {
   "cell_type": "code",
   "execution_count": 293,
   "metadata": {},
   "outputs": [
    {
     "data": {
      "text/html": [
       "<div>\n",
       "<style scoped>\n",
       "    .dataframe tbody tr th:only-of-type {\n",
       "        vertical-align: middle;\n",
       "    }\n",
       "\n",
       "    .dataframe tbody tr th {\n",
       "        vertical-align: top;\n",
       "    }\n",
       "\n",
       "    .dataframe thead th {\n",
       "        text-align: right;\n",
       "    }\n",
       "</style>\n",
       "<table border=\"1\" class=\"dataframe\">\n",
       "  <thead>\n",
       "    <tr style=\"text-align: right;\">\n",
       "      <th></th>\n",
       "      <th>id</th>\n",
       "      <th>raw_grade</th>\n",
       "    </tr>\n",
       "  </thead>\n",
       "  <tbody>\n",
       "    <tr>\n",
       "      <th>0</th>\n",
       "      <td>1</td>\n",
       "      <td>a</td>\n",
       "    </tr>\n",
       "    <tr>\n",
       "      <th>1</th>\n",
       "      <td>2</td>\n",
       "      <td>f</td>\n",
       "    </tr>\n",
       "    <tr>\n",
       "      <th>2</th>\n",
       "      <td>3</td>\n",
       "      <td>g</td>\n",
       "    </tr>\n",
       "    <tr>\n",
       "      <th>3</th>\n",
       "      <td>4</td>\n",
       "      <td>g</td>\n",
       "    </tr>\n",
       "    <tr>\n",
       "      <th>4</th>\n",
       "      <td>5</td>\n",
       "      <td>f</td>\n",
       "    </tr>\n",
       "    <tr>\n",
       "      <th>5</th>\n",
       "      <td>6</td>\n",
       "      <td>a</td>\n",
       "    </tr>\n",
       "  </tbody>\n",
       "</table>\n",
       "</div>"
      ],
      "text/plain": [
       "   id raw_grade\n",
       "0   1         a\n",
       "1   2         f\n",
       "2   3         g\n",
       "3   4         g\n",
       "4   5         f\n",
       "5   6         a"
      ]
     },
     "execution_count": 293,
     "metadata": {},
     "output_type": "execute_result"
    }
   ],
   "source": [
    "df = pd.DataFrame({\"id\": [1,2,3,4,5,6], \"raw_grade\": ['a', 'f', 'g', 'g', 'f', 'a']})\n",
    "df"
   ]
  },
  {
   "cell_type": "code",
   "execution_count": 294,
   "metadata": {},
   "outputs": [
    {
     "data": {
      "text/plain": [
       "0    a\n",
       "1    f\n",
       "2    g\n",
       "3    g\n",
       "4    f\n",
       "5    a\n",
       "Name: raw_grade, dtype: object"
      ]
     },
     "execution_count": 294,
     "metadata": {},
     "output_type": "execute_result"
    }
   ],
   "source": [
    "df['raw_grade']"
   ]
  },
  {
   "cell_type": "code",
   "execution_count": 303,
   "metadata": {},
   "outputs": [
    {
     "data": {
      "text/plain": [
       "0    a\n",
       "1    f\n",
       "2    g\n",
       "3    g\n",
       "4    f\n",
       "5    a\n",
       "Name: grade, dtype: category\n",
       "Categories (3, object): [a, f, g]"
      ]
     },
     "execution_count": 303,
     "metadata": {},
     "output_type": "execute_result"
    }
   ],
   "source": [
    "# raw_grade列的object类型转为category类型\n",
    "df['grade'] = df['raw_grade'].astype(\"category\")\n",
    "df['grade']"
   ]
  },
  {
   "cell_type": "code",
   "execution_count": 304,
   "metadata": {},
   "outputs": [
    {
     "data": {
      "text/html": [
       "<div>\n",
       "<style scoped>\n",
       "    .dataframe tbody tr th:only-of-type {\n",
       "        vertical-align: middle;\n",
       "    }\n",
       "\n",
       "    .dataframe tbody tr th {\n",
       "        vertical-align: top;\n",
       "    }\n",
       "\n",
       "    .dataframe thead th {\n",
       "        text-align: right;\n",
       "    }\n",
       "</style>\n",
       "<table border=\"1\" class=\"dataframe\">\n",
       "  <thead>\n",
       "    <tr style=\"text-align: right;\">\n",
       "      <th></th>\n",
       "      <th>id</th>\n",
       "      <th>raw_grade</th>\n",
       "      <th>grade</th>\n",
       "    </tr>\n",
       "  </thead>\n",
       "  <tbody>\n",
       "    <tr>\n",
       "      <th>0</th>\n",
       "      <td>1</td>\n",
       "      <td>a</td>\n",
       "      <td>a</td>\n",
       "    </tr>\n",
       "    <tr>\n",
       "      <th>1</th>\n",
       "      <td>2</td>\n",
       "      <td>f</td>\n",
       "      <td>f</td>\n",
       "    </tr>\n",
       "    <tr>\n",
       "      <th>2</th>\n",
       "      <td>3</td>\n",
       "      <td>g</td>\n",
       "      <td>g</td>\n",
       "    </tr>\n",
       "    <tr>\n",
       "      <th>3</th>\n",
       "      <td>4</td>\n",
       "      <td>g</td>\n",
       "      <td>g</td>\n",
       "    </tr>\n",
       "    <tr>\n",
       "      <th>4</th>\n",
       "      <td>5</td>\n",
       "      <td>f</td>\n",
       "      <td>f</td>\n",
       "    </tr>\n",
       "    <tr>\n",
       "      <th>5</th>\n",
       "      <td>6</td>\n",
       "      <td>a</td>\n",
       "      <td>a</td>\n",
       "    </tr>\n",
       "  </tbody>\n",
       "</table>\n",
       "</div>"
      ],
      "text/plain": [
       "   id raw_grade grade\n",
       "0   1         a     a\n",
       "1   2         f     f\n",
       "2   3         g     g\n",
       "3   4         g     g\n",
       "4   5         f     f\n",
       "5   6         a     a"
      ]
     },
     "execution_count": 304,
     "metadata": {},
     "output_type": "execute_result"
    }
   ],
   "source": [
    "df"
   ]
  },
  {
   "cell_type": "code",
   "execution_count": 305,
   "metadata": {},
   "outputs": [
    {
     "name": "stdout",
     "output_type": "stream",
     "text": [
      "Index(['a', 'f', 'g'], dtype='object')\n",
      "<class 'pandas.core.indexes.base.Index'>\n"
     ]
    }
   ],
   "source": [
    "# 显示grade categories的详细信息\n",
    "a = df[\"grade\"].cat.categories\n",
    "print(a)\n",
    "print(type(a))"
   ]
  },
  {
   "cell_type": "code",
   "execution_count": 306,
   "metadata": {},
   "outputs": [
    {
     "data": {
      "text/plain": [
       "0    very good\n",
       "1         good\n",
       "2     very bad\n",
       "3     very bad\n",
       "4         good\n",
       "5    very good\n",
       "Name: grade, dtype: category\n",
       "Categories (3, object): [very good, good, very bad]"
      ]
     },
     "execution_count": 306,
     "metadata": {},
     "output_type": "execute_result"
    }
   ],
   "source": [
    "# grade categories的详细信息 赋值 ['a', 'f', 'g'] -> [very good, good, very bad]\n",
    "df[\"grade\"].cat.categories = [\"very good\", \"good\", \"very bad\"]\n",
    "df[\"grade\"]"
   ]
  },
  {
   "cell_type": "code",
   "execution_count": 307,
   "metadata": {},
   "outputs": [
    {
     "data": {
      "text/plain": [
       "Index(['very good', 'good', 'very bad'], dtype='object')"
      ]
     },
     "execution_count": 307,
     "metadata": {},
     "output_type": "execute_result"
    }
   ],
   "source": [
    "df[\"grade\"].cat.categories"
   ]
  },
  {
   "cell_type": "code",
   "execution_count": 310,
   "metadata": {},
   "outputs": [
    {
     "data": {
      "text/plain": [
       "Index(['very bad', 'bad', 'medium', 'good', 'very good'], dtype='object')"
      ]
     },
     "execution_count": 310,
     "metadata": {},
     "output_type": "execute_result"
    }
   ],
   "source": [
    "# 增加两个类别（补缺）\n",
    "df[\"grade\"] = df[\"grade\"].cat.set_categories([\"very bad\",\"bad\",\"medium\",\"good\",\"very good\"])\n",
    "df[\"grade\"].cat.categories"
   ]
  },
  {
   "cell_type": "code",
   "execution_count": 311,
   "metadata": {},
   "outputs": [
    {
     "data": {
      "text/plain": [
       "0    very good\n",
       "1         good\n",
       "2     very bad\n",
       "3     very bad\n",
       "4         good\n",
       "5    very good\n",
       "Name: grade, dtype: category\n",
       "Categories (5, object): [very bad, bad, medium, good, very good]"
      ]
     },
     "execution_count": 311,
     "metadata": {},
     "output_type": "execute_result"
    }
   ],
   "source": [
    "df[\"grade\"]"
   ]
  },
  {
   "cell_type": "code",
   "execution_count": 314,
   "metadata": {},
   "outputs": [
    {
     "data": {
      "text/html": [
       "<div>\n",
       "<style scoped>\n",
       "    .dataframe tbody tr th:only-of-type {\n",
       "        vertical-align: middle;\n",
       "    }\n",
       "\n",
       "    .dataframe tbody tr th {\n",
       "        vertical-align: top;\n",
       "    }\n",
       "\n",
       "    .dataframe thead th {\n",
       "        text-align: right;\n",
       "    }\n",
       "</style>\n",
       "<table border=\"1\" class=\"dataframe\">\n",
       "  <thead>\n",
       "    <tr style=\"text-align: right;\">\n",
       "      <th></th>\n",
       "      <th>id</th>\n",
       "      <th>raw_grade</th>\n",
       "      <th>grade</th>\n",
       "    </tr>\n",
       "  </thead>\n",
       "  <tbody>\n",
       "    <tr>\n",
       "      <th>2</th>\n",
       "      <td>3</td>\n",
       "      <td>g</td>\n",
       "      <td>very bad</td>\n",
       "    </tr>\n",
       "    <tr>\n",
       "      <th>3</th>\n",
       "      <td>4</td>\n",
       "      <td>g</td>\n",
       "      <td>very bad</td>\n",
       "    </tr>\n",
       "    <tr>\n",
       "      <th>1</th>\n",
       "      <td>2</td>\n",
       "      <td>f</td>\n",
       "      <td>good</td>\n",
       "    </tr>\n",
       "    <tr>\n",
       "      <th>4</th>\n",
       "      <td>5</td>\n",
       "      <td>f</td>\n",
       "      <td>good</td>\n",
       "    </tr>\n",
       "    <tr>\n",
       "      <th>0</th>\n",
       "      <td>1</td>\n",
       "      <td>a</td>\n",
       "      <td>very good</td>\n",
       "    </tr>\n",
       "    <tr>\n",
       "      <th>5</th>\n",
       "      <td>6</td>\n",
       "      <td>a</td>\n",
       "      <td>very good</td>\n",
       "    </tr>\n",
       "  </tbody>\n",
       "</table>\n",
       "</div>"
      ],
      "text/plain": [
       "   id raw_grade      grade\n",
       "2   3         g   very bad\n",
       "3   4         g   very bad\n",
       "1   2         f       good\n",
       "4   5         f       good\n",
       "0   1         a  very good\n",
       "5   6         a  very good"
      ]
     },
     "execution_count": 314,
     "metadata": {},
     "output_type": "execute_result"
    }
   ],
   "source": [
    "# 按照类别排序 可以根据抽象的好坏来排序\n",
    "df.sort_values(\"grade\")"
   ]
  },
  {
   "cell_type": "code",
   "execution_count": 316,
   "metadata": {},
   "outputs": [
    {
     "data": {
      "text/plain": [
       "grade\n",
       "very bad     2\n",
       "bad          0\n",
       "medium       0\n",
       "good         2\n",
       "very good    2\n",
       "dtype: int64"
      ]
     },
     "execution_count": 316,
     "metadata": {},
     "output_type": "execute_result"
    }
   ],
   "source": [
    "# 存在空的类别会显示0\n",
    "df.groupby(\"grade\").size()"
   ]
  },
  {
   "cell_type": "code",
   "execution_count": 357,
   "metadata": {},
   "outputs": [
    {
     "data": {
      "text/plain": [
       "2000-01-01    0.318298\n",
       "2000-01-02   -1.925661\n",
       "2000-01-03   -0.680426\n",
       "2000-01-04   -0.042053\n",
       "2000-01-05   -0.115740\n",
       "2000-01-06    1.955743\n",
       "2000-01-07   -0.563548\n",
       "2000-01-08    1.012373\n",
       "2000-01-09   -0.795741\n",
       "2000-01-10   -0.346415\n",
       "Freq: D, dtype: float64"
      ]
     },
     "execution_count": 357,
     "metadata": {},
     "output_type": "execute_result"
    }
   ],
   "source": [
    "# 使用Series作图，Series的索引是时间类型\n",
    "ts = pd.Series(np.random.randn(10), index=pd.date_range('1/1/2000', periods=10))\n",
    "ts"
   ]
  },
  {
   "cell_type": "code",
   "execution_count": 358,
   "metadata": {},
   "outputs": [
    {
     "data": {
      "text/plain": [
       "2000-01-01    0.318298\n",
       "2000-01-02   -1.607363\n",
       "2000-01-03   -2.287788\n",
       "2000-01-04   -2.329842\n",
       "2000-01-05   -2.445582\n",
       "2000-01-06   -0.489839\n",
       "2000-01-07   -1.053387\n",
       "2000-01-08   -0.041013\n",
       "2000-01-09   -0.836754\n",
       "2000-01-10   -1.183169\n",
       "Freq: D, dtype: float64"
      ]
     },
     "execution_count": 358,
     "metadata": {},
     "output_type": "execute_result"
    }
   ],
   "source": [
    "# 累加\n",
    "sts = ts.cumsum()\n",
    "sts"
   ]
  },
  {
   "cell_type": "code",
   "execution_count": 359,
   "metadata": {},
   "outputs": [
    {
     "data": {
      "image/png": "[encoded data removed]",
      "text/plain": [
       "<matplotlib.figure.Figure at 0x7f5e173d8d30>"
      ]
     },
     "metadata": {},
     "output_type": "display_data"
    }
   ],
   "source": [
    "import matplotlib.pyplot as plt\n",
    "sts.plot()\n",
    "plt.show()"
   ]
  },
  {
   "cell_type": "code",
   "execution_count": 360,
   "metadata": {},
   "outputs": [
    {
     "data": {
      "text/html": [
       "<div>\n",
       "<style scoped>\n",
       "    .dataframe tbody tr th:only-of-type {\n",
       "        vertical-align: middle;\n",
       "    }\n",
       "\n",
       "    .dataframe tbody tr th {\n",
       "        vertical-align: top;\n",
       "    }\n",
       "\n",
       "    .dataframe thead th {\n",
       "        text-align: right;\n",
       "    }\n",
       "</style>\n",
       "<table border=\"1\" class=\"dataframe\">\n",
       "  <thead>\n",
       "    <tr style=\"text-align: right;\">\n",
       "      <th></th>\n",
       "      <th>A</th>\n",
       "      <th>B</th>\n",
       "      <th>C</th>\n",
       "      <th>D</th>\n",
       "    </tr>\n",
       "  </thead>\n",
       "  <tbody>\n",
       "    <tr>\n",
       "      <th>2012-01-01</th>\n",
       "      <td>1.154439</td>\n",
       "      <td>-0.567168</td>\n",
       "      <td>0.442858</td>\n",
       "      <td>-0.501636</td>\n",
       "    </tr>\n",
       "    <tr>\n",
       "      <th>2012-01-02</th>\n",
       "      <td>0.056415</td>\n",
       "      <td>-1.608857</td>\n",
       "      <td>1.989818</td>\n",
       "      <td>-0.570331</td>\n",
       "    </tr>\n",
       "    <tr>\n",
       "      <th>2012-01-03</th>\n",
       "      <td>-0.211476</td>\n",
       "      <td>1.218557</td>\n",
       "      <td>-1.229636</td>\n",
       "      <td>1.052984</td>\n",
       "    </tr>\n",
       "    <tr>\n",
       "      <th>2012-01-04</th>\n",
       "      <td>0.399349</td>\n",
       "      <td>-1.180275</td>\n",
       "      <td>-0.306371</td>\n",
       "      <td>-0.193046</td>\n",
       "    </tr>\n",
       "    <tr>\n",
       "      <th>2012-01-05</th>\n",
       "      <td>-0.757250</td>\n",
       "      <td>0.343156</td>\n",
       "      <td>0.226493</td>\n",
       "      <td>0.078601</td>\n",
       "    </tr>\n",
       "    <tr>\n",
       "      <th>2012-01-06</th>\n",
       "      <td>-0.220756</td>\n",
       "      <td>-0.414071</td>\n",
       "      <td>0.311513</td>\n",
       "      <td>-0.482000</td>\n",
       "    </tr>\n",
       "    <tr>\n",
       "      <th>2012-01-07</th>\n",
       "      <td>-0.478244</td>\n",
       "      <td>1.252946</td>\n",
       "      <td>-0.302569</td>\n",
       "      <td>-0.515724</td>\n",
       "    </tr>\n",
       "    <tr>\n",
       "      <th>2012-01-08</th>\n",
       "      <td>-1.081638</td>\n",
       "      <td>1.164641</td>\n",
       "      <td>-0.120784</td>\n",
       "      <td>-0.900429</td>\n",
       "    </tr>\n",
       "    <tr>\n",
       "      <th>2012-01-09</th>\n",
       "      <td>2.406609</td>\n",
       "      <td>0.395876</td>\n",
       "      <td>-0.509399</td>\n",
       "      <td>-0.429489</td>\n",
       "    </tr>\n",
       "    <tr>\n",
       "      <th>2012-01-10</th>\n",
       "      <td>-0.613539</td>\n",
       "      <td>1.663004</td>\n",
       "      <td>-0.765109</td>\n",
       "      <td>-0.605029</td>\n",
       "    </tr>\n",
       "  </tbody>\n",
       "</table>\n",
       "</div>"
      ],
      "text/plain": [
       "                   A         B         C         D\n",
       "2012-01-01  1.154439 -0.567168  0.442858 -0.501636\n",
       "2012-01-02  0.056415 -1.608857  1.989818 -0.570331\n",
       "2012-01-03 -0.211476  1.218557 -1.229636  1.052984\n",
       "2012-01-04  0.399349 -1.180275 -0.306371 -0.193046\n",
       "2012-01-05 -0.757250  0.343156  0.226493  0.078601\n",
       "2012-01-06 -0.220756 -0.414071  0.311513 -0.482000\n",
       "2012-01-07 -0.478244  1.252946 -0.302569 -0.515724\n",
       "2012-01-08 -1.081638  1.164641 -0.120784 -0.900429\n",
       "2012-01-09  2.406609  0.395876 -0.509399 -0.429489\n",
       "2012-01-10 -0.613539  1.663004 -0.765109 -0.605029"
      ]
     },
     "execution_count": 360,
     "metadata": {},
     "output_type": "execute_result"
    }
   ],
   "source": [
    "df = pd.DataFrame(np.random.randn(10, 4), index=pd.date_range('20120101',periods=10), columns=['A','B','C','D'])\n",
    "df"
   ]
  },
  {
   "cell_type": "code",
   "execution_count": 361,
   "metadata": {},
   "outputs": [
    {
     "data": {
      "text/plain": [
       "<matplotlib.figure.Figure at 0x7f5e172374a8>"
      ]
     },
     "metadata": {},
     "output_type": "display_data"
    },
    {
     "data": {
      "image/png": "[encoded data removed]",
      "text/plain": [
       "<matplotlib.figure.Figure at 0x7f5e173d8e10>"
      ]
     },
     "metadata": {},
     "output_type": "display_data"
    }
   ],
   "source": [
    "# 使用DataFrame作图，DataFrame的索引是时间类型\n",
    "plt.figure()\n",
    "df.plot()\n",
    "plt.legend(loc=\"best\")\n",
    "plt.show()"
   ]
  },
  {
   "cell_type": "code",
   "execution_count": 485,
   "metadata": {},
   "outputs": [],
   "source": [
    "# df.to_csv('xxx')  写入csv文件\n",
    "# pd.read_hdf('foo.h5', 'df')  从HDF5中读取\n",
    "# pd.to_excel('foo.xlsx', sheet_name=''Sheet)  写入Excel文件\n",
    "# pd.read_excel('foo.xlsx', 'Sheet1', index_col=None, na_values=['NA'])  从Excel读\n",
    "df = pd.read_csv(\"/home/nick/Desktop/DA/speedFile/count.csv\", index_col=None, names=[\"total\"], \n",
    "                 parse_dates=True, dtype={\"total\": np.int64}, encoding=\"utf-8\")\n",
    "increment = df['total'].diff()"
   ]
  },
  {
   "cell_type": "code",
   "execution_count": 476,
   "metadata": {},
   "outputs": [
    {
     "data": {
      "image/png": "[encoded data removed]",
      "text/plain": [
       "<matplotlib.figure.Figure at 0x7f5e163e2ef0>"
      ]
     },
     "metadata": {},
     "output_type": "display_data"
    }
   ],
   "source": [
    "# 按照原始数据显示\n",
    "df.plot()\n",
    "plt.show()"
   ]
  },
  {
   "cell_type": "code",
   "execution_count": 470,
   "metadata": {},
   "outputs": [
    {
     "data": {
      "image/png": "[encoded data removed]",
      "text/plain": [
       "<matplotlib.figure.Figure at 0x7f5e19d58c50>"
      ]
     },
     "metadata": {},
     "output_type": "display_data"
    }
   ],
   "source": [
    "# 降低采样频率 显示总数\n",
    "a = df.loc[:\"2018-01-12 00:00:00\"]\n",
    "a = a.resample('60Min').mean()\n",
    "a.plot()\n",
    "plt.show()"
   ]
  },
  {
   "cell_type": "code",
   "execution_count": 457,
   "metadata": {},
   "outputs": [
    {
     "data": {
      "image/png": "[encoded data removed]",
      "text/plain": [
       "<matplotlib.figure.Figure at 0x7f5e16528c88>"
      ]
     },
     "metadata": {},
     "output_type": "display_data"
    }
   ],
   "source": [
    "# 降低采样频率 显示采集速度\n",
    "s = pd.Series(increment, index=df.index, name='total')\n",
    "sa = s.loc[:\"2018-01-12 00:00:00\"]\n",
    "sa = sa.resample('1H').sum()\n",
    "sa.plot()\n",
    "plt.show()"
   ]
  },
  {
   "cell_type": "code",
   "execution_count": 458,
   "metadata": {},
   "outputs": [
    {
     "data": {
      "image/png": "[encoded data removed]",
      "text/plain": [
       "<matplotlib.figure.Figure at 0x7f5e17273208>"
      ]
     },
     "metadata": {},
     "output_type": "display_data"
    }
   ],
   "source": [
    "# 降低采样频率 显示每天抓取的量\n",
    "b = df.loc[\"2018-01-02 00:00:00\":\"2018-01-12 00:00:00\"]\n",
    "b = b.resample('24H').mean()\n",
    "di = b['total'].diff()\n",
    "dif = pd.Series(di, index=b.index, dtype=np.int64).iloc[1:]\n",
    "dif = dif.resample('1D').mean()\n",
    "dif.plot(kind='bar')\n",
    "plt.show()"
   ]
  },
  {
   "cell_type": "code",
   "execution_count": 460,
   "metadata": {},
   "outputs": [
    {
     "data": {
      "image/png": "[encoded data removed]",
      "text/plain": [
       "<matplotlib.figure.Figure at 0x7f5e1cecd860>"
      ]
     },
     "metadata": {},
     "output_type": "display_data"
    }
   ],
   "source": [
    "# 降低采样频率 显示每天抓取的量\n",
    "b = df.loc[\"2018-01-02 00:00:00\":\"2018-01-12 00:00:00\"]\n",
    "b = b.resample('24H').mean()\n",
    "di = b['total'].diff()\n",
    "dif = pd.Series(di, index=b.index, dtype=np.int64).iloc[1:]\n",
    "dif = dif.resample('1D').mean()\n",
    "dif.plot(kind='bar')\n",
    "plt.show()"
   ]
  },
  {
   "cell_type": "code",
   "execution_count": 480,
   "metadata": {},
   "outputs": [
    {
     "data": {
      "image/png": "[encoded data removed]",
      "text/plain": [
       "<matplotlib.figure.Figure at 0x7f5e16c2b390>"
      ]
     },
     "metadata": {},
     "output_type": "display_data"
    }
   ],
   "source": [
    "# 降低采样频率 显示采集速度的集中频率\n",
    "# s = pd.DataFrame({'crawlSpeed': increment}, index=df.index)\n",
    "s = pd.DataFrame(increment, index=df.index, columns=['total'])\n",
    "sa = s.loc[:\"2018-01-12 00:00:00\"]\n",
    "sa.plot.hist(alpha=0.5, bins=100, stacked=True)\n",
    "plt.show()"
   ]
  },
  {
   "cell_type": "code",
   "execution_count": 482,
   "metadata": {},
   "outputs": [
    {
     "data": {
      "image/png": "[encoded data removed]",
      "text/plain": [
       "<matplotlib.figure.Figure at 0x7f5e1ac10eb8>"
      ]
     },
     "metadata": {},
     "output_type": "display_data"
    }
   ],
   "source": [
    "# 箱体图\n",
    "color = dict(boxes='DarkGreen', whiskers='DarkOrange', medians='DarkBlue', caps='Gray')\n",
    "s = pd.DataFrame(increment, index=df.index, columns=['total'])\n",
    "sa = s.loc[:\"2018-01-12 00:00:00\"]\n",
    "sa.plot.box(color=color, sym='r+')\n",
    "plt.show()"
   ]
  },
  {
   "cell_type": "code",
   "execution_count": null,
   "metadata": {},
   "outputs": [],
   "source": []
  }
 ],
 "metadata": {
  "kernelspec": {
   "display_name": "Python 3",
   "language": "python",
   "name": "python3"
  },
  "language_info": {
   "codemirror_mode": {
    "name": "ipython",
    "version": 3
   },
   "file_extension": ".py",
   "mimetype": "text/x-python",
   "name": "python",
   "nbconvert_exporter": "python",
   "pygments_lexer": "ipython3",
   "version": "3.5.2"
  }
 },
 "nbformat": 4,
 "nbformat_minor": 2
}
