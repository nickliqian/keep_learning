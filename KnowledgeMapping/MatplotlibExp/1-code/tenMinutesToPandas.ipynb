{
 "cells": [
  {
   "cell_type": "code",
   "execution_count": 1,
   "metadata": {},
   "outputs": [],
   "source": [
    "import pandas as pd\n",
    "import numpy as np\n",
    "import matplotlib.pyplot as plt"
   ]
  },
  {
   "cell_type": "markdown",
   "metadata": {},
   "source": [
    "`np.nan 是非数字`  \n",
    "`这里通过传递一个list对象类创建一个Series，同时pandas默认创建整型索引`"
   ]
  },
  {
   "cell_type": "code",
   "execution_count": 2,
   "metadata": {},
   "outputs": [],
   "source": [
    "s = pd.Series([1, 3, 5, np.nan, 6, 8])"
   ]
  },
  {
   "cell_type": "code",
   "execution_count": 3,
   "metadata": {},
   "outputs": [
    {
     "data": {
      "text/plain": [
       "0    1.0\n",
       "1    3.0\n",
       "2    5.0\n",
       "3    NaN\n",
       "4    6.0\n",
       "5    8.0\n",
       "dtype: float64"
      ]
     },
     "execution_count": 3,
     "metadata": {},
     "output_type": "execute_result"
    }
   ],
   "source": [
    "s"
   ]
  },
  {
   "cell_type": "code",
   "execution_count": 4,
   "metadata": {},
   "outputs": [
    {
     "data": {
      "text/plain": [
       "(6,)"
      ]
     },
     "execution_count": 4,
     "metadata": {},
     "output_type": "execute_result"
    }
   ],
   "source": [
    "s.shape"
   ]
  },
  {
   "cell_type": "code",
   "execution_count": 13,
   "metadata": {},
   "outputs": [
    {
     "name": "stdout",
     "output_type": "stream",
     "text": [
      "<class 'pandas.core.indexes.datetimes.DatetimeIndex'>\n"
     ]
    },
    {
     "data": {
      "text/plain": [
       "DatetimeIndex(['2013-01-01', '2013-01-02', '2013-01-03', '2013-01-04',\n",
       "               '2013-01-05', '2013-01-06'],\n",
       "              dtype='datetime64[ns]', freq='D')"
      ]
     },
     "execution_count": 13,
     "metadata": {},
     "output_type": "execute_result"
    }
   ],
   "source": [
    "# 创建一个DataFrame\n",
    "dates = pd.date_range('20130101', periods=6)\n",
    "print(type(dates))\n",
    "dates"
   ]
  },
  {
   "cell_type": "code",
   "execution_count": 14,
   "metadata": {},
   "outputs": [
    {
     "name": "stdout",
     "output_type": "stream",
     "text": [
      "[[-0.43956847  0.48582664 -0.14249448  0.76819718]\n",
      " [ 0.60665401 -0.00348119 -0.71425222  1.92218174]\n",
      " [-0.23225863 -0.01519794 -0.41644336  0.89660058]\n",
      " [ 0.83425654  0.36994682 -0.08387205  1.08089037]\n",
      " [-0.09792805 -0.00354183 -0.12989991  1.69773261]\n",
      " [ 1.79605304  2.09522976 -0.15232828  0.16499465]]\n"
     ]
    }
   ],
   "source": [
    "lis = np.random.randn(6, 4)\n",
    "print(lis)\n",
    "df = pd.DataFrame(lis, index=dates, columns=list('ABCD'))"
   ]
  },
  {
   "cell_type": "code",
   "execution_count": 15,
   "metadata": {},
   "outputs": [
    {
     "data": {
      "text/html": [
       "<div>\n",
       "<style scoped>\n",
       "    .dataframe tbody tr th:only-of-type {\n",
       "        vertical-align: middle;\n",
       "    }\n",
       "\n",
       "    .dataframe tbody tr th {\n",
       "        vertical-align: top;\n",
       "    }\n",
       "\n",
       "    .dataframe thead th {\n",
       "        text-align: right;\n",
       "    }\n",
       "</style>\n",
       "<table border=\"1\" class=\"dataframe\">\n",
       "  <thead>\n",
       "    <tr style=\"text-align: right;\">\n",
       "      <th></th>\n",
       "      <th>A</th>\n",
       "      <th>B</th>\n",
       "      <th>C</th>\n",
       "      <th>D</th>\n",
       "    </tr>\n",
       "  </thead>\n",
       "  <tbody>\n",
       "    <tr>\n",
       "      <th>2013-01-01</th>\n",
       "      <td>-0.439568</td>\n",
       "      <td>0.485827</td>\n",
       "      <td>-0.142494</td>\n",
       "      <td>0.768197</td>\n",
       "    </tr>\n",
       "    <tr>\n",
       "      <th>2013-01-02</th>\n",
       "      <td>0.606654</td>\n",
       "      <td>-0.003481</td>\n",
       "      <td>-0.714252</td>\n",
       "      <td>1.922182</td>\n",
       "    </tr>\n",
       "    <tr>\n",
       "      <th>2013-01-03</th>\n",
       "      <td>-0.232259</td>\n",
       "      <td>-0.015198</td>\n",
       "      <td>-0.416443</td>\n",
       "      <td>0.896601</td>\n",
       "    </tr>\n",
       "    <tr>\n",
       "      <th>2013-01-04</th>\n",
       "      <td>0.834257</td>\n",
       "      <td>0.369947</td>\n",
       "      <td>-0.083872</td>\n",
       "      <td>1.080890</td>\n",
       "    </tr>\n",
       "    <tr>\n",
       "      <th>2013-01-05</th>\n",
       "      <td>-0.097928</td>\n",
       "      <td>-0.003542</td>\n",
       "      <td>-0.129900</td>\n",
       "      <td>1.697733</td>\n",
       "    </tr>\n",
       "    <tr>\n",
       "      <th>2013-01-06</th>\n",
       "      <td>1.796053</td>\n",
       "      <td>2.095230</td>\n",
       "      <td>-0.152328</td>\n",
       "      <td>0.164995</td>\n",
       "    </tr>\n",
       "  </tbody>\n",
       "</table>\n",
       "</div>"
      ],
      "text/plain": [
       "                   A         B         C         D\n",
       "2013-01-01 -0.439568  0.485827 -0.142494  0.768197\n",
       "2013-01-02  0.606654 -0.003481 -0.714252  1.922182\n",
       "2013-01-03 -0.232259 -0.015198 -0.416443  0.896601\n",
       "2013-01-04  0.834257  0.369947 -0.083872  1.080890\n",
       "2013-01-05 -0.097928 -0.003542 -0.129900  1.697733\n",
       "2013-01-06  1.796053  2.095230 -0.152328  0.164995"
      ]
     },
     "execution_count": 15,
     "metadata": {},
     "output_type": "execute_result"
    }
   ],
   "source": [
    "# 定义DataFrame时，使用index给行索引赋值，columns给列索引赋值\n",
    "df"
   ]
  },
  {
   "cell_type": "code",
   "execution_count": 25,
   "metadata": {},
   "outputs": [
    {
     "name": "stdout",
     "output_type": "stream",
     "text": [
      "2013-01-02 00:00:00\n",
      "<class 'pandas._libs.tslib.Timestamp'>\n",
      "--------------------\n",
      "0    1.0\n",
      "1    1.0\n",
      "2    1.0\n",
      "3    1.0\n",
      "dtype: float32\n",
      "<class 'pandas.core.series.Series'>\n",
      "--------------------\n",
      "[3 3 3 3]\n",
      "<class 'numpy.ndarray'>\n",
      "--------------------\n",
      "[test, train, test, train]\n",
      "Categories (2, object): [test, train]\n",
      "<class 'pandas.core.categorical.Categorical'>\n",
      "--------------------\n"
     ]
    }
   ],
   "source": [
    "b = pd.Timestamp('20130102')\n",
    "print(b)\n",
    "print(type(b))\n",
    "print('-' * 20)\n",
    "# this 1 -> [1, 1, 1, 1]\n",
    "c = pd.Series(1, index=list(range(4)), dtype='float32')\n",
    "print(c)\n",
    "print(type(c))\n",
    "print('-' * 20)\n",
    "# [3]*4 -> [3, 3, 3, 3]\n",
    "d = np.array([3]*4, dtype='int32')\n",
    "print(d)\n",
    "print(type(d))\n",
    "print('-' * 20)\n",
    "e = pd.Categorical(['test', 'train', 'test', 'train'])\n",
    "print(e)\n",
    "print(type(e))\n",
    "print('-' * 20)"
   ]
  },
  {
   "cell_type": "code",
   "execution_count": 26,
   "metadata": {},
   "outputs": [
    {
     "name": "stdout",
     "output_type": "stream",
     "text": [
      "     A          B    C  D      E    F\n",
      "0  1.0 2013-01-02  1.0  3   test  foo\n",
      "1  1.0 2013-01-02  1.0  3  train  foo\n",
      "2  1.0 2013-01-02  1.0  3   test  foo\n",
      "3  1.0 2013-01-02  1.0  3  train  foo\n"
     ]
    }
   ],
   "source": [
    "# 给 DataFrame 列的值可以为 list，Timestamp，Series，ndarray，Categorical 类型\n",
    "dic = {\n",
    "    'A': 1.,\n",
    "    'B': b,\n",
    "    'C': c,\n",
    "    'D': d,\n",
    "    'E': e,\n",
    "    'F': 'foo'\n",
    "}\n",
    "df2 = pd.DataFrame(dic)\n",
    "print(df2)"
   ]
  },
  {
   "cell_type": "code",
   "execution_count": 28,
   "metadata": {},
   "outputs": [
    {
     "data": {
      "text/plain": [
       "A           float64\n",
       "B    datetime64[ns]\n",
       "C           float32\n",
       "D             int32\n",
       "E          category\n",
       "F            object\n",
       "dtype: object"
      ]
     },
     "execution_count": 28,
     "metadata": {},
     "output_type": "execute_result"
    }
   ],
   "source": [
    "# 查看每一列的数据类型\n",
    "df2.dtypes"
   ]
  },
  {
   "cell_type": "code",
   "execution_count": 29,
   "metadata": {},
   "outputs": [
    {
     "data": {
      "text/html": [
       "<div>\n",
       "<style scoped>\n",
       "    .dataframe tbody tr th:only-of-type {\n",
       "        vertical-align: middle;\n",
       "    }\n",
       "\n",
       "    .dataframe tbody tr th {\n",
       "        vertical-align: top;\n",
       "    }\n",
       "\n",
       "    .dataframe thead th {\n",
       "        text-align: right;\n",
       "    }\n",
       "</style>\n",
       "<table border=\"1\" class=\"dataframe\">\n",
       "  <thead>\n",
       "    <tr style=\"text-align: right;\">\n",
       "      <th></th>\n",
       "      <th>A</th>\n",
       "      <th>B</th>\n",
       "      <th>C</th>\n",
       "      <th>D</th>\n",
       "    </tr>\n",
       "  </thead>\n",
       "  <tbody>\n",
       "    <tr>\n",
       "      <th>2013-01-01</th>\n",
       "      <td>-0.439568</td>\n",
       "      <td>0.485827</td>\n",
       "      <td>-0.142494</td>\n",
       "      <td>0.768197</td>\n",
       "    </tr>\n",
       "    <tr>\n",
       "      <th>2013-01-02</th>\n",
       "      <td>0.606654</td>\n",
       "      <td>-0.003481</td>\n",
       "      <td>-0.714252</td>\n",
       "      <td>1.922182</td>\n",
       "    </tr>\n",
       "    <tr>\n",
       "      <th>2013-01-03</th>\n",
       "      <td>-0.232259</td>\n",
       "      <td>-0.015198</td>\n",
       "      <td>-0.416443</td>\n",
       "      <td>0.896601</td>\n",
       "    </tr>\n",
       "    <tr>\n",
       "      <th>2013-01-04</th>\n",
       "      <td>0.834257</td>\n",
       "      <td>0.369947</td>\n",
       "      <td>-0.083872</td>\n",
       "      <td>1.080890</td>\n",
       "    </tr>\n",
       "    <tr>\n",
       "      <th>2013-01-05</th>\n",
       "      <td>-0.097928</td>\n",
       "      <td>-0.003542</td>\n",
       "      <td>-0.129900</td>\n",
       "      <td>1.697733</td>\n",
       "    </tr>\n",
       "    <tr>\n",
       "      <th>2013-01-06</th>\n",
       "      <td>1.796053</td>\n",
       "      <td>2.095230</td>\n",
       "      <td>-0.152328</td>\n",
       "      <td>0.164995</td>\n",
       "    </tr>\n",
       "  </tbody>\n",
       "</table>\n",
       "</div>"
      ],
      "text/plain": [
       "                   A         B         C         D\n",
       "2013-01-01 -0.439568  0.485827 -0.142494  0.768197\n",
       "2013-01-02  0.606654 -0.003481 -0.714252  1.922182\n",
       "2013-01-03 -0.232259 -0.015198 -0.416443  0.896601\n",
       "2013-01-04  0.834257  0.369947 -0.083872  1.080890\n",
       "2013-01-05 -0.097928 -0.003542 -0.129900  1.697733\n",
       "2013-01-06  1.796053  2.095230 -0.152328  0.164995"
      ]
     },
     "execution_count": 29,
     "metadata": {},
     "output_type": "execute_result"
    }
   ],
   "source": [
    "df"
   ]
  },
  {
   "cell_type": "code",
   "execution_count": 34,
   "metadata": {},
   "outputs": [
    {
     "data": {
      "text/html": [
       "<div>\n",
       "<style scoped>\n",
       "    .dataframe tbody tr th:only-of-type {\n",
       "        vertical-align: middle;\n",
       "    }\n",
       "\n",
       "    .dataframe tbody tr th {\n",
       "        vertical-align: top;\n",
       "    }\n",
       "\n",
       "    .dataframe thead th {\n",
       "        text-align: right;\n",
       "    }\n",
       "</style>\n",
       "<table border=\"1\" class=\"dataframe\">\n",
       "  <thead>\n",
       "    <tr style=\"text-align: right;\">\n",
       "      <th></th>\n",
       "      <th>A</th>\n",
       "      <th>B</th>\n",
       "      <th>C</th>\n",
       "      <th>D</th>\n",
       "    </tr>\n",
       "  </thead>\n",
       "  <tbody>\n",
       "    <tr>\n",
       "      <th>2013-01-01</th>\n",
       "      <td>-0.439568</td>\n",
       "      <td>0.485827</td>\n",
       "      <td>-0.142494</td>\n",
       "      <td>0.768197</td>\n",
       "    </tr>\n",
       "    <tr>\n",
       "      <th>2013-01-02</th>\n",
       "      <td>0.606654</td>\n",
       "      <td>-0.003481</td>\n",
       "      <td>-0.714252</td>\n",
       "      <td>1.922182</td>\n",
       "    </tr>\n",
       "    <tr>\n",
       "      <th>2013-01-03</th>\n",
       "      <td>-0.232259</td>\n",
       "      <td>-0.015198</td>\n",
       "      <td>-0.416443</td>\n",
       "      <td>0.896601</td>\n",
       "    </tr>\n",
       "    <tr>\n",
       "      <th>2013-01-04</th>\n",
       "      <td>0.834257</td>\n",
       "      <td>0.369947</td>\n",
       "      <td>-0.083872</td>\n",
       "      <td>1.080890</td>\n",
       "    </tr>\n",
       "    <tr>\n",
       "      <th>2013-01-05</th>\n",
       "      <td>-0.097928</td>\n",
       "      <td>-0.003542</td>\n",
       "      <td>-0.129900</td>\n",
       "      <td>1.697733</td>\n",
       "    </tr>\n",
       "  </tbody>\n",
       "</table>\n",
       "</div>"
      ],
      "text/plain": [
       "                   A         B         C         D\n",
       "2013-01-01 -0.439568  0.485827 -0.142494  0.768197\n",
       "2013-01-02  0.606654 -0.003481 -0.714252  1.922182\n",
       "2013-01-03 -0.232259 -0.015198 -0.416443  0.896601\n",
       "2013-01-04  0.834257  0.369947 -0.083872  1.080890\n",
       "2013-01-05 -0.097928 -0.003542 -0.129900  1.697733"
      ]
     },
     "execution_count": 34,
     "metadata": {},
     "output_type": "execute_result"
    }
   ],
   "source": [
    "df.head()"
   ]
  },
  {
   "cell_type": "code",
   "execution_count": 32,
   "metadata": {},
   "outputs": [
    {
     "data": {
      "text/html": [
       "<div>\n",
       "<style scoped>\n",
       "    .dataframe tbody tr th:only-of-type {\n",
       "        vertical-align: middle;\n",
       "    }\n",
       "\n",
       "    .dataframe tbody tr th {\n",
       "        vertical-align: top;\n",
       "    }\n",
       "\n",
       "    .dataframe thead th {\n",
       "        text-align: right;\n",
       "    }\n",
       "</style>\n",
       "<table border=\"1\" class=\"dataframe\">\n",
       "  <thead>\n",
       "    <tr style=\"text-align: right;\">\n",
       "      <th></th>\n",
       "      <th>A</th>\n",
       "      <th>B</th>\n",
       "      <th>C</th>\n",
       "      <th>D</th>\n",
       "    </tr>\n",
       "  </thead>\n",
       "  <tbody>\n",
       "    <tr>\n",
       "      <th>2013-01-04</th>\n",
       "      <td>0.834257</td>\n",
       "      <td>0.369947</td>\n",
       "      <td>-0.083872</td>\n",
       "      <td>1.080890</td>\n",
       "    </tr>\n",
       "    <tr>\n",
       "      <th>2013-01-05</th>\n",
       "      <td>-0.097928</td>\n",
       "      <td>-0.003542</td>\n",
       "      <td>-0.129900</td>\n",
       "      <td>1.697733</td>\n",
       "    </tr>\n",
       "    <tr>\n",
       "      <th>2013-01-06</th>\n",
       "      <td>1.796053</td>\n",
       "      <td>2.095230</td>\n",
       "      <td>-0.152328</td>\n",
       "      <td>0.164995</td>\n",
       "    </tr>\n",
       "  </tbody>\n",
       "</table>\n",
       "</div>"
      ],
      "text/plain": [
       "                   A         B         C         D\n",
       "2013-01-04  0.834257  0.369947 -0.083872  1.080890\n",
       "2013-01-05 -0.097928 -0.003542 -0.129900  1.697733\n",
       "2013-01-06  1.796053  2.095230 -0.152328  0.164995"
      ]
     },
     "execution_count": 32,
     "metadata": {},
     "output_type": "execute_result"
    }
   ],
   "source": [
    "df.tail(3)"
   ]
  },
  {
   "cell_type": "code",
   "execution_count": 35,
   "metadata": {},
   "outputs": [
    {
     "data": {
      "text/plain": [
       "DatetimeIndex(['2013-01-01', '2013-01-02', '2013-01-03', '2013-01-04',\n",
       "               '2013-01-05', '2013-01-06'],\n",
       "              dtype='datetime64[ns]', freq='D')"
      ]
     },
     "execution_count": 35,
     "metadata": {},
     "output_type": "execute_result"
    }
   ],
   "source": [
    "df.index"
   ]
  },
  {
   "cell_type": "code",
   "execution_count": 36,
   "metadata": {},
   "outputs": [
    {
     "data": {
      "text/plain": [
       "Index(['A', 'B', 'C', 'D'], dtype='object')"
      ]
     },
     "execution_count": 36,
     "metadata": {},
     "output_type": "execute_result"
    }
   ],
   "source": [
    "df.columns"
   ]
  },
  {
   "cell_type": "code",
   "execution_count": 37,
   "metadata": {},
   "outputs": [
    {
     "data": {
      "text/html": [
       "<div>\n",
       "<style scoped>\n",
       "    .dataframe tbody tr th:only-of-type {\n",
       "        vertical-align: middle;\n",
       "    }\n",
       "\n",
       "    .dataframe tbody tr th {\n",
       "        vertical-align: top;\n",
       "    }\n",
       "\n",
       "    .dataframe thead th {\n",
       "        text-align: right;\n",
       "    }\n",
       "</style>\n",
       "<table border=\"1\" class=\"dataframe\">\n",
       "  <thead>\n",
       "    <tr style=\"text-align: right;\">\n",
       "      <th></th>\n",
       "      <th>A</th>\n",
       "      <th>B</th>\n",
       "      <th>C</th>\n",
       "      <th>D</th>\n",
       "    </tr>\n",
       "  </thead>\n",
       "  <tbody>\n",
       "    <tr>\n",
       "      <th>count</th>\n",
       "      <td>6.000000</td>\n",
       "      <td>6.000000</td>\n",
       "      <td>6.000000</td>\n",
       "      <td>6.000000</td>\n",
       "    </tr>\n",
       "    <tr>\n",
       "      <th>mean</th>\n",
       "      <td>0.411201</td>\n",
       "      <td>0.488130</td>\n",
       "      <td>-0.273215</td>\n",
       "      <td>1.088433</td>\n",
       "    </tr>\n",
       "    <tr>\n",
       "      <th>std</th>\n",
       "      <td>0.840483</td>\n",
       "      <td>0.816517</td>\n",
       "      <td>0.246219</td>\n",
       "      <td>0.641643</td>\n",
       "    </tr>\n",
       "    <tr>\n",
       "      <th>min</th>\n",
       "      <td>-0.439568</td>\n",
       "      <td>-0.015198</td>\n",
       "      <td>-0.714252</td>\n",
       "      <td>0.164995</td>\n",
       "    </tr>\n",
       "    <tr>\n",
       "      <th>25%</th>\n",
       "      <td>-0.198676</td>\n",
       "      <td>-0.003527</td>\n",
       "      <td>-0.350415</td>\n",
       "      <td>0.800298</td>\n",
       "    </tr>\n",
       "    <tr>\n",
       "      <th>50%</th>\n",
       "      <td>0.254363</td>\n",
       "      <td>0.183233</td>\n",
       "      <td>-0.147411</td>\n",
       "      <td>0.988745</td>\n",
       "    </tr>\n",
       "    <tr>\n",
       "      <th>75%</th>\n",
       "      <td>0.777356</td>\n",
       "      <td>0.456857</td>\n",
       "      <td>-0.133049</td>\n",
       "      <td>1.543522</td>\n",
       "    </tr>\n",
       "    <tr>\n",
       "      <th>max</th>\n",
       "      <td>1.796053</td>\n",
       "      <td>2.095230</td>\n",
       "      <td>-0.083872</td>\n",
       "      <td>1.922182</td>\n",
       "    </tr>\n",
       "  </tbody>\n",
       "</table>\n",
       "</div>"
      ],
      "text/plain": [
       "              A         B         C         D\n",
       "count  6.000000  6.000000  6.000000  6.000000\n",
       "mean   0.411201  0.488130 -0.273215  1.088433\n",
       "std    0.840483  0.816517  0.246219  0.641643\n",
       "min   -0.439568 -0.015198 -0.714252  0.164995\n",
       "25%   -0.198676 -0.003527 -0.350415  0.800298\n",
       "50%    0.254363  0.183233 -0.147411  0.988745\n",
       "75%    0.777356  0.456857 -0.133049  1.543522\n",
       "max    1.796053  2.095230 -0.083872  1.922182"
      ]
     },
     "execution_count": 37,
     "metadata": {},
     "output_type": "execute_result"
    }
   ],
   "source": [
    "df.describe()"
   ]
  },
  {
   "cell_type": "code",
   "execution_count": 38,
   "metadata": {},
   "outputs": [
    {
     "data": {
      "text/html": [
       "<div>\n",
       "<style scoped>\n",
       "    .dataframe tbody tr th:only-of-type {\n",
       "        vertical-align: middle;\n",
       "    }\n",
       "\n",
       "    .dataframe tbody tr th {\n",
       "        vertical-align: top;\n",
       "    }\n",
       "\n",
       "    .dataframe thead th {\n",
       "        text-align: right;\n",
       "    }\n",
       "</style>\n",
       "<table border=\"1\" class=\"dataframe\">\n",
       "  <thead>\n",
       "    <tr style=\"text-align: right;\">\n",
       "      <th></th>\n",
       "      <th>2013-01-01 00:00:00</th>\n",
       "      <th>2013-01-02 00:00:00</th>\n",
       "      <th>2013-01-03 00:00:00</th>\n",
       "      <th>2013-01-04 00:00:00</th>\n",
       "      <th>2013-01-05 00:00:00</th>\n",
       "      <th>2013-01-06 00:00:00</th>\n",
       "    </tr>\n",
       "  </thead>\n",
       "  <tbody>\n",
       "    <tr>\n",
       "      <th>A</th>\n",
       "      <td>-0.439568</td>\n",
       "      <td>0.606654</td>\n",
       "      <td>-0.232259</td>\n",
       "      <td>0.834257</td>\n",
       "      <td>-0.097928</td>\n",
       "      <td>1.796053</td>\n",
       "    </tr>\n",
       "    <tr>\n",
       "      <th>B</th>\n",
       "      <td>0.485827</td>\n",
       "      <td>-0.003481</td>\n",
       "      <td>-0.015198</td>\n",
       "      <td>0.369947</td>\n",
       "      <td>-0.003542</td>\n",
       "      <td>2.095230</td>\n",
       "    </tr>\n",
       "    <tr>\n",
       "      <th>C</th>\n",
       "      <td>-0.142494</td>\n",
       "      <td>-0.714252</td>\n",
       "      <td>-0.416443</td>\n",
       "      <td>-0.083872</td>\n",
       "      <td>-0.129900</td>\n",
       "      <td>-0.152328</td>\n",
       "    </tr>\n",
       "    <tr>\n",
       "      <th>D</th>\n",
       "      <td>0.768197</td>\n",
       "      <td>1.922182</td>\n",
       "      <td>0.896601</td>\n",
       "      <td>1.080890</td>\n",
       "      <td>1.697733</td>\n",
       "      <td>0.164995</td>\n",
       "    </tr>\n",
       "  </tbody>\n",
       "</table>\n",
       "</div>"
      ],
      "text/plain": [
       "   2013-01-01  2013-01-02  2013-01-03  2013-01-04  2013-01-05  2013-01-06\n",
       "A   -0.439568    0.606654   -0.232259    0.834257   -0.097928    1.796053\n",
       "B    0.485827   -0.003481   -0.015198    0.369947   -0.003542    2.095230\n",
       "C   -0.142494   -0.714252   -0.416443   -0.083872   -0.129900   -0.152328\n",
       "D    0.768197    1.922182    0.896601    1.080890    1.697733    0.164995"
      ]
     },
     "execution_count": 38,
     "metadata": {},
     "output_type": "execute_result"
    }
   ],
   "source": [
    "# 转置\n",
    "df.T"
   ]
  },
  {
   "cell_type": "code",
   "execution_count": 48,
   "metadata": {},
   "outputs": [
    {
     "data": {
      "text/html": [
       "<div>\n",
       "<style scoped>\n",
       "    .dataframe tbody tr th:only-of-type {\n",
       "        vertical-align: middle;\n",
       "    }\n",
       "\n",
       "    .dataframe tbody tr th {\n",
       "        vertical-align: top;\n",
       "    }\n",
       "\n",
       "    .dataframe thead th {\n",
       "        text-align: right;\n",
       "    }\n",
       "</style>\n",
       "<table border=\"1\" class=\"dataframe\">\n",
       "  <thead>\n",
       "    <tr style=\"text-align: right;\">\n",
       "      <th></th>\n",
       "      <th>D</th>\n",
       "      <th>C</th>\n",
       "      <th>B</th>\n",
       "      <th>A</th>\n",
       "    </tr>\n",
       "  </thead>\n",
       "  <tbody>\n",
       "    <tr>\n",
       "      <th>2013-01-01</th>\n",
       "      <td>0.768197</td>\n",
       "      <td>-0.142494</td>\n",
       "      <td>0.485827</td>\n",
       "      <td>-0.439568</td>\n",
       "    </tr>\n",
       "    <tr>\n",
       "      <th>2013-01-02</th>\n",
       "      <td>1.922182</td>\n",
       "      <td>-0.714252</td>\n",
       "      <td>-0.003481</td>\n",
       "      <td>0.606654</td>\n",
       "    </tr>\n",
       "    <tr>\n",
       "      <th>2013-01-03</th>\n",
       "      <td>0.896601</td>\n",
       "      <td>-0.416443</td>\n",
       "      <td>-0.015198</td>\n",
       "      <td>-0.232259</td>\n",
       "    </tr>\n",
       "    <tr>\n",
       "      <th>2013-01-04</th>\n",
       "      <td>1.080890</td>\n",
       "      <td>-0.083872</td>\n",
       "      <td>0.369947</td>\n",
       "      <td>0.834257</td>\n",
       "    </tr>\n",
       "    <tr>\n",
       "      <th>2013-01-05</th>\n",
       "      <td>1.697733</td>\n",
       "      <td>-0.129900</td>\n",
       "      <td>-0.003542</td>\n",
       "      <td>-0.097928</td>\n",
       "    </tr>\n",
       "    <tr>\n",
       "      <th>2013-01-06</th>\n",
       "      <td>0.164995</td>\n",
       "      <td>-0.152328</td>\n",
       "      <td>2.095230</td>\n",
       "      <td>1.796053</td>\n",
       "    </tr>\n",
       "  </tbody>\n",
       "</table>\n",
       "</div>"
      ],
      "text/plain": [
       "                   D         C         B         A\n",
       "2013-01-01  0.768197 -0.142494  0.485827 -0.439568\n",
       "2013-01-02  1.922182 -0.714252 -0.003481  0.606654\n",
       "2013-01-03  0.896601 -0.416443 -0.015198 -0.232259\n",
       "2013-01-04  1.080890 -0.083872  0.369947  0.834257\n",
       "2013-01-05  1.697733 -0.129900 -0.003542 -0.097928\n",
       "2013-01-06  0.164995 -0.152328  2.095230  1.796053"
      ]
     },
     "execution_count": 48,
     "metadata": {},
     "output_type": "execute_result"
    }
   ],
   "source": [
    "# 对轴进行排序 axis 影响列索引 ascending 影响行索引 正序倒序\n",
    "df.sort_index(axis=1, ascending=False)"
   ]
  },
  {
   "cell_type": "code",
   "execution_count": 57,
   "metadata": {},
   "outputs": [
    {
     "data": {
      "text/html": [
       "<div>\n",
       "<style scoped>\n",
       "    .dataframe tbody tr th:only-of-type {\n",
       "        vertical-align: middle;\n",
       "    }\n",
       "\n",
       "    .dataframe tbody tr th {\n",
       "        vertical-align: top;\n",
       "    }\n",
       "\n",
       "    .dataframe thead th {\n",
       "        text-align: right;\n",
       "    }\n",
       "</style>\n",
       "<table border=\"1\" class=\"dataframe\">\n",
       "  <thead>\n",
       "    <tr style=\"text-align: right;\">\n",
       "      <th></th>\n",
       "      <th>A</th>\n",
       "      <th>B</th>\n",
       "      <th>C</th>\n",
       "      <th>D</th>\n",
       "    </tr>\n",
       "  </thead>\n",
       "  <tbody>\n",
       "    <tr>\n",
       "      <th>2013-01-03</th>\n",
       "      <td>-0.232259</td>\n",
       "      <td>-0.015198</td>\n",
       "      <td>-0.416443</td>\n",
       "      <td>0.896601</td>\n",
       "    </tr>\n",
       "    <tr>\n",
       "      <th>2013-01-05</th>\n",
       "      <td>-0.097928</td>\n",
       "      <td>-0.003542</td>\n",
       "      <td>-0.129900</td>\n",
       "      <td>1.697733</td>\n",
       "    </tr>\n",
       "    <tr>\n",
       "      <th>2013-01-02</th>\n",
       "      <td>0.606654</td>\n",
       "      <td>-0.003481</td>\n",
       "      <td>-0.714252</td>\n",
       "      <td>1.922182</td>\n",
       "    </tr>\n",
       "    <tr>\n",
       "      <th>2013-01-04</th>\n",
       "      <td>0.834257</td>\n",
       "      <td>0.369947</td>\n",
       "      <td>-0.083872</td>\n",
       "      <td>1.080890</td>\n",
       "    </tr>\n",
       "    <tr>\n",
       "      <th>2013-01-01</th>\n",
       "      <td>-0.439568</td>\n",
       "      <td>0.485827</td>\n",
       "      <td>-0.142494</td>\n",
       "      <td>0.768197</td>\n",
       "    </tr>\n",
       "    <tr>\n",
       "      <th>2013-01-06</th>\n",
       "      <td>1.796053</td>\n",
       "      <td>2.095230</td>\n",
       "      <td>-0.152328</td>\n",
       "      <td>0.164995</td>\n",
       "    </tr>\n",
       "  </tbody>\n",
       "</table>\n",
       "</div>"
      ],
      "text/plain": [
       "                   A         B         C         D\n",
       "2013-01-03 -0.232259 -0.015198 -0.416443  0.896601\n",
       "2013-01-05 -0.097928 -0.003542 -0.129900  1.697733\n",
       "2013-01-02  0.606654 -0.003481 -0.714252  1.922182\n",
       "2013-01-04  0.834257  0.369947 -0.083872  1.080890\n",
       "2013-01-01 -0.439568  0.485827 -0.142494  0.768197\n",
       "2013-01-06  1.796053  2.095230 -0.152328  0.164995"
      ]
     },
     "execution_count": 57,
     "metadata": {},
     "output_type": "execute_result"
    }
   ],
   "source": [
    "# 按值进行排序\n",
    "df.sort_values(by=['B'])"
   ]
  },
  {
   "cell_type": "code",
   "execution_count": null,
   "metadata": {},
   "outputs": [],
   "source": []
  },
  {
   "cell_type": "code",
   "execution_count": null,
   "metadata": {},
   "outputs": [],
   "source": []
  },
  {
   "cell_type": "code",
   "execution_count": null,
   "metadata": {},
   "outputs": [],
   "source": []
  },
  {
   "cell_type": "code",
   "execution_count": null,
   "metadata": {},
   "outputs": [],
   "source": []
  },
  {
   "cell_type": "code",
   "execution_count": null,
   "metadata": {},
   "outputs": [],
   "source": []
  },
  {
   "cell_type": "code",
   "execution_count": null,
   "metadata": {},
   "outputs": [],
   "source": []
  }
 ],
 "metadata": {
  "kernelspec": {
   "display_name": "Python 3",
   "language": "python",
   "name": "python3"
  },
  "language_info": {
   "codemirror_mode": {
    "name": "ipython",
    "version": 3
   },
   "file_extension": ".py",
   "mimetype": "text/x-python",
   "name": "python",
   "nbconvert_exporter": "python",
   "pygments_lexer": "ipython3",
   "version": "3.5.2"
  }
 },
 "nbformat": 4,
 "nbformat_minor": 2
}
