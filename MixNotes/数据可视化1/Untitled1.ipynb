{
 "cells": [
  {
   "cell_type": "code",
   "execution_count": 2,
   "metadata": {},
   "outputs": [
    {
     "name": "stdout",
     "output_type": "stream",
     "text": [
      "Largest eigenvalue: 1.5924883467789368\n",
      "Smallest eigenvalue: -2.2814731887391497e-16\n"
     ]
    },
    {
     "data": {
      "image/png": "[encoded data removed]",
      "text/plain": [
       "<Figure size 432x288 with 1 Axes>"
      ]
     },
     "metadata": {
      "needs_background": "light"
     },
     "output_type": "display_data"
    }
   ],
   "source": [
    "import networkx as nx\n",
    "import numpy.linalg\n",
    "import matplotlib.pyplot as plt\n",
    "\n",
    "n = 1000 # 1000 nodes\n",
    "m = 5000 # 5000 edges\n",
    "G = nx.gnm_random_graph(n,m)\n",
    "\n",
    "L = nx.normalized_laplacian_matrix(G)\n",
    "e = numpy.linalg.eigvals(L.A)\n",
    "print(\"Largest eigenvalue:\", max(e))\n",
    "print(\"Smallest eigenvalue:\", min(e))\n",
    "plt.hist(e,bins=100) # histogram with 100 bins\n",
    "plt.xlim(0,2)  # eigenvalues between 0 and 2\n",
    "plt.show()"
   ]
  },
  {
   "cell_type": "code",
   "execution_count": null,
   "metadata": {},
   "outputs": [],
   "source": []
  },
  {
   "cell_type": "code",
   "execution_count": 3,
   "metadata": {},
   "outputs": [
    {
     "ename": "ModuleNotFoundError",
     "evalue": "No module named 'enthought'",
     "output_type": "error",
     "traceback": [
      "\u001b[0;31m---------------------------------------------------------------------------\u001b[0m",
      "\u001b[0;31mModuleNotFoundError\u001b[0m                       Traceback (most recent call last)",
      "\u001b[0;32m<ipython-input-3-56dbd9ce8ee5>\u001b[0m in \u001b[0;36m<module>\u001b[0;34m\u001b[0m\n\u001b[1;32m      3\u001b[0m \u001b[0;32mimport\u001b[0m \u001b[0mnetworkx\u001b[0m \u001b[0;32mas\u001b[0m \u001b[0mnx\u001b[0m\u001b[0;34m\u001b[0m\u001b[0m\n\u001b[1;32m      4\u001b[0m \u001b[0;32mimport\u001b[0m \u001b[0mnumpy\u001b[0m \u001b[0;32mas\u001b[0m \u001b[0mnp\u001b[0m\u001b[0;34m\u001b[0m\u001b[0m\n\u001b[0;32m----> 5\u001b[0;31m \u001b[0;32mfrom\u001b[0m \u001b[0menthought\u001b[0m\u001b[0;34m.\u001b[0m\u001b[0mmayavi\u001b[0m \u001b[0;32mimport\u001b[0m \u001b[0mmlab\u001b[0m\u001b[0;34m\u001b[0m\u001b[0m\n\u001b[0m\u001b[1;32m      6\u001b[0m \u001b[0;34m\u001b[0m\u001b[0m\n\u001b[1;32m      7\u001b[0m \u001b[0;31m# some graphs to try\u001b[0m\u001b[0;34m\u001b[0m\u001b[0;34m\u001b[0m\u001b[0m\n",
      "\u001b[0;31mModuleNotFoundError\u001b[0m: No module named 'enthought'"
     ]
    }
   ],
   "source": [
    "# needs mayavi2\n",
    "# run with ipython -wthread\n",
    "import networkx as nx\n",
    "import numpy as np\n",
    "from enthought.mayavi import mlab\n",
    "\n",
    "# some graphs to try\n",
    "#H=nx.krackhardt_kite_graph()\n",
    "#H=nx.Graph();H.add_edge('a','b');H.add_edge('a','c');H.add_edge('a','d')\n",
    "#H=nx.grid_2d_graph(4,5)\n",
    "H=nx.cycle_graph(20)\n",
    "\n",
    "# reorder nodes from 0,len(G)-1\n",
    "G=nx.convert_node_labels_to_integers(H)\n",
    "# 3d spring layout\n",
    "pos=nx.spring_layout(G,dim=3)\n",
    "# numpy array of x,y,z positions in sorted node order\n",
    "xyz=np.array([pos[v] for v in sorted(G)])\n",
    "# scalar colors\n",
    "scalars=np.array(G.nodes())+5\n",
    "\n",
    "mlab.figure(1, bgcolor=(0, 0, 0))\n",
    "mlab.clf()\n",
    "\n",
    "pts = mlab.points3d(xyz[:,0], xyz[:,1], xyz[:,2],\n",
    "                    scalars,\n",
    "                    scale_factor=0.1,\n",
    "                    scale_mode='none',\n",
    "                    colormap='Blues',\n",
    "                    resolution=20)\n",
    "\n",
    "pts.mlab_source.dataset.lines = np.array(G.edges())\n",
    "tube = mlab.pipeline.tube(pts, tube_radius=0.01)\n",
    "mlab.pipeline.surface(tube, color=(0.8, 0.8, 0.8))\n",
    "\n",
    "mlab.savefig('mayavi2_spring.png')\n",
    "mlab.show() # interactive window"
   ]
  },
  {
   "cell_type": "code",
   "execution_count": null,
   "metadata": {},
   "outputs": [],
   "source": []
  }
 ],
 "metadata": {
  "kernelspec": {
   "display_name": "Python 3",
   "language": "python",
   "name": "python3"
  },
  "language_info": {
   "codemirror_mode": {
    "name": "ipython",
    "version": 3
   },
   "file_extension": ".py",
   "mimetype": "text/x-python",
   "name": "python",
   "nbconvert_exporter": "python",
   "pygments_lexer": "ipython3",
   "version": "3.6.5"
  }
 },
 "nbformat": 4,
 "nbformat_minor": 2
}
