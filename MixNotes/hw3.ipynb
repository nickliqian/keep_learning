{
 "cells": [
  {
   "cell_type": "code",
   "execution_count": 12,
   "metadata": {},
   "outputs": [
    {
     "data": {
      "text/html": [
       "<div>\n",
       "<style scoped>\n",
       "    .dataframe tbody tr th:only-of-type {\n",
       "        vertical-align: middle;\n",
       "    }\n",
       "\n",
       "    .dataframe tbody tr th {\n",
       "        vertical-align: top;\n",
       "    }\n",
       "\n",
       "    .dataframe thead th {\n",
       "        text-align: right;\n",
       "    }\n",
       "</style>\n",
       "<table border=\"1\" class=\"dataframe\">\n",
       "  <thead>\n",
       "    <tr style=\"text-align: right;\">\n",
       "      <th></th>\n",
       "      <th>stfips</th>\n",
       "      <th>COUNTY_NAME</th>\n",
       "      <th>STATE</th>\n",
       "      <th>fips</th>\n",
       "      <th>A_PM10_mean</th>\n",
       "      <th>A_PM25_mean</th>\n",
       "      <th>A_SO2_mean</th>\n",
       "      <th>A_NO2_mean</th>\n",
       "      <th>A_CO_mean</th>\n",
       "      <th>Per_TotPopSS_ave</th>\n",
       "      <th>...</th>\n",
       "      <th>Rented</th>\n",
       "      <th>Vacant</th>\n",
       "      <th>House_price</th>\n",
       "      <th>Median_Income</th>\n",
       "      <th>Poverty_rate</th>\n",
       "      <th>No_English</th>\n",
       "      <th>HSgraduates</th>\n",
       "      <th>Unemployment</th>\n",
       "      <th>med_rooms</th>\n",
       "      <th>Violance_index</th>\n",
       "    </tr>\n",
       "  </thead>\n",
       "  <tbody>\n",
       "    <tr>\n",
       "      <td>0</td>\n",
       "      <td>1001</td>\n",
       "      <td>Autauga County</td>\n",
       "      <td>AL</td>\n",
       "      <td>1001</td>\n",
       "      <td>15.072996</td>\n",
       "      <td>12.058188</td>\n",
       "      <td>10.661088</td>\n",
       "      <td>123.657648</td>\n",
       "      <td>4.463225</td>\n",
       "      <td>10.82</td>\n",
       "      <td>...</td>\n",
       "      <td>19.17141</td>\n",
       "      <td>9.393047</td>\n",
       "      <td>94800</td>\n",
       "      <td>42013</td>\n",
       "      <td>10.9</td>\n",
       "      <td>2.8</td>\n",
       "      <td>78.7</td>\n",
       "      <td>4.9</td>\n",
       "      <td>5.8</td>\n",
       "      <td>428.29999</td>\n",
       "    </tr>\n",
       "    <tr>\n",
       "      <td>1</td>\n",
       "      <td>1003</td>\n",
       "      <td>Baldwin County</td>\n",
       "      <td>AL</td>\n",
       "      <td>1003</td>\n",
       "      <td>19.994603</td>\n",
       "      <td>11.119909</td>\n",
       "      <td>17.146847</td>\n",
       "      <td>247.742253</td>\n",
       "      <td>12.875833</td>\n",
       "      <td>19.58</td>\n",
       "      <td>...</td>\n",
       "      <td>20.42070</td>\n",
       "      <td>25.508510</td>\n",
       "      <td>122500</td>\n",
       "      <td>40250</td>\n",
       "      <td>10.1</td>\n",
       "      <td>4.0</td>\n",
       "      <td>82.0</td>\n",
       "      <td>4.3</td>\n",
       "      <td>5.3</td>\n",
       "      <td>482.54999</td>\n",
       "    </tr>\n",
       "    <tr>\n",
       "      <td>2</td>\n",
       "      <td>1005</td>\n",
       "      <td>Barbour County</td>\n",
       "      <td>AL</td>\n",
       "      <td>1005</td>\n",
       "      <td>15.772306</td>\n",
       "      <td>12.360454</td>\n",
       "      <td>23.257118</td>\n",
       "      <td>183.193624</td>\n",
       "      <td>19.620539</td>\n",
       "      <td>15.12</td>\n",
       "      <td>...</td>\n",
       "      <td>26.84216</td>\n",
       "      <td>16.467380</td>\n",
       "      <td>68600</td>\n",
       "      <td>25101</td>\n",
       "      <td>26.8</td>\n",
       "      <td>3.6</td>\n",
       "      <td>64.7</td>\n",
       "      <td>5.7</td>\n",
       "      <td>5.3</td>\n",
       "      <td>342.10001</td>\n",
       "    </tr>\n",
       "    <tr>\n",
       "      <td>3</td>\n",
       "      <td>1007</td>\n",
       "      <td>Bibb County</td>\n",
       "      <td>AL</td>\n",
       "      <td>1007</td>\n",
       "      <td>14.921319</td>\n",
       "      <td>12.239906</td>\n",
       "      <td>7.630953</td>\n",
       "      <td>127.779935</td>\n",
       "      <td>2.951976</td>\n",
       "      <td>10.53</td>\n",
       "      <td>...</td>\n",
       "      <td>19.80865</td>\n",
       "      <td>11.072500</td>\n",
       "      <td>74600</td>\n",
       "      <td>31420</td>\n",
       "      <td>20.6</td>\n",
       "      <td>1.8</td>\n",
       "      <td>63.2</td>\n",
       "      <td>6.2</td>\n",
       "      <td>5.4</td>\n",
       "      <td>502.25555</td>\n",
       "    </tr>\n",
       "    <tr>\n",
       "      <td>4</td>\n",
       "      <td>1009</td>\n",
       "      <td>Blount County</td>\n",
       "      <td>AL</td>\n",
       "      <td>1009</td>\n",
       "      <td>17.895015</td>\n",
       "      <td>12.974281</td>\n",
       "      <td>8.913795</td>\n",
       "      <td>95.198094</td>\n",
       "      <td>9.362215</td>\n",
       "      <td>16.23</td>\n",
       "      <td>...</td>\n",
       "      <td>16.51181</td>\n",
       "      <td>8.946970</td>\n",
       "      <td>86800</td>\n",
       "      <td>35241</td>\n",
       "      <td>11.7</td>\n",
       "      <td>5.6</td>\n",
       "      <td>70.4</td>\n",
       "      <td>4.8</td>\n",
       "      <td>5.5</td>\n",
       "      <td>0.00000</td>\n",
       "    </tr>\n",
       "  </tbody>\n",
       "</table>\n",
       "<p>5 rows × 28 columns</p>\n",
       "</div>"
      ],
      "text/plain": [
       "   stfips     COUNTY_NAME STATE  fips  A_PM10_mean  A_PM25_mean  A_SO2_mean  \\\n",
       "0    1001  Autauga County    AL  1001    15.072996    12.058188   10.661088   \n",
       "1    1003  Baldwin County    AL  1003    19.994603    11.119909   17.146847   \n",
       "2    1005  Barbour County    AL  1005    15.772306    12.360454   23.257118   \n",
       "3    1007     Bibb County    AL  1007    14.921319    12.239906    7.630953   \n",
       "4    1009   Blount County    AL  1009    17.895015    12.974281    8.913795   \n",
       "\n",
       "   A_NO2_mean  A_CO_mean  Per_TotPopSS_ave  ...    Rented     Vacant  \\\n",
       "0  123.657648   4.463225             10.82  ...  19.17141   9.393047   \n",
       "1  247.742253  12.875833             19.58  ...  20.42070  25.508510   \n",
       "2  183.193624  19.620539             15.12  ...  26.84216  16.467380   \n",
       "3  127.779935   2.951976             10.53  ...  19.80865  11.072500   \n",
       "4   95.198094   9.362215             16.23  ...  16.51181   8.946970   \n",
       "\n",
       "   House_price  Median_Income  Poverty_rate  No_English  HSgraduates  \\\n",
       "0        94800          42013          10.9         2.8         78.7   \n",
       "1       122500          40250          10.1         4.0         82.0   \n",
       "2        68600          25101          26.8         3.6         64.7   \n",
       "3        74600          31420          20.6         1.8         63.2   \n",
       "4        86800          35241          11.7         5.6         70.4   \n",
       "\n",
       "   Unemployment  med_rooms  Violance_index  \n",
       "0           4.9        5.8       428.29999  \n",
       "1           4.3        5.3       482.54999  \n",
       "2           5.7        5.3       342.10001  \n",
       "3           6.2        5.4       502.25555  \n",
       "4           4.8        5.5         0.00000  \n",
       "\n",
       "[5 rows x 28 columns]"
      ]
     },
     "execution_count": 12,
     "metadata": {},
     "output_type": "execute_result"
    }
   ],
   "source": [
    "# Load Housing data\n",
    "#from __future__ import division, print_function, unicode_literals\n",
    "\n",
    "# Common imports\n",
    "import numpy as np\n",
    "import os\n",
    "import pandas as pd\n",
    "# to make this notebook's output stable across runs\n",
    "np.random.seed(42)\n",
    "\n",
    "# To plot pretty figures\n",
    "%matplotlib inline\n",
    "import matplotlib\n",
    "import matplotlib.pyplot as plt\n",
    "plt.rcParams['axes.labelsize'] = 14\n",
    "plt.rcParams['xtick.labelsize'] = 12\n",
    "plt.rcParams['ytick.labelsize'] = 12\n",
    "\n",
    "# Where to save the figures\n",
    "PROJECT_ROOT_DIR = \".\"\n",
    "CHAPTER_ID = \"end_to_end_project\"\n",
    "IMAGES_PATH = os.path.join(PROJECT_ROOT_DIR, \"images\", CHAPTER_ID)\n",
    "\n",
    "def save_fig(fig_id, tight_layout=True, fig_extension=\"png\", resolution=300):\n",
    "    path = os.path.join(IMAGES_PATH, fig_id + \".\" + fig_extension)\n",
    "    print(\"Saving figure\", fig_id)\n",
    "    if tight_layout:\n",
    "        plt.tight_layout()\n",
    "    plt.savefig(path, format=fig_extension, dpi=resolution)\n",
    "\n",
    "# Ignore useless warnings (see SciPy issue #5998)\n",
    "import warnings\n",
    "warnings.filterwarnings(action=\"ignore\", module=\"scipy\", message=\"^internal gelsd\")\n",
    "\n",
    "\n",
    "#from __future__ import division, print_function, unicode_literals\n",
    "\n",
    "# Common imports\n",
    "import numpy as np\n",
    "import os\n",
    "import tarfile\n",
    "from six.moves import urllib\n",
    "# to make this notebook's output stable across runs\n",
    "np.random.seed(42)\n",
    "import os\n",
    "import tarfile\n",
    "from six.moves import urllib\n",
    "\n",
    "DOWNLOAD_ROOT = \"https://raw.githubusercontent.com/ageron/handson-ml/master/\"\n",
    "ENVIROMENT_PATH = pd.read_csv(\"enviroment.csv\",thousands=',')\n",
    "\n",
    "def load_enviroment_data(enviroment_path):\n",
    "    csv_path = os.path.join(enviroment_path, \"enviroment.csv\")\n",
    "    return pd.read_csv(csv_path)\n",
    "enviroment = load_enviroment_data(\"/Users/yingshandeng/Desktop/python/hw/3/\")\n",
    "enviroment.head()"
   ]
  },
  {
   "cell_type": "code",
   "execution_count": null,
   "metadata": {},
   "outputs": [],
   "source": []
  },
  {
   "cell_type": "code",
   "execution_count": 6,
   "metadata": {},
   "outputs": [
    {
     "name": "stdout",
     "output_type": "stream",
     "text": [
      "<class 'pandas.core.frame.DataFrame'>\n",
      "RangeIndex: 3141 entries, 0 to 3140\n",
      "Data columns (total 28 columns):\n",
      "stfips              3141 non-null int64\n",
      "COUNTY_NAME         3141 non-null object\n",
      "STATE               3141 non-null object\n",
      "fips                3141 non-null int64\n",
      "A_PM10_mean         3141 non-null float64\n",
      "A_PM25_mean         3141 non-null float64\n",
      "A_SO2_mean          3141 non-null float64\n",
      "A_NO2_mean          3141 non-null float64\n",
      "A_CO_mean           3141 non-null float64\n",
      "Per_TotPopSS_ave    3141 non-null float64\n",
      "SO4Ave              3141 non-null float64\n",
      "HgAve               3141 non-null float64\n",
      "AvgOfD3_ave         3141 non-null float64\n",
      "MEAN_AS             3141 non-null float64\n",
      "MEAN_HG             3141 non-null float64\n",
      "MEAN_PB             3141 non-null float64\n",
      "fatal_rate          3141 non-null float64\n",
      "Population          3141 non-null int64\n",
      "Rented              3141 non-null float64\n",
      "Vacant              3141 non-null float64\n",
      "House_price         3141 non-null int64\n",
      "Median_Income       3141 non-null int64\n",
      "Poverty_rate        3141 non-null float64\n",
      "No_English          3141 non-null float64\n",
      "HSgraduates         3141 non-null float64\n",
      "Unemployment        3141 non-null float64\n",
      "med_rooms           3141 non-null float64\n",
      "Violance_index      3141 non-null float64\n",
      "dtypes: float64(21), int64(5), object(2)\n",
      "memory usage: 687.2+ KB\n"
     ]
    }
   ],
   "source": [
    "enviroment.info()"
   ]
  },
  {
   "cell_type": "markdown",
   "metadata": {},
   "source": [
    "1. Show correlation matrix between house price and pollution indicators A_PM10_mean , A_PM25_mean, A_SO2_mean, A_NO2_mean, A_CO_mean. What can you say about correlation between house price and pollution?"
   ]
  },
  {
   "cell_type": "code",
   "execution_count": 18,
   "metadata": {},
   "outputs": [
    {
     "data": {
      "text/plain": [
       "array([[<matplotlib.axes._subplots.AxesSubplot object at 0x122a12150>,\n",
       "        <matplotlib.axes._subplots.AxesSubplot object at 0x122c1d350>,\n",
       "        <matplotlib.axes._subplots.AxesSubplot object at 0x122c8ae10>,\n",
       "        <matplotlib.axes._subplots.AxesSubplot object at 0x11fd0a650>],\n",
       "       [<matplotlib.axes._subplots.AxesSubplot object at 0x11fd3de50>,\n",
       "        <matplotlib.axes._subplots.AxesSubplot object at 0x11fd7e690>,\n",
       "        <matplotlib.axes._subplots.AxesSubplot object at 0x11fdb2e90>,\n",
       "        <matplotlib.axes._subplots.AxesSubplot object at 0x11fdf26d0>],\n",
       "       [<matplotlib.axes._subplots.AxesSubplot object at 0x11fdfe250>,\n",
       "        <matplotlib.axes._subplots.AxesSubplot object at 0x11fe30bd0>,\n",
       "        <matplotlib.axes._subplots.AxesSubplot object at 0x11fe9af10>,\n",
       "        <matplotlib.axes._subplots.AxesSubplot object at 0x11fedb750>],\n",
       "       [<matplotlib.axes._subplots.AxesSubplot object at 0x11ff0ff50>,\n",
       "        <matplotlib.axes._subplots.AxesSubplot object at 0x11ff51790>,\n",
       "        <matplotlib.axes._subplots.AxesSubplot object at 0x11ff85f90>,\n",
       "        <matplotlib.axes._subplots.AxesSubplot object at 0x11ffc67d0>]],\n",
       "      dtype=object)"
      ]
     },
     "execution_count": 18,
     "metadata": {},
     "output_type": "execute_result"
    },
    {
     "data": {
      "image/png": "[encoded data removed]",
      "text/plain": [
       "<Figure size 720x432 with 16 Axes>"
      ]
     },
     "metadata": {
      "needs_background": "light"
     },
     "output_type": "display_data"
    }
   ],
   "source": [
    "from pandas.plotting import scatter_matrix\n",
    "attributes = [\"House_price\", \"A_PM10_mean\", \"A_PM25_mean\", \"MEAN_PB\"]\n",
    "scatter_matrix(enviroment[attributes], figsize=(10, 6))"
   ]
  },
  {
   "cell_type": "code",
   "execution_count": 19,
   "metadata": {},
   "outputs": [
    {
     "data": {
      "text/plain": [
       "House_price         1.000000\n",
       "Median_Income       0.703662\n",
       "HSgraduates         0.407969\n",
       "Population          0.341290\n",
       "A_PM10_mean         0.340191\n",
       "Rented              0.270670\n",
       "MEAN_PB             0.239538\n",
       "A_NO2_mean          0.207452\n",
       "MEAN_HG             0.180929\n",
       "No_English          0.139897\n",
       "A_CO_mean           0.111495\n",
       "med_rooms           0.061444\n",
       "A_SO2_mean          0.060931\n",
       "A_PM25_mean         0.052065\n",
       "AvgOfD3_ave         0.047299\n",
       "MEAN_AS            -0.007468\n",
       "Per_TotPopSS_ave   -0.064849\n",
       "SO4Ave             -0.074284\n",
       "fips               -0.082239\n",
       "stfips             -0.082239\n",
       "Violance_index     -0.096094\n",
       "Vacant             -0.110405\n",
       "Unemployment       -0.117430\n",
       "fatal_rate         -0.159060\n",
       "HgAve              -0.203038\n",
       "Poverty_rate       -0.387343\n",
       "Name: House_price, dtype: float64"
      ]
     },
     "execution_count": 19,
     "metadata": {},
     "output_type": "execute_result"
    }
   ],
   "source": [
    "corr_matrix = enviroment.corr()\n",
    "corr_matrix[\"House_price\"].sort_values(ascending=False)"
   ]
  },
  {
   "cell_type": "markdown",
   "metadata": {},
   "source": [
    "Problem 2 <br>\n",
    "a. Create variables: log(population) and the interaction  PM =  A_PM10_mean  * A_PM25_mean.   <br>\n",
    "b. Drop [stfips', 'COUNTY_NAME','fips'] <br>\n",
    "c. Create binary variable for each State <br>\n",
    "d. move  House_price to the first column <br>"
   ]
  },
  {
   "cell_type": "code",
   "execution_count": null,
   "metadata": {},
   "outputs": [],
   "source": [
    "cols = ['House_price'] + [col for col in enviroment if col != 'House_price'] enviroment = enviroment[cols]"
   ]
  },
  {
   "cell_type": "code",
   "execution_count": 20,
   "metadata": {},
   "outputs": [],
   "source": [
    "enviroment[\"ln_pop\"] = np.log(enviroment[\"Population\"])\n",
    "enviroment[\"PM_int\"] = enviroment[\"A_PM10_mean\"] * enviroment[\"A_PM25_mean\"] \n",
    "enviroment = enviroment.drop([\"stfips\", \"COUNTY_NAME\",\"fips\"], axis = 1)\n",
    "cols = ['House_price'] + [col for col in enviroment if col != 'House_price'] \n",
    "enviroment = enviroment[cols]"
   ]
  },
  {
   "cell_type": "code",
   "execution_count": 21,
   "metadata": {},
   "outputs": [
    {
     "data": {
      "text/plain": [
       "['A_PM10_mean',\n",
       " 'A_PM25_mean',\n",
       " 'A_SO2_mean',\n",
       " 'A_NO2_mean',\n",
       " 'A_CO_mean',\n",
       " 'Per_TotPopSS_ave',\n",
       " 'SO4Ave',\n",
       " 'HgAve',\n",
       " 'AvgOfD3_ave',\n",
       " 'MEAN_AS',\n",
       " 'MEAN_HG',\n",
       " 'MEAN_PB',\n",
       " 'fatal_rate',\n",
       " 'Population',\n",
       " 'Rented',\n",
       " 'Vacant',\n",
       " 'Median_Income',\n",
       " 'Poverty_rate',\n",
       " 'No_English',\n",
       " 'HSgraduates',\n",
       " 'Unemployment',\n",
       " 'med_rooms',\n",
       " 'Violance_index',\n",
       " 'ln_pop',\n",
       " 'PM_int']"
      ]
     },
     "execution_count": 21,
     "metadata": {},
     "output_type": "execute_result"
    }
   ],
   "source": [
    "full_atrib = list(enviroment.columns.values)[2:]\n",
    "full_atrib"
   ]
  },
  {
   "cell_type": "markdown",
   "metadata": {},
   "source": [
    "3. Create and run a pipeline that standardize the data"
   ]
  },
  {
   "cell_type": "code",
   "execution_count": 23,
   "metadata": {},
   "outputs": [],
   "source": [
    "env_num = enviroment.drop('STATE', axis=1)\n",
    "env_cat = enviroment['STATE']"
   ]
  },
  {
   "cell_type": "code",
   "execution_count": 25,
   "metadata": {},
   "outputs": [
    {
     "ename": "IndentationError",
     "evalue": "expected an indented block (<ipython-input-25-aba324e5f767>, line 4)",
     "output_type": "error",
     "traceback": [
      "\u001b[0;36m  File \u001b[0;32m\"<ipython-input-25-aba324e5f767>\"\u001b[0;36m, line \u001b[0;32m4\u001b[0m\n\u001b[0;31m    self.encoder = LabelBinarizer(*args, **kwargs)\u001b[0m\n\u001b[0m       ^\u001b[0m\n\u001b[0;31mIndentationError\u001b[0m\u001b[0;31m:\u001b[0m expected an indented block\n"
     ]
    }
   ],
   "source": [
    "from sklearn.base import TransformerMixin\n",
    "class MyLabelBinarizer(TransformerMixin):\n",
    "def __init__(self, *args, **kwargs):\n",
    "self.encoder = LabelBinarizer(*args, **kwargs)\n",
    "def fit(self, x, y=0): self.encoder.fit(x) return self\n",
    "def transform(self, x, y=0):\n",
    "return self.encoder.transform(x)\n",
    "from sklearn.base import BaseEstimator, TransformerMixin\n",
    "\n",
    "class DataFrameSelector(BaseEstimator, TransformerMixin):\n",
    "def __init__(self, attribute_names): self.attribute_names = attribute_names\n",
    "def fit(self, X, y=None): return self\n",
    "def transform(self, X):\n",
    "return X[self.attribute_names].values"
   ]
  },
  {
   "cell_type": "code",
   "execution_count": null,
   "metadata": {},
   "outputs": [],
   "source": [
    "from sklearn.pipeline import Pipeline\n",
    "from sklearn.preprocessing import StandardScaler from sklearn.preprocessing import LabelBinarizer\n",
    "cat_attribs = [\"STATE\"]\n",
    "         num_pipeline = Pipeline([\n",
    "                 ('selector', DataFrameSelector(num_attribs)),\n",
    "                 ('std_scaler', StandardScaler()),\n",
    "])\n",
    "         cat_pipeline = Pipeline([\n",
    "                 ('selector', DataFrameSelector(cat_attribs)),\n",
    "                 ('lab_encoder',  MyLabelBinarizer()),\n",
    "])"
   ]
  },
  {
   "cell_type": "code",
   "execution_count": 27,
   "metadata": {},
   "outputs": [
    {
     "ename": "IndentationError",
     "evalue": "unindent does not match any outer indentation level (<tokenize>, line 4)",
     "output_type": "error",
     "traceback": [
      "\u001b[0;36m  File \u001b[0;32m\"<tokenize>\"\u001b[0;36m, line \u001b[0;32m4\u001b[0m\n\u001b[0;31m    ])\u001b[0m\n\u001b[0m    ^\u001b[0m\n\u001b[0;31mIndentationError\u001b[0m\u001b[0;31m:\u001b[0m unindent does not match any outer indentation level\n"
     ]
    }
   ],
   "source": [
    "from sklearn.pipeline import FeatureUnion\n",
    "                 (\"num_pipeline\", num_pipeline),\n",
    "                 (\"cat_pipeline\", cat_pipeline),\n",
    "             ])"
   ]
  },
  {
   "cell_type": "code",
   "execution_count": null,
   "metadata": {},
   "outputs": [],
   "source": [
    "env_prepared = full_pipeline.fit_transform(enviroment)\n",
    "         np.shape(env_prepared)"
   ]
  },
  {
   "cell_type": "markdown",
   "metadata": {},
   "source": [
    "Problem 4. Using cross validation with 5 folds predict house price and report RMSE using linear regression with and without State indicators. Which one is better? Use random_state = 42"
   ]
  },
  {
   "cell_type": "code",
   "execution_count": null,
   "metadata": {},
   "outputs": [],
   "source": [
    "from sklearn.linear_model import LinearRegression \n",
    "lin_reg = LinearRegression(random_state=42)\n",
    "from sklearn.metrics import mean_squared_error \n",
    "env_St = env_prepared[:,1:]\n",
    "env_noSt = env_prepared[:,1:-50:]\n",
    "Price = env_prepared[:,0:1:]"
   ]
  },
  {
   "cell_type": "code",
   "execution_count": null,
   "metadata": {},
   "outputs": [],
   "source": [
    "def display_scores(scores): print(\"Scores:\", scores)\n",
    "             print(\"Mean:\", scores.mean())\n",
    "             print(\"Standard deviation:\", scores.std())"
   ]
  },
  {
   "cell_type": "code",
   "execution_count": null,
   "metadata": {},
   "outputs": [],
   "source": [
    "from sklearn.linear_model import LinearRegression \n",
    "lin_reg = LinearRegression(random_state=42)"
   ]
  },
  {
   "cell_type": "code",
   "execution_count": null,
   "metadata": {},
   "outputs": [],
   "source": [
    "from sklearn.model_selection import cross_val_score scores_State = cross_val_score(lin_reg, env_St, Price,\n",
    "                                  scoring=\"neg_mean_squared_error\", cv=5)\n",
    "         print(\"RMSE with States\")\n",
    "         display_scores(np.sqrt(-scores_State))\n",
    "         scores_NOState = cross_val_score(lin_reg, env_noSt, Price,\n",
    "                                  scoring=\"neg_mean_squared_error\", cv=5)\n",
    "print(\"RMSE without States\") display_scores(np.sqrt(-scores_NOState))"
   ]
  },
  {
   "cell_type": "markdown",
   "metadata": {},
   "source": [
    "Problem 5. Using cross validation with 5 folds predict house price and report RMSE using regression tree with and without State indicators. Which one is better? Use random_state = 42"
   ]
  },
  {
   "cell_type": "code",
   "execution_count": null,
   "metadata": {},
   "outputs": [],
   "source": [
    "from sklearn.ensemble import RandomForestRegressor forest_reg = RandomForestRegressor(random_state=42)\n",
    "from sklearn.model_selection import cross_val_score scores_State = cross_val_score(forest_reg, env_St, Price,\n",
    "                                  scoring=\"neg_mean_squared_error\", cv=5)\n",
    "         print(\"RMSE with States\")\n",
    "         display_scores(np.sqrt(-scores_State))\n",
    "         scores_NOState = cross_val_score(forest_reg, env_noSt, Price,\n",
    "                                  scoring=\"neg_mean_squared_error\", cv=5)\n",
    "print(\"RMSE without States\")\n",
    "display_scores(np.sqrt(-scores_NOState))"
   ]
  },
  {
   "cell_type": "markdown",
   "metadata": {},
   "source": [
    "Problem 6. Do a Randomize Grid Search of forest regression using data without States with the n_estimators (1-20), the number of features (1-20) with 30 iterations,cv = 5, and random_state=42. Predict house price. <br> Which is the optimal number of features and estimators? <br> Which are the five most important features?\n",
    "\n"
   ]
  },
  {
   "cell_type": "code",
   "execution_count": null,
   "metadata": {},
   "outputs": [],
   "source": [
    "from sklearn.model_selection import RandomizedSearchCV from scipy.stats import randint\n",
    "         param_distribs = {\n",
    "                 'n_estimators': randint(low=1, high=20),\n",
    "                 'max_features': randint(low=1, high=20),\n",
    "}\n",
    "         forest_reg = RandomForestRegressor(random_state=42)\n",
    "         rnd_search = RandomizedSearchCV(forest_reg, param_distributions=param_distribs,\n",
    "                                         n_iter=30, cv=5, scoring='neg_mean_squared_error', ran\n",
    "         rnd_search.fit( env_noSt, Price,)"
   ]
  },
  {
   "cell_type": "code",
   "execution_count": null,
   "metadata": {},
   "outputs": [],
   "source": [
    "feature_importances = rnd_search.best_estimator_.feature_importances_\n",
    "         feature_importances"
   ]
  },
  {
   "cell_type": "code",
   "execution_count": null,
   "metadata": {},
   "outputs": [],
   "source": [
    "sorted(zip(feature_importances, full_atrib), reverse=True)[0:5]"
   ]
  },
  {
   "cell_type": "code",
   "execution_count": null,
   "metadata": {},
   "outputs": [],
   "source": [
    "enviroment = load_enviroment_data()\n",
    "         type(enviroment)"
   ]
  },
  {
   "cell_type": "code",
   "execution_count": null,
   "metadata": {},
   "outputs": [],
   "source": [
    "pandas.core.frame.DataFrame"
   ]
  }
 ],
 "metadata": {
  "kernelspec": {
   "display_name": "Python 3",
   "language": "python",
   "name": "python3"
  },
  "language_info": {
   "codemirror_mode": {
    "name": "ipython",
    "version": 3
   },
   "file_extension": ".py",
   "mimetype": "text/x-python",
   "name": "python",
   "nbconvert_exporter": "python",
   "pygments_lexer": "ipython3",
   "version": "3.6.5"
  }
 },
 "nbformat": 4,
 "nbformat_minor": 2
}
