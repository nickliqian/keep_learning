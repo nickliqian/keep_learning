{
 "cells": [
  {
   "cell_type": "code",
   "execution_count": 1,
   "metadata": {
    "ExecuteTime": {
     "end_time": "2020-02-16T14:53:43.440767Z",
     "start_time": "2020-02-16T14:53:40.647111Z"
    }
   },
   "outputs": [],
   "source": [
    "# 导入需要的包\n",
    "import pandas as pd\n",
    "from snownlp import SnowNLP"
   ]
  },
  {
   "cell_type": "code",
   "execution_count": 2,
   "metadata": {
    "ExecuteTime": {
     "end_time": "2020-02-16T14:53:43.457896Z",
     "start_time": "2020-02-16T14:53:43.442776Z"
    }
   },
   "outputs": [],
   "source": [
    "# 加载训练好的模型(或者替换模型也可以，此方法比较方便)\n",
    "from snownlp import sentiment\n",
    "sentiment.classifier.load('./new.marshal')"
   ]
  },
  {
   "cell_type": "code",
   "execution_count": 3,
   "metadata": {
    "ExecuteTime": {
     "end_time": "2020-02-16T14:53:43.472206Z",
     "start_time": "2020-02-16T14:53:43.460831Z"
    }
   },
   "outputs": [],
   "source": [
    "# 载入数据\n",
    "# 此数据为手工标注的100条情感倾向数据\n",
    "df = pd.read_csv(\"cs.csv\")  # 数据采集时间是：2020.01.06\n",
    "df.head()  # 查看数据\n",
    "# 删除不需要的列\n",
    "df = df.drop([\"Unnamed: 0\"], axis=1)"
   ]
  },
  {
   "cell_type": "code",
   "execution_count": 4,
   "metadata": {
    "ExecuteTime": {
     "end_time": "2020-02-16T14:53:44.443047Z",
     "start_time": "2020-02-16T14:53:43.474718Z"
    }
   },
   "outputs": [
    {
     "data": {
      "text/html": [
       "<div>\n",
       "<style scoped>\n",
       "    .dataframe tbody tr th:only-of-type {\n",
       "        vertical-align: middle;\n",
       "    }\n",
       "\n",
       "    .dataframe tbody tr th {\n",
       "        vertical-align: top;\n",
       "    }\n",
       "\n",
       "    .dataframe thead th {\n",
       "        text-align: right;\n",
       "    }\n",
       "</style>\n",
       "<table border=\"1\" class=\"dataframe\">\n",
       "  <thead>\n",
       "    <tr style=\"text-align: right;\">\n",
       "      <th></th>\n",
       "      <th>content</th>\n",
       "      <th>sentiment</th>\n",
       "      <th>pred</th>\n",
       "    </tr>\n",
       "  </thead>\n",
       "  <tbody>\n",
       "    <tr>\n",
       "      <th>0</th>\n",
       "      <td>喜欢那个打黑拳！！</td>\n",
       "      <td>1.0</td>\n",
       "      <td>1</td>\n",
       "    </tr>\n",
       "    <tr>\n",
       "      <th>1</th>\n",
       "      <td>其实已经一口气狂看到了第七卷。前半的节奏还是意气风发无往不利，越到后面那种命运悲剧的感受越强...</td>\n",
       "      <td>1.0</td>\n",
       "      <td>1</td>\n",
       "    </tr>\n",
       "    <tr>\n",
       "      <th>2</th>\n",
       "      <td>2020年头的几天假期啥事没干，就看这几百万字了。真的要戒掉看书一定要看完的坏毛病。及时止损。</td>\n",
       "      <td>0.0</td>\n",
       "      <td>0</td>\n",
       "    </tr>\n",
       "    <tr>\n",
       "      <th>3</th>\n",
       "      <td>适合消遣看看，破梗废话太多……</td>\n",
       "      <td>0.0</td>\n",
       "      <td>0</td>\n",
       "    </tr>\n",
       "    <tr>\n",
       "      <th>4</th>\n",
       "      <td>N年前就看了几章看不下去，因为电视剧 重新拾起看了一遍，觉得还是看电视剧吧…范闲nb的一塌糊涂</td>\n",
       "      <td>0.0</td>\n",
       "      <td>0</td>\n",
       "    </tr>\n",
       "  </tbody>\n",
       "</table>\n",
       "</div>"
      ],
      "text/plain": [
       "                                             content  sentiment  pred\n",
       "0                                          喜欢那个打黑拳！！        1.0     1\n",
       "1  其实已经一口气狂看到了第七卷。前半的节奏还是意气风发无往不利，越到后面那种命运悲剧的感受越强...        1.0     1\n",
       "2    2020年头的几天假期啥事没干，就看这几百万字了。真的要戒掉看书一定要看完的坏毛病。及时止损。        0.0     0\n",
       "3                                    适合消遣看看，破梗废话太多……        0.0     0\n",
       "4    N年前就看了几章看不下去，因为电视剧 重新拾起看了一遍，觉得还是看电视剧吧…范闲nb的一塌糊涂        0.0     0"
      ]
     },
     "execution_count": 4,
     "metadata": {},
     "output_type": "execute_result"
    }
   ],
   "source": [
    "# 验证人工标注的100条数据在新模型分析下的情感倾向\n",
    "preds = []  # 用于存放每一条情感分析的结果\n",
    "for i in df[\"content\"]:  # 循环每一条评论\n",
    "    s = SnowNLP(i)  # 情感分析\n",
    "    if s.sentiments >= 0.5:\n",
    "        preds.append(1)\n",
    "    else:\n",
    "        preds.append(0)\n",
    "\n",
    "# 将分析结果合并到原始数据中\n",
    "df[\"pred\"] = preds\n",
    "df.head()"
   ]
  },
  {
   "cell_type": "code",
   "execution_count": 5,
   "metadata": {
    "ExecuteTime": {
     "end_time": "2020-02-16T14:53:44.449744Z",
     "start_time": "2020-02-16T14:53:44.445521Z"
    }
   },
   "outputs": [
    {
     "name": "stdout",
     "output_type": "stream",
     "text": [
      "【情感分析】\n",
      "[1, 1, 0, 0, 0]\n",
      "【评论内容】\n",
      "['喜欢那个打黑拳！！', '其实已经一口气狂看到了第七卷。前半的节奏还是意气风发无往不利，越到后面那种命运悲剧的感受越强，让人有些不忍看下去了。目前停在了萍萍遇见高达那儿，不知还会不会往后翻。另外，写的有那么一点啰嗦，加上意淫之爽的部分，跟大唐双龙传有点神似哈哈哈', '2020年头的几天假期啥事没干，就看这几百万字了。真的要戒掉看书一定要看完的坏毛病。及时止损。', '适合消遣看看，破梗废话太多……', 'N年前就看了几章看不下去，因为电视剧 重新拾起看了一遍，觉得还是看电视剧吧…范闲nb的一塌糊涂']\n"
     ]
    }
   ],
   "source": [
    "# 查看前五条的评论和分析结果\n",
    "print(\"【情感分析】\")\n",
    "print(list(df[\"pred\"][:5]))\n",
    "print(\"【评论内容】\")\n",
    "print(list(df[\"content\"][:5]))"
   ]
  },
  {
   "cell_type": "code",
   "execution_count": 6,
   "metadata": {
    "ExecuteTime": {
     "end_time": "2020-02-16T14:53:44.456751Z",
     "start_time": "2020-02-16T14:53:44.451240Z"
    }
   },
   "outputs": [
    {
     "name": "stdout",
     "output_type": "stream",
     "text": [
      "预测数据总条数：100\n",
      "预测正确的个数：96\n",
      "识别正确率：96.00%\n"
     ]
    }
   ],
   "source": [
    "# 手动标注的原始结果列表\n",
    "origin_list = list(df[\"sentiment\"])\n",
    "# 预测结果的列表\n",
    "predict = list(df[\"pred\"])\n",
    "\n",
    "# 计数常量，每有一条预测正确，就+1\n",
    "right_count = 0\n",
    "for i in range(100):  # 循环对比每一条的预测结果与原始结果\n",
    "    if origin_list[i] == predict[i]:\n",
    "        right_count += 1\n",
    "\n",
    "# 计算模型的准确率\n",
    "total_count = df.shape[0]  # 训练数据总条数 100\n",
    "\n",
    "# 输出结果\n",
    "print(\"预测数据总条数：{}\".format(total_count))\n",
    "print(\"预测正确的个数：{}\".format(right_count))\n",
    "print(\"识别正确率：{:.2f}%\".format((right_count / total_count) * 100))"
   ]
  },
  {
   "cell_type": "code",
   "execution_count": null,
   "metadata": {},
   "outputs": [],
   "source": []
  }
 ],
 "metadata": {
  "kernelspec": {
   "display_name": "Python 3",
   "language": "python",
   "name": "python3"
  },
  "language_info": {
   "codemirror_mode": {
    "name": "ipython",
    "version": 3
   },
   "file_extension": ".py",
   "mimetype": "text/x-python",
   "name": "python",
   "nbconvert_exporter": "python",
   "pygments_lexer": "ipython3",
   "version": "3.6.5"
  }
 },
 "nbformat": 4,
 "nbformat_minor": 2
}
