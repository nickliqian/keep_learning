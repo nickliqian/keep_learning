{
 "cells": [
  {
   "cell_type": "code",
   "execution_count": 2,
   "metadata": {
    "ExecuteTime": {
     "end_time": "2020-02-16T06:24:01.587293Z",
     "start_time": "2020-02-16T06:23:59.255493Z"
    }
   },
   "outputs": [],
   "source": [
    "import pandas as pd\n",
    "import matplotlib.pyplot as plt\n",
    "import matplotlib\n",
    "#指定默认字体\n",
    "matplotlib.rcParams['font.sans-serif'] = ['SimHei']\n",
    "matplotlib.rcParams['font.family']='sans-serif'\n",
    "#解决负号'-'显示为方块的问题\n",
    "matplotlib.rcParams['axes.unicode_minus'] = False\n",
    "import jieba\n",
    "from sklearn.feature_extraction.text import CountVectorizer, TfidfTransformer\n",
    "from sklearn import naive_bayes\n",
    "from sklearn.linear_model import LinearRegression, LogisticRegression\n",
    "from sklearn.model_selection import train_test_split\n",
    "import wordcloud\n",
    "from sklearn import metrics\n",
    "from snownlp import SnowNLP\n",
    "from snownlp import sentiment\n",
    "from tqdm import tqdm\n"
   ]
  },
  {
   "cell_type": "markdown",
   "metadata": {},
   "source": [
    "# 1 数据预处理\n",
    "包括加载数据、数据处理、分词"
   ]
  },
  {
   "cell_type": "code",
   "execution_count": 3,
   "metadata": {
    "ExecuteTime": {
     "end_time": "2020-02-16T06:24:04.517956Z",
     "start_time": "2020-02-16T06:24:04.481636Z"
    }
   },
   "outputs": [
    {
     "data": {
      "text/html": [
       "<div>\n",
       "<style scoped>\n",
       "    .dataframe tbody tr th:only-of-type {\n",
       "        vertical-align: middle;\n",
       "    }\n",
       "\n",
       "    .dataframe tbody tr th {\n",
       "        vertical-align: top;\n",
       "    }\n",
       "\n",
       "    .dataframe thead th {\n",
       "        text-align: right;\n",
       "    }\n",
       "</style>\n",
       "<table border=\"1\" class=\"dataframe\">\n",
       "  <thead>\n",
       "    <tr style=\"text-align: right;\">\n",
       "      <th></th>\n",
       "      <th>Unnamed: 0</th>\n",
       "      <th>content</th>\n",
       "      <th>sentiment</th>\n",
       "    </tr>\n",
       "  </thead>\n",
       "  <tbody>\n",
       "    <tr>\n",
       "      <th>0</th>\n",
       "      <td>0</td>\n",
       "      <td>喜欢那个打黑拳！！</td>\n",
       "      <td>1.0</td>\n",
       "    </tr>\n",
       "    <tr>\n",
       "      <th>1</th>\n",
       "      <td>2</td>\n",
       "      <td>其实已经一口气狂看到了第七卷。前半的节奏还是意气风发无往不利，越到后面那种命运悲剧的感受越强...</td>\n",
       "      <td>1.0</td>\n",
       "    </tr>\n",
       "    <tr>\n",
       "      <th>2</th>\n",
       "      <td>3</td>\n",
       "      <td>2020年头的几天假期啥事没干，就看这几百万字了。真的要戒掉看书一定要看完的坏毛病。及时止损。</td>\n",
       "      <td>0.0</td>\n",
       "    </tr>\n",
       "    <tr>\n",
       "      <th>3</th>\n",
       "      <td>4</td>\n",
       "      <td>适合消遣看看，破梗废话太多……</td>\n",
       "      <td>0.0</td>\n",
       "    </tr>\n",
       "    <tr>\n",
       "      <th>4</th>\n",
       "      <td>5</td>\n",
       "      <td>N年前就看了几章看不下去，因为电视剧 重新拾起看了一遍，觉得还是看电视剧吧…范闲nb的一塌糊涂</td>\n",
       "      <td>0.0</td>\n",
       "    </tr>\n",
       "  </tbody>\n",
       "</table>\n",
       "</div>"
      ],
      "text/plain": [
       "   Unnamed: 0                                            content  sentiment\n",
       "0           0                                          喜欢那个打黑拳！！        1.0\n",
       "1           2  其实已经一口气狂看到了第七卷。前半的节奏还是意气风发无往不利，越到后面那种命运悲剧的感受越强...        1.0\n",
       "2           3    2020年头的几天假期啥事没干，就看这几百万字了。真的要戒掉看书一定要看完的坏毛病。及时止损。        0.0\n",
       "3           4                                    适合消遣看看，破梗废话太多……        0.0\n",
       "4           5    N年前就看了几章看不下去，因为电视剧 重新拾起看了一遍，觉得还是看电视剧吧…范闲nb的一塌糊涂        0.0"
      ]
     },
     "execution_count": 3,
     "metadata": {},
     "output_type": "execute_result"
    }
   ],
   "source": [
    "# 载入数据\n",
    "# 此数据为手工标注的100条情感倾向数据\n",
    "df = pd.read_csv(\"cs.csv\")  # 数据采集时间是：2020.01.06\n",
    "df.head()  # 查看数据前五行"
   ]
  },
  {
   "cell_type": "code",
   "execution_count": 4,
   "metadata": {
    "ExecuteTime": {
     "end_time": "2020-02-16T06:24:05.397578Z",
     "start_time": "2020-02-16T06:24:05.385915Z"
    }
   },
   "outputs": [
    {
     "data": {
      "text/plain": [
       "sentiment\n",
       "0.0    49\n",
       "1.0    51\n",
       "Name: sentiment, dtype: int64"
      ]
     },
     "execution_count": 4,
     "metadata": {},
     "output_type": "execute_result"
    }
   ],
   "source": [
    "# 查看数据的分布，基本上积极和消极情感各占一半\n",
    "df.groupby(\"sentiment\")[\"sentiment\"].count()"
   ]
  },
  {
   "cell_type": "code",
   "execution_count": 5,
   "metadata": {
    "ExecuteTime": {
     "end_time": "2020-02-16T06:24:07.136524Z",
     "start_time": "2020-02-16T06:24:07.131097Z"
    }
   },
   "outputs": [],
   "source": [
    "# 过滤无关紧要的列\n",
    "df = df[[\"content\", \"sentiment\"]]"
   ]
  },
  {
   "cell_type": "code",
   "execution_count": 6,
   "metadata": {
    "ExecuteTime": {
     "end_time": "2020-02-16T06:24:07.976419Z",
     "start_time": "2020-02-16T06:24:07.970174Z"
    }
   },
   "outputs": [
    {
     "data": {
      "text/plain": [
       "content      0\n",
       "sentiment    0\n",
       "dtype: int64"
      ]
     },
     "execution_count": 6,
     "metadata": {},
     "output_type": "execute_result"
    }
   ],
   "source": [
    "# 查看是否有空值 手工标注的训练集无空值\n",
    "df.isnull().sum()"
   ]
  },
  {
   "cell_type": "code",
   "execution_count": 7,
   "metadata": {
    "ExecuteTime": {
     "end_time": "2020-02-16T06:24:08.929187Z",
     "start_time": "2020-02-16T06:24:08.923969Z"
    }
   },
   "outputs": [
    {
     "data": {
      "text/plain": [
       "(100, 2)"
      ]
     },
     "execution_count": 7,
     "metadata": {},
     "output_type": "execute_result"
    }
   ],
   "source": [
    "# 查看数据条数\n",
    "df.shape"
   ]
  },
  {
   "cell_type": "code",
   "execution_count": 8,
   "metadata": {
    "ExecuteTime": {
     "end_time": "2020-02-16T06:24:11.331167Z",
     "start_time": "2020-02-16T06:24:10.403436Z"
    },
    "scrolled": false
   },
   "outputs": [
    {
     "name": "stderr",
     "output_type": "stream",
     "text": [
      "Building prefix dict from the default dictionary ...\n",
      "Loading model from cache /var/folders/wq/03z5h7352159jp2k5p83ts500000gn/T/jieba.cache\n",
      "Loading model cost 0.780 seconds.\n",
      "Prefix dict has been built successfully.\n"
     ]
    },
    {
     "data": {
      "text/html": [
       "<div>\n",
       "<style scoped>\n",
       "    .dataframe tbody tr th:only-of-type {\n",
       "        vertical-align: middle;\n",
       "    }\n",
       "\n",
       "    .dataframe tbody tr th {\n",
       "        vertical-align: top;\n",
       "    }\n",
       "\n",
       "    .dataframe thead th {\n",
       "        text-align: right;\n",
       "    }\n",
       "</style>\n",
       "<table border=\"1\" class=\"dataframe\">\n",
       "  <thead>\n",
       "    <tr style=\"text-align: right;\">\n",
       "      <th></th>\n",
       "      <th>content</th>\n",
       "      <th>sentiment</th>\n",
       "      <th>cut</th>\n",
       "    </tr>\n",
       "  </thead>\n",
       "  <tbody>\n",
       "    <tr>\n",
       "      <th>0</th>\n",
       "      <td>喜欢那个打黑拳！！</td>\n",
       "      <td>1.0</td>\n",
       "      <td>喜欢 那个 打黑 拳 ！ ！</td>\n",
       "    </tr>\n",
       "    <tr>\n",
       "      <th>1</th>\n",
       "      <td>其实已经一口气狂看到了第七卷。前半的节奏还是意气风发无往不利，越到后面那种命运悲剧的感受越强...</td>\n",
       "      <td>1.0</td>\n",
       "      <td>其实 已经 一口气 狂 看到 了 第七卷 。 前半 的 节奏 还是 意气风发 无往不利 ， ...</td>\n",
       "    </tr>\n",
       "    <tr>\n",
       "      <th>2</th>\n",
       "      <td>2020年头的几天假期啥事没干，就看这几百万字了。真的要戒掉看书一定要看完的坏毛病。及时止损。</td>\n",
       "      <td>0.0</td>\n",
       "      <td>2020 年头 的 几天 假期 啥事 没干 ， 就 看 这 几百万 字 了 。 真的 要 戒...</td>\n",
       "    </tr>\n",
       "    <tr>\n",
       "      <th>3</th>\n",
       "      <td>适合消遣看看，破梗废话太多……</td>\n",
       "      <td>0.0</td>\n",
       "      <td>适合 消遣 看看 ， 破梗 废话 太 多 … …</td>\n",
       "    </tr>\n",
       "    <tr>\n",
       "      <th>4</th>\n",
       "      <td>N年前就看了几章看不下去，因为电视剧 重新拾起看了一遍，觉得还是看电视剧吧…范闲nb的一塌糊涂</td>\n",
       "      <td>0.0</td>\n",
       "      <td>N年 前 就 看 了 几章 看不下去 ， 因为 电视剧   重新 拾起 看 了 一遍 ， 觉...</td>\n",
       "    </tr>\n",
       "  </tbody>\n",
       "</table>\n",
       "</div>"
      ],
      "text/plain": [
       "                                             content  sentiment  \\\n",
       "0                                          喜欢那个打黑拳！！        1.0   \n",
       "1  其实已经一口气狂看到了第七卷。前半的节奏还是意气风发无往不利，越到后面那种命运悲剧的感受越强...        1.0   \n",
       "2    2020年头的几天假期啥事没干，就看这几百万字了。真的要戒掉看书一定要看完的坏毛病。及时止损。        0.0   \n",
       "3                                    适合消遣看看，破梗废话太多……        0.0   \n",
       "4    N年前就看了几章看不下去，因为电视剧 重新拾起看了一遍，觉得还是看电视剧吧…范闲nb的一塌糊涂        0.0   \n",
       "\n",
       "                                                 cut  \n",
       "0                                     喜欢 那个 打黑 拳 ！ ！  \n",
       "1  其实 已经 一口气 狂 看到 了 第七卷 。 前半 的 节奏 还是 意气风发 无往不利 ， ...  \n",
       "2  2020 年头 的 几天 假期 啥事 没干 ， 就 看 这 几百万 字 了 。 真的 要 戒...  \n",
       "3                           适合 消遣 看看 ， 破梗 废话 太 多 … …  \n",
       "4  N年 前 就 看 了 几章 看不下去 ， 因为 电视剧   重新 拾起 看 了 一遍 ， 觉...  "
      ]
     },
     "execution_count": 8,
     "metadata": {},
     "output_type": "execute_result"
    }
   ],
   "source": [
    "# 对文本分词，生成新列cut\n",
    "# 两种分词函数，均未使用停用词\n",
    "def space_cut(intxt):  # 使用空格隔开\n",
    "    return \" \".join([w for w in jieba.cut(intxt)])\n",
    "def list_cut(intxt):  # 使用列表表示\n",
    "    return [w for w in jieba.cut(intxt)]\n",
    "\n",
    "# 将语料content分词\n",
    "# 参见：https://github.com/fxsjy/jieba\n",
    "df[\"cut\"] = df[\"content\"].apply(space_cut)\n",
    "df.head()"
   ]
  },
  {
   "cell_type": "markdown",
   "metadata": {},
   "source": [
    "# 所有数据的预处理"
   ]
  },
  {
   "cell_type": "code",
   "execution_count": 13,
   "metadata": {
    "ExecuteTime": {
     "end_time": "2020-02-16T06:25:03.709659Z",
     "start_time": "2020-02-16T06:25:03.670837Z"
    }
   },
   "outputs": [
    {
     "data": {
      "text/html": [
       "<div>\n",
       "<style scoped>\n",
       "    .dataframe tbody tr th:only-of-type {\n",
       "        vertical-align: middle;\n",
       "    }\n",
       "\n",
       "    .dataframe tbody tr th {\n",
       "        vertical-align: top;\n",
       "    }\n",
       "\n",
       "    .dataframe thead th {\n",
       "        text-align: right;\n",
       "    }\n",
       "</style>\n",
       "<table border=\"1\" class=\"dataframe\">\n",
       "  <thead>\n",
       "    <tr style=\"text-align: right;\">\n",
       "      <th></th>\n",
       "      <th>vote</th>\n",
       "      <th>user</th>\n",
       "      <th>user_url</th>\n",
       "      <th>star</th>\n",
       "      <th>level</th>\n",
       "      <th>release_time</th>\n",
       "      <th>content</th>\n",
       "    </tr>\n",
       "  </thead>\n",
       "  <tbody>\n",
       "    <tr>\n",
       "      <th>0</th>\n",
       "      <td>0</td>\n",
       "      <td>乐小妖</td>\n",
       "      <td>https://www.douban.com/people/184351511/</td>\n",
       "      <td>50.0</td>\n",
       "      <td>力荐</td>\n",
       "      <td>2020-01-06</td>\n",
       "      <td>喜欢那个打黑拳！！</td>\n",
       "    </tr>\n",
       "    <tr>\n",
       "      <th>1</th>\n",
       "      <td>0</td>\n",
       "      <td>非著名相声演员</td>\n",
       "      <td>https://www.douban.com/people/163544561/</td>\n",
       "      <td>30.0</td>\n",
       "      <td>还行</td>\n",
       "      <td>2020-01-06</td>\n",
       "      <td>还可以吧。</td>\n",
       "    </tr>\n",
       "  </tbody>\n",
       "</table>\n",
       "</div>"
      ],
      "text/plain": [
       "   vote     user                                  user_url  star level  \\\n",
       "0     0      乐小妖  https://www.douban.com/people/184351511/  50.0    力荐   \n",
       "1     0  非著名相声演员  https://www.douban.com/people/163544561/  30.0    还行   \n",
       "\n",
       "  release_time    content  \n",
       "0   2020-01-06  喜欢那个打黑拳！！  \n",
       "1   2020-01-06      还可以吧。  "
      ]
     },
     "execution_count": 13,
     "metadata": {},
     "output_type": "execute_result"
    }
   ],
   "source": [
    "# 载入所有数据\n",
    "all_df = pd.read_csv(\"data.csv\")\n",
    "all_df.head(2)  # 查看数据前2行"
   ]
  },
  {
   "cell_type": "code",
   "execution_count": 15,
   "metadata": {
    "ExecuteTime": {
     "end_time": "2020-02-16T06:25:31.490775Z",
     "start_time": "2020-02-16T06:25:31.484503Z"
    }
   },
   "outputs": [
    {
     "data": {
      "text/plain": [
       "vote              0\n",
       "user              0\n",
       "user_url          0\n",
       "star            263\n",
       "level           263\n",
       "release_time    263\n",
       "content           0\n",
       "dtype: int64"
      ]
     },
     "execution_count": 15,
     "metadata": {},
     "output_type": "execute_result"
    }
   ],
   "source": [
    "# 查看缺失值\n",
    "all_df.isnull().sum()"
   ]
  },
  {
   "cell_type": "code",
   "execution_count": 17,
   "metadata": {
    "ExecuteTime": {
     "end_time": "2020-02-16T06:26:17.715493Z",
     "start_time": "2020-02-16T06:26:17.702885Z"
    }
   },
   "outputs": [
    {
     "data": {
      "text/plain": [
       "vote            0\n",
       "user            0\n",
       "user_url        0\n",
       "star            0\n",
       "level           0\n",
       "release_time    0\n",
       "content         0\n",
       "dtype: int64"
      ]
     },
     "execution_count": 17,
     "metadata": {},
     "output_type": "execute_result"
    }
   ],
   "source": [
    "# 删除有缺失值的行\n",
    "all_df = all_df.dropna(how=\"any\")\n",
    "\n",
    "# 再次查看缺失值\n",
    "all_df.isnull().sum()"
   ]
  },
  {
   "cell_type": "code",
   "execution_count": 22,
   "metadata": {
    "ExecuteTime": {
     "end_time": "2020-02-16T06:28:25.907992Z",
     "start_time": "2020-02-16T06:28:25.198915Z"
    }
   },
   "outputs": [],
   "source": [
    "# 将语料content分词\n",
    "all_df[\"cut\"] = all_df[\"content\"].apply(space_cut)\n",
    "\n",
    "\n",
    "# 将分词结果写入文件\n",
    "with open(\"all_data_cut.txt\", \"w+\") as f:\n",
    "    f.write(\" \".join(list(all_df[\"cut\"])))"
   ]
  },
  {
   "cell_type": "markdown",
   "metadata": {},
   "source": [
    "# 2 建模\n",
    "训练snowmlp模型"
   ]
  },
  {
   "cell_type": "code",
   "execution_count": 8,
   "metadata": {
    "ExecuteTime": {
     "end_time": "2020-02-13T18:26:38.974800Z",
     "start_time": "2020-02-13T18:26:38.968399Z"
    }
   },
   "outputs": [],
   "source": [
    "# 生成snownlp中的训练语料\n",
    "neg = []\n",
    "pos = []\n",
    "\n",
    "# 人工标注的消极语料\n",
    "for i in df[df[\"sentiment\"]==0][\"cut\"]:\n",
    "    neg.append(i)\n",
    "    \n",
    "# 人工标注的积极语料\n",
    "for i in df[df[\"sentiment\"]==1][\"cut\"]:\n",
    "    pos.append(i)"
   ]
  },
  {
   "cell_type": "code",
   "execution_count": 9,
   "metadata": {
    "ExecuteTime": {
     "end_time": "2020-02-13T18:26:38.980842Z",
     "start_time": "2020-02-13T18:26:38.976688Z"
    }
   },
   "outputs": [],
   "source": [
    "with open(\"neg.txt\", \"w+\", encoding=\"utf-8\") as f:\n",
    "    f.write(\" \".join(neg))\n",
    "    \n",
    "with open(\"pos.txt\", \"w+\", encoding=\"utf-8\") as f:\n",
    "    f.write(\" \".join(pos))"
   ]
  },
  {
   "cell_type": "code",
   "execution_count": 10,
   "metadata": {
    "ExecuteTime": {
     "end_time": "2020-02-13T18:26:39.755333Z",
     "start_time": "2020-02-13T18:26:39.492613Z"
    }
   },
   "outputs": [],
   "source": [
    "sentiment.train('neg.txt', 'pos.txt')\n",
    "sentiment.save('sentiment.marshal')\n",
    "# 训练好模型之后需要找到snownlp的目录替换默认的模型\n",
    "# 根据安装路径的不同：....../$python环境目录/lib/python3.6/site-packages/snownlp/seg/__init__.py\n",
    "# 修改第九行data_path的值为模型的路径 ....../sentiment.marshal.3"
   ]
  },
  {
   "cell_type": "code",
   "execution_count": 11,
   "metadata": {
    "ExecuteTime": {
     "end_time": "2020-02-13T18:26:58.837554Z",
     "start_time": "2020-02-13T18:26:58.815277Z"
    }
   },
   "outputs": [
    {
     "data": {
      "text/plain": [
       "0.9984868229304878"
      ]
     },
     "execution_count": 11,
     "metadata": {},
     "output_type": "execute_result"
    }
   ],
   "source": [
    "# 测试新的模型\n",
    "s = SnowNLP('其实已经一口气狂看到了第七卷。前半的节奏还是意气风发无往不利，越到后面那种命运悲剧的感受越强...')\n",
    "s.sentiments"
   ]
  },
  {
   "cell_type": "markdown",
   "metadata": {},
   "source": [
    "# 3 数据可视化-词云"
   ]
  },
  {
   "cell_type": "code",
   "execution_count": 12,
   "metadata": {
    "ExecuteTime": {
     "end_time": "2020-02-13T18:27:06.682974Z",
     "start_time": "2020-02-13T18:27:01.691800Z"
    }
   },
   "outputs": [
    {
     "name": "stderr",
     "output_type": "stream",
     "text": [
      "/Users/nick/.venv/ML-training/lib/python3.6/site-packages/ipykernel_launcher.py:6: ParserWarning: Falling back to the 'python' engine because the 'c' engine does not support regex separators (separators > 1 char and different from '\\s+' are interpreted as regex); you can avoid this warning by specifying engine='python'.\n",
      "  \n"
     ]
    },
    {
     "data": {
      "image/png": "[encoded data removed]",
      "text/plain": [
       "<Figure size 432x288 with 1 Axes>"
      ]
     },
     "metadata": {
      "needs_background": "light"
     },
     "output_type": "display_data"
    }
   ],
   "source": [
    "# 绘制词云\n",
    "# 设置字体字体\n",
    "myfont = \"../../StaticFile/SimHei.ttf\"\n",
    "# myfont = \"SimHei.ttf\"\n",
    "# 加载停用词，停用词就是在绘制词云中忽略的没有意义的词\n",
    "stoplistdf = pd.read_csv('停用词.txt', names=[\"w\"], sep=\"aaa\", encoding=\"utf-8\")\n",
    "stoplist_wdc = list(stoplistdf.w)\n",
    "\n",
    "# 词云 将所有的帖子进行分词-拼接起来-统计词频-展示词云\n",
    "gennerate_string = \"\"\n",
    "for c in df[\"cut\"]:\n",
    "    gennerate_string += c\n",
    "\n",
    "# 生成词云对象\n",
    "cloudobj = wordcloud.WordCloud(font_path = myfont, \n",
    "    width = 2000, height = 1500, max_words = 50,\n",
    "    mode = \"RGBA\", background_color = None,\n",
    "    stopwords = stoplist_wdc, collocations=False).generate(gennerate_string)  \n",
    "\n",
    "# 展示图像\n",
    "plt.imshow(cloudobj)\n",
    "plt.axis(\"off\")\n",
    "plt.show()"
   ]
  },
  {
   "cell_type": "markdown",
   "metadata": {
    "ExecuteTime": {
     "end_time": "2020-02-14T05:07:28.680040Z",
     "start_time": "2020-02-14T05:07:28.678002Z"
    }
   },
   "source": [
    "# 4 词频统计直方图"
   ]
  },
  {
   "cell_type": "code",
   "execution_count": 13,
   "metadata": {
    "ExecuteTime": {
     "end_time": "2020-02-13T18:27:07.460270Z",
     "start_time": "2020-02-13T18:27:07.392592Z"
    }
   },
   "outputs": [
    {
     "data": {
      "text/html": [
       "<div>\n",
       "<style scoped>\n",
       "    .dataframe tbody tr th:only-of-type {\n",
       "        vertical-align: middle;\n",
       "    }\n",
       "\n",
       "    .dataframe tbody tr th {\n",
       "        vertical-align: top;\n",
       "    }\n",
       "\n",
       "    .dataframe thead th {\n",
       "        text-align: right;\n",
       "    }\n",
       "</style>\n",
       "<table border=\"1\" class=\"dataframe\">\n",
       "  <thead>\n",
       "    <tr style=\"text-align: right;\">\n",
       "      <th></th>\n",
       "      <th>word</th>\n",
       "    </tr>\n",
       "  </thead>\n",
       "  <tbody>\n",
       "    <tr>\n",
       "      <th>0</th>\n",
       "      <td>喜欢</td>\n",
       "    </tr>\n",
       "    <tr>\n",
       "      <th>1</th>\n",
       "      <td>打黑</td>\n",
       "    </tr>\n",
       "    <tr>\n",
       "      <th>2</th>\n",
       "      <td>拳</td>\n",
       "    </tr>\n",
       "    <tr>\n",
       "      <th>3</th>\n",
       "      <td>一口气</td>\n",
       "    </tr>\n",
       "    <tr>\n",
       "      <th>4</th>\n",
       "      <td>狂</td>\n",
       "    </tr>\n",
       "  </tbody>\n",
       "</table>\n",
       "</div>"
      ],
      "text/plain": [
       "  word\n",
       "0   喜欢\n",
       "1   打黑\n",
       "2    拳\n",
       "3  一口气\n",
       "4    狂"
      ]
     },
     "execution_count": 13,
     "metadata": {},
     "output_type": "execute_result"
    }
   ],
   "source": [
    "# 统计训练集词频\n",
    "stoplist_wdc = stoplist_wdc + [\"\"]\n",
    "freq_list = []\n",
    "for c in df[\"cut\"]:\n",
    "    get_list = []\n",
    "    for g in c.split(\" \"):\n",
    "        if g not in stoplist_wdc:\n",
    "            get_list.append(g)\n",
    "    freq_list += get_list\n",
    "\n",
    "word_df = pd.DataFrame(freq_list, columns=[\"word\"])\n",
    "word_df.head()"
   ]
  },
  {
   "cell_type": "code",
   "execution_count": 14,
   "metadata": {
    "ExecuteTime": {
     "end_time": "2020-02-13T18:27:08.290038Z",
     "start_time": "2020-02-13T18:27:08.281722Z"
    }
   },
   "outputs": [
    {
     "data": {
      "text/plain": [
       "word\n",
       "小说     20\n",
       "电视剧    18\n",
       "好看     15\n",
       "…      15\n",
       "喜欢     12\n",
       "太      11\n",
       "主角     11\n",
       "作者     11\n",
       "写      10\n",
       "完      10\n",
       "猫腻      9\n",
       "文笔      9\n",
       "书       9\n",
       "故事      9\n",
       "挺       9\n",
       "Name: word, dtype: int64"
      ]
     },
     "execution_count": 14,
     "metadata": {},
     "output_type": "execute_result"
    }
   ],
   "source": [
    "# 列出训练集top15的词\n",
    "top15_word = word_df.groupby(\"word\")[\"word\"].count().sort_values(ascending=False)[:15]\n",
    "top15_word"
   ]
  },
  {
   "cell_type": "code",
   "execution_count": 15,
   "metadata": {
    "ExecuteTime": {
     "end_time": "2020-02-13T18:27:09.467489Z",
     "start_time": "2020-02-13T18:27:09.096805Z"
    }
   },
   "outputs": [
    {
     "data": {
      "text/plain": [
       "<matplotlib.axes._subplots.AxesSubplot at 0x14334e978>"
      ]
     },
     "execution_count": 15,
     "metadata": {},
     "output_type": "execute_result"
    },
    {
     "data": {
      "image/png": "[encoded data removed]",
      "text/plain": [
       "<Figure size 1080x576 with 1 Axes>"
      ]
     },
     "metadata": {
      "needs_background": "light"
     },
     "output_type": "display_data"
    }
   ],
   "source": [
    "# 可视化词频\n",
    "top15_word.plot.bar(title=\"数据可视化-词频统计\", figsize=(15, 8))"
   ]
  },
  {
   "cell_type": "markdown",
   "metadata": {},
   "source": [
    "# 5 模型评估"
   ]
  },
  {
   "cell_type": "code",
   "execution_count": 16,
   "metadata": {
    "ExecuteTime": {
     "end_time": "2020-02-13T18:27:11.044689Z",
     "start_time": "2020-02-13T18:27:10.040754Z"
    }
   },
   "outputs": [
    {
     "name": "stderr",
     "output_type": "stream",
     "text": [
      "100%|██████████| 100/100 [00:00<00:00, 100.21it/s]"
     ]
    },
    {
     "name": "stdout",
     "output_type": "stream",
     "text": [
      "[1, 1, 0, 0, 0]\n"
     ]
    },
    {
     "name": "stderr",
     "output_type": "stream",
     "text": [
      "\n"
     ]
    }
   ],
   "source": [
    "# 验证人工标注的100条数据在新模型分析下的情感倾向\n",
    "preds = []\n",
    "for i in tqdm(df[\"content\"]):\n",
    "    s = SnowNLP(i)\n",
    "    if s.sentiments >= 0.5:\n",
    "        preds.append(1)\n",
    "    else:\n",
    "        preds.append(0)\n",
    "\n",
    "print(preds[:5])"
   ]
  },
  {
   "cell_type": "code",
   "execution_count": 17,
   "metadata": {
    "ExecuteTime": {
     "end_time": "2020-02-13T18:27:11.608840Z",
     "start_time": "2020-02-13T18:27:11.598512Z"
    }
   },
   "outputs": [
    {
     "data": {
      "text/html": [
       "<div>\n",
       "<style scoped>\n",
       "    .dataframe tbody tr th:only-of-type {\n",
       "        vertical-align: middle;\n",
       "    }\n",
       "\n",
       "    .dataframe tbody tr th {\n",
       "        vertical-align: top;\n",
       "    }\n",
       "\n",
       "    .dataframe thead th {\n",
       "        text-align: right;\n",
       "    }\n",
       "</style>\n",
       "<table border=\"1\" class=\"dataframe\">\n",
       "  <thead>\n",
       "    <tr style=\"text-align: right;\">\n",
       "      <th></th>\n",
       "      <th>content</th>\n",
       "      <th>sentiment</th>\n",
       "      <th>cut</th>\n",
       "      <th>pred</th>\n",
       "    </tr>\n",
       "  </thead>\n",
       "  <tbody>\n",
       "    <tr>\n",
       "      <th>0</th>\n",
       "      <td>喜欢那个打黑拳！！</td>\n",
       "      <td>1.0</td>\n",
       "      <td>喜欢 那个 打黑 拳 ！ ！</td>\n",
       "      <td>1</td>\n",
       "    </tr>\n",
       "    <tr>\n",
       "      <th>1</th>\n",
       "      <td>其实已经一口气狂看到了第七卷。前半的节奏还是意气风发无往不利，越到后面那种命运悲剧的感受越强...</td>\n",
       "      <td>1.0</td>\n",
       "      <td>其实 已经 一口气 狂 看到 了 第七卷 。 前半 的 节奏 还是 意气风发 无往不利 ， ...</td>\n",
       "      <td>1</td>\n",
       "    </tr>\n",
       "    <tr>\n",
       "      <th>2</th>\n",
       "      <td>2020年头的几天假期啥事没干，就看这几百万字了。真的要戒掉看书一定要看完的坏毛病。及时止损。</td>\n",
       "      <td>0.0</td>\n",
       "      <td>2020 年头 的 几天 假期 啥事 没干 ， 就 看 这 几百万 字 了 。 真的 要 戒...</td>\n",
       "      <td>0</td>\n",
       "    </tr>\n",
       "    <tr>\n",
       "      <th>3</th>\n",
       "      <td>适合消遣看看，破梗废话太多……</td>\n",
       "      <td>0.0</td>\n",
       "      <td>适合 消遣 看看 ， 破梗 废话 太 多 … …</td>\n",
       "      <td>0</td>\n",
       "    </tr>\n",
       "    <tr>\n",
       "      <th>4</th>\n",
       "      <td>N年前就看了几章看不下去，因为电视剧 重新拾起看了一遍，觉得还是看电视剧吧…范闲nb的一塌糊涂</td>\n",
       "      <td>0.0</td>\n",
       "      <td>N年 前 就 看 了 几章 看不下去 ， 因为 电视剧   重新 拾起 看 了 一遍 ， 觉...</td>\n",
       "      <td>0</td>\n",
       "    </tr>\n",
       "  </tbody>\n",
       "</table>\n",
       "</div>"
      ],
      "text/plain": [
       "                                             content  sentiment  \\\n",
       "0                                          喜欢那个打黑拳！！        1.0   \n",
       "1  其实已经一口气狂看到了第七卷。前半的节奏还是意气风发无往不利，越到后面那种命运悲剧的感受越强...        1.0   \n",
       "2    2020年头的几天假期啥事没干，就看这几百万字了。真的要戒掉看书一定要看完的坏毛病。及时止损。        0.0   \n",
       "3                                    适合消遣看看，破梗废话太多……        0.0   \n",
       "4    N年前就看了几章看不下去，因为电视剧 重新拾起看了一遍，觉得还是看电视剧吧…范闲nb的一塌糊涂        0.0   \n",
       "\n",
       "                                                 cut  pred  \n",
       "0                                     喜欢 那个 打黑 拳 ！ ！     1  \n",
       "1  其实 已经 一口气 狂 看到 了 第七卷 。 前半 的 节奏 还是 意气风发 无往不利 ， ...     1  \n",
       "2  2020 年头 的 几天 假期 啥事 没干 ， 就 看 这 几百万 字 了 。 真的 要 戒...     0  \n",
       "3                           适合 消遣 看看 ， 破梗 废话 太 多 … …     0  \n",
       "4  N年 前 就 看 了 几章 看不下去 ， 因为 电视剧   重新 拾起 看 了 一遍 ， 觉...     0  "
      ]
     },
     "execution_count": 17,
     "metadata": {},
     "output_type": "execute_result"
    }
   ],
   "source": [
    "df[\"pred\"] = preds\n",
    "df.head()"
   ]
  },
  {
   "cell_type": "code",
   "execution_count": 49,
   "metadata": {
    "ExecuteTime": {
     "end_time": "2020-02-14T04:48:28.246459Z",
     "start_time": "2020-02-14T04:48:28.241824Z"
    },
    "scrolled": true
   },
   "outputs": [
    {
     "name": "stdout",
     "output_type": "stream",
     "text": [
      "【评论内容】\n",
      "['喜欢那个打黑拳！！', '其实已经一口气狂看到了第七卷。前半的节奏还是意气风发无往不利，越到后面那种命运悲剧的感受越强，让人有些不忍看下去了。目前停在了萍萍遇见高达那儿，不知还会不会往后翻。另外，写的有那么一点啰嗦，加上意淫之爽的部分，跟大唐双龙传有点神似哈哈哈', '2020年头的几天假期啥事没干，就看这几百万字了。真的要戒掉看书一定要看完的坏毛病。及时止损。', '适合消遣看看，破梗废话太多……', 'N年前就看了几章看不下去，因为电视剧 重新拾起看了一遍，觉得还是看电视剧吧…范闲nb的一塌糊涂', '电视剧更好看一点', '全书读完。好久没看小说了，才回忆起来看小说是一件不错的事,读完略有怅然若失的感觉', '架构很酣畅，奈何主角光环太耀眼', '最近看了电视，改编太多，回忆当年看书的跌宕起伏的心情，甚觉太不过瘾，于是重新又看了一遍书。当年第一次看还是看的盗版实体书，猫腻还在连载中。学生上课偷看被没收了，我闲来无事翻翻，嗯，真香！', '比较完备的网络爽文', '唯一看过的男穿小说！是被安利去看的！就是铺陈开来挺慢的，但是越到后面越好看，从牛阑街刺杀开始，剧情渐入佳境哦！推荐！', '看完了全部的《庆余年》，感觉确实写得挺好的。文中的许多人形象都很丰满。长确实是太长了，而且主角就像是一路在开bug，稍显得传奇了一点。总的来说还是很享受的阅读过程~', '超强主角光环的转世重生YY文，无聊。', '意淫作品，没有任何文学价值！', '文字细腻，反转', '比较一般，感觉电视剧比书好看一些', '花了一个月才看完，感觉细节描写很吸引人，但是大的情节上不是很喜欢。', '第一次看男频小说，果然是男主开挂，一堆厉害人物围着转那种，也就是整个故事的脑洞挺厉害的', '一口气看完全套的爽文,其实精简一下没必要这么多篇幅', '比起烂大街的网络小说，要有趣一些。可悲的不是看《庆余年》类型的书，而是只看《庆余年》这一类书。', '网文都比古龙写得好', '没有电视剧那么好，也不错啦', '庆余年在网络小说中确实是难得一见的精品，故事精彩，节奏流畅，主角配角形象丰满立体。另一方面，由于身世+穿越带来的多重外挂，有着明显的快餐特性。主角的名字真是犯嫌啊，作者不爱，我也不爱，整个故事像是或者的庆帝与死去的叶轻眉故事的延伸，主角从头至尾也没走出他们的影响。', '大宗师挂太厉害，斗智看着还行，后期揭露的设定蛋疼', '为数不多电视剧远胜原著的。', '很差，很垃圾', '书还是比电视剧精彩', '从电视剧来的，看的书不多，这本应该是看的最多的，也看了很多评论，那些说不喜欢的我能理解，但是也不能用现在的眼光去审视十年前的作品吧。', '好油腻，我要吐了，和《雪中悍刀行》一样，是不是蜜汁自信的男作者都喜欢让主角一进城、一逛街就逛青楼，一逛青楼就能和花魁睡啊？花魁一定是刺杀失败反被男主驯服，这些男作者脑子里都在想什么啊？', '看了电视剧来看的，因为想知道结局。一路跳着看的，废话有点多，结局不喜欢，为脑洞给2分，最后一分给庆帝，可是结局他死了，很不开心。这样一个人怎么能死，要是我写的话，大概死的是范闲，我宁愿皇帝老儿天天有事没事怀念他一下。', '目前看起来还行', '太假了', '不知道分数为什么这么高，上来就开金手指，意淫之作', '鸡肋，还不如电视剧好看。', '不知道语言这么贫乏，恐怖、极为、变态几个词车轱辘来回用的小说为什么这么火…到处抄古诗影视剧情作为所谓的埋梗，写厉害写漂亮只停留在用形容词告诉你很厉害很漂亮的程度...大概我太老了，实在看不下去', '和几乎所有网络小说一样，8成以上是水分。而造成这个现象的原因就是按字数算钱。据说猫腻的稿费是一字三元，所以也不意外，能百万字写完的也要写个千万字。', '庆余年虽然融合了多种元素，但是不得不称赞一声猫腻，格局如此宏大但叙事仍然有条不紊，文笔流畅自然，男主装逼到位，深得我心，不会因为莫名其妙的原因就放弃自己的高科技。而且猫腻的文笔也是一大看点，网络小说中少见的细腻', '对比起来电视剧编剧有点牛的', '为挣钱胡编乱造想到哪写到哪拖拉无止境故意曲来折去凑字数的低水平网文，不值得浪费时间读完', '好看，架构宏大，草蛇灰线，不乏诙谐。我带着范闲成为大宗师的期待一往无前阅读，谁知他竟拼得自己浑厚破败，想来也是，从纯粹的武学境界到放眼天下掌握局势，手握制衡力量，也许这就是他个人人格和行事的成熟。讲讲cp，我自然是支持海棠朵朵的，所谓知心，可遇不可求，林婉儿大概属于范闲内心永远的温柔，知心人常常败于白月光，那又如何，我是非常喜欢海棠朵朵的。', '前面挺好的，整部读了一半，后面太长了读不下去了。', '看完电视剧才开始看书，书比电视剧的细节更丰富，一本读起来很有意思的书', '书其实挺一般般…', '确认一本书纪念我大约看完了一套庆余年吧，小说和电视剧的差距，或许就在于小说更加的符合我们90后的观感吧，曲径通幽处的剧情让人无可自拔，但也还是会有很多不合理之处会让我们挑刺，虽然猫腻很老练得平滑了过去，但还是有一些唐突。在我看完这本书的时候，才突然发现居然是10年前的产物，却又实在让人惊叹，当年穿越流达到高峰的时代，这部小说勾去了多少人的心魂。', '追剧追完第一季不过瘾来看的小说，什么玩意儿啊，不说情节啥的了，这文笔，连篇废话，读起来味同嚼蜡，这也能有8分？', '挺好看的，情节跌宕起伏。', '看了看原书才觉得改编是真的厉害...', '故事还不错，很喜欢里面的女性主角', '30章弃。看大家都不喜欢我也就放心了。啥玩意儿，电视还改的好看一点儿也没好看哪儿去', '男生看的网络爽文，就，很一般吧，作者文笔也很一般', '因为电视剧很火看了一下小说，不是太合我的阅读口味，宫斗型。后面的章节都是跳着看完，主要想看下神庙的设定。可能是早期网络小学，想象力较一般。', '文笔还行，剧情还算有逻辑，就是这大男子主义让我着实看不下去', '还挺有意思的，叶轻眉以为自己是玛丽苏女主，但其实是个炮灰，还有这作者取名也太随意了吧，大神都是这样吗，哈哈', '废话连篇，剧情拖沓，看了88章，实在看不下去了。', '被吹得这么狠，以为很好看…但实际上还是逃不开网络小说的架构。看了三十几章没兴趣读了', '招了电视剧的道去看的原著。作者脑洞很大，是一篇长长的爽文。', '四颗星，觉得收尾不够有力，前半段读得很开心。', '很好看很好看', '抄袭古诗有点雷人有点不要脸，不过那时几乎穿越主角都这么做', '看到大家都是差评我就放心了', '还是书对我更有吸引力，更有想象的空间', '第一卷挺有趣，穿越+种田还行。后面越来越崩……', '爱了爱了爱了', '文笔和故事都太差了吧，几句就能窥见作者脑回路的断层了。', '我认为这个并不是一本好小说！最差劲的在于小说中人物的性格特点，每个人都一样…还都是一样的脾气！', '厕纸', '最完美的还是想象，书比剧有趣多了', '什么狗屁剧情，作者三观不正！主角就是作者意淫的自己！屌丝一个。。猫腻就会写这种书，适合毛没长齐的看！', '剧情的套路就是起点升级流的小说，人物的设定也套路，文笔也一般，至少作者抛出来的梗还没赵本山的好笑，不明白评分怎么这么好。作者笔下流露出对自己的一种自恋。', '可能是因为我不适应看网文，只觉得男主毫无魅力，情节没啥特别，总之不好看！不过翻完小说我释怀了：电视剧我不爱看不能怪我嘛！就这小说能拍成啥好剧？为啥恋爱戏背诗戏演得那么尴尬？书里写得就很突兀啊！金庸的武侠小说也是男主角一路开挂还吸引n多好姑娘的故事，但至少人家的主角是饱满的、有魅力的，让我觉得郭靖一路遇贵人是因为他的人品，可以自然接受！噢张若昀千万不要宣传自己和范闲有什么相似，否则我就要连他一起不喜欢了！', '别人强烈推荐的，故事很棒很棒，但文笔不是我的菜', '文笔还是不错的，个人倒是觉得，电视剧的改编还挺出彩的，看小说以后的进展吧', '突然觉得有必要标注一下我看过这本书（不然你们以为我高三都在干嘛）', '故事有意思，文笔真是烂！', '看得爽就够了', '文风太过油腻 努力看了一大半 还是弃了。', '写的还可以，就是太啰嗦了。一看就是网文靠码字数来挣钱。', 'emmmm就算是穿越，你也是古代小说啊，爸爸妈妈这个称呼真的让我看不下去。', '好看是真好看 搞笑是真搞笑 猫腻牛逼 脑洞服气,就是一点 男频多种马本人理解 但是这本种马也太厉害了我滴乖乖 见一个意淫一个 遭不住遭不住', '抄袭李杜将北朝大家气得奄奄一息这事太恶心人，扣一星。', '开头一本让我觉得发现了新世界的大门，欲罢不能的读了五天五夜……', '用了好几天的空余时间看完了，略有不舍', '开挂流水账。大概是看过最自恋zb的小说，只有小颠簸没有真障碍，把抄袭唐诗三百首和红楼引为壮举、美其名曰传播文化成果，物化女性频频引起不适……听说要忍过前15%才会好看起来。好吧。', '感谢猫腻大大把我从无脑小白文中拯救了出来，庆余年就是太慢热而且伏笔太多了，需要很有耐心才能看下去。但是真的好看，情节也严密，人物也丰满，描写也细致，不然不会被那么多人评为神书', '没有读到80％的人没资格评论庆余年。', '男主金手指太明显了 感情线也安排的莫名其妙 人物性格设定更是违背人性的本质 悬念牵强 总体来说很失望', '看那么多网文印象深刻的也就那几个', '每个人物都挺喜欢', '权谋部分其实很好玩。全书最喜欢的是陈萍萍，翻云覆雨，我自岿然不动。所以陈萍萍被杀的时候是真的难受，全书一直在说男主是理想主义者，其实陈萍萍才是。结尾不喜欢。', '超级好看的小说', '第一卷废话真的多。', '最后的脑洞真是可以的。', '一环接一环!丝丝入扣!欲罢不能!这是我读这本书最大的感受,刚刚读完这本书时的心情，说不好，心里有些不好受，不说了，谁想看自己看吧！', '整体构思赞，很多细节都处理的恰到好处，读起来意犹未尽', '精彩的权谋小说', '网络爽文就是停不下来  断断续续看完整本。 后期驾驭人物还是有点吃力了。', '第n次看，依旧回味无穷，只可惜猫腻大大现如今笔力不如从前了……', '说实话 还可以 虽然剧情一直在一个玛丽苏生了一个杰克苏上面打转 逻辑上也经常见不通顺 但有一些片段性的华章溢彩', '看一半弃了', '背景很枯燥很难懂']\n"
     ]
    }
   ],
   "source": [
    "print(\"【评论内容】\")\n",
    "print(list(df[\"content\"]))"
   ]
  },
  {
   "cell_type": "code",
   "execution_count": 51,
   "metadata": {
    "ExecuteTime": {
     "end_time": "2020-02-14T04:48:40.479232Z",
     "start_time": "2020-02-14T04:48:40.476037Z"
    }
   },
   "outputs": [
    {
     "name": "stdout",
     "output_type": "stream",
     "text": [
      "【情感分析】\n",
      "[1, 1, 0, 0, 0, 0, 1, 1, 1, 0, 1, 1, 0, 0, 1, 1, 1, 1, 0, 1, 0, 1, 1, 1, 0, 0, 1, 1, 0, 0, 0, 0, 0, 0, 0, 0, 1, 0, 0, 1, 0, 1, 1, 1, 0, 1, 0, 1, 0, 0, 0, 0, 1, 0, 0, 0, 1, 1, 0, 0, 1, 1, 1, 0, 0, 0, 1, 0, 0, 0, 1, 1, 1, 1, 1, 0, 0, 0, 1, 0, 1, 1, 0, 1, 1, 0, 1, 1, 1, 1, 0, 1, 1, 1, 1, 0, 1, 1, 0, 0]\n"
     ]
    }
   ],
   "source": [
    "print(\"【情感分析】\")\n",
    "print(list(df[\"pred\"]))"
   ]
  },
  {
   "cell_type": "code",
   "execution_count": 45,
   "metadata": {
    "ExecuteTime": {
     "end_time": "2020-02-14T04:47:37.311275Z",
     "start_time": "2020-02-14T04:47:37.306157Z"
    }
   },
   "outputs": [
    {
     "name": "stdout",
     "output_type": "stream",
     "text": [
      "预测数据总条数：100\n",
      "预测正确的个数：94\n",
      "识别正确率：94.00%\n"
     ]
    }
   ],
   "source": [
    "# 手动标注的原始结果列表\n",
    "origin_list = list(df[\"sentiment\"])\n",
    "# 预测结果的列表\n",
    "predict = list(df[\"pred\"])\n",
    "\n",
    "right_count = 0\n",
    "for i in range(100):\n",
    "    if origin_list[i] == predict[i]:\n",
    "        right_count += 1\n",
    "\n",
    "# 计算模型的准确率\n",
    "total_count = df.shape[0]  # 训练数据总条数\n",
    "\n",
    "print(\"预测数据总条数：{}\".format(total_count))\n",
    "print(\"预测正确的个数：{}\".format(right_count))\n",
    "print(\"识别正确率：{:.2f}%\".format((right_count / total_count) * 100))"
   ]
  },
  {
   "cell_type": "code",
   "execution_count": 53,
   "metadata": {
    "ExecuteTime": {
     "end_time": "2020-02-14T04:50:55.578087Z",
     "start_time": "2020-02-14T04:50:55.549973Z"
    }
   },
   "outputs": [
    {
     "data": {
      "text/html": [
       "<div>\n",
       "<style scoped>\n",
       "    .dataframe tbody tr th:only-of-type {\n",
       "        vertical-align: middle;\n",
       "    }\n",
       "\n",
       "    .dataframe tbody tr th {\n",
       "        vertical-align: top;\n",
       "    }\n",
       "\n",
       "    .dataframe thead th {\n",
       "        text-align: right;\n",
       "    }\n",
       "</style>\n",
       "<table border=\"1\" class=\"dataframe\">\n",
       "  <thead>\n",
       "    <tr style=\"text-align: right;\">\n",
       "      <th></th>\n",
       "      <th>评论内容</th>\n",
       "      <th>情感分析</th>\n",
       "    </tr>\n",
       "  </thead>\n",
       "  <tbody>\n",
       "    <tr>\n",
       "      <th>0</th>\n",
       "      <td>喜欢那个打黑拳！！</td>\n",
       "      <td>1</td>\n",
       "    </tr>\n",
       "    <tr>\n",
       "      <th>1</th>\n",
       "      <td>其实已经一口气狂看到了第七卷。前半的节奏还是意气风发无往不利，越到后面那种命运悲剧的感受越强...</td>\n",
       "      <td>1</td>\n",
       "    </tr>\n",
       "    <tr>\n",
       "      <th>2</th>\n",
       "      <td>2020年头的几天假期啥事没干，就看这几百万字了。真的要戒掉看书一定要看完的坏毛病。及时止损。</td>\n",
       "      <td>0</td>\n",
       "    </tr>\n",
       "    <tr>\n",
       "      <th>3</th>\n",
       "      <td>适合消遣看看，破梗废话太多……</td>\n",
       "      <td>0</td>\n",
       "    </tr>\n",
       "    <tr>\n",
       "      <th>4</th>\n",
       "      <td>N年前就看了几章看不下去，因为电视剧 重新拾起看了一遍，觉得还是看电视剧吧…范闲nb的一塌糊涂</td>\n",
       "      <td>0</td>\n",
       "    </tr>\n",
       "    <tr>\n",
       "      <th>5</th>\n",
       "      <td>电视剧更好看一点</td>\n",
       "      <td>0</td>\n",
       "    </tr>\n",
       "    <tr>\n",
       "      <th>6</th>\n",
       "      <td>全书读完。好久没看小说了，才回忆起来看小说是一件不错的事,读完略有怅然若失的感觉</td>\n",
       "      <td>1</td>\n",
       "    </tr>\n",
       "    <tr>\n",
       "      <th>7</th>\n",
       "      <td>架构很酣畅，奈何主角光环太耀眼</td>\n",
       "      <td>1</td>\n",
       "    </tr>\n",
       "    <tr>\n",
       "      <th>8</th>\n",
       "      <td>最近看了电视，改编太多，回忆当年看书的跌宕起伏的心情，甚觉太不过瘾，于是重新又看了一遍书。当...</td>\n",
       "      <td>1</td>\n",
       "    </tr>\n",
       "    <tr>\n",
       "      <th>9</th>\n",
       "      <td>比较完备的网络爽文</td>\n",
       "      <td>0</td>\n",
       "    </tr>\n",
       "    <tr>\n",
       "      <th>10</th>\n",
       "      <td>唯一看过的男穿小说！是被安利去看的！就是铺陈开来挺慢的，但是越到后面越好看，从牛阑街刺杀开始...</td>\n",
       "      <td>1</td>\n",
       "    </tr>\n",
       "    <tr>\n",
       "      <th>11</th>\n",
       "      <td>看完了全部的《庆余年》，感觉确实写得挺好的。文中的许多人形象都很丰满。长确实是太长了，而且主...</td>\n",
       "      <td>1</td>\n",
       "    </tr>\n",
       "    <tr>\n",
       "      <th>12</th>\n",
       "      <td>超强主角光环的转世重生YY文，无聊。</td>\n",
       "      <td>0</td>\n",
       "    </tr>\n",
       "    <tr>\n",
       "      <th>13</th>\n",
       "      <td>意淫作品，没有任何文学价值！</td>\n",
       "      <td>0</td>\n",
       "    </tr>\n",
       "    <tr>\n",
       "      <th>14</th>\n",
       "      <td>文字细腻，反转</td>\n",
       "      <td>1</td>\n",
       "    </tr>\n",
       "    <tr>\n",
       "      <th>15</th>\n",
       "      <td>比较一般，感觉电视剧比书好看一些</td>\n",
       "      <td>1</td>\n",
       "    </tr>\n",
       "    <tr>\n",
       "      <th>16</th>\n",
       "      <td>花了一个月才看完，感觉细节描写很吸引人，但是大的情节上不是很喜欢。</td>\n",
       "      <td>1</td>\n",
       "    </tr>\n",
       "    <tr>\n",
       "      <th>17</th>\n",
       "      <td>第一次看男频小说，果然是男主开挂，一堆厉害人物围着转那种，也就是整个故事的脑洞挺厉害的</td>\n",
       "      <td>1</td>\n",
       "    </tr>\n",
       "    <tr>\n",
       "      <th>18</th>\n",
       "      <td>一口气看完全套的爽文,其实精简一下没必要这么多篇幅</td>\n",
       "      <td>0</td>\n",
       "    </tr>\n",
       "    <tr>\n",
       "      <th>19</th>\n",
       "      <td>比起烂大街的网络小说，要有趣一些。可悲的不是看《庆余年》类型的书，而是只看《庆余年》这一类书。</td>\n",
       "      <td>1</td>\n",
       "    </tr>\n",
       "    <tr>\n",
       "      <th>20</th>\n",
       "      <td>网文都比古龙写得好</td>\n",
       "      <td>0</td>\n",
       "    </tr>\n",
       "    <tr>\n",
       "      <th>21</th>\n",
       "      <td>没有电视剧那么好，也不错啦</td>\n",
       "      <td>1</td>\n",
       "    </tr>\n",
       "    <tr>\n",
       "      <th>22</th>\n",
       "      <td>庆余年在网络小说中确实是难得一见的精品，故事精彩，节奏流畅，主角配角形象丰满立体。另一方面，...</td>\n",
       "      <td>1</td>\n",
       "    </tr>\n",
       "    <tr>\n",
       "      <th>23</th>\n",
       "      <td>大宗师挂太厉害，斗智看着还行，后期揭露的设定蛋疼</td>\n",
       "      <td>1</td>\n",
       "    </tr>\n",
       "    <tr>\n",
       "      <th>24</th>\n",
       "      <td>为数不多电视剧远胜原著的。</td>\n",
       "      <td>0</td>\n",
       "    </tr>\n",
       "    <tr>\n",
       "      <th>25</th>\n",
       "      <td>很差，很垃圾</td>\n",
       "      <td>0</td>\n",
       "    </tr>\n",
       "    <tr>\n",
       "      <th>26</th>\n",
       "      <td>书还是比电视剧精彩</td>\n",
       "      <td>1</td>\n",
       "    </tr>\n",
       "    <tr>\n",
       "      <th>27</th>\n",
       "      <td>从电视剧来的，看的书不多，这本应该是看的最多的，也看了很多评论，那些说不喜欢的我能理解，但是...</td>\n",
       "      <td>1</td>\n",
       "    </tr>\n",
       "    <tr>\n",
       "      <th>28</th>\n",
       "      <td>好油腻，我要吐了，和《雪中悍刀行》一样，是不是蜜汁自信的男作者都喜欢让主角一进城、一逛街就逛...</td>\n",
       "      <td>0</td>\n",
       "    </tr>\n",
       "    <tr>\n",
       "      <th>29</th>\n",
       "      <td>看了电视剧来看的，因为想知道结局。一路跳着看的，废话有点多，结局不喜欢，为脑洞给2分，最后一...</td>\n",
       "      <td>0</td>\n",
       "    </tr>\n",
       "    <tr>\n",
       "      <th>...</th>\n",
       "      <td>...</td>\n",
       "      <td>...</td>\n",
       "    </tr>\n",
       "    <tr>\n",
       "      <th>70</th>\n",
       "      <td>别人强烈推荐的，故事很棒很棒，但文笔不是我的菜</td>\n",
       "      <td>1</td>\n",
       "    </tr>\n",
       "    <tr>\n",
       "      <th>71</th>\n",
       "      <td>文笔还是不错的，个人倒是觉得，电视剧的改编还挺出彩的，看小说以后的进展吧</td>\n",
       "      <td>1</td>\n",
       "    </tr>\n",
       "    <tr>\n",
       "      <th>72</th>\n",
       "      <td>突然觉得有必要标注一下我看过这本书（不然你们以为我高三都在干嘛）</td>\n",
       "      <td>1</td>\n",
       "    </tr>\n",
       "    <tr>\n",
       "      <th>73</th>\n",
       "      <td>故事有意思，文笔真是烂！</td>\n",
       "      <td>1</td>\n",
       "    </tr>\n",
       "    <tr>\n",
       "      <th>74</th>\n",
       "      <td>看得爽就够了</td>\n",
       "      <td>1</td>\n",
       "    </tr>\n",
       "    <tr>\n",
       "      <th>75</th>\n",
       "      <td>文风太过油腻 努力看了一大半 还是弃了。</td>\n",
       "      <td>0</td>\n",
       "    </tr>\n",
       "    <tr>\n",
       "      <th>76</th>\n",
       "      <td>写的还可以，就是太啰嗦了。一看就是网文靠码字数来挣钱。</td>\n",
       "      <td>0</td>\n",
       "    </tr>\n",
       "    <tr>\n",
       "      <th>77</th>\n",
       "      <td>emmmm就算是穿越，你也是古代小说啊，爸爸妈妈这个称呼真的让我看不下去。</td>\n",
       "      <td>0</td>\n",
       "    </tr>\n",
       "    <tr>\n",
       "      <th>78</th>\n",
       "      <td>好看是真好看 搞笑是真搞笑 猫腻牛逼 脑洞服气,就是一点 男频多种马本人理解 但是这本种马也...</td>\n",
       "      <td>1</td>\n",
       "    </tr>\n",
       "    <tr>\n",
       "      <th>79</th>\n",
       "      <td>抄袭李杜将北朝大家气得奄奄一息这事太恶心人，扣一星。</td>\n",
       "      <td>0</td>\n",
       "    </tr>\n",
       "    <tr>\n",
       "      <th>80</th>\n",
       "      <td>开头一本让我觉得发现了新世界的大门，欲罢不能的读了五天五夜……</td>\n",
       "      <td>1</td>\n",
       "    </tr>\n",
       "    <tr>\n",
       "      <th>81</th>\n",
       "      <td>用了好几天的空余时间看完了，略有不舍</td>\n",
       "      <td>1</td>\n",
       "    </tr>\n",
       "    <tr>\n",
       "      <th>82</th>\n",
       "      <td>开挂流水账。大概是看过最自恋zb的小说，只有小颠簸没有真障碍，把抄袭唐诗三百首和红楼引为壮举...</td>\n",
       "      <td>0</td>\n",
       "    </tr>\n",
       "    <tr>\n",
       "      <th>83</th>\n",
       "      <td>感谢猫腻大大把我从无脑小白文中拯救了出来，庆余年就是太慢热而且伏笔太多了，需要很有耐心才能看...</td>\n",
       "      <td>1</td>\n",
       "    </tr>\n",
       "    <tr>\n",
       "      <th>84</th>\n",
       "      <td>没有读到80％的人没资格评论庆余年。</td>\n",
       "      <td>1</td>\n",
       "    </tr>\n",
       "    <tr>\n",
       "      <th>85</th>\n",
       "      <td>男主金手指太明显了 感情线也安排的莫名其妙 人物性格设定更是违背人性的本质 悬念牵强 总体来...</td>\n",
       "      <td>0</td>\n",
       "    </tr>\n",
       "    <tr>\n",
       "      <th>86</th>\n",
       "      <td>看那么多网文印象深刻的也就那几个</td>\n",
       "      <td>1</td>\n",
       "    </tr>\n",
       "    <tr>\n",
       "      <th>87</th>\n",
       "      <td>每个人物都挺喜欢</td>\n",
       "      <td>1</td>\n",
       "    </tr>\n",
       "    <tr>\n",
       "      <th>88</th>\n",
       "      <td>权谋部分其实很好玩。全书最喜欢的是陈萍萍，翻云覆雨，我自岿然不动。所以陈萍萍被杀的时候是真的...</td>\n",
       "      <td>1</td>\n",
       "    </tr>\n",
       "    <tr>\n",
       "      <th>89</th>\n",
       "      <td>超级好看的小说</td>\n",
       "      <td>1</td>\n",
       "    </tr>\n",
       "    <tr>\n",
       "      <th>90</th>\n",
       "      <td>第一卷废话真的多。</td>\n",
       "      <td>0</td>\n",
       "    </tr>\n",
       "    <tr>\n",
       "      <th>91</th>\n",
       "      <td>最后的脑洞真是可以的。</td>\n",
       "      <td>1</td>\n",
       "    </tr>\n",
       "    <tr>\n",
       "      <th>92</th>\n",
       "      <td>一环接一环!丝丝入扣!欲罢不能!这是我读这本书最大的感受,刚刚读完这本书时的心情，说不好，心...</td>\n",
       "      <td>1</td>\n",
       "    </tr>\n",
       "    <tr>\n",
       "      <th>93</th>\n",
       "      <td>整体构思赞，很多细节都处理的恰到好处，读起来意犹未尽</td>\n",
       "      <td>1</td>\n",
       "    </tr>\n",
       "    <tr>\n",
       "      <th>94</th>\n",
       "      <td>精彩的权谋小说</td>\n",
       "      <td>1</td>\n",
       "    </tr>\n",
       "    <tr>\n",
       "      <th>95</th>\n",
       "      <td>网络爽文就是停不下来  断断续续看完整本。 后期驾驭人物还是有点吃力了。</td>\n",
       "      <td>0</td>\n",
       "    </tr>\n",
       "    <tr>\n",
       "      <th>96</th>\n",
       "      <td>第n次看，依旧回味无穷，只可惜猫腻大大现如今笔力不如从前了……</td>\n",
       "      <td>1</td>\n",
       "    </tr>\n",
       "    <tr>\n",
       "      <th>97</th>\n",
       "      <td>说实话 还可以 虽然剧情一直在一个玛丽苏生了一个杰克苏上面打转 逻辑上也经常见不通顺 但有一...</td>\n",
       "      <td>1</td>\n",
       "    </tr>\n",
       "    <tr>\n",
       "      <th>98</th>\n",
       "      <td>看一半弃了</td>\n",
       "      <td>0</td>\n",
       "    </tr>\n",
       "    <tr>\n",
       "      <th>99</th>\n",
       "      <td>背景很枯燥很难懂</td>\n",
       "      <td>0</td>\n",
       "    </tr>\n",
       "  </tbody>\n",
       "</table>\n",
       "<p>100 rows × 2 columns</p>\n",
       "</div>"
      ],
      "text/plain": [
       "                                                 评论内容  情感分析\n",
       "0                                           喜欢那个打黑拳！！     1\n",
       "1   其实已经一口气狂看到了第七卷。前半的节奏还是意气风发无往不利，越到后面那种命运悲剧的感受越强...     1\n",
       "2     2020年头的几天假期啥事没干，就看这几百万字了。真的要戒掉看书一定要看完的坏毛病。及时止损。     0\n",
       "3                                     适合消遣看看，破梗废话太多……     0\n",
       "4     N年前就看了几章看不下去，因为电视剧 重新拾起看了一遍，觉得还是看电视剧吧…范闲nb的一塌糊涂     0\n",
       "5                                            电视剧更好看一点     0\n",
       "6            全书读完。好久没看小说了，才回忆起来看小说是一件不错的事,读完略有怅然若失的感觉     1\n",
       "7                                     架构很酣畅，奈何主角光环太耀眼     1\n",
       "8   最近看了电视，改编太多，回忆当年看书的跌宕起伏的心情，甚觉太不过瘾，于是重新又看了一遍书。当...     1\n",
       "9                                           比较完备的网络爽文     0\n",
       "10  唯一看过的男穿小说！是被安利去看的！就是铺陈开来挺慢的，但是越到后面越好看，从牛阑街刺杀开始...     1\n",
       "11  看完了全部的《庆余年》，感觉确实写得挺好的。文中的许多人形象都很丰满。长确实是太长了，而且主...     1\n",
       "12                                 超强主角光环的转世重生YY文，无聊。     0\n",
       "13                                     意淫作品，没有任何文学价值！     0\n",
       "14                                            文字细腻，反转     1\n",
       "15                                   比较一般，感觉电视剧比书好看一些     1\n",
       "16                  花了一个月才看完，感觉细节描写很吸引人，但是大的情节上不是很喜欢。     1\n",
       "17        第一次看男频小说，果然是男主开挂，一堆厉害人物围着转那种，也就是整个故事的脑洞挺厉害的     1\n",
       "18                          一口气看完全套的爽文,其实精简一下没必要这么多篇幅     0\n",
       "19    比起烂大街的网络小说，要有趣一些。可悲的不是看《庆余年》类型的书，而是只看《庆余年》这一类书。     1\n",
       "20                                          网文都比古龙写得好     0\n",
       "21                                      没有电视剧那么好，也不错啦     1\n",
       "22  庆余年在网络小说中确实是难得一见的精品，故事精彩，节奏流畅，主角配角形象丰满立体。另一方面，...     1\n",
       "23                           大宗师挂太厉害，斗智看着还行，后期揭露的设定蛋疼     1\n",
       "24                                      为数不多电视剧远胜原著的。     0\n",
       "25                                             很差，很垃圾     0\n",
       "26                                          书还是比电视剧精彩     1\n",
       "27  从电视剧来的，看的书不多，这本应该是看的最多的，也看了很多评论，那些说不喜欢的我能理解，但是...     1\n",
       "28  好油腻，我要吐了，和《雪中悍刀行》一样，是不是蜜汁自信的男作者都喜欢让主角一进城、一逛街就逛...     0\n",
       "29  看了电视剧来看的，因为想知道结局。一路跳着看的，废话有点多，结局不喜欢，为脑洞给2分，最后一...     0\n",
       "..                                                ...   ...\n",
       "70                            别人强烈推荐的，故事很棒很棒，但文笔不是我的菜     1\n",
       "71               文笔还是不错的，个人倒是觉得，电视剧的改编还挺出彩的，看小说以后的进展吧     1\n",
       "72                   突然觉得有必要标注一下我看过这本书（不然你们以为我高三都在干嘛）     1\n",
       "73                                       故事有意思，文笔真是烂！     1\n",
       "74                                             看得爽就够了     1\n",
       "75                               文风太过油腻 努力看了一大半 还是弃了。     0\n",
       "76                        写的还可以，就是太啰嗦了。一看就是网文靠码字数来挣钱。     0\n",
       "77              emmmm就算是穿越，你也是古代小说啊，爸爸妈妈这个称呼真的让我看不下去。     0\n",
       "78  好看是真好看 搞笑是真搞笑 猫腻牛逼 脑洞服气,就是一点 男频多种马本人理解 但是这本种马也...     1\n",
       "79                         抄袭李杜将北朝大家气得奄奄一息这事太恶心人，扣一星。     0\n",
       "80                    开头一本让我觉得发现了新世界的大门，欲罢不能的读了五天五夜……     1\n",
       "81                                 用了好几天的空余时间看完了，略有不舍     1\n",
       "82  开挂流水账。大概是看过最自恋zb的小说，只有小颠簸没有真障碍，把抄袭唐诗三百首和红楼引为壮举...     0\n",
       "83  感谢猫腻大大把我从无脑小白文中拯救了出来，庆余年就是太慢热而且伏笔太多了，需要很有耐心才能看...     1\n",
       "84                                 没有读到80％的人没资格评论庆余年。     1\n",
       "85  男主金手指太明显了 感情线也安排的莫名其妙 人物性格设定更是违背人性的本质 悬念牵强 总体来...     0\n",
       "86                                   看那么多网文印象深刻的也就那几个     1\n",
       "87                                           每个人物都挺喜欢     1\n",
       "88  权谋部分其实很好玩。全书最喜欢的是陈萍萍，翻云覆雨，我自岿然不动。所以陈萍萍被杀的时候是真的...     1\n",
       "89                                            超级好看的小说     1\n",
       "90                                          第一卷废话真的多。     0\n",
       "91                                        最后的脑洞真是可以的。     1\n",
       "92  一环接一环!丝丝入扣!欲罢不能!这是我读这本书最大的感受,刚刚读完这本书时的心情，说不好，心...     1\n",
       "93                         整体构思赞，很多细节都处理的恰到好处，读起来意犹未尽     1\n",
       "94                                            精彩的权谋小说     1\n",
       "95               网络爽文就是停不下来  断断续续看完整本。 后期驾驭人物还是有点吃力了。     0\n",
       "96                    第n次看，依旧回味无穷，只可惜猫腻大大现如今笔力不如从前了……     1\n",
       "97  说实话 还可以 虽然剧情一直在一个玛丽苏生了一个杰克苏上面打转 逻辑上也经常见不通顺 但有一...     1\n",
       "98                                              看一半弃了     0\n",
       "99                                           背景很枯燥很难懂     0\n",
       "\n",
       "[100 rows x 2 columns]"
      ]
     },
     "execution_count": 53,
     "metadata": {},
     "output_type": "execute_result"
    }
   ],
   "source": [
    "df[[\"content\", \"pred\"]].rename(columns={\"content\": \"评论内容\", \"pred\": \"情感分析\"})"
   ]
  },
  {
   "cell_type": "markdown",
   "metadata": {},
   "source": [
    "# 6 整体用户情感倾向-预测所有数据"
   ]
  },
  {
   "cell_type": "code",
   "execution_count": 21,
   "metadata": {
    "ExecuteTime": {
     "end_time": "2020-02-13T18:27:42.455250Z",
     "start_time": "2020-02-13T18:27:42.423762Z"
    },
    "scrolled": true
   },
   "outputs": [
    {
     "data": {
      "text/html": [
       "<div>\n",
       "<style scoped>\n",
       "    .dataframe tbody tr th:only-of-type {\n",
       "        vertical-align: middle;\n",
       "    }\n",
       "\n",
       "    .dataframe tbody tr th {\n",
       "        vertical-align: top;\n",
       "    }\n",
       "\n",
       "    .dataframe thead th {\n",
       "        text-align: right;\n",
       "    }\n",
       "</style>\n",
       "<table border=\"1\" class=\"dataframe\">\n",
       "  <thead>\n",
       "    <tr style=\"text-align: right;\">\n",
       "      <th></th>\n",
       "      <th>vote</th>\n",
       "      <th>user</th>\n",
       "      <th>user_url</th>\n",
       "      <th>star</th>\n",
       "      <th>level</th>\n",
       "      <th>release_time</th>\n",
       "      <th>content</th>\n",
       "    </tr>\n",
       "  </thead>\n",
       "  <tbody>\n",
       "    <tr>\n",
       "      <th>0</th>\n",
       "      <td>0</td>\n",
       "      <td>乐小妖</td>\n",
       "      <td>https://www.douban.com/people/184351511/</td>\n",
       "      <td>50.0</td>\n",
       "      <td>力荐</td>\n",
       "      <td>2020-01-06</td>\n",
       "      <td>喜欢那个打黑拳！！</td>\n",
       "    </tr>\n",
       "    <tr>\n",
       "      <th>1</th>\n",
       "      <td>0</td>\n",
       "      <td>非著名相声演员</td>\n",
       "      <td>https://www.douban.com/people/163544561/</td>\n",
       "      <td>30.0</td>\n",
       "      <td>还行</td>\n",
       "      <td>2020-01-06</td>\n",
       "      <td>还可以吧。</td>\n",
       "    </tr>\n",
       "    <tr>\n",
       "      <th>2</th>\n",
       "      <td>0</td>\n",
       "      <td>alexia</td>\n",
       "      <td>https://www.douban.com/people/alexia/</td>\n",
       "      <td>40.0</td>\n",
       "      <td>推荐</td>\n",
       "      <td>2020-01-06</td>\n",
       "      <td>其实已经一口气狂看到了第七卷。前半的节奏还是意气风发无往不利，越到后面那种命运悲剧的感受越强...</td>\n",
       "    </tr>\n",
       "    <tr>\n",
       "      <th>3</th>\n",
       "      <td>0</td>\n",
       "      <td>姚暴富</td>\n",
       "      <td>https://www.douban.com/people/l92599/</td>\n",
       "      <td>20.0</td>\n",
       "      <td>较差</td>\n",
       "      <td>2020-01-06</td>\n",
       "      <td>2020年头的几天假期啥事没干，就看这几百万字了。真的要戒掉看书一定要看完的坏毛病。及时止损。</td>\n",
       "    </tr>\n",
       "    <tr>\n",
       "      <th>4</th>\n",
       "      <td>0</td>\n",
       "      <td>刺猬</td>\n",
       "      <td>https://www.douban.com/people/wwwwww0211/</td>\n",
       "      <td>30.0</td>\n",
       "      <td>还行</td>\n",
       "      <td>2020-01-06</td>\n",
       "      <td>适合消遣看看，破梗废话太多……</td>\n",
       "    </tr>\n",
       "  </tbody>\n",
       "</table>\n",
       "</div>"
      ],
      "text/plain": [
       "   vote     user                                   user_url  star level  \\\n",
       "0     0      乐小妖   https://www.douban.com/people/184351511/  50.0    力荐   \n",
       "1     0  非著名相声演员   https://www.douban.com/people/163544561/  30.0    还行   \n",
       "2     0   alexia      https://www.douban.com/people/alexia/  40.0    推荐   \n",
       "3     0      姚暴富      https://www.douban.com/people/l92599/  20.0    较差   \n",
       "4     0       刺猬  https://www.douban.com/people/wwwwww0211/  30.0    还行   \n",
       "\n",
       "  release_time                                            content  \n",
       "0   2020-01-06                                          喜欢那个打黑拳！！  \n",
       "1   2020-01-06                                              还可以吧。  \n",
       "2   2020-01-06  其实已经一口气狂看到了第七卷。前半的节奏还是意气风发无往不利，越到后面那种命运悲剧的感受越强...  \n",
       "3   2020-01-06    2020年头的几天假期啥事没干，就看这几百万字了。真的要戒掉看书一定要看完的坏毛病。及时止损。  \n",
       "4   2020-01-06                                    适合消遣看看，破梗废话太多……  "
      ]
     },
     "execution_count": 21,
     "metadata": {},
     "output_type": "execute_result"
    }
   ],
   "source": [
    "# 载入数据\n",
    "new = pd.read_csv(\"data.csv\")  # 数据采集时间是：2020.01.06\n",
    "new.head()  # 查看数据前五行"
   ]
  },
  {
   "cell_type": "code",
   "execution_count": 22,
   "metadata": {
    "ExecuteTime": {
     "end_time": "2020-02-13T18:28:02.172607Z",
     "start_time": "2020-02-13T18:28:02.168930Z"
    }
   },
   "outputs": [],
   "source": [
    "# 数据只取出文本\n",
    "new = new[[\"content\"]]"
   ]
  },
  {
   "cell_type": "code",
   "execution_count": 23,
   "metadata": {
    "ExecuteTime": {
     "end_time": "2020-02-13T18:28:36.105900Z",
     "start_time": "2020-02-13T18:28:06.998640Z"
    }
   },
   "outputs": [
    {
     "name": "stderr",
     "output_type": "stream",
     "text": [
      "100%|██████████| 3374/3374 [00:29<00:00, 116.18it/s]\n"
     ]
    },
    {
     "data": {
      "text/plain": [
       "pred\n",
       "0    1822\n",
       "1    1552\n",
       "Name: pred, dtype: int64"
      ]
     },
     "execution_count": 23,
     "metadata": {},
     "output_type": "execute_result"
    }
   ],
   "source": [
    "# 分析我们爬取的所有书评论的情感倾向\n",
    "preds = []\n",
    "for i in tqdm(new[\"content\"]):\n",
    "    s = SnowNLP(i)\n",
    "    if s.sentiments >= 0.5:\n",
    "        preds.append(1)\n",
    "    else:\n",
    "        preds.append(0)\n",
    "\n",
    "new[\"pred\"] = preds\n",
    "new.groupby(\"pred\")[\"pred\"].count()"
   ]
  },
  {
   "cell_type": "code",
   "execution_count": 24,
   "metadata": {
    "ExecuteTime": {
     "end_time": "2020-02-13T18:28:42.150506Z",
     "start_time": "2020-02-13T18:28:42.133302Z"
    }
   },
   "outputs": [
    {
     "data": {
      "text/html": [
       "<div>\n",
       "<style scoped>\n",
       "    .dataframe tbody tr th:only-of-type {\n",
       "        vertical-align: middle;\n",
       "    }\n",
       "\n",
       "    .dataframe tbody tr th {\n",
       "        vertical-align: top;\n",
       "    }\n",
       "\n",
       "    .dataframe thead th {\n",
       "        text-align: right;\n",
       "    }\n",
       "</style>\n",
       "<table border=\"1\" class=\"dataframe\">\n",
       "  <thead>\n",
       "    <tr style=\"text-align: right;\">\n",
       "      <th></th>\n",
       "      <th>content</th>\n",
       "      <th>pred</th>\n",
       "    </tr>\n",
       "  </thead>\n",
       "  <tbody>\n",
       "    <tr>\n",
       "      <th>0</th>\n",
       "      <td>喜欢那个打黑拳！！</td>\n",
       "      <td>1</td>\n",
       "    </tr>\n",
       "    <tr>\n",
       "      <th>1</th>\n",
       "      <td>还可以吧。</td>\n",
       "      <td>0</td>\n",
       "    </tr>\n",
       "    <tr>\n",
       "      <th>2</th>\n",
       "      <td>其实已经一口气狂看到了第七卷。前半的节奏还是意气风发无往不利，越到后面那种命运悲剧的感受越强...</td>\n",
       "      <td>1</td>\n",
       "    </tr>\n",
       "    <tr>\n",
       "      <th>3</th>\n",
       "      <td>2020年头的几天假期啥事没干，就看这几百万字了。真的要戒掉看书一定要看完的坏毛病。及时止损。</td>\n",
       "      <td>0</td>\n",
       "    </tr>\n",
       "    <tr>\n",
       "      <th>4</th>\n",
       "      <td>适合消遣看看，破梗废话太多……</td>\n",
       "      <td>0</td>\n",
       "    </tr>\n",
       "    <tr>\n",
       "      <th>5</th>\n",
       "      <td>N年前就看了几章看不下去，因为电视剧 重新拾起看了一遍，觉得还是看电视剧吧…范闲nb的一塌糊涂</td>\n",
       "      <td>0</td>\n",
       "    </tr>\n",
       "    <tr>\n",
       "      <th>6</th>\n",
       "      <td>电视剧更好看一点</td>\n",
       "      <td>0</td>\n",
       "    </tr>\n",
       "    <tr>\n",
       "      <th>7</th>\n",
       "      <td>就觉得被自己已去世的妈抢占先机因而吃瘪倒有些娱乐。</td>\n",
       "      <td>0</td>\n",
       "    </tr>\n",
       "    <tr>\n",
       "      <th>8</th>\n",
       "      <td>网文只和时间有关</td>\n",
       "      <td>0</td>\n",
       "    </tr>\n",
       "    <tr>\n",
       "      <th>9</th>\n",
       "      <td>我居然看完了 因为杰克苏在弃书的边缘徘徊（不过毕竟考试周真的什么都看的下去\\n很明显的缺点是...</td>\n",
       "      <td>1</td>\n",
       "    </tr>\n",
       "    <tr>\n",
       "      <th>10</th>\n",
       "      <td>全书读完。好久没看小说了，才回忆起来看小说是一件不错的事\\n读完略有怅然若失的感觉</td>\n",
       "      <td>1</td>\n",
       "    </tr>\n",
       "    <tr>\n",
       "      <th>11</th>\n",
       "      <td>2020年1月5日，看完电视剧第一季不过瘾，找来小说看。</td>\n",
       "      <td>0</td>\n",
       "    </tr>\n",
       "    <tr>\n",
       "      <th>12</th>\n",
       "      <td>铺垫和背景的一卷，整卷略无趣。\\n在七卷中字数是最少的一本。</td>\n",
       "      <td>0</td>\n",
       "    </tr>\n",
       "    <tr>\n",
       "      <th>13</th>\n",
       "      <td>全书看了快一半，实在是没耐心了，男频爽文看过几本之后觉得太没意思了。</td>\n",
       "      <td>0</td>\n",
       "    </tr>\n",
       "    <tr>\n",
       "      <th>14</th>\n",
       "      <td>情节强行设置阴谋，流行只是因为内容上迎合了一些大众心理吧。</td>\n",
       "      <td>1</td>\n",
       "    </tr>\n",
       "    <tr>\n",
       "      <th>15</th>\n",
       "      <td>伪权谋，实际上还是爽文，不如叫做那些年一起帮过范闲的男孩。</td>\n",
       "      <td>0</td>\n",
       "    </tr>\n",
       "    <tr>\n",
       "      <th>16</th>\n",
       "      <td>架构很酣畅，奈何主角光环太耀眼</td>\n",
       "      <td>1</td>\n",
       "    </tr>\n",
       "    <tr>\n",
       "      <th>17</th>\n",
       "      <td>有点low</td>\n",
       "      <td>1</td>\n",
       "    </tr>\n",
       "    <tr>\n",
       "      <th>18</th>\n",
       "      <td>成人灵魂与婴儿身体交换之后以前一切的不利因素都变成了莫名的有利条件！故弄玄虚是真🐮\\n小时候...</td>\n",
       "      <td>0</td>\n",
       "    </tr>\n",
       "    <tr>\n",
       "      <th>19</th>\n",
       "      <td>最近看了电视，改编太多，回忆当年看书的跌宕起伏的心情，甚觉太不过瘾，于是重新又看了一遍书。\\...</td>\n",
       "      <td>1</td>\n",
       "    </tr>\n",
       "    <tr>\n",
       "      <th>20</th>\n",
       "      <td>男性爽文，文笔也一般。</td>\n",
       "      <td>0</td>\n",
       "    </tr>\n",
       "    <tr>\n",
       "      <th>21</th>\n",
       "      <td>剧情很直男，爽文</td>\n",
       "      <td>0</td>\n",
       "    </tr>\n",
       "    <tr>\n",
       "      <th>22</th>\n",
       "      <td>那么多的故事 那么多的传奇 其实满满都是叶轻眉.. 她的子嗣 她的朋友 她的爱慕者 她的手下...</td>\n",
       "      <td>0</td>\n",
       "    </tr>\n",
       "    <tr>\n",
       "      <th>23</th>\n",
       "      <td>忽略掉百分之五十的注水章节，令人生理不适的意淫“言情”剧情，亮瞎眼的主角光光光光光环，厚颜无...</td>\n",
       "      <td>0</td>\n",
       "    </tr>\n",
       "    <tr>\n",
       "      <th>24</th>\n",
       "      <td>庆余年是我读过都第一本网络连载小说</td>\n",
       "      <td>1</td>\n",
       "    </tr>\n",
       "    <tr>\n",
       "      <th>25</th>\n",
       "      <td>比较完备的网络爽文</td>\n",
       "      <td>0</td>\n",
       "    </tr>\n",
       "    <tr>\n",
       "      <th>26</th>\n",
       "      <td>唯一看过的男穿小说！是被安利去看的！就是铺陈开来挺慢的，但是越到后面越好看，从牛阑街刺杀开始...</td>\n",
       "      <td>1</td>\n",
       "    </tr>\n",
       "    <tr>\n",
       "      <th>27</th>\n",
       "      <td>看完了全部的《庆余年》，感觉确实写得挺好的。文中的许多人形象都很丰满。长确实是太长了，而且主...</td>\n",
       "      <td>1</td>\n",
       "    </tr>\n",
       "    <tr>\n",
       "      <th>28</th>\n",
       "      <td>看完了剧版和小说第一部，也看了知乎里全书概述，只能说小说第一部于全是而言只是个人成长和背景介...</td>\n",
       "      <td>0</td>\n",
       "    </tr>\n",
       "    <tr>\n",
       "      <th>29</th>\n",
       "      <td>超强主角光环的转世重生YY文，无聊。</td>\n",
       "      <td>0</td>\n",
       "    </tr>\n",
       "    <tr>\n",
       "      <th>...</th>\n",
       "      <td>...</td>\n",
       "      <td>...</td>\n",
       "    </tr>\n",
       "    <tr>\n",
       "      <th>3344</th>\n",
       "      <td>看完再说</td>\n",
       "      <td>1</td>\n",
       "    </tr>\n",
       "    <tr>\n",
       "      <th>3345</th>\n",
       "      <td>极赞！网络小说难得一见的文笔！</td>\n",
       "      <td>1</td>\n",
       "    </tr>\n",
       "    <tr>\n",
       "      <th>3346</th>\n",
       "      <td>在追!!</td>\n",
       "      <td>0</td>\n",
       "    </tr>\n",
       "    <tr>\n",
       "      <th>3347</th>\n",
       "      <td>虽然荒诞，却有些人性的悲凉</td>\n",
       "      <td>0</td>\n",
       "    </tr>\n",
       "    <tr>\n",
       "      <th>3348</th>\n",
       "      <td>内容是胡编乱造的，不过这书还是写得不错，我买了6本回家看，不错的消遣书。</td>\n",
       "      <td>0</td>\n",
       "    </tr>\n",
       "    <tr>\n",
       "      <th>3349</th>\n",
       "      <td>一夜诗三百。</td>\n",
       "      <td>0</td>\n",
       "    </tr>\n",
       "    <tr>\n",
       "      <th>3350</th>\n",
       "      <td>猫腻大大的另一部作品，一部穿越的小说，看似轻松却真正用心去写的。\\r\\n用心才能感受到它的。...</td>\n",
       "      <td>1</td>\n",
       "    </tr>\n",
       "    <tr>\n",
       "      <th>3351</th>\n",
       "      <td>政治就是勾心斗角</td>\n",
       "      <td>0</td>\n",
       "    </tr>\n",
       "    <tr>\n",
       "      <th>3352</th>\n",
       "      <td>和鲍勃一起看过的一本书</td>\n",
       "      <td>1</td>\n",
       "    </tr>\n",
       "    <tr>\n",
       "      <th>3353</th>\n",
       "      <td>写得用心 看得舒心</td>\n",
       "      <td>0</td>\n",
       "    </tr>\n",
       "    <tr>\n",
       "      <th>3354</th>\n",
       "      <td>看过最好的YY文，很阴谋，作者也很勤奋。</td>\n",
       "      <td>0</td>\n",
       "    </tr>\n",
       "    <tr>\n",
       "      <th>3355</th>\n",
       "      <td>范闲 这个名字肯定会记住很久</td>\n",
       "      <td>1</td>\n",
       "    </tr>\n",
       "    <tr>\n",
       "      <th>3356</th>\n",
       "      <td>大赞</td>\n",
       "      <td>1</td>\n",
       "    </tr>\n",
       "    <tr>\n",
       "      <th>3357</th>\n",
       "      <td>第七卷朝天子　 第七卷 天子 末章 后来</td>\n",
       "      <td>1</td>\n",
       "    </tr>\n",
       "    <tr>\n",
       "      <th>3358</th>\n",
       "      <td>铺设的也太宽了，看完第六本，不知道什么时候才能等到结局。\\r\\n情节绵长以外不失为一本很好的...</td>\n",
       "      <td>0</td>\n",
       "    </tr>\n",
       "    <tr>\n",
       "      <th>3359</th>\n",
       "      <td>哦嗬嗬嗬小闲闲</td>\n",
       "      <td>1</td>\n",
       "    </tr>\n",
       "    <tr>\n",
       "      <th>3360</th>\n",
       "      <td>很俗气的名字\\n很棒的书\\n又一大神力作</td>\n",
       "      <td>1</td>\n",
       "    </tr>\n",
       "    <tr>\n",
       "      <th>3361</th>\n",
       "      <td>酣畅淋漓</td>\n",
       "      <td>1</td>\n",
       "    </tr>\n",
       "    <tr>\n",
       "      <th>3362</th>\n",
       "      <td>穿越文就是招人待见啊</td>\n",
       "      <td>1</td>\n",
       "    </tr>\n",
       "    <tr>\n",
       "      <th>3363</th>\n",
       "      <td>快餐</td>\n",
       "      <td>1</td>\n",
       "    </tr>\n",
       "    <tr>\n",
       "      <th>3364</th>\n",
       "      <td>刚看完第一部，感觉跟故事一般般，没封面上的推荐来的这么精彩，不知道后续几部怎么样</td>\n",
       "      <td>1</td>\n",
       "    </tr>\n",
       "    <tr>\n",
       "      <th>3365</th>\n",
       "      <td>好书</td>\n",
       "      <td>0</td>\n",
       "    </tr>\n",
       "    <tr>\n",
       "      <th>3366</th>\n",
       "      <td>写到这么多字了整个结构也没散掉，实属难得啊</td>\n",
       "      <td>0</td>\n",
       "    </tr>\n",
       "    <tr>\n",
       "      <th>3367</th>\n",
       "      <td>监天察地不肯退，笑看英雄不等闲</td>\n",
       "      <td>0</td>\n",
       "    </tr>\n",
       "    <tr>\n",
       "      <th>3368</th>\n",
       "      <td>终于要影视化了，虽说不是心目中的演员，但还不错。</td>\n",
       "      <td>1</td>\n",
       "    </tr>\n",
       "    <tr>\n",
       "      <th>3369</th>\n",
       "      <td>小范大人~~哎！:)</td>\n",
       "      <td>1</td>\n",
       "    </tr>\n",
       "    <tr>\n",
       "      <th>3370</th>\n",
       "      <td>巨好看咯．</td>\n",
       "      <td>0</td>\n",
       "    </tr>\n",
       "    <tr>\n",
       "      <th>3371</th>\n",
       "      <td>刚开始时文化背景有点乱，稍微YY了点。总体还是好的。</td>\n",
       "      <td>0</td>\n",
       "    </tr>\n",
       "    <tr>\n",
       "      <th>3372</th>\n",
       "      <td>穿越架空。此系列已读完，不再罗列……</td>\n",
       "      <td>1</td>\n",
       "    </tr>\n",
       "    <tr>\n",
       "      <th>3373</th>\n",
       "      <td>居然很好看呢</td>\n",
       "      <td>1</td>\n",
       "    </tr>\n",
       "  </tbody>\n",
       "</table>\n",
       "<p>3374 rows × 2 columns</p>\n",
       "</div>"
      ],
      "text/plain": [
       "                                                content  pred\n",
       "0                                             喜欢那个打黑拳！！     1\n",
       "1                                                 还可以吧。     0\n",
       "2     其实已经一口气狂看到了第七卷。前半的节奏还是意气风发无往不利，越到后面那种命运悲剧的感受越强...     1\n",
       "3       2020年头的几天假期啥事没干，就看这几百万字了。真的要戒掉看书一定要看完的坏毛病。及时止损。     0\n",
       "4                                       适合消遣看看，破梗废话太多……     0\n",
       "5       N年前就看了几章看不下去，因为电视剧 重新拾起看了一遍，觉得还是看电视剧吧…范闲nb的一塌糊涂     0\n",
       "6                                              电视剧更好看一点     0\n",
       "7                             就觉得被自己已去世的妈抢占先机因而吃瘪倒有些娱乐。     0\n",
       "8                                              网文只和时间有关     0\n",
       "9     我居然看完了 因为杰克苏在弃书的边缘徘徊（不过毕竟考试周真的什么都看的下去\\n很明显的缺点是...     1\n",
       "10            全书读完。好久没看小说了，才回忆起来看小说是一件不错的事\\n读完略有怅然若失的感觉     1\n",
       "11                         2020年1月5日，看完电视剧第一季不过瘾，找来小说看。     0\n",
       "12                       铺垫和背景的一卷，整卷略无趣。\\n在七卷中字数是最少的一本。     0\n",
       "13                   全书看了快一半，实在是没耐心了，男频爽文看过几本之后觉得太没意思了。     0\n",
       "14                        情节强行设置阴谋，流行只是因为内容上迎合了一些大众心理吧。     1\n",
       "15                        伪权谋，实际上还是爽文，不如叫做那些年一起帮过范闲的男孩。     0\n",
       "16                                      架构很酣畅，奈何主角光环太耀眼     1\n",
       "17                                                有点low     1\n",
       "18    成人灵魂与婴儿身体交换之后以前一切的不利因素都变成了莫名的有利条件！故弄玄虚是真🐮\\n小时候...     0\n",
       "19    最近看了电视，改编太多，回忆当年看书的跌宕起伏的心情，甚觉太不过瘾，于是重新又看了一遍书。\\...     1\n",
       "20                                          男性爽文，文笔也一般。     0\n",
       "21                                             剧情很直男，爽文     0\n",
       "22    那么多的故事 那么多的传奇 其实满满都是叶轻眉.. 她的子嗣 她的朋友 她的爱慕者 她的手下...     0\n",
       "23    忽略掉百分之五十的注水章节，令人生理不适的意淫“言情”剧情，亮瞎眼的主角光光光光光环，厚颜无...     0\n",
       "24                                    庆余年是我读过都第一本网络连载小说     1\n",
       "25                                            比较完备的网络爽文     0\n",
       "26    唯一看过的男穿小说！是被安利去看的！就是铺陈开来挺慢的，但是越到后面越好看，从牛阑街刺杀开始...     1\n",
       "27    看完了全部的《庆余年》，感觉确实写得挺好的。文中的许多人形象都很丰满。长确实是太长了，而且主...     1\n",
       "28    看完了剧版和小说第一部，也看了知乎里全书概述，只能说小说第一部于全是而言只是个人成长和背景介...     0\n",
       "29                                   超强主角光环的转世重生YY文，无聊。     0\n",
       "...                                                 ...   ...\n",
       "3344                                               看完再说     1\n",
       "3345                                    极赞！网络小说难得一见的文笔！     1\n",
       "3346                                               在追!!     0\n",
       "3347                                      虽然荒诞，却有些人性的悲凉     0\n",
       "3348               内容是胡编乱造的，不过这书还是写得不错，我买了6本回家看，不错的消遣书。     0\n",
       "3349                                             一夜诗三百。     0\n",
       "3350  猫腻大大的另一部作品，一部穿越的小说，看似轻松却真正用心去写的。\\r\\n用心才能感受到它的。...     1\n",
       "3351                                           政治就是勾心斗角     0\n",
       "3352                                        和鲍勃一起看过的一本书     1\n",
       "3353                                          写得用心 看得舒心     0\n",
       "3354                               看过最好的YY文，很阴谋，作者也很勤奋。     0\n",
       "3355                                     范闲 这个名字肯定会记住很久     1\n",
       "3356                                                 大赞     1\n",
       "3357                               第七卷朝天子　 第七卷 天子 末章 后来     1\n",
       "3358  铺设的也太宽了，看完第六本，不知道什么时候才能等到结局。\\r\\n情节绵长以外不失为一本很好的...     0\n",
       "3359                                            哦嗬嗬嗬小闲闲     1\n",
       "3360                               很俗气的名字\\n很棒的书\\n又一大神力作     1\n",
       "3361                                               酣畅淋漓     1\n",
       "3362                                         穿越文就是招人待见啊     1\n",
       "3363                                                 快餐     1\n",
       "3364           刚看完第一部，感觉跟故事一般般，没封面上的推荐来的这么精彩，不知道后续几部怎么样     1\n",
       "3365                                                 好书     0\n",
       "3366                              写到这么多字了整个结构也没散掉，实属难得啊     0\n",
       "3367                                    监天察地不肯退，笑看英雄不等闲     0\n",
       "3368                           终于要影视化了，虽说不是心目中的演员，但还不错。     1\n",
       "3369                                         小范大人~~哎！:)     1\n",
       "3370                                              巨好看咯．     0\n",
       "3371                         刚开始时文化背景有点乱，稍微YY了点。总体还是好的。     0\n",
       "3372                                 穿越架空。此系列已读完，不再罗列……     1\n",
       "3373                                             居然很好看呢     1\n",
       "\n",
       "[3374 rows x 2 columns]"
      ]
     },
     "execution_count": 24,
     "metadata": {},
     "output_type": "execute_result"
    }
   ],
   "source": [
    "# 查看数据\n",
    "new[[\"content\", \"pred\"]]"
   ]
  },
  {
   "cell_type": "code",
   "execution_count": 25,
   "metadata": {
    "ExecuteTime": {
     "end_time": "2020-02-13T18:28:43.350151Z",
     "start_time": "2020-02-13T18:28:43.228387Z"
    }
   },
   "outputs": [
    {
     "data": {
      "image/png": "[encoded data removed]",
      "text/plain": [
       "<Figure size 432x648 with 1 Axes>"
      ]
     },
     "metadata": {},
     "output_type": "display_data"
    }
   ],
   "source": [
    "# 可视化 情感倾向分布\n",
    "labels = ['积极倾向','消极倾向']\n",
    "sizes = [1822, 1552]\n",
    "explode = [0, 0.1]\n",
    "plt.figure(figsize=(6,9))\n",
    "plt.pie(sizes,labels=labels,explode=explode,autopct='%1.1f%%',shadow=False,startangle=150,textprops={'fontsize': 16})\n",
    "\n",
    "plt.title(\"情感倾向分布\", fontsize=18)\n",
    "plt.show()  "
   ]
  },
  {
   "cell_type": "code",
   "execution_count": null,
   "metadata": {},
   "outputs": [],
   "source": []
  }
 ],
 "metadata": {
  "kernelspec": {
   "display_name": "Python 3",
   "language": "python",
   "name": "python3"
  },
  "language_info": {
   "codemirror_mode": {
    "name": "ipython",
    "version": 3
   },
   "file_extension": ".py",
   "mimetype": "text/x-python",
   "name": "python",
   "nbconvert_exporter": "python",
   "pygments_lexer": "ipython3",
   "version": "3.6.5"
  }
 },
 "nbformat": 4,
 "nbformat_minor": 2
}
