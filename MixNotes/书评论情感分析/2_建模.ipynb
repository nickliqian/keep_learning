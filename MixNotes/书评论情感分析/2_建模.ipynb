{
 "cells": [
  {
   "cell_type": "code",
   "execution_count": 1,
   "metadata": {
    "ExecuteTime": {
     "end_time": "2020-02-16T14:45:30.066126Z",
     "start_time": "2020-02-16T14:45:26.763055Z"
    }
   },
   "outputs": [],
   "source": [
    "# 导入需要的包\n",
    "import pandas as pd\n",
    "import jieba\n",
    "from snownlp import SnowNLP\n",
    "from snownlp import sentiment"
   ]
  },
  {
   "cell_type": "code",
   "execution_count": 2,
   "metadata": {
    "ExecuteTime": {
     "end_time": "2020-02-16T14:45:30.091800Z",
     "start_time": "2020-02-16T14:45:30.067687Z"
    }
   },
   "outputs": [
    {
     "data": {
      "text/html": [
       "<div>\n",
       "<style scoped>\n",
       "    .dataframe tbody tr th:only-of-type {\n",
       "        vertical-align: middle;\n",
       "    }\n",
       "\n",
       "    .dataframe tbody tr th {\n",
       "        vertical-align: top;\n",
       "    }\n",
       "\n",
       "    .dataframe thead th {\n",
       "        text-align: right;\n",
       "    }\n",
       "</style>\n",
       "<table border=\"1\" class=\"dataframe\">\n",
       "  <thead>\n",
       "    <tr style=\"text-align: right;\">\n",
       "      <th></th>\n",
       "      <th>Unnamed: 0</th>\n",
       "      <th>content</th>\n",
       "      <th>sentiment</th>\n",
       "    </tr>\n",
       "  </thead>\n",
       "  <tbody>\n",
       "    <tr>\n",
       "      <th>0</th>\n",
       "      <td>0</td>\n",
       "      <td>喜欢那个打黑拳！！</td>\n",
       "      <td>1.0</td>\n",
       "    </tr>\n",
       "    <tr>\n",
       "      <th>1</th>\n",
       "      <td>2</td>\n",
       "      <td>其实已经一口气狂看到了第七卷。前半的节奏还是意气风发无往不利，越到后面那种命运悲剧的感受越强...</td>\n",
       "      <td>1.0</td>\n",
       "    </tr>\n",
       "    <tr>\n",
       "      <th>2</th>\n",
       "      <td>3</td>\n",
       "      <td>2020年头的几天假期啥事没干，就看这几百万字了。真的要戒掉看书一定要看完的坏毛病。及时止损。</td>\n",
       "      <td>0.0</td>\n",
       "    </tr>\n",
       "    <tr>\n",
       "      <th>3</th>\n",
       "      <td>4</td>\n",
       "      <td>适合消遣看看，破梗废话太多……</td>\n",
       "      <td>0.0</td>\n",
       "    </tr>\n",
       "    <tr>\n",
       "      <th>4</th>\n",
       "      <td>5</td>\n",
       "      <td>N年前就看了几章看不下去，因为电视剧 重新拾起看了一遍，觉得还是看电视剧吧…范闲nb的一塌糊涂</td>\n",
       "      <td>0.0</td>\n",
       "    </tr>\n",
       "  </tbody>\n",
       "</table>\n",
       "</div>"
      ],
      "text/plain": [
       "   Unnamed: 0                                            content  sentiment\n",
       "0           0                                          喜欢那个打黑拳！！        1.0\n",
       "1           2  其实已经一口气狂看到了第七卷。前半的节奏还是意气风发无往不利，越到后面那种命运悲剧的感受越强...        1.0\n",
       "2           3    2020年头的几天假期啥事没干，就看这几百万字了。真的要戒掉看书一定要看完的坏毛病。及时止损。        0.0\n",
       "3           4                                    适合消遣看看，破梗废话太多……        0.0\n",
       "4           5    N年前就看了几章看不下去，因为电视剧 重新拾起看了一遍，觉得还是看电视剧吧…范闲nb的一塌糊涂        0.0"
      ]
     },
     "execution_count": 2,
     "metadata": {},
     "output_type": "execute_result"
    }
   ],
   "source": [
    "# 载入数据\n",
    "# 此数据为手工标注的100条情感倾向数据\n",
    "df = pd.read_csv(\"cs.csv\")  # 数据采集时间是：2020.01.06\n",
    "df.head()  # 查看数据"
   ]
  },
  {
   "cell_type": "code",
   "execution_count": 3,
   "metadata": {
    "ExecuteTime": {
     "end_time": "2020-02-16T14:45:30.098150Z",
     "start_time": "2020-02-16T14:45:30.093930Z"
    }
   },
   "outputs": [],
   "source": [
    "# 删除不需要的列\n",
    "df = df.drop([\"Unnamed: 0\"], axis=1)"
   ]
  },
  {
   "cell_type": "code",
   "execution_count": 4,
   "metadata": {
    "ExecuteTime": {
     "end_time": "2020-02-16T14:45:30.104601Z",
     "start_time": "2020-02-16T14:45:30.100271Z"
    }
   },
   "outputs": [],
   "source": [
    "# 正式的建模过程这里才开始\n",
    "# 评论列表(分词后)\n",
    "content_cut_list = df[\"content\"]\n",
    "# 情感列表\n",
    "sentiment_list = df[\"sentiment\"]"
   ]
  },
  {
   "cell_type": "code",
   "execution_count": 5,
   "metadata": {
    "ExecuteTime": {
     "end_time": "2020-02-16T14:45:30.115317Z",
     "start_time": "2020-02-16T14:45:30.106508Z"
    }
   },
   "outputs": [],
   "source": [
    "# 生成snownlp中的训练语料\n",
    "neg = []\n",
    "pos = []\n",
    "\n",
    "# 循环判断语料的积极还是消极倾向，分别把语料放入不同的列表\n",
    "for i in range(100):\n",
    "    # 人工标注的消极语料\n",
    "    if sentiment_list[i] == 0:\n",
    "        neg.append(content_cut_list[i])\n",
    "    # 人工标注的积极语料\n",
    "    if sentiment_list[i] == 1:\n",
    "        pos.append(content_cut_list[i])"
   ]
  },
  {
   "cell_type": "code",
   "execution_count": 6,
   "metadata": {
    "ExecuteTime": {
     "end_time": "2020-02-16T14:45:30.123333Z",
     "start_time": "2020-02-16T14:45:30.117554Z"
    }
   },
   "outputs": [],
   "source": [
    "# 把积极和消极的语料写入文件，便于后续的snownlp文件训练\n",
    "with open(\"neg.txt\", \"w+\", encoding=\"utf-8\") as f:\n",
    "    f.write(\"\\n\".join(neg))\n",
    "    \n",
    "with open(\"pos.txt\", \"w+\", encoding=\"utf-8\") as f:\n",
    "    f.write(\"\\n\".join(pos))"
   ]
  },
  {
   "cell_type": "code",
   "execution_count": 7,
   "metadata": {
    "ExecuteTime": {
     "end_time": "2020-02-16T14:45:30.149994Z",
     "start_time": "2020-02-16T14:45:30.125643Z"
    }
   },
   "outputs": [
    {
     "data": {
      "text/plain": [
       "0.9786651096458229"
      ]
     },
     "execution_count": 7,
     "metadata": {},
     "output_type": "execute_result"
    }
   ],
   "source": [
    "# 训练前使用snownlp原始模型进行测试\n",
    "s = SnowNLP('其实已经一口气狂看到了第七卷。前半的节奏还是意气风发无往不利，越到后面那种命运悲剧的感受越强...')\n",
    "s.sentiments  # 输出情感倾向"
   ]
  },
  {
   "cell_type": "code",
   "execution_count": 8,
   "metadata": {
    "ExecuteTime": {
     "end_time": "2020-02-16T14:45:31.129663Z",
     "start_time": "2020-02-16T14:45:30.152841Z"
    }
   },
   "outputs": [],
   "source": [
    "# 根据语料训练snownlp模型\n",
    "sentiment.train('./neg.txt', './pos.txt')\n",
    "sentiment.save('new.marshal')\n",
    "# 训练好模型之后需要找到snownlp的目录替换默认的模型\n",
    "# 根据安装路径的不同：....../$python环境目录/lib/python3.6/site-packages/snownlp/seg/__init__.py\n",
    "# 修改第九行data_path的值为模型的路径 ....../sentiment.marshal.3"
   ]
  },
  {
   "cell_type": "code",
   "execution_count": 9,
   "metadata": {
    "ExecuteTime": {
     "end_time": "2020-02-16T14:45:31.149659Z",
     "start_time": "2020-02-16T14:45:31.131419Z"
    }
   },
   "outputs": [
    {
     "data": {
      "text/plain": [
       "0.9997358262438434"
      ]
     },
     "execution_count": 9,
     "metadata": {},
     "output_type": "execute_result"
    }
   ],
   "source": [
    "# 除了替换模型的方法，使用下面的load方法也可以加载新的模型\n",
    "from snownlp import sentiment\n",
    "sentiment.classifier.load('./new.marshal')\n",
    "# 情感分析\n",
    "s = SnowNLP('其实已经一口气狂看到了第七卷。前半的节奏还是意气风发无往不利，越到后面那种命运悲剧的感受越强...')\n",
    "s.sentiments  # 输出情感倾向\n",
    "# 可以看到替换模型之后，针对评论书评的情感分析的倾向有了提高"
   ]
  }
 ],
 "metadata": {
  "kernelspec": {
   "display_name": "Python 3",
   "language": "python",
   "name": "python3"
  },
  "language_info": {
   "codemirror_mode": {
    "name": "ipython",
    "version": 3
   },
   "file_extension": ".py",
   "mimetype": "text/x-python",
   "name": "python",
   "nbconvert_exporter": "python",
   "pygments_lexer": "ipython3",
   "version": "3.6.5"
  }
 },
 "nbformat": 4,
 "nbformat_minor": 2
}
