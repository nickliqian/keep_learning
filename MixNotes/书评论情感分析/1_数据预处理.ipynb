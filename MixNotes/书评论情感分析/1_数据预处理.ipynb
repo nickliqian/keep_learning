{
 "cells": [
  {
   "cell_type": "code",
   "execution_count": 1,
   "metadata": {
    "ExecuteTime": {
     "end_time": "2020-02-16T10:21:57.010435Z",
     "start_time": "2020-02-16T10:21:56.343125Z"
    }
   },
   "outputs": [],
   "source": [
    "# 导入所需要的包\n",
    "import pandas as pd\n",
    "import jieba"
   ]
  },
  {
   "cell_type": "code",
   "execution_count": 2,
   "metadata": {
    "ExecuteTime": {
     "end_time": "2020-02-16T10:21:57.038029Z",
     "start_time": "2020-02-16T10:21:57.011874Z"
    }
   },
   "outputs": [
    {
     "data": {
      "text/html": [
       "<div>\n",
       "<style scoped>\n",
       "    .dataframe tbody tr th:only-of-type {\n",
       "        vertical-align: middle;\n",
       "    }\n",
       "\n",
       "    .dataframe tbody tr th {\n",
       "        vertical-align: top;\n",
       "    }\n",
       "\n",
       "    .dataframe thead th {\n",
       "        text-align: right;\n",
       "    }\n",
       "</style>\n",
       "<table border=\"1\" class=\"dataframe\">\n",
       "  <thead>\n",
       "    <tr style=\"text-align: right;\">\n",
       "      <th></th>\n",
       "      <th>Unnamed: 0</th>\n",
       "      <th>content</th>\n",
       "    </tr>\n",
       "  </thead>\n",
       "  <tbody>\n",
       "    <tr>\n",
       "      <th>0</th>\n",
       "      <td>0</td>\n",
       "      <td>喜欢那个打黑拳！！</td>\n",
       "    </tr>\n",
       "    <tr>\n",
       "      <th>1</th>\n",
       "      <td>1</td>\n",
       "      <td>还可以吧。</td>\n",
       "    </tr>\n",
       "    <tr>\n",
       "      <th>2</th>\n",
       "      <td>2</td>\n",
       "      <td>其实已经一口气狂看到了第七卷。前半的节奏还是意气风发无往不利，越到后面那种命运悲剧的感受越强...</td>\n",
       "    </tr>\n",
       "    <tr>\n",
       "      <th>3</th>\n",
       "      <td>3</td>\n",
       "      <td>2020年头的几天假期啥事没干，就看这几百万字了。真的要戒掉看书一定要看完的坏毛病。及时止损。</td>\n",
       "    </tr>\n",
       "    <tr>\n",
       "      <th>4</th>\n",
       "      <td>4</td>\n",
       "      <td>适合消遣看看，破梗废话太多……</td>\n",
       "    </tr>\n",
       "  </tbody>\n",
       "</table>\n",
       "</div>"
      ],
      "text/plain": [
       "  Unnamed: 0                                            content\n",
       "0          0                                          喜欢那个打黑拳！！\n",
       "1          1                                              还可以吧。\n",
       "2          2  其实已经一口气狂看到了第七卷。前半的节奏还是意气风发无往不利，越到后面那种命运悲剧的感受越强...\n",
       "3          3    2020年头的几天假期啥事没干，就看这几百万字了。真的要戒掉看书一定要看完的坏毛病。及时止损。\n",
       "4          4                                    适合消遣看看，破梗废话太多……"
      ]
     },
     "execution_count": 2,
     "metadata": {},
     "output_type": "execute_result"
    }
   ],
   "source": [
    "# 载入采集的所有评论数据\n",
    "df = pd.read_csv(\"comment.csv\")\n",
    "# 查看数据\n",
    "df.head(5)"
   ]
  },
  {
   "cell_type": "code",
   "execution_count": 3,
   "metadata": {
    "ExecuteTime": {
     "end_time": "2020-02-16T10:21:57.045725Z",
     "start_time": "2020-02-16T10:21:57.040628Z"
    }
   },
   "outputs": [
    {
     "data": {
      "text/plain": [
       "Unnamed: 0     0\n",
       "content       12\n",
       "dtype: int64"
      ]
     },
     "execution_count": 3,
     "metadata": {},
     "output_type": "execute_result"
    }
   ],
   "source": [
    "# 查看缺失值\n",
    "df.isnull().sum()"
   ]
  },
  {
   "cell_type": "code",
   "execution_count": 4,
   "metadata": {
    "ExecuteTime": {
     "end_time": "2020-02-16T10:21:57.052722Z",
     "start_time": "2020-02-16T10:21:57.047396Z"
    }
   },
   "outputs": [],
   "source": [
    "# 删除有缺失值的行\n",
    "df = df.dropna(how=\"any\")"
   ]
  },
  {
   "cell_type": "code",
   "execution_count": 5,
   "metadata": {
    "ExecuteTime": {
     "end_time": "2020-02-16T10:21:57.060351Z",
     "start_time": "2020-02-16T10:21:57.054333Z"
    }
   },
   "outputs": [
    {
     "data": {
      "text/plain": [
       "Unnamed: 0    0\n",
       "content       0\n",
       "dtype: int64"
      ]
     },
     "execution_count": 5,
     "metadata": {},
     "output_type": "execute_result"
    }
   ],
   "source": [
    "# 再次查看缺失值\n",
    "df.isnull().sum()"
   ]
  },
  {
   "cell_type": "code",
   "execution_count": 6,
   "metadata": {
    "ExecuteTime": {
     "end_time": "2020-02-16T10:21:57.067526Z",
     "start_time": "2020-02-16T10:21:57.062937Z"
    }
   },
   "outputs": [],
   "source": [
    "# 删除不需要的列\n",
    "df = df.drop([\"Unnamed: 0\"], axis=1)"
   ]
  },
  {
   "cell_type": "code",
   "execution_count": 7,
   "metadata": {
    "ExecuteTime": {
     "end_time": "2020-02-16T10:21:58.445934Z",
     "start_time": "2020-02-16T10:21:57.070253Z"
    }
   },
   "outputs": [
    {
     "name": "stderr",
     "output_type": "stream",
     "text": [
      "Building prefix dict from the default dictionary ...\n",
      "Loading model from cache /var/folders/wq/03z5h7352159jp2k5p83ts500000gn/T/jieba.cache\n",
      "Loading model cost 0.770 seconds.\n",
      "Prefix dict has been built successfully.\n"
     ]
    }
   ],
   "source": [
    "# 将语料content分词\n",
    "cut_list = []  # 分好词的评论放到这个列表中\n",
    "# 循环将每条评论分词\n",
    "for intxt in df[\"content\"]:\n",
    "    cut_word = list(jieba.cut(intxt))  # 分词\n",
    "    cut_list.append(cut_word)  # 分词完放入cut_list中"
   ]
  },
  {
   "cell_type": "code",
   "execution_count": 8,
   "metadata": {
    "ExecuteTime": {
     "end_time": "2020-02-16T10:21:58.451281Z",
     "start_time": "2020-02-16T10:21:58.448246Z"
    }
   },
   "outputs": [
    {
     "name": "stdout",
     "output_type": "stream",
     "text": [
      "['喜欢', '那个', '打黑', '拳', '！', '！']\n",
      "['还', '可以', '吧', '。']\n",
      "['其实', '已经', '一口气', '狂', '看到', '了', '第七卷', '。', '前半', '的', '节奏', '还是', '意气风发', '无往不利', '，', '越到', '后面', '那种', '命运', '悲剧', '的', '感受', '越强', '，', '让', '人', '有些', '不忍', '看', '下去', '了', '。', '目前', '停', '在', '了', '萍萍', '遇见', '高', '达', '那儿', '，', '不知', '还会', '不会', '往后', '翻', '。', '另外', '，', '写', '的', '有', '那么', '一点', '啰嗦', '，', '加上', '意淫', '之爽', '的', '部分', '，', '跟', '大唐', '双龙传', '有点', '神似', '哈哈哈']\n"
     ]
    }
   ],
   "source": [
    "# 查看分词的结果\n",
    "for c in cut_list[:3]:\n",
    "    print(c)"
   ]
  },
  {
   "cell_type": "code",
   "execution_count": 9,
   "metadata": {
    "ExecuteTime": {
     "end_time": "2020-02-16T10:21:58.466252Z",
     "start_time": "2020-02-16T10:21:58.453133Z"
    }
   },
   "outputs": [
    {
     "data": {
      "text/html": [
       "<div>\n",
       "<style scoped>\n",
       "    .dataframe tbody tr th:only-of-type {\n",
       "        vertical-align: middle;\n",
       "    }\n",
       "\n",
       "    .dataframe tbody tr th {\n",
       "        vertical-align: top;\n",
       "    }\n",
       "\n",
       "    .dataframe thead th {\n",
       "        text-align: right;\n",
       "    }\n",
       "</style>\n",
       "<table border=\"1\" class=\"dataframe\">\n",
       "  <thead>\n",
       "    <tr style=\"text-align: right;\">\n",
       "      <th></th>\n",
       "      <th>content</th>\n",
       "      <th>cut</th>\n",
       "    </tr>\n",
       "  </thead>\n",
       "  <tbody>\n",
       "    <tr>\n",
       "      <th>0</th>\n",
       "      <td>喜欢那个打黑拳！！</td>\n",
       "      <td>[喜欢, 那个, 打黑, 拳, ！, ！]</td>\n",
       "    </tr>\n",
       "    <tr>\n",
       "      <th>1</th>\n",
       "      <td>还可以吧。</td>\n",
       "      <td>[还, 可以, 吧, 。]</td>\n",
       "    </tr>\n",
       "    <tr>\n",
       "      <th>2</th>\n",
       "      <td>其实已经一口气狂看到了第七卷。前半的节奏还是意气风发无往不利，越到后面那种命运悲剧的感受越强...</td>\n",
       "      <td>[其实, 已经, 一口气, 狂, 看到, 了, 第七卷, 。, 前半, 的, 节奏, 还是,...</td>\n",
       "    </tr>\n",
       "    <tr>\n",
       "      <th>3</th>\n",
       "      <td>2020年头的几天假期啥事没干，就看这几百万字了。真的要戒掉看书一定要看完的坏毛病。及时止损。</td>\n",
       "      <td>[2020, 年头, 的, 几天, 假期, 啥事, 没干, ，, 就, 看, 这, 几百万,...</td>\n",
       "    </tr>\n",
       "    <tr>\n",
       "      <th>4</th>\n",
       "      <td>适合消遣看看，破梗废话太多……</td>\n",
       "      <td>[适合, 消遣, 看看, ，, 破梗, 废话, 太, 多, …, …]</td>\n",
       "    </tr>\n",
       "  </tbody>\n",
       "</table>\n",
       "</div>"
      ],
      "text/plain": [
       "                                             content  \\\n",
       "0                                          喜欢那个打黑拳！！   \n",
       "1                                              还可以吧。   \n",
       "2  其实已经一口气狂看到了第七卷。前半的节奏还是意气风发无往不利，越到后面那种命运悲剧的感受越强...   \n",
       "3    2020年头的几天假期啥事没干，就看这几百万字了。真的要戒掉看书一定要看完的坏毛病。及时止损。   \n",
       "4                                    适合消遣看看，破梗废话太多……   \n",
       "\n",
       "                                                 cut  \n",
       "0                              [喜欢, 那个, 打黑, 拳, ！, ！]  \n",
       "1                                      [还, 可以, 吧, 。]  \n",
       "2  [其实, 已经, 一口气, 狂, 看到, 了, 第七卷, 。, 前半, 的, 节奏, 还是,...  \n",
       "3  [2020, 年头, 的, 几天, 假期, 啥事, 没干, ，, 就, 看, 这, 几百万,...  \n",
       "4                [适合, 消遣, 看看, ，, 破梗, 废话, 太, 多, …, …]  "
      ]
     },
     "execution_count": 9,
     "metadata": {},
     "output_type": "execute_result"
    }
   ],
   "source": [
    "# 将分词的结果拼接到原表中\n",
    "df[\"cut\"] = cut_list\n",
    "df.head()"
   ]
  },
  {
   "cell_type": "code",
   "execution_count": 10,
   "metadata": {
    "ExecuteTime": {
     "end_time": "2020-02-16T10:21:58.479600Z",
     "start_time": "2020-02-16T10:21:58.467798Z"
    }
   },
   "outputs": [],
   "source": [
    "# 将分词的所有结果写入文件\n",
    "with open(\"all_data_cut.txt\", \"w+\") as f:\n",
    "    # 循环评论分词列表并写入\n",
    "    for c in cut_list:\n",
    "        f.write(\" \".join(c))"
   ]
  }
 ],
 "metadata": {
  "kernelspec": {
   "display_name": "Python 3",
   "language": "python",
   "name": "python3"
  },
  "language_info": {
   "codemirror_mode": {
    "name": "ipython",
    "version": 3
   },
   "file_extension": ".py",
   "mimetype": "text/x-python",
   "name": "python",
   "nbconvert_exporter": "python",
   "pygments_lexer": "ipython3",
   "version": "3.6.5"
  }
 },
 "nbformat": 4,
 "nbformat_minor": 2
}
