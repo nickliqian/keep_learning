{
 "cells": [
  {
   "cell_type": "code",
   "execution_count": 1,
   "metadata": {
    "ExecuteTime": {
     "end_time": "2020-02-16T15:03:56.091625Z",
     "start_time": "2020-02-16T15:03:52.858775Z"
    }
   },
   "outputs": [],
   "source": [
    "# 导入需要的包\n",
    "import pandas as pd\n",
    "from snownlp import SnowNLP\n",
    "from matplotlib import pyplot as plt"
   ]
  },
  {
   "cell_type": "code",
   "execution_count": 2,
   "metadata": {
    "ExecuteTime": {
     "end_time": "2020-02-16T15:03:56.100297Z",
     "start_time": "2020-02-16T15:03:56.093824Z"
    }
   },
   "outputs": [],
   "source": [
    "# 加载训练好的模型(或者替换模型也可以，此方法比较方便)\n",
    "from snownlp import sentiment\n",
    "sentiment.classifier.load('./new.marshal')"
   ]
  },
  {
   "cell_type": "code",
   "execution_count": 3,
   "metadata": {
    "ExecuteTime": {
     "end_time": "2020-02-16T15:03:56.131101Z",
     "start_time": "2020-02-16T15:03:56.103590Z"
    }
   },
   "outputs": [
    {
     "data": {
      "text/html": [
       "<div>\n",
       "<style scoped>\n",
       "    .dataframe tbody tr th:only-of-type {\n",
       "        vertical-align: middle;\n",
       "    }\n",
       "\n",
       "    .dataframe tbody tr th {\n",
       "        vertical-align: top;\n",
       "    }\n",
       "\n",
       "    .dataframe thead th {\n",
       "        text-align: right;\n",
       "    }\n",
       "</style>\n",
       "<table border=\"1\" class=\"dataframe\">\n",
       "  <thead>\n",
       "    <tr style=\"text-align: right;\">\n",
       "      <th></th>\n",
       "      <th>content</th>\n",
       "    </tr>\n",
       "  </thead>\n",
       "  <tbody>\n",
       "    <tr>\n",
       "      <th>0</th>\n",
       "      <td>喜欢那个打黑拳！！</td>\n",
       "    </tr>\n",
       "    <tr>\n",
       "      <th>1</th>\n",
       "      <td>还可以吧。</td>\n",
       "    </tr>\n",
       "    <tr>\n",
       "      <th>2</th>\n",
       "      <td>其实已经一口气狂看到了第七卷。前半的节奏还是意气风发无往不利，越到后面那种命运悲剧的感受越强...</td>\n",
       "    </tr>\n",
       "    <tr>\n",
       "      <th>3</th>\n",
       "      <td>2020年头的几天假期啥事没干，就看这几百万字了。真的要戒掉看书一定要看完的坏毛病。及时止损。</td>\n",
       "    </tr>\n",
       "    <tr>\n",
       "      <th>4</th>\n",
       "      <td>适合消遣看看，破梗废话太多……</td>\n",
       "    </tr>\n",
       "  </tbody>\n",
       "</table>\n",
       "</div>"
      ],
      "text/plain": [
       "                                             content\n",
       "0                                          喜欢那个打黑拳！！\n",
       "1                                              还可以吧。\n",
       "2  其实已经一口气狂看到了第七卷。前半的节奏还是意气风发无往不利，越到后面那种命运悲剧的感受越强...\n",
       "3    2020年头的几天假期啥事没干，就看这几百万字了。真的要戒掉看书一定要看完的坏毛病。及时止损。\n",
       "4                                    适合消遣看看，破梗废话太多……"
      ]
     },
     "execution_count": 3,
     "metadata": {},
     "output_type": "execute_result"
    }
   ],
   "source": [
    "# 载入采集的所有评论数据\n",
    "df = pd.read_csv(\"comment.csv\")\n",
    "# 删除不需要的列\n",
    "df = df.drop([\"Unnamed: 0\"], axis=1)\n",
    "# 删除有缺失值的行\n",
    "df = df.dropna(how=\"any\")\n",
    "# 查看数据\n",
    "df.head(5)"
   ]
  },
  {
   "cell_type": "code",
   "execution_count": 4,
   "metadata": {
    "ExecuteTime": {
     "end_time": "2020-02-16T15:04:23.924090Z",
     "start_time": "2020-02-16T15:03:56.133013Z"
    }
   },
   "outputs": [
    {
     "data": {
      "text/html": [
       "<div>\n",
       "<style scoped>\n",
       "    .dataframe tbody tr th:only-of-type {\n",
       "        vertical-align: middle;\n",
       "    }\n",
       "\n",
       "    .dataframe tbody tr th {\n",
       "        vertical-align: top;\n",
       "    }\n",
       "\n",
       "    .dataframe thead th {\n",
       "        text-align: right;\n",
       "    }\n",
       "</style>\n",
       "<table border=\"1\" class=\"dataframe\">\n",
       "  <thead>\n",
       "    <tr style=\"text-align: right;\">\n",
       "      <th></th>\n",
       "      <th>content</th>\n",
       "      <th>pred</th>\n",
       "    </tr>\n",
       "  </thead>\n",
       "  <tbody>\n",
       "    <tr>\n",
       "      <th>0</th>\n",
       "      <td>喜欢那个打黑拳！！</td>\n",
       "      <td>1</td>\n",
       "    </tr>\n",
       "    <tr>\n",
       "      <th>1</th>\n",
       "      <td>还可以吧。</td>\n",
       "      <td>1</td>\n",
       "    </tr>\n",
       "    <tr>\n",
       "      <th>2</th>\n",
       "      <td>其实已经一口气狂看到了第七卷。前半的节奏还是意气风发无往不利，越到后面那种命运悲剧的感受越强...</td>\n",
       "      <td>1</td>\n",
       "    </tr>\n",
       "    <tr>\n",
       "      <th>3</th>\n",
       "      <td>2020年头的几天假期啥事没干，就看这几百万字了。真的要戒掉看书一定要看完的坏毛病。及时止损。</td>\n",
       "      <td>0</td>\n",
       "    </tr>\n",
       "    <tr>\n",
       "      <th>4</th>\n",
       "      <td>适合消遣看看，破梗废话太多……</td>\n",
       "      <td>0</td>\n",
       "    </tr>\n",
       "  </tbody>\n",
       "</table>\n",
       "</div>"
      ],
      "text/plain": [
       "                                             content  pred\n",
       "0                                          喜欢那个打黑拳！！     1\n",
       "1                                              还可以吧。     1\n",
       "2  其实已经一口气狂看到了第七卷。前半的节奏还是意气风发无往不利，越到后面那种命运悲剧的感受越强...     1\n",
       "3    2020年头的几天假期啥事没干，就看这几百万字了。真的要戒掉看书一定要看完的坏毛病。及时止损。     0\n",
       "4                                    适合消遣看看，破梗废话太多……     0"
      ]
     },
     "execution_count": 4,
     "metadata": {},
     "output_type": "execute_result"
    }
   ],
   "source": [
    "# 验证人工标注的100条数据在新模型分析下的情感倾向\n",
    "preds = []  # 用于存放每一条情感分析的结果\n",
    "for i in df[\"content\"]:  # 循环每一条评论\n",
    "    s = SnowNLP(i)  # 情感分析\n",
    "    if s.sentiments >= 0.5:\n",
    "        preds.append(1)\n",
    "    else:\n",
    "        preds.append(0)\n",
    "\n",
    "# 将分析结果合并到原始数据中\n",
    "df[\"pred\"] = preds\n",
    "df.head()"
   ]
  },
  {
   "cell_type": "code",
   "execution_count": 5,
   "metadata": {
    "ExecuteTime": {
     "end_time": "2020-02-16T15:04:23.933711Z",
     "start_time": "2020-02-16T15:04:23.926206Z"
    }
   },
   "outputs": [
    {
     "data": {
      "text/plain": [
       "pred\n",
       "0    1629\n",
       "1    1474\n",
       "Name: pred, dtype: int64"
      ]
     },
     "execution_count": 5,
     "metadata": {},
     "output_type": "execute_result"
    }
   ],
   "source": [
    "# 查看情感倾向分布\n",
    "sen_class = df.groupby(\"pred\")[\"pred\"].count()\n",
    "sen_class"
   ]
  },
  {
   "cell_type": "code",
   "execution_count": 6,
   "metadata": {
    "ExecuteTime": {
     "end_time": "2020-02-16T15:04:24.069412Z",
     "start_time": "2020-02-16T15:04:23.935704Z"
    }
   },
   "outputs": [
    {
     "data": {
      "image/png": "[encoded data removed]",
      "text/plain": [
       "<Figure size 432x648 with 1 Axes>"
      ]
     },
     "metadata": {},
     "output_type": "display_data"
    }
   ],
   "source": [
    "# 可视化 情感倾向分布\n",
    "labels = ['积极倾向','消极倾向']  # 标签\n",
    "sizes = [1474, 1629]  # 数量分布\n",
    "explode = [0, 0.1]  # 样式\n",
    "plt.figure(figsize=(6,9))  # 图大小\n",
    "plt.pie(sizes,labels=labels,explode=explode,autopct='%1.1f%%',shadow=False,startangle=150,textprops={'fontsize': 16})\n",
    "\n",
    "plt.title(\"情感倾向分布\", fontsize=18)  # 标题\n",
    "plt.show()  "
   ]
  },
  {
   "cell_type": "code",
   "execution_count": null,
   "metadata": {},
   "outputs": [],
   "source": []
  }
 ],
 "metadata": {
  "kernelspec": {
   "display_name": "Python 3",
   "language": "python",
   "name": "python3"
  },
  "language_info": {
   "codemirror_mode": {
    "name": "ipython",
    "version": 3
   },
   "file_extension": ".py",
   "mimetype": "text/x-python",
   "name": "python",
   "nbconvert_exporter": "python",
   "pygments_lexer": "ipython3",
   "version": "3.6.5"
  }
 },
 "nbformat": 4,
 "nbformat_minor": 2
}
