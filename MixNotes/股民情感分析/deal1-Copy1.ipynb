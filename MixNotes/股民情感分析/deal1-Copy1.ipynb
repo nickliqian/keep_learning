{
 "cells": [
  {
   "cell_type": "code",
   "execution_count": 1,
   "metadata": {
    "ExecuteTime": {
     "end_time": "2020-02-28T11:03:25.075932Z",
     "start_time": "2020-02-28T11:03:19.950683Z"
    }
   },
   "outputs": [],
   "source": [
    "import pandas as pd\n",
    "import pymysql\n",
    "import jieba\n",
    "from sklearn.feature_extraction.text import CountVectorizer, TfidfTransformer\n",
    "from sklearn import naive_bayes\n",
    "from sklearn.linear_model import LinearRegression, LogisticRegression\n",
    "from sklearn.model_selection import train_test_split\n",
    "import tushare as ts\n",
    "from snownlp import SnowNLP\n",
    "import wordcloud\n",
    "import matplotlib.pyplot as plt\n",
    "from sklearn.svm import SVC\n",
    "from gensim.models.word2vec import Word2Vec\n",
    "from sklearn import metrics\n",
    "import matplotlib\n",
    "#指定默认字体\n",
    "matplotlib.rcParams['font.sans-serif'] = ['SimHei']\n",
    "matplotlib.rcParams['font.family']='sans-serif'\n",
    "#解决负号'-'显示为方块的问题\n",
    "matplotlib.rcParams['axes.unicode_minus'] = False\n",
    "import warnings\n",
    "warnings.filterwarnings(\"ignore\")\n",
    "\n",
    "from tqdm import tqdm"
   ]
  },
  {
   "cell_type": "markdown",
   "metadata": {},
   "source": [
    "# 获取股票数据"
   ]
  },
  {
   "cell_type": "code",
   "execution_count": 2,
   "metadata": {
    "ExecuteTime": {
     "end_time": "2020-02-28T11:03:26.780763Z",
     "start_time": "2020-02-28T11:03:25.078202Z"
    },
    "scrolled": true
   },
   "outputs": [
    {
     "name": "stdout",
     "output_type": "stream",
     "text": [
      "(2413, 10)\n"
     ]
    },
    {
     "data": {
      "text/html": [
       "<div>\n",
       "<style scoped>\n",
       "    .dataframe tbody tr th:only-of-type {\n",
       "        vertical-align: middle;\n",
       "    }\n",
       "\n",
       "    .dataframe tbody tr th {\n",
       "        vertical-align: top;\n",
       "    }\n",
       "\n",
       "    .dataframe thead th {\n",
       "        text-align: right;\n",
       "    }\n",
       "</style>\n",
       "<table border=\"1\" class=\"dataframe\">\n",
       "  <thead>\n",
       "    <tr style=\"text-align: right;\">\n",
       "      <th></th>\n",
       "      <th>ts_code</th>\n",
       "      <th>open</th>\n",
       "      <th>high</th>\n",
       "      <th>low</th>\n",
       "      <th>close</th>\n",
       "      <th>pre_close</th>\n",
       "      <th>change</th>\n",
       "      <th>pct_chg</th>\n",
       "      <th>vol</th>\n",
       "      <th>amount</th>\n",
       "    </tr>\n",
       "    <tr>\n",
       "      <th>trade_date</th>\n",
       "      <th></th>\n",
       "      <th></th>\n",
       "      <th></th>\n",
       "      <th></th>\n",
       "      <th></th>\n",
       "      <th></th>\n",
       "      <th></th>\n",
       "      <th></th>\n",
       "      <th></th>\n",
       "      <th></th>\n",
       "    </tr>\n",
       "  </thead>\n",
       "  <tbody>\n",
       "    <tr>\n",
       "      <th>2019-12-27</th>\n",
       "      <td>000725.SZ</td>\n",
       "      <td>4.85</td>\n",
       "      <td>4.85</td>\n",
       "      <td>4.61</td>\n",
       "      <td>4.64</td>\n",
       "      <td>4.83</td>\n",
       "      <td>-0.19</td>\n",
       "      <td>-3.9337</td>\n",
       "      <td>11744059.05</td>\n",
       "      <td>5535803.934</td>\n",
       "    </tr>\n",
       "    <tr>\n",
       "      <th>2019-12-26</th>\n",
       "      <td>000725.SZ</td>\n",
       "      <td>4.78</td>\n",
       "      <td>4.89</td>\n",
       "      <td>4.73</td>\n",
       "      <td>4.83</td>\n",
       "      <td>4.74</td>\n",
       "      <td>0.09</td>\n",
       "      <td>1.8987</td>\n",
       "      <td>11781181.32</td>\n",
       "      <td>5670161.331</td>\n",
       "    </tr>\n",
       "    <tr>\n",
       "      <th>2019-12-25</th>\n",
       "      <td>000725.SZ</td>\n",
       "      <td>4.67</td>\n",
       "      <td>4.78</td>\n",
       "      <td>4.65</td>\n",
       "      <td>4.74</td>\n",
       "      <td>4.70</td>\n",
       "      <td>0.04</td>\n",
       "      <td>0.8511</td>\n",
       "      <td>7946674.08</td>\n",
       "      <td>3740227.994</td>\n",
       "    </tr>\n",
       "    <tr>\n",
       "      <th>2019-12-24</th>\n",
       "      <td>000725.SZ</td>\n",
       "      <td>4.60</td>\n",
       "      <td>4.72</td>\n",
       "      <td>4.48</td>\n",
       "      <td>4.70</td>\n",
       "      <td>4.56</td>\n",
       "      <td>0.14</td>\n",
       "      <td>3.0702</td>\n",
       "      <td>9582547.55</td>\n",
       "      <td>4410735.133</td>\n",
       "    </tr>\n",
       "    <tr>\n",
       "      <th>2019-12-23</th>\n",
       "      <td>000725.SZ</td>\n",
       "      <td>4.76</td>\n",
       "      <td>4.81</td>\n",
       "      <td>4.54</td>\n",
       "      <td>4.56</td>\n",
       "      <td>4.68</td>\n",
       "      <td>-0.12</td>\n",
       "      <td>-2.5641</td>\n",
       "      <td>11865097.22</td>\n",
       "      <td>5560483.237</td>\n",
       "    </tr>\n",
       "  </tbody>\n",
       "</table>\n",
       "</div>"
      ],
      "text/plain": [
       "              ts_code  open  high   low  close  pre_close  change  pct_chg  \\\n",
       "trade_date                                                                   \n",
       "2019-12-27  000725.SZ  4.85  4.85  4.61   4.64       4.83   -0.19  -3.9337   \n",
       "2019-12-26  000725.SZ  4.78  4.89  4.73   4.83       4.74    0.09   1.8987   \n",
       "2019-12-25  000725.SZ  4.67  4.78  4.65   4.74       4.70    0.04   0.8511   \n",
       "2019-12-24  000725.SZ  4.60  4.72  4.48   4.70       4.56    0.14   3.0702   \n",
       "2019-12-23  000725.SZ  4.76  4.81  4.54   4.56       4.68   -0.12  -2.5641   \n",
       "\n",
       "                    vol       amount  \n",
       "trade_date                            \n",
       "2019-12-27  11744059.05  5535803.934  \n",
       "2019-12-26  11781181.32  5670161.331  \n",
       "2019-12-25   7946674.08  3740227.994  \n",
       "2019-12-24   9582547.55  4410735.133  \n",
       "2019-12-23  11865097.22  5560483.237  "
      ]
     },
     "execution_count": 2,
     "metadata": {},
     "output_type": "execute_result"
    }
   ],
   "source": [
    "# 获取京东方A股票的历史行情\n",
    "# 这个token需要自己到tushare的官网上面去申请，也可以使用这一个\n",
    "ts.set_token(\"e3465973d838cdf0ce55a6d614c8a65bc45a2d99653fb87dfd718086\")\n",
    "pro = ts.pro_api()\n",
    "# 获取每天的行情数据，指定起止日期\n",
    "df_725 = pro.daily(ts_code='000725.SZ', start_date='20100101', end_date='20191229')\n",
    "# 将日期转为datetime类型格式\n",
    "df_725[\"trade_date\"] = pd.to_datetime(df_725[\"trade_date\"])\n",
    "# 将日期作为索引\n",
    "df_725 = df_725.set_index(\"trade_date\")\n",
    "print(df_725.shape)\n",
    "df_725.head()"
   ]
  },
  {
   "cell_type": "code",
   "execution_count": 3,
   "metadata": {
    "ExecuteTime": {
     "end_time": "2020-02-28T11:03:27.380561Z",
     "start_time": "2020-02-28T11:03:26.783314Z"
    },
    "scrolled": false
   },
   "outputs": [
    {
     "data": {
      "text/plain": [
       "<matplotlib.axes._subplots.AxesSubplot at 0x12efb1ac8>"
      ]
     },
     "execution_count": 3,
     "metadata": {},
     "output_type": "execute_result"
    },
    {
     "data": {
      "image/png": "[encoded data removed]",
      "text/plain": [
       "<Figure size 1080x576 with 1 Axes>"
      ]
     },
     "metadata": {
      "needs_background": "light"
     },
     "output_type": "display_data"
    }
   ],
   "source": [
    "# 展示股票日线\n",
    "df_725.to_period(\"D\")[\"close\"].plot(figsize=(15, 8))"
   ]
  },
  {
   "cell_type": "code",
   "execution_count": 4,
   "metadata": {
    "ExecuteTime": {
     "end_time": "2020-02-28T11:03:27.845664Z",
     "start_time": "2020-02-28T11:03:27.382646Z"
    }
   },
   "outputs": [
    {
     "data": {
      "text/plain": [
       "<matplotlib.axes._subplots.AxesSubplot at 0x12ef5acf8>"
      ]
     },
     "execution_count": 4,
     "metadata": {},
     "output_type": "execute_result"
    },
    {
     "data": {
      "image/png": "[encoded data removed]",
      "text/plain": [
       "<Figure size 1080x576 with 1 Axes>"
      ]
     },
     "metadata": {
      "needs_background": "light"
     },
     "output_type": "display_data"
    }
   ],
   "source": [
    "# 展示股票月线\n",
    "df_725.to_period(\"M\").groupby(df_725.to_period(\"M\").index)[\"close\"].mean().plot(figsize=(15, 8))"
   ]
  },
  {
   "cell_type": "code",
   "execution_count": 5,
   "metadata": {
    "ExecuteTime": {
     "end_time": "2020-02-28T11:03:27.853089Z",
     "start_time": "2020-02-28T11:03:27.847479Z"
    }
   },
   "outputs": [
    {
     "data": {
      "text/plain": [
       "(212, 10)"
      ]
     },
     "execution_count": 5,
     "metadata": {},
     "output_type": "execute_result"
    }
   ],
   "source": [
    "# 查看当天开盘股价无变化的日期数量\n",
    "df_725[df_725[\"change\"]==0].shape"
   ]
  },
  {
   "cell_type": "code",
   "execution_count": 6,
   "metadata": {
    "ExecuteTime": {
     "end_time": "2020-02-28T11:03:27.876092Z",
     "start_time": "2020-02-28T11:03:27.855253Z"
    }
   },
   "outputs": [
    {
     "data": {
      "text/html": [
       "<div>\n",
       "<style scoped>\n",
       "    .dataframe tbody tr th:only-of-type {\n",
       "        vertical-align: middle;\n",
       "    }\n",
       "\n",
       "    .dataframe tbody tr th {\n",
       "        vertical-align: top;\n",
       "    }\n",
       "\n",
       "    .dataframe thead th {\n",
       "        text-align: right;\n",
       "    }\n",
       "</style>\n",
       "<table border=\"1\" class=\"dataframe\">\n",
       "  <thead>\n",
       "    <tr style=\"text-align: right;\">\n",
       "      <th></th>\n",
       "      <th>UpOrDown</th>\n",
       "    </tr>\n",
       "    <tr>\n",
       "      <th>trade_date</th>\n",
       "      <th></th>\n",
       "    </tr>\n",
       "  </thead>\n",
       "  <tbody>\n",
       "    <tr>\n",
       "      <th>2019-12-27</th>\n",
       "      <td>0.0</td>\n",
       "    </tr>\n",
       "    <tr>\n",
       "      <th>2019-12-26</th>\n",
       "      <td>1.0</td>\n",
       "    </tr>\n",
       "    <tr>\n",
       "      <th>2019-12-25</th>\n",
       "      <td>1.0</td>\n",
       "    </tr>\n",
       "    <tr>\n",
       "      <th>2019-12-24</th>\n",
       "      <td>1.0</td>\n",
       "    </tr>\n",
       "    <tr>\n",
       "      <th>2019-12-23</th>\n",
       "      <td>0.0</td>\n",
       "    </tr>\n",
       "  </tbody>\n",
       "</table>\n",
       "</div>"
      ],
      "text/plain": [
       "            UpOrDown\n",
       "trade_date          \n",
       "2019-12-27       0.0\n",
       "2019-12-26       1.0\n",
       "2019-12-25       1.0\n",
       "2019-12-24       1.0\n",
       "2019-12-23       0.0"
      ]
     },
     "execution_count": 6,
     "metadata": {},
     "output_type": "execute_result"
    }
   ],
   "source": [
    "# 构造新列，UpOrDown：0代表跌，1代表涨\n",
    "# 如果当天股价无变化，这里暂定为0\n",
    "df_725.loc[df_725[\"change\"] <= 0,'UpOrDown'] = 0\n",
    "df_725.loc[df_725[\"change\"] > 0,'UpOrDown'] = 1\n",
    "# 将没用的列删除\n",
    "df_725_UpOrDown = df_725[[\"UpOrDown\"]]\n",
    "df_725_UpOrDown.head()"
   ]
  },
  {
   "cell_type": "markdown",
   "metadata": {},
   "source": [
    "# 读取股民发帖数据"
   ]
  },
  {
   "cell_type": "code",
   "execution_count": 7,
   "metadata": {
    "ExecuteTime": {
     "end_time": "2020-02-28T11:03:57.549927Z",
     "start_time": "2020-02-28T11:03:27.877874Z"
    }
   },
   "outputs": [
    {
     "name": "stdout",
     "output_type": "stream",
     "text": [
      "(684416, 12)\n"
     ]
    }
   ],
   "source": [
    "# 从数据库获取文本数据\n",
    "conn = pymysql.connect(host = \"localhost\",user = \"root\",passwd = \"mysql\",db = \"mydata\",charset=\"utf8\")\n",
    "sql_query = 'SELECT * FROM jdf_detail'\n",
    "df = pd.read_sql(sql_query, con=conn)\n",
    "print(df.shape)\n",
    "conn.close()  #使用完后记得关掉"
   ]
  },
  {
   "cell_type": "code",
   "execution_count": 8,
   "metadata": {
    "ExecuteTime": {
     "end_time": "2020-02-28T11:03:57.576966Z",
     "start_time": "2020-02-28T11:03:57.553642Z"
    },
    "scrolled": true
   },
   "outputs": [
    {
     "data": {
      "text/html": [
       "<div>\n",
       "<style scoped>\n",
       "    .dataframe tbody tr th:only-of-type {\n",
       "        vertical-align: middle;\n",
       "    }\n",
       "\n",
       "    .dataframe tbody tr th {\n",
       "        vertical-align: top;\n",
       "    }\n",
       "\n",
       "    .dataframe thead th {\n",
       "        text-align: right;\n",
       "    }\n",
       "</style>\n",
       "<table border=\"1\" class=\"dataframe\">\n",
       "  <thead>\n",
       "    <tr style=\"text-align: right;\">\n",
       "      <th></th>\n",
       "      <th>id</th>\n",
       "      <th>list_id</th>\n",
       "      <th>用户名</th>\n",
       "      <th>用户id</th>\n",
       "      <th>时间和客户端</th>\n",
       "      <th>发帖时间</th>\n",
       "      <th>客户端名称</th>\n",
       "      <th>标题</th>\n",
       "      <th>内容</th>\n",
       "      <th>来源</th>\n",
       "      <th>更新时间</th>\n",
       "      <th>创建时间</th>\n",
       "    </tr>\n",
       "  </thead>\n",
       "  <tbody>\n",
       "    <tr>\n",
       "      <th>0</th>\n",
       "      <td>199</td>\n",
       "      <td>173243</td>\n",
       "      <td>财经评论</td>\n",
       "      <td>9313013693864916</td>\n",
       "      <td>发表于 2019-12-28 09:07:36 股吧网页版</td>\n",
       "      <td>2019-12-28 09:07:36</td>\n",
       "      <td>股吧网页版</td>\n",
       "      <td>新证券法明年3月1日起施行！全面推行注册制、加大违法成本  七大要点看过来</td>\n",
       "      <td>12月28日上午，十三届全国人大常委会第十五次会议全体会议审议通过了新修订的证券法。修订后的...</td>\n",
       "      <td>http://guba.eastmoney.com/news,cjpl,894749996....</td>\n",
       "      <td>2019-12-29 14:14:03</td>\n",
       "      <td>2019-12-29 14:14:03</td>\n",
       "    </tr>\n",
       "    <tr>\n",
       "      <th>1</th>\n",
       "      <td>200</td>\n",
       "      <td>173244</td>\n",
       "      <td>财经评论</td>\n",
       "      <td>9313013693864916</td>\n",
       "      <td>发表于 2019-12-27 21:58:54 股吧网页版</td>\n",
       "      <td>2019-12-27 21:58:54</td>\n",
       "      <td>股吧网页版</td>\n",
       "      <td>超预期！新三板投资门槛全面下调 150万股民将跑步进场</td>\n",
       "      <td>2019年的最后一个周五下午，新三板市场迎来了最激动人心的时刻，深化改革真正落锤。</td>\n",
       "      <td>http://guba.eastmoney.com/news,cjpl,894725732....</td>\n",
       "      <td>2019-12-29 14:14:03</td>\n",
       "      <td>2019-12-29 14:14:03</td>\n",
       "    </tr>\n",
       "    <tr>\n",
       "      <th>2</th>\n",
       "      <td>201</td>\n",
       "      <td>173245</td>\n",
       "      <td>财经评论</td>\n",
       "      <td>9313013693864916</td>\n",
       "      <td>发表于 2019-12-28 09:08:22 股吧网页版</td>\n",
       "      <td>2019-12-28 09:08:22</td>\n",
       "      <td>股吧网页版</td>\n",
       "      <td>央行：推进存量浮动利率贷款定价基准转换为LPR利率</td>\n",
       "      <td></td>\n",
       "      <td>http://guba.eastmoney.com/news,cjpl,894749886....</td>\n",
       "      <td>2019-12-29 14:14:03</td>\n",
       "      <td>2019-12-29 14:14:03</td>\n",
       "    </tr>\n",
       "    <tr>\n",
       "      <th>3</th>\n",
       "      <td>202</td>\n",
       "      <td>173246</td>\n",
       "      <td>财经评论</td>\n",
       "      <td>9313013693864916</td>\n",
       "      <td>发表于 2019-12-28 09:36:03 股吧网页版</td>\n",
       "      <td>2019-12-28 09:36:03</td>\n",
       "      <td>股吧网页版</td>\n",
       "      <td>证券法明确全面推行注册制</td>\n",
       "      <td>证券时报记者获悉，新修订的证券法明确全面推行注册制。将发行股票应当“具有持续盈利能力”的要求...</td>\n",
       "      <td>http://guba.eastmoney.com/news,cjpl,894751250....</td>\n",
       "      <td>2019-12-29 14:14:03</td>\n",
       "      <td>2019-12-29 14:14:03</td>\n",
       "    </tr>\n",
       "    <tr>\n",
       "      <th>4</th>\n",
       "      <td>203</td>\n",
       "      <td>173247</td>\n",
       "      <td>东方财富网</td>\n",
       "      <td>6712111507146464</td>\n",
       "      <td>发表于 2019-07-17 11:05:48 股吧网页版</td>\n",
       "      <td>2019-07-17 11:05:48</td>\n",
       "      <td>股吧网页版</td>\n",
       "      <td>炒股理财选东方财富证券！7×24小时股票开户，佣金低至万2.5</td>\n",
       "      <td>None</td>\n",
       "      <td>http://guba.eastmoney.com/news,cjpl,857016161....</td>\n",
       "      <td>2019-12-29 14:14:03</td>\n",
       "      <td>2019-12-29 14:14:03</td>\n",
       "    </tr>\n",
       "  </tbody>\n",
       "</table>\n",
       "</div>"
      ],
      "text/plain": [
       "    id  list_id    用户名              用户id                         时间和客户端  \\\n",
       "0  199   173243   财经评论  9313013693864916  发表于 2019-12-28 09:07:36 股吧网页版   \n",
       "1  200   173244   财经评论  9313013693864916  发表于 2019-12-27 21:58:54 股吧网页版   \n",
       "2  201   173245   财经评论  9313013693864916  发表于 2019-12-28 09:08:22 股吧网页版   \n",
       "3  202   173246   财经评论  9313013693864916  发表于 2019-12-28 09:36:03 股吧网页版   \n",
       "4  203   173247  东方财富网  6712111507146464  发表于 2019-07-17 11:05:48 股吧网页版   \n",
       "\n",
       "                 发帖时间  客户端名称                                     标题  \\\n",
       "0 2019-12-28 09:07:36  股吧网页版  新证券法明年3月1日起施行！全面推行注册制、加大违法成本  七大要点看过来   \n",
       "1 2019-12-27 21:58:54  股吧网页版            超预期！新三板投资门槛全面下调 150万股民将跑步进场   \n",
       "2 2019-12-28 09:08:22  股吧网页版              央行：推进存量浮动利率贷款定价基准转换为LPR利率   \n",
       "3 2019-12-28 09:36:03  股吧网页版                           证券法明确全面推行注册制   \n",
       "4 2019-07-17 11:05:48  股吧网页版        炒股理财选东方财富证券！7×24小时股票开户，佣金低至万2.5   \n",
       "\n",
       "                                                  内容  \\\n",
       "0  12月28日上午，十三届全国人大常委会第十五次会议全体会议审议通过了新修订的证券法。修订后的...   \n",
       "1          2019年的最后一个周五下午，新三板市场迎来了最激动人心的时刻，深化改革真正落锤。   \n",
       "2                                                      \n",
       "3  证券时报记者获悉，新修订的证券法明确全面推行注册制。将发行股票应当“具有持续盈利能力”的要求...   \n",
       "4                                               None   \n",
       "\n",
       "                                                  来源                更新时间  \\\n",
       "0  http://guba.eastmoney.com/news,cjpl,894749996.... 2019-12-29 14:14:03   \n",
       "1  http://guba.eastmoney.com/news,cjpl,894725732.... 2019-12-29 14:14:03   \n",
       "2  http://guba.eastmoney.com/news,cjpl,894749886.... 2019-12-29 14:14:03   \n",
       "3  http://guba.eastmoney.com/news,cjpl,894751250.... 2019-12-29 14:14:03   \n",
       "4  http://guba.eastmoney.com/news,cjpl,857016161.... 2019-12-29 14:14:03   \n",
       "\n",
       "                 创建时间  \n",
       "0 2019-12-29 14:14:03  \n",
       "1 2019-12-29 14:14:03  \n",
       "2 2019-12-29 14:14:03  \n",
       "3 2019-12-29 14:14:03  \n",
       "4 2019-12-29 14:14:03  "
      ]
     },
     "execution_count": 8,
     "metadata": {},
     "output_type": "execute_result"
    }
   ],
   "source": [
    "df.head()"
   ]
  },
  {
   "cell_type": "code",
   "execution_count": 9,
   "metadata": {
    "ExecuteTime": {
     "end_time": "2020-02-28T11:03:58.017415Z",
     "start_time": "2020-02-28T11:03:57.579424Z"
    }
   },
   "outputs": [
    {
     "data": {
      "text/plain": [
       "id              0\n",
       "list_id         0\n",
       "用户名        208887\n",
       "用户id       214173\n",
       "时间和客户端          0\n",
       "发帖时间            0\n",
       "客户端名称           0\n",
       "标题           4881\n",
       "内容          70798\n",
       "来源              0\n",
       "更新时间            0\n",
       "创建时间            0\n",
       "dtype: int64"
      ]
     },
     "execution_count": 9,
     "metadata": {},
     "output_type": "execute_result"
    }
   ],
   "source": [
    "# 查看缺失值\n",
    "df.isnull().sum(axis=0)"
   ]
  },
  {
   "cell_type": "code",
   "execution_count": 10,
   "metadata": {
    "ExecuteTime": {
     "end_time": "2020-02-28T11:03:58.021295Z",
     "start_time": "2020-02-28T11:03:58.019142Z"
    }
   },
   "outputs": [],
   "source": [
    "# 用户名、用户id不影响分析，后续会删除\n",
    "# 我们分析主要使用标题，所以可以把内容字段删除\n",
    "# 在做完可视化后，可以把缺失标题的这一部分数据删除掉 \n",
    "# 所以暂时先不做处理"
   ]
  },
  {
   "cell_type": "code",
   "execution_count": 11,
   "metadata": {
    "ExecuteTime": {
     "end_time": "2020-02-28T11:04:02.857401Z",
     "start_time": "2020-02-28T11:03:58.022697Z"
    }
   },
   "outputs": [
    {
     "data": {
      "text/html": [
       "<div>\n",
       "<style scoped>\n",
       "    .dataframe tbody tr th:only-of-type {\n",
       "        vertical-align: middle;\n",
       "    }\n",
       "\n",
       "    .dataframe tbody tr th {\n",
       "        vertical-align: top;\n",
       "    }\n",
       "\n",
       "    .dataframe thead th {\n",
       "        text-align: right;\n",
       "    }\n",
       "</style>\n",
       "<table border=\"1\" class=\"dataframe\">\n",
       "  <thead>\n",
       "    <tr style=\"text-align: right;\">\n",
       "      <th></th>\n",
       "      <th>id</th>\n",
       "      <th>list_id</th>\n",
       "      <th>用户名</th>\n",
       "      <th>用户id</th>\n",
       "      <th>时间和客户端</th>\n",
       "      <th>客户端名称</th>\n",
       "      <th>标题</th>\n",
       "      <th>内容</th>\n",
       "      <th>来源</th>\n",
       "      <th>更新时间</th>\n",
       "      <th>创建时间</th>\n",
       "    </tr>\n",
       "    <tr>\n",
       "      <th>发帖时间</th>\n",
       "      <th></th>\n",
       "      <th></th>\n",
       "      <th></th>\n",
       "      <th></th>\n",
       "      <th></th>\n",
       "      <th></th>\n",
       "      <th></th>\n",
       "      <th></th>\n",
       "      <th></th>\n",
       "      <th></th>\n",
       "      <th></th>\n",
       "    </tr>\n",
       "  </thead>\n",
       "  <tbody>\n",
       "    <tr>\n",
       "      <th>2019-12-29</th>\n",
       "      <td>213</td>\n",
       "      <td>173257</td>\n",
       "      <td>十八厘米</td>\n",
       "      <td>1118054659715866</td>\n",
       "      <td>发表于 2019-12-29 00:50:50 东方财富Android版</td>\n",
       "      <td>东方财富Android版</td>\n",
       "      <td>周一给昊华能源陪葬！</td>\n",
       "      <td>周一给</td>\n",
       "      <td>http://guba.eastmoney.com/news,000725,89479040...</td>\n",
       "      <td>2019-12-29 14:14:03</td>\n",
       "      <td>2019-12-29 14:14:03</td>\n",
       "    </tr>\n",
       "    <tr>\n",
       "      <th>2019-12-29</th>\n",
       "      <td>214</td>\n",
       "      <td>173258</td>\n",
       "      <td>京东方庄家是韭菜</td>\n",
       "      <td>2475035415123256</td>\n",
       "      <td>发表于 2019-12-29 00:42:08 股吧网页版</td>\n",
       "      <td>股吧网页版</td>\n",
       "      <td>这下可彻底毁了，随着时间的临近怕是欺骗不下去了！</td>\n",
       "      <td>时间回溯到11月27日！有条犄角旮旯里的消息在京东方吧里被无限放大，甚至是相对官方咨询！</td>\n",
       "      <td>http://guba.eastmoney.com/news,000725,89479024...</td>\n",
       "      <td>2019-12-29 14:14:03</td>\n",
       "      <td>2019-12-29 14:14:03</td>\n",
       "    </tr>\n",
       "    <tr>\n",
       "      <th>2019-12-29</th>\n",
       "      <td>215</td>\n",
       "      <td>173259</td>\n",
       "      <td>灭霸的响指</td>\n",
       "      <td>3992094751257586</td>\n",
       "      <td>发表于 2019-12-29 00:33:16 东方财富Android版</td>\n",
       "      <td>东方财富Android版</td>\n",
       "      <td>绿油油的韭菜地呦，一眼望不到边～我愿做其中的一小颗呦，此心无悔。</td>\n",
       "      <td>绿油油的韭菜地呦，一眼望不到边～</td>\n",
       "      <td>http://guba.eastmoney.com/news,000725,89479009...</td>\n",
       "      <td>2019-12-29 14:14:03</td>\n",
       "      <td>2019-12-29 14:14:03</td>\n",
       "    </tr>\n",
       "    <tr>\n",
       "      <th>2019-12-29</th>\n",
       "      <td>216</td>\n",
       "      <td>173260</td>\n",
       "      <td>珠穆朗玛3100</td>\n",
       "      <td>2078074862812068</td>\n",
       "      <td>发表于 2019-12-29 00:27:46 东方财富Android版</td>\n",
       "      <td>东方财富Android版</td>\n",
       "      <td>周一可以跌停了</td>\n",
       "      <td>周一可以跌停了</td>\n",
       "      <td>http://guba.eastmoney.com/news,000725,89478999...</td>\n",
       "      <td>2019-12-29 14:14:03</td>\n",
       "      <td>2019-12-29 14:14:03</td>\n",
       "    </tr>\n",
       "    <tr>\n",
       "      <th>2019-12-28</th>\n",
       "      <td>367</td>\n",
       "      <td>173415</td>\n",
       "      <td>千年韭菜根</td>\n",
       "      <td>9919094859432214</td>\n",
       "      <td>发表于 2019-12-28 07:45:12 股吧Android版</td>\n",
       "      <td>股吧Android版</td>\n",
       "      <td>娱乐互动：‘’娱乐互动‘’[俏皮][俏皮][俏皮]严禁高举‘’标语或口号‘’~摇</td>\n",
       "      <td>娱乐互动：‘’娱乐互动‘’</td>\n",
       "      <td>http://guba.eastmoney.com/news,000725,89474455...</td>\n",
       "      <td>2019-12-29 14:14:57</td>\n",
       "      <td>2019-12-29 14:14:57</td>\n",
       "    </tr>\n",
       "  </tbody>\n",
       "</table>\n",
       "</div>"
      ],
      "text/plain": [
       "             id  list_id       用户名              用户id  \\\n",
       "发帖时间                                                   \n",
       "2019-12-29  213   173257      十八厘米  1118054659715866   \n",
       "2019-12-29  214   173258  京东方庄家是韭菜  2475035415123256   \n",
       "2019-12-29  215   173259     灭霸的响指  3992094751257586   \n",
       "2019-12-29  216   173260  珠穆朗玛3100  2078074862812068   \n",
       "2019-12-28  367   173415     千年韭菜根  9919094859432214   \n",
       "\n",
       "                                          时间和客户端         客户端名称  \\\n",
       "发帖时间                                                             \n",
       "2019-12-29  发表于 2019-12-29 00:50:50 东方财富Android版  东方财富Android版   \n",
       "2019-12-29         发表于 2019-12-29 00:42:08 股吧网页版         股吧网页版   \n",
       "2019-12-29  发表于 2019-12-29 00:33:16 东方财富Android版  东方财富Android版   \n",
       "2019-12-29  发表于 2019-12-29 00:27:46 东方财富Android版  东方财富Android版   \n",
       "2019-12-28    发表于 2019-12-28 07:45:12 股吧Android版    股吧Android版   \n",
       "\n",
       "                                                  标题  \\\n",
       "发帖时间                                                   \n",
       "2019-12-29                                周一给昊华能源陪葬！   \n",
       "2019-12-29                  这下可彻底毁了，随着时间的临近怕是欺骗不下去了！   \n",
       "2019-12-29          绿油油的韭菜地呦，一眼望不到边～我愿做其中的一小颗呦，此心无悔。   \n",
       "2019-12-29                                   周一可以跌停了   \n",
       "2019-12-28  娱乐互动：‘’娱乐互动‘’[俏皮][俏皮][俏皮]严禁高举‘’标语或口号‘’~摇   \n",
       "\n",
       "                                                      内容  \\\n",
       "发帖时间                                                       \n",
       "2019-12-29                                           周一给   \n",
       "2019-12-29  时间回溯到11月27日！有条犄角旮旯里的消息在京东方吧里被无限放大，甚至是相对官方咨询！   \n",
       "2019-12-29                              绿油油的韭菜地呦，一眼望不到边～   \n",
       "2019-12-29                                       周一可以跌停了   \n",
       "2019-12-28                                 娱乐互动：‘’娱乐互动‘’   \n",
       "\n",
       "                                                           来源  \\\n",
       "发帖时间                                                            \n",
       "2019-12-29  http://guba.eastmoney.com/news,000725,89479040...   \n",
       "2019-12-29  http://guba.eastmoney.com/news,000725,89479024...   \n",
       "2019-12-29  http://guba.eastmoney.com/news,000725,89479009...   \n",
       "2019-12-29  http://guba.eastmoney.com/news,000725,89478999...   \n",
       "2019-12-28  http://guba.eastmoney.com/news,000725,89474455...   \n",
       "\n",
       "                          更新时间                创建时间  \n",
       "发帖时间                                                \n",
       "2019-12-29 2019-12-29 14:14:03 2019-12-29 14:14:03  \n",
       "2019-12-29 2019-12-29 14:14:03 2019-12-29 14:14:03  \n",
       "2019-12-29 2019-12-29 14:14:03 2019-12-29 14:14:03  \n",
       "2019-12-29 2019-12-29 14:14:03 2019-12-29 14:14:03  \n",
       "2019-12-28 2019-12-29 14:14:57 2019-12-29 14:14:57  "
      ]
     },
     "execution_count": 11,
     "metadata": {},
     "output_type": "execute_result"
    }
   ],
   "source": [
    "# 过滤官方的帖子\n",
    "df1 = df.loc[(df[\"用户名\"] != \"财经评论\") & (df[\"用户名\"] != \"东方财富网\") & (df[\"用户名\"] != \"京东方A资讯\")]\n",
    "# 将发帖时间转为时间类型\n",
    "df1['发帖时间'] = df1['发帖时间'].dt.strftime('%Y-%m-%d')\n",
    "df1[\"发帖时间\"] = pd.to_datetime(df1[\"发帖时间\"])\n",
    "# 将发帖时间设置为索引\n",
    "df1 = df1.set_index(\"发帖时间\")\n",
    "# 按照发帖时间将帖子排序\n",
    "df1 = df1.sort_index(ascending=False)\n",
    "df1.head()"
   ]
  },
  {
   "cell_type": "markdown",
   "metadata": {},
   "source": [
    "# 发帖数据的基本可视化"
   ]
  },
  {
   "cell_type": "code",
   "execution_count": 12,
   "metadata": {
    "ExecuteTime": {
     "end_time": "2020-02-28T11:04:03.021166Z",
     "start_time": "2020-02-28T11:04:02.859579Z"
    }
   },
   "outputs": [
    {
     "data": {
      "text/plain": [
       "客户端名称\n",
       "股吧网页版             335215\n",
       "东方财富Android版      180549\n",
       "东方财富电脑版            58891\n",
       "东方财富iPhone版        51347\n",
       "股吧手机网页版            33008\n",
       "股吧Android版         12326\n",
       "东方财富手机版             5165\n",
       "股吧iPhone版            953\n",
       "东方财富网iPad版           691\n",
       "东方财富通WP版             460\n",
       "东方财富网网页版             115\n",
       "东方财富网手机网页版            17\n",
       "东方财富期货Android版         2\n",
       "天天基金手机网页版              1\n",
       "Name: id, dtype: int64"
      ]
     },
     "execution_count": 12,
     "metadata": {},
     "output_type": "execute_result"
    }
   ],
   "source": [
    "# 可视化用户评论使用的客户端类型\n",
    "# 可以看到使用网页和安卓客户端发帖的用户最多\n",
    "client_count = df1.groupby(\"客户端名称\")[\"id\"].count().sort_values(ascending=False)\n",
    "client_count"
   ]
  },
  {
   "cell_type": "code",
   "execution_count": 13,
   "metadata": {
    "ExecuteTime": {
     "end_time": "2020-02-28T11:04:03.443917Z",
     "start_time": "2020-02-28T11:04:03.023174Z"
    }
   },
   "outputs": [
    {
     "data": {
      "text/plain": [
       "<matplotlib.axes._subplots.AxesSubplot at 0x13078b748>"
      ]
     },
     "execution_count": 13,
     "metadata": {},
     "output_type": "execute_result"
    },
    {
     "data": {
      "image/png": "[encoded data removed]",
      "text/plain": [
       "<Figure size 720x576 with 1 Axes>"
      ]
     },
     "metadata": {
      "needs_background": "light"
     },
     "output_type": "display_data"
    }
   ],
   "source": [
    "client_count.plot(title='股民发帖使用的客户端',label='line',legend=True, fontsize=15)\n",
    "client_count.plot(kind='bar',colormap='Oranges_r',label='bar',legend=True, figsize=(10,8), fontsize=15)"
   ]
  },
  {
   "cell_type": "code",
   "execution_count": 14,
   "metadata": {
    "ExecuteTime": {
     "end_time": "2020-02-28T11:04:04.019968Z",
     "start_time": "2020-02-28T11:04:03.445884Z"
    }
   },
   "outputs": [
    {
     "data": {
      "text/plain": [
       "<matplotlib.axes._subplots.AxesSubplot at 0x182283f98>"
      ]
     },
     "execution_count": 14,
     "metadata": {},
     "output_type": "execute_result"
    },
    {
     "data": {
      "image/png": "[encoded data removed]",
      "text/plain": [
       "<Figure size 1080x576 with 1 Axes>"
      ]
     },
     "metadata": {
      "needs_background": "light"
     },
     "output_type": "display_data"
    }
   ],
   "source": [
    "# 累积发帖趋势\n",
    "df1[[\"id\"]].to_period(\"D\").groupby(df1[[\"id\"]].to_period(\"D\").index)[\"id\"].count().cumsum().plot(figsize=(15, 8))"
   ]
  },
  {
   "cell_type": "code",
   "execution_count": 15,
   "metadata": {
    "ExecuteTime": {
     "end_time": "2020-02-28T11:04:04.530264Z",
     "start_time": "2020-02-28T11:04:04.021657Z"
    }
   },
   "outputs": [
    {
     "data": {
      "text/plain": [
       "<matplotlib.axes._subplots.AxesSubplot at 0x181485320>"
      ]
     },
     "execution_count": 15,
     "metadata": {},
     "output_type": "execute_result"
    },
    {
     "data": {
      "image/png": "[encoded data removed]",
      "text/plain": [
       "<Figure size 1080x576 with 1 Axes>"
      ]
     },
     "metadata": {
      "needs_background": "light"
     },
     "output_type": "display_data"
    }
   ],
   "source": [
    "# 按月统计发帖量\n",
    "df1[[\"id\"]].to_period(\"M\").groupby(df1[[\"id\"]].to_period(\"M\").index)[\"id\"].count().plot(figsize=(15, 8))"
   ]
  },
  {
   "cell_type": "code",
   "execution_count": 16,
   "metadata": {
    "ExecuteTime": {
     "end_time": "2020-02-28T11:04:04.899497Z",
     "start_time": "2020-02-28T11:04:04.532637Z"
    }
   },
   "outputs": [
    {
     "data": {
      "text/plain": [
       "<matplotlib.axes._subplots.AxesSubplot at 0x18186cba8>"
      ]
     },
     "execution_count": 16,
     "metadata": {},
     "output_type": "execute_result"
    },
    {
     "data": {
      "image/png": "[encoded data removed]",
      "text/plain": [
       "<Figure size 1080x576 with 1 Axes>"
      ]
     },
     "metadata": {
      "needs_background": "light"
     },
     "output_type": "display_data"
    }
   ],
   "source": [
    "# 按年统计发帖量\n",
    "df1[[\"id\"]].to_period(\"Y\").groupby(df1[[\"id\"]].to_period(\"Y\").index)[\"id\"].count().plot.bar(figsize=(15, 8))"
   ]
  },
  {
   "cell_type": "markdown",
   "metadata": {},
   "source": [
    "# 数据预处理"
   ]
  },
  {
   "cell_type": "code",
   "execution_count": 17,
   "metadata": {
    "ExecuteTime": {
     "end_time": "2020-02-28T11:04:05.049795Z",
     "start_time": "2020-02-28T11:04:04.901774Z"
    }
   },
   "outputs": [
    {
     "name": "stdout",
     "output_type": "stream",
     "text": [
      "删除前： (678740, 1)\n",
      "删除后： (673859, 1)\n"
     ]
    },
    {
     "data": {
      "text/html": [
       "<div>\n",
       "<style scoped>\n",
       "    .dataframe tbody tr th:only-of-type {\n",
       "        vertical-align: middle;\n",
       "    }\n",
       "\n",
       "    .dataframe tbody tr th {\n",
       "        vertical-align: top;\n",
       "    }\n",
       "\n",
       "    .dataframe thead th {\n",
       "        text-align: right;\n",
       "    }\n",
       "</style>\n",
       "<table border=\"1\" class=\"dataframe\">\n",
       "  <thead>\n",
       "    <tr style=\"text-align: right;\">\n",
       "      <th></th>\n",
       "      <th>标题</th>\n",
       "    </tr>\n",
       "    <tr>\n",
       "      <th>发帖时间</th>\n",
       "      <th></th>\n",
       "    </tr>\n",
       "  </thead>\n",
       "  <tbody>\n",
       "    <tr>\n",
       "      <th>2019-12-29</th>\n",
       "      <td>周一给昊华能源陪葬！</td>\n",
       "    </tr>\n",
       "    <tr>\n",
       "      <th>2019-12-29</th>\n",
       "      <td>这下可彻底毁了，随着时间的临近怕是欺骗不下去了！</td>\n",
       "    </tr>\n",
       "    <tr>\n",
       "      <th>2019-12-29</th>\n",
       "      <td>绿油油的韭菜地呦，一眼望不到边～我愿做其中的一小颗呦，此心无悔。</td>\n",
       "    </tr>\n",
       "    <tr>\n",
       "      <th>2019-12-29</th>\n",
       "      <td>周一可以跌停了</td>\n",
       "    </tr>\n",
       "    <tr>\n",
       "      <th>2019-12-28</th>\n",
       "      <td>娱乐互动：‘’娱乐互动‘’[俏皮][俏皮][俏皮]严禁高举‘’标语或口号‘’~摇</td>\n",
       "    </tr>\n",
       "  </tbody>\n",
       "</table>\n",
       "</div>"
      ],
      "text/plain": [
       "                                                  标题\n",
       "发帖时间                                                \n",
       "2019-12-29                                周一给昊华能源陪葬！\n",
       "2019-12-29                  这下可彻底毁了，随着时间的临近怕是欺骗不下去了！\n",
       "2019-12-29          绿油油的韭菜地呦，一眼望不到边～我愿做其中的一小颗呦，此心无悔。\n",
       "2019-12-29                                   周一可以跌停了\n",
       "2019-12-28  娱乐互动：‘’娱乐互动‘’[俏皮][俏皮][俏皮]严禁高举‘’标语或口号‘’~摇"
      ]
     },
     "execution_count": 17,
     "metadata": {},
     "output_type": "execute_result"
    }
   ],
   "source": [
    "# 只保留标题列\n",
    "df2 = df1[[\"标题\"]]\n",
    "# 去掉缺失值\n",
    "print(\"删除前：\", df2.shape)\n",
    "df2 = df2.dropna()\n",
    "print(\"删除后：\", df2.shape)\n",
    "df2.head()"
   ]
  },
  {
   "cell_type": "code",
   "execution_count": 18,
   "metadata": {
    "ExecuteTime": {
     "end_time": "2020-02-28T11:04:05.361834Z",
     "start_time": "2020-02-28T11:04:05.051982Z"
    }
   },
   "outputs": [
    {
     "data": {
      "text/html": [
       "<div>\n",
       "<style scoped>\n",
       "    .dataframe tbody tr th:only-of-type {\n",
       "        vertical-align: middle;\n",
       "    }\n",
       "\n",
       "    .dataframe tbody tr th {\n",
       "        vertical-align: top;\n",
       "    }\n",
       "\n",
       "    .dataframe thead th {\n",
       "        text-align: right;\n",
       "    }\n",
       "</style>\n",
       "<table border=\"1\" class=\"dataframe\">\n",
       "  <thead>\n",
       "    <tr style=\"text-align: right;\">\n",
       "      <th></th>\n",
       "      <th>标题</th>\n",
       "      <th>len</th>\n",
       "    </tr>\n",
       "    <tr>\n",
       "      <th>发帖时间</th>\n",
       "      <th></th>\n",
       "      <th></th>\n",
       "    </tr>\n",
       "  </thead>\n",
       "  <tbody>\n",
       "    <tr>\n",
       "      <th>2019-12-29</th>\n",
       "      <td>周一给昊华能源陪葬！</td>\n",
       "      <td>10</td>\n",
       "    </tr>\n",
       "    <tr>\n",
       "      <th>2019-12-29</th>\n",
       "      <td>这下可彻底毁了，随着时间的临近怕是欺骗不下去了！</td>\n",
       "      <td>24</td>\n",
       "    </tr>\n",
       "    <tr>\n",
       "      <th>2019-12-29</th>\n",
       "      <td>绿油油的韭菜地呦，一眼望不到边～我愿做其中的一小颗呦，此心无悔。</td>\n",
       "      <td>32</td>\n",
       "    </tr>\n",
       "    <tr>\n",
       "      <th>2019-12-29</th>\n",
       "      <td>周一可以跌停了</td>\n",
       "      <td>7</td>\n",
       "    </tr>\n",
       "    <tr>\n",
       "      <th>2019-12-28</th>\n",
       "      <td>娱乐互动：‘’娱乐互动‘’[俏皮][俏皮][俏皮]严禁高举‘’标语或口号‘’~摇</td>\n",
       "      <td>40</td>\n",
       "    </tr>\n",
       "  </tbody>\n",
       "</table>\n",
       "</div>"
      ],
      "text/plain": [
       "                                                  标题  len\n",
       "发帖时间                                                     \n",
       "2019-12-29                                周一给昊华能源陪葬！   10\n",
       "2019-12-29                  这下可彻底毁了，随着时间的临近怕是欺骗不下去了！   24\n",
       "2019-12-29          绿油油的韭菜地呦，一眼望不到边～我愿做其中的一小颗呦，此心无悔。   32\n",
       "2019-12-29                                   周一可以跌停了    7\n",
       "2019-12-28  娱乐互动：‘’娱乐互动‘’[俏皮][俏皮][俏皮]严禁高举‘’标语或口号‘’~摇   40"
      ]
     },
     "execution_count": 18,
     "metadata": {},
     "output_type": "execute_result"
    }
   ],
   "source": [
    "# 增加标题的长度\n",
    "df2[\"len\"] = df2[\"标题\"].apply(len)\n",
    "df2.head()"
   ]
  },
  {
   "cell_type": "code",
   "execution_count": 19,
   "metadata": {
    "ExecuteTime": {
     "end_time": "2020-02-28T11:04:05.730086Z",
     "start_time": "2020-02-28T11:04:05.364064Z"
    }
   },
   "outputs": [
    {
     "data": {
      "text/plain": [
       "<matplotlib.axes._subplots.AxesSubplot at 0x1782f1470>"
      ]
     },
     "execution_count": 19,
     "metadata": {},
     "output_type": "execute_result"
    },
    {
     "data": {
      "image/png": "[encoded data removed]",
      "text/plain": [
       "<Figure size 1080x576 with 1 Axes>"
      ]
     },
     "metadata": {
      "needs_background": "light"
     },
     "output_type": "display_data"
    }
   ],
   "source": [
    "# 标题长度分布\n",
    "df2[\"len\"].plot.hist(figsize=(15, 8))"
   ]
  },
  {
   "cell_type": "code",
   "execution_count": 20,
   "metadata": {
    "ExecuteTime": {
     "end_time": "2020-02-28T11:04:06.770937Z",
     "start_time": "2020-02-28T11:04:05.731891Z"
    }
   },
   "outputs": [
    {
     "name": "stdout",
     "output_type": "stream",
     "text": [
      "按照日期拼接后： (3649, 1)\n"
     ]
    },
    {
     "data": {
      "text/html": [
       "<div>\n",
       "<style scoped>\n",
       "    .dataframe tbody tr th:only-of-type {\n",
       "        vertical-align: middle;\n",
       "    }\n",
       "\n",
       "    .dataframe tbody tr th {\n",
       "        vertical-align: top;\n",
       "    }\n",
       "\n",
       "    .dataframe thead th {\n",
       "        text-align: right;\n",
       "    }\n",
       "</style>\n",
       "<table border=\"1\" class=\"dataframe\">\n",
       "  <thead>\n",
       "    <tr style=\"text-align: right;\">\n",
       "      <th></th>\n",
       "      <th>标题</th>\n",
       "      <th>len</th>\n",
       "    </tr>\n",
       "    <tr>\n",
       "      <th>发帖时间</th>\n",
       "      <th></th>\n",
       "      <th></th>\n",
       "    </tr>\n",
       "  </thead>\n",
       "  <tbody>\n",
       "    <tr>\n",
       "      <th>2019-12-29</th>\n",
       "      <td>周一给昊华能源陪葬！\\t这下可彻底毁了，随着时间的临近怕是欺骗不下去了！\\t绿油油的韭菜地呦...</td>\n",
       "      <td>77</td>\n",
       "    </tr>\n",
       "    <tr>\n",
       "      <th>2019-12-28</th>\n",
       "      <td>娱乐互动：‘’娱乐互动‘’[俏皮][俏皮][俏皮]严禁高举‘’标语或口号‘’~摇\\t本月连出...</td>\n",
       "      <td>3743</td>\n",
       "    </tr>\n",
       "    <tr>\n",
       "      <th>2019-12-27</th>\n",
       "      <td>什么原因停牌\\t已出了五个多亿了，低于3.7严重破位下跌大家快跑吧\\t京东方作为最大最出名的...</td>\n",
       "      <td>13617</td>\n",
       "    </tr>\n",
       "    <tr>\n",
       "      <th>2019-12-26</th>\n",
       "      <td>酝酿情绪，准备一飞冲天\\t撤退，不撤退不行了，假突破\\t4.88成交，棒棒哒\\t出货速度真快...</td>\n",
       "      <td>14381</td>\n",
       "    </tr>\n",
       "    <tr>\n",
       "      <th>2019-12-25</th>\n",
       "      <td>高位久盘必跌\\t快乐：其实‘’韭菜根‘’股市投资~赚多少钱都无所谓~因‘’韭菜根‘’股市投资...</td>\n",
       "      <td>8984</td>\n",
       "    </tr>\n",
       "    <tr>\n",
       "      <th>2019-12-24</th>\n",
       "      <td>妈的，每次买这个股票都是当接盘侠\\t成分B指屌炸天，大伙别慌\\t129万股东，剧减！\\t懂得...</td>\n",
       "      <td>10183</td>\n",
       "    </tr>\n",
       "    <tr>\n",
       "      <th>2019-12-23</th>\n",
       "      <td>外资会是京东方股市中的董垂瑞吗\\t京东方本周上5元同意吗？[赞][赞][赞]\\t感觉人生已经...</td>\n",
       "      <td>10721</td>\n",
       "    </tr>\n",
       "    <tr>\n",
       "      <th>2019-12-22</th>\n",
       "      <td>微笑着，我来了，看一眼，我走了\\t转发\\t笑迎2020：远离~分析(别人主给出的)[俏皮][...</td>\n",
       "      <td>3087</td>\n",
       "    </tr>\n",
       "    <tr>\n",
       "      <th>2019-12-21</th>\n",
       "      <td>周一跌停我满仓进\\t2月20日消息，在第二届崇礼论坛上，百度创始人、董事长兼CEO李彦宏发表...</td>\n",
       "      <td>2943</td>\n",
       "    </tr>\n",
       "    <tr>\n",
       "      <th>2019-12-20</th>\n",
       "      <td>我前天就说过，机构将在散户一片看涨声种开始割韭菜，温水煮青蛙开始套人！\\t这两年都是一个庄，...</td>\n",
       "      <td>9498</td>\n",
       "    </tr>\n",
       "  </tbody>\n",
       "</table>\n",
       "</div>"
      ],
      "text/plain": [
       "                                                           标题    len\n",
       "发帖时间                                                                \n",
       "2019-12-29  周一给昊华能源陪葬！\\t这下可彻底毁了，随着时间的临近怕是欺骗不下去了！\\t绿油油的韭菜地呦...     77\n",
       "2019-12-28  娱乐互动：‘’娱乐互动‘’[俏皮][俏皮][俏皮]严禁高举‘’标语或口号‘’~摇\\t本月连出...   3743\n",
       "2019-12-27  什么原因停牌\\t已出了五个多亿了，低于3.7严重破位下跌大家快跑吧\\t京东方作为最大最出名的...  13617\n",
       "2019-12-26  酝酿情绪，准备一飞冲天\\t撤退，不撤退不行了，假突破\\t4.88成交，棒棒哒\\t出货速度真快...  14381\n",
       "2019-12-25  高位久盘必跌\\t快乐：其实‘’韭菜根‘’股市投资~赚多少钱都无所谓~因‘’韭菜根‘’股市投资...   8984\n",
       "2019-12-24  妈的，每次买这个股票都是当接盘侠\\t成分B指屌炸天，大伙别慌\\t129万股东，剧减！\\t懂得...  10183\n",
       "2019-12-23  外资会是京东方股市中的董垂瑞吗\\t京东方本周上5元同意吗？[赞][赞][赞]\\t感觉人生已经...  10721\n",
       "2019-12-22  微笑着，我来了，看一眼，我走了\\t转发\\t笑迎2020：远离~分析(别人主给出的)[俏皮][...   3087\n",
       "2019-12-21  周一跌停我满仓进\\t2月20日消息，在第二届崇礼论坛上，百度创始人、董事长兼CEO李彦宏发表...   2943\n",
       "2019-12-20  我前天就说过，机构将在散户一片看涨声种开始割韭菜，温水煮青蛙开始套人！\\t这两年都是一个庄，...   9498"
      ]
     },
     "execution_count": 20,
     "metadata": {},
     "output_type": "execute_result"
    }
   ],
   "source": [
    "# 每个帖子增加一个特殊符号\n",
    "df2[\"标题\"] = df2[\"标题\"] + \"\\t\"\n",
    "# 按照发帖时间将帖子内容拼接起来\n",
    "df2grp = df2[[\"标题\"]].groupby(df2.index).sum()\n",
    "print(\"按照日期拼接后：\", df2grp.shape)\n",
    "# 构造新列：当日帖子总长度\n",
    "df2grp[\"len\"] = df2grp[\"标题\"].apply(len)\n",
    "# 按照时间排序\n",
    "df2grp = df2grp.sort_index(ascending=False)\n",
    "df2grp.head(10)"
   ]
  },
  {
   "cell_type": "code",
   "execution_count": 21,
   "metadata": {
    "ExecuteTime": {
     "end_time": "2020-02-28T11:04:06.781544Z",
     "start_time": "2020-02-28T11:04:06.772702Z"
    }
   },
   "outputs": [
    {
     "name": "stdout",
     "output_type": "stream",
     "text": [
      "(3649, 3)\n"
     ]
    },
    {
     "data": {
      "text/plain": [
       "标题             0\n",
       "len            0\n",
       "UpOrDown    1236\n",
       "dtype: int64"
      ]
     },
     "execution_count": 21,
     "metadata": {},
     "output_type": "execute_result"
    }
   ],
   "source": [
    "# 按照索引（时间）合并语料和涨跌\n",
    "condf = df2grp.join(df_725_UpOrDown)\n",
    "print(condf.shape)\n",
    "condf.isnull().sum(axis=0)"
   ]
  },
  {
   "cell_type": "code",
   "execution_count": 22,
   "metadata": {
    "ExecuteTime": {
     "end_time": "2020-02-28T11:04:06.794747Z",
     "start_time": "2020-02-28T11:04:06.783039Z"
    }
   },
   "outputs": [
    {
     "name": "stdout",
     "output_type": "stream",
     "text": [
      "(2413, 3)\n"
     ]
    },
    {
     "data": {
      "text/html": [
       "<div>\n",
       "<style scoped>\n",
       "    .dataframe tbody tr th:only-of-type {\n",
       "        vertical-align: middle;\n",
       "    }\n",
       "\n",
       "    .dataframe tbody tr th {\n",
       "        vertical-align: top;\n",
       "    }\n",
       "\n",
       "    .dataframe thead th {\n",
       "        text-align: right;\n",
       "    }\n",
       "</style>\n",
       "<table border=\"1\" class=\"dataframe\">\n",
       "  <thead>\n",
       "    <tr style=\"text-align: right;\">\n",
       "      <th></th>\n",
       "      <th>标题</th>\n",
       "      <th>len</th>\n",
       "      <th>UpOrDown</th>\n",
       "    </tr>\n",
       "    <tr>\n",
       "      <th>发帖时间</th>\n",
       "      <th></th>\n",
       "      <th></th>\n",
       "      <th></th>\n",
       "    </tr>\n",
       "  </thead>\n",
       "  <tbody>\n",
       "    <tr>\n",
       "      <th>2019-12-27</th>\n",
       "      <td>什么原因停牌\\t已出了五个多亿了，低于3.7严重破位下跌大家快跑吧\\t京东方作为最大最出名的...</td>\n",
       "      <td>13617</td>\n",
       "      <td>0.0</td>\n",
       "    </tr>\n",
       "    <tr>\n",
       "      <th>2019-12-26</th>\n",
       "      <td>酝酿情绪，准备一飞冲天\\t撤退，不撤退不行了，假突破\\t4.88成交，棒棒哒\\t出货速度真快...</td>\n",
       "      <td>14381</td>\n",
       "      <td>1.0</td>\n",
       "    </tr>\n",
       "    <tr>\n",
       "      <th>2019-12-25</th>\n",
       "      <td>高位久盘必跌\\t快乐：其实‘’韭菜根‘’股市投资~赚多少钱都无所谓~因‘’韭菜根‘’股市投资...</td>\n",
       "      <td>8984</td>\n",
       "      <td>1.0</td>\n",
       "    </tr>\n",
       "    <tr>\n",
       "      <th>2019-12-24</th>\n",
       "      <td>妈的，每次买这个股票都是当接盘侠\\t成分B指屌炸天，大伙别慌\\t129万股东，剧减！\\t懂得...</td>\n",
       "      <td>10183</td>\n",
       "      <td>1.0</td>\n",
       "    </tr>\n",
       "    <tr>\n",
       "      <th>2019-12-23</th>\n",
       "      <td>外资会是京东方股市中的董垂瑞吗\\t京东方本周上5元同意吗？[赞][赞][赞]\\t感觉人生已经...</td>\n",
       "      <td>10721</td>\n",
       "      <td>0.0</td>\n",
       "    </tr>\n",
       "  </tbody>\n",
       "</table>\n",
       "</div>"
      ],
      "text/plain": [
       "                                                           标题    len  UpOrDown\n",
       "发帖时间                                                                          \n",
       "2019-12-27  什么原因停牌\\t已出了五个多亿了，低于3.7严重破位下跌大家快跑吧\\t京东方作为最大最出名的...  13617       0.0\n",
       "2019-12-26  酝酿情绪，准备一飞冲天\\t撤退，不撤退不行了，假突破\\t4.88成交，棒棒哒\\t出货速度真快...  14381       1.0\n",
       "2019-12-25  高位久盘必跌\\t快乐：其实‘’韭菜根‘’股市投资~赚多少钱都无所谓~因‘’韭菜根‘’股市投资...   8984       1.0\n",
       "2019-12-24  妈的，每次买这个股票都是当接盘侠\\t成分B指屌炸天，大伙别慌\\t129万股东，剧减！\\t懂得...  10183       1.0\n",
       "2019-12-23  外资会是京东方股市中的董垂瑞吗\\t京东方本周上5元同意吗？[赞][赞][赞]\\t感觉人生已经...  10721       0.0"
      ]
     },
     "execution_count": 22,
     "metadata": {},
     "output_type": "execute_result"
    }
   ],
   "source": [
    "# 语料的发布日期中有很多不是开盘的日期，所以我们将缺失涨跌数据的这些数据删除\n",
    "condf = condf.dropna()\n",
    "print(condf.shape)\n",
    "condf.head()"
   ]
  },
  {
   "cell_type": "code",
   "execution_count": 23,
   "metadata": {
    "ExecuteTime": {
     "end_time": "2020-02-28T11:05:02.956645Z",
     "start_time": "2020-02-28T11:04:06.798178Z"
    },
    "scrolled": false
   },
   "outputs": [
    {
     "name": "stderr",
     "output_type": "stream",
     "text": [
      "Building prefix dict from the default dictionary ...\n",
      "Loading model from cache /var/folders/wq/03z5h7352159jp2k5p83ts500000gn/T/jieba.cache\n",
      "Loading model cost 0.776 seconds.\n",
      "Prefix dict has been built successfully.\n"
     ]
    },
    {
     "data": {
      "text/html": [
       "<div>\n",
       "<style scoped>\n",
       "    .dataframe tbody tr th:only-of-type {\n",
       "        vertical-align: middle;\n",
       "    }\n",
       "\n",
       "    .dataframe tbody tr th {\n",
       "        vertical-align: top;\n",
       "    }\n",
       "\n",
       "    .dataframe thead th {\n",
       "        text-align: right;\n",
       "    }\n",
       "</style>\n",
       "<table border=\"1\" class=\"dataframe\">\n",
       "  <thead>\n",
       "    <tr style=\"text-align: right;\">\n",
       "      <th></th>\n",
       "      <th>标题</th>\n",
       "      <th>len</th>\n",
       "      <th>UpOrDown</th>\n",
       "      <th>cut</th>\n",
       "    </tr>\n",
       "    <tr>\n",
       "      <th>发帖时间</th>\n",
       "      <th></th>\n",
       "      <th></th>\n",
       "      <th></th>\n",
       "      <th></th>\n",
       "    </tr>\n",
       "  </thead>\n",
       "  <tbody>\n",
       "    <tr>\n",
       "      <th>2019-12-27</th>\n",
       "      <td>什么原因停牌\\t已出了五个多亿了，低于3.7严重破位下跌大家快跑吧\\t京东方作为最大最出名的...</td>\n",
       "      <td>13617</td>\n",
       "      <td>0.0</td>\n",
       "      <td>什么 原因 停牌 已出 了 五个 多亿 了 ， 低于 3.7 严重 破位 下跌 大家 快 跑...</td>\n",
       "    </tr>\n",
       "    <tr>\n",
       "      <th>2019-12-26</th>\n",
       "      <td>酝酿情绪，准备一飞冲天\\t撤退，不撤退不行了，假突破\\t4.88成交，棒棒哒\\t出货速度真快...</td>\n",
       "      <td>14381</td>\n",
       "      <td>1.0</td>\n",
       "      <td>酝酿 情绪 ， 准备 一飞冲天 撤退 ， 不 撤退 不行 了 ， 假 突破 4.88 成交 ...</td>\n",
       "    </tr>\n",
       "    <tr>\n",
       "      <th>2019-12-25</th>\n",
       "      <td>高位久盘必跌\\t快乐：其实‘’韭菜根‘’股市投资~赚多少钱都无所谓~因‘’韭菜根‘’股市投资...</td>\n",
       "      <td>8984</td>\n",
       "      <td>1.0</td>\n",
       "      <td>高位 久盘 必跌 快乐 ： 其实 ‘ ’ 韭菜 根 ‘ ’ 股市 投资 ~ 赚 多少 钱 都...</td>\n",
       "    </tr>\n",
       "    <tr>\n",
       "      <th>2019-12-24</th>\n",
       "      <td>妈的，每次买这个股票都是当接盘侠\\t成分B指屌炸天，大伙别慌\\t129万股东，剧减！\\t懂得...</td>\n",
       "      <td>10183</td>\n",
       "      <td>1.0</td>\n",
       "      <td>妈 的 ， 每次 买 这个 股票 都 是 当 接盘 侠 成分 B 指 屌 炸天 ， 大伙 别...</td>\n",
       "    </tr>\n",
       "    <tr>\n",
       "      <th>2019-12-23</th>\n",
       "      <td>外资会是京东方股市中的董垂瑞吗\\t京东方本周上5元同意吗？[赞][赞][赞]\\t感觉人生已经...</td>\n",
       "      <td>10721</td>\n",
       "      <td>0.0</td>\n",
       "      <td>外资 会 是 京东方 股市 中 的 董垂瑞 吗 京东方 本周 上 5 元 同意 吗 ？ [ ...</td>\n",
       "    </tr>\n",
       "  </tbody>\n",
       "</table>\n",
       "</div>"
      ],
      "text/plain": [
       "                                                           标题    len  \\\n",
       "发帖时间                                                                   \n",
       "2019-12-27  什么原因停牌\\t已出了五个多亿了，低于3.7严重破位下跌大家快跑吧\\t京东方作为最大最出名的...  13617   \n",
       "2019-12-26  酝酿情绪，准备一飞冲天\\t撤退，不撤退不行了，假突破\\t4.88成交，棒棒哒\\t出货速度真快...  14381   \n",
       "2019-12-25  高位久盘必跌\\t快乐：其实‘’韭菜根‘’股市投资~赚多少钱都无所谓~因‘’韭菜根‘’股市投资...   8984   \n",
       "2019-12-24  妈的，每次买这个股票都是当接盘侠\\t成分B指屌炸天，大伙别慌\\t129万股东，剧减！\\t懂得...  10183   \n",
       "2019-12-23  外资会是京东方股市中的董垂瑞吗\\t京东方本周上5元同意吗？[赞][赞][赞]\\t感觉人生已经...  10721   \n",
       "\n",
       "            UpOrDown                                                cut  \n",
       "发帖时间                                                                     \n",
       "2019-12-27       0.0  什么 原因 停牌 已出 了 五个 多亿 了 ， 低于 3.7 严重 破位 下跌 大家 快 跑...  \n",
       "2019-12-26       1.0  酝酿 情绪 ， 准备 一飞冲天 撤退 ， 不 撤退 不行 了 ， 假 突破 4.88 成交 ...  \n",
       "2019-12-25       1.0  高位 久盘 必跌 快乐 ： 其实 ‘ ’ 韭菜 根 ‘ ’ 股市 投资 ~ 赚 多少 钱 都...  \n",
       "2019-12-24       1.0  妈 的 ， 每次 买 这个 股票 都 是 当 接盘 侠 成分 B 指 屌 炸天 ， 大伙 别...  \n",
       "2019-12-23       0.0  外资 会 是 京东方 股市 中 的 董垂瑞 吗 京东方 本周 上 5 元 同意 吗 ？ [ ...  "
      ]
     },
     "execution_count": 23,
     "metadata": {},
     "output_type": "execute_result"
    }
   ],
   "source": [
    "# 停用词列表\n",
    "stoplist = [\"\\t\"]\n",
    "\n",
    "# 分词函数，这里保留了标点符号\n",
    "def xh_cut(intxt):\n",
    "    return \" \".join([w for w in jieba.cut(intxt) if w not in stoplist])\n",
    "\n",
    "# 将语料分词\n",
    "condf[\"cut\"] = condf[\"标题\"].apply(xh_cut)\n",
    "condf.head()"
   ]
  },
  {
   "cell_type": "code",
   "execution_count": 24,
   "metadata": {
    "ExecuteTime": {
     "end_time": "2020-02-28T11:05:02.974649Z",
     "start_time": "2020-02-28T11:05:02.959439Z"
    }
   },
   "outputs": [],
   "source": [
    "# 字体\n",
    "myfont = \"/Users/nick/Desktop/project/0data/a/SimHei.ttf\"\n",
    "# 停用词路径\n",
    "stoplistdf = pd.read_csv('停用词.txt', names=[\"w\"], sep=\"aaa\", encoding=\"utf-8\")\n",
    "stoplist_wdc = list(stoplistdf.w) + stoplist"
   ]
  },
  {
   "cell_type": "code",
   "execution_count": 25,
   "metadata": {
    "ExecuteTime": {
     "end_time": "2020-02-28T11:05:10.949810Z",
     "start_time": "2020-02-28T11:05:02.976270Z"
    }
   },
   "outputs": [
    {
     "data": {
      "image/png": "[encoded data removed]",
      "text/plain": [
       "<Figure size 432x288 with 1 Axes>"
      ]
     },
     "metadata": {
      "needs_background": "light"
     },
     "output_type": "display_data"
    }
   ],
   "source": [
    "# 词云 将所有的帖子进行分词，统计词频，展示词云\n",
    "gennerate_string = \"\"\n",
    "for c in condf[\"cut\"]:\n",
    "    gennerate_string += c\n",
    "\n",
    "# 生成词云对象\n",
    "cloudobj = wordcloud.WordCloud(font_path = myfont, \n",
    "    width = 2000, height = 1500, max_words = 50,\n",
    "    mode = \"RGBA\", background_color = None,\n",
    "    stopwords = stoplist_wdc, collocations=False).generate(gennerate_string)  \n",
    "\n",
    "plt.imshow(cloudobj)\n",
    "plt.axis(\"off\")\n",
    "plt.show()"
   ]
  },
  {
   "cell_type": "markdown",
   "metadata": {},
   "source": [
    "# 文本向量化"
   ]
  },
  {
   "cell_type": "markdown",
   "metadata": {},
   "source": [
    "## 词袋模型-矩阵"
   ]
  },
  {
   "cell_type": "code",
   "execution_count": 26,
   "metadata": {
    "ExecuteTime": {
     "end_time": "2020-02-28T11:05:13.828835Z",
     "start_time": "2020-02-28T11:05:10.951867Z"
    },
    "scrolled": false
   },
   "outputs": [
    {
     "name": "stdout",
     "output_type": "stream",
     "text": [
      "(2413, 128162)\n"
     ]
    }
   ],
   "source": [
    "# 词袋模型-矩阵\n",
    "vect = CountVectorizer()\n",
    "wordmtx = vect.fit_transform(condf[\"cut\"])\n",
    "print(wordmtx.shape)\n",
    "# print(wordmtx)"
   ]
  },
  {
   "cell_type": "markdown",
   "metadata": {},
   "source": [
    "## tfidf-矩阵"
   ]
  },
  {
   "cell_type": "code",
   "execution_count": 27,
   "metadata": {
    "ExecuteTime": {
     "end_time": "2020-02-28T11:05:15.464151Z",
     "start_time": "2020-02-28T11:05:13.830326Z"
    },
    "scrolled": true
   },
   "outputs": [
    {
     "name": "stdout",
     "output_type": "stream",
     "text": [
      "(2413, 128162)\n"
     ]
    }
   ],
   "source": [
    "# tfidf-矩阵\n",
    "transf = TfidfTransformer()\n",
    "tfidf = transf.fit_transform(wordmtx)\n",
    "# print(tfidf)\n",
    "print(tfidf.todense().shape)\n",
    "# print(vect.vocabulary_)"
   ]
  },
  {
   "cell_type": "markdown",
   "metadata": {},
   "source": [
    "## word2vec表示"
   ]
  },
  {
   "cell_type": "code",
   "execution_count": 28,
   "metadata": {
    "ExecuteTime": {
     "end_time": "2020-02-28T11:06:03.944057Z",
     "start_time": "2020-02-28T11:05:15.466314Z"
    }
   },
   "outputs": [
    {
     "name": "stdout",
     "output_type": "stream",
     "text": [
      "CPU times: user 2min 13s, sys: 597 ms, total: 2min 13s\n",
      "Wall time: 46 s\n"
     ]
    },
    {
     "data": {
      "text/plain": [
       "(51399891, 69092890)"
      ]
     },
     "execution_count": 28,
     "metadata": {},
     "output_type": "execute_result"
    }
   ],
   "source": [
    "def cut_split(txt):\n",
    "    return txt.split(\" \")\n",
    "\n",
    "# word2vec矩阵表示文本\n",
    "condf[\"cut_list\"] = condf[\"cut\"].apply(cut_split)\n",
    "w2vmodel = Word2Vec(size=300, min_count=5)\n",
    "w2vmodel.build_vocab(condf[\"cut_list\"])  # 生成词\n",
    "# 训练word2vec模型\n",
    "%time w2vmodel.train(condf[\"cut_list\"], total_examples=w2vmodel.corpus_count, epochs=10)"
   ]
  },
  {
   "cell_type": "code",
   "execution_count": 29,
   "metadata": {
    "ExecuteTime": {
     "end_time": "2020-02-28T11:06:04.023767Z",
     "start_time": "2020-02-28T11:06:03.945792Z"
    }
   },
   "outputs": [
    {
     "data": {
      "text/plain": [
       "[('涨停板', 0.7064339518547058),\n",
       " ('一字板', 0.6698480248451233),\n",
       " ('跌停', 0.6464972496032715),\n",
       " ('封板', 0.6299799680709839),\n",
       " ('涨板', 0.6203790903091431)]"
      ]
     },
     "execution_count": 29,
     "metadata": {},
     "output_type": "execute_result"
    }
   ],
   "source": [
    "# 分析“涨停\"的相似词\n",
    "w2vmodel.wv.most_similar(\"涨停\", topn=5)"
   ]
  },
  {
   "cell_type": "code",
   "execution_count": 30,
   "metadata": {
    "ExecuteTime": {
     "end_time": "2020-02-28T11:06:04.033886Z",
     "start_time": "2020-02-28T11:06:04.026179Z"
    }
   },
   "outputs": [
    {
     "data": {
      "text/plain": [
       "[('跌停板', 0.6756128072738647),\n",
       " ('涨停', 0.6464971899986267),\n",
       " ('一字板', 0.512378990650177),\n",
       " ('补跌', 0.5061174631118774),\n",
       " ('破四', 0.49450135231018066)]"
      ]
     },
     "execution_count": 30,
     "metadata": {},
     "output_type": "execute_result"
    }
   ],
   "source": [
    "# 分析“跌停\"的相似词\n",
    "w2vmodel.wv.most_similar(\"跌停\", topn=5)"
   ]
  },
  {
   "cell_type": "code",
   "execution_count": 31,
   "metadata": {
    "ExecuteTime": {
     "end_time": "2020-02-28T11:06:04.041977Z",
     "start_time": "2020-02-28T11:06:04.035911Z"
    }
   },
   "outputs": [
    {
     "data": {
      "text/plain": [
       "[('内在', 0.6386024951934814),\n",
       " ('重估', 0.5839271545410156),\n",
       " ('长期投资', 0.5561195611953735),\n",
       " ('评估', 0.5343352556228638),\n",
       " ('投資', 0.5218364000320435)]"
      ]
     },
     "execution_count": 31,
     "metadata": {},
     "output_type": "execute_result"
    }
   ],
   "source": [
    "# 分析“投资\"的相似词\n",
    "w2vmodel.wv.most_similar(\"投资\", topn=5)"
   ]
  },
  {
   "cell_type": "code",
   "execution_count": 32,
   "metadata": {
    "ExecuteTime": {
     "end_time": "2020-02-28T11:06:04.050709Z",
     "start_time": "2020-02-28T11:06:04.044020Z"
    }
   },
   "outputs": [
    {
     "data": {
      "text/plain": [
       "[('小散', 0.7885055541992188),\n",
       " ('散民', 0.5454227924346924),\n",
       " ('散们', 0.5252149105072021),\n",
       " ('小散们', 0.5030875205993652),\n",
       " ('小股民', 0.4992014169692993)]"
      ]
     },
     "execution_count": 32,
     "metadata": {},
     "output_type": "execute_result"
    }
   ],
   "source": [
    "# 分析“散户\"的相似词\n",
    "w2vmodel.wv.most_similar(\"散户\", topn=5)"
   ]
  },
  {
   "cell_type": "code",
   "execution_count": 33,
   "metadata": {
    "ExecuteTime": {
     "end_time": "2020-02-28T11:14:48.581188Z",
     "start_time": "2020-02-28T11:06:04.052936Z"
    },
    "scrolled": true
   },
   "outputs": [
    {
     "name": "stdout",
     "output_type": "stream",
     "text": [
      "300/2413\n",
      "600/2413\n",
      "900/2413\n",
      "1200/2413\n",
      "1500/2413\n",
      "1800/2413\n",
      "2100/2413\n",
      "2400/2413\n",
      "CPU times: user 8min 13s, sys: 29.9 s, total: 8min 43s\n",
      "Wall time: 8min 44s\n"
     ]
    },
    {
     "data": {
      "text/html": [
       "<div>\n",
       "<style scoped>\n",
       "    .dataframe tbody tr th:only-of-type {\n",
       "        vertical-align: middle;\n",
       "    }\n",
       "\n",
       "    .dataframe tbody tr th {\n",
       "        vertical-align: top;\n",
       "    }\n",
       "\n",
       "    .dataframe thead th {\n",
       "        text-align: right;\n",
       "    }\n",
       "</style>\n",
       "<table border=\"1\" class=\"dataframe\">\n",
       "  <thead>\n",
       "    <tr style=\"text-align: right;\">\n",
       "      <th></th>\n",
       "      <th>0</th>\n",
       "      <th>1</th>\n",
       "      <th>2</th>\n",
       "      <th>3</th>\n",
       "      <th>4</th>\n",
       "      <th>5</th>\n",
       "      <th>6</th>\n",
       "      <th>7</th>\n",
       "      <th>8</th>\n",
       "      <th>9</th>\n",
       "      <th>...</th>\n",
       "      <th>290</th>\n",
       "      <th>291</th>\n",
       "      <th>292</th>\n",
       "      <th>293</th>\n",
       "      <th>294</th>\n",
       "      <th>295</th>\n",
       "      <th>296</th>\n",
       "      <th>297</th>\n",
       "      <th>298</th>\n",
       "      <th>299</th>\n",
       "    </tr>\n",
       "  </thead>\n",
       "  <tbody>\n",
       "    <tr>\n",
       "      <th>0</th>\n",
       "      <td>0.014316</td>\n",
       "      <td>-0.007375</td>\n",
       "      <td>-0.014319</td>\n",
       "      <td>0.072762</td>\n",
       "      <td>-0.112406</td>\n",
       "      <td>0.044476</td>\n",
       "      <td>0.117199</td>\n",
       "      <td>-0.096944</td>\n",
       "      <td>-0.109896</td>\n",
       "      <td>0.107267</td>\n",
       "      <td>...</td>\n",
       "      <td>-0.025740</td>\n",
       "      <td>-0.080778</td>\n",
       "      <td>-0.136578</td>\n",
       "      <td>0.063904</td>\n",
       "      <td>0.349477</td>\n",
       "      <td>0.487742</td>\n",
       "      <td>0.034895</td>\n",
       "      <td>-0.093307</td>\n",
       "      <td>-0.055363</td>\n",
       "      <td>0.048256</td>\n",
       "    </tr>\n",
       "    <tr>\n",
       "      <th>1</th>\n",
       "      <td>0.017274</td>\n",
       "      <td>-0.011791</td>\n",
       "      <td>-0.007729</td>\n",
       "      <td>0.113607</td>\n",
       "      <td>-0.182851</td>\n",
       "      <td>0.050373</td>\n",
       "      <td>0.089974</td>\n",
       "      <td>0.002026</td>\n",
       "      <td>-0.045980</td>\n",
       "      <td>0.111897</td>\n",
       "      <td>...</td>\n",
       "      <td>-0.000136</td>\n",
       "      <td>-0.122330</td>\n",
       "      <td>-0.174073</td>\n",
       "      <td>0.052100</td>\n",
       "      <td>0.351771</td>\n",
       "      <td>0.511932</td>\n",
       "      <td>0.047220</td>\n",
       "      <td>-0.068674</td>\n",
       "      <td>-0.121643</td>\n",
       "      <td>0.072002</td>\n",
       "    </tr>\n",
       "    <tr>\n",
       "      <th>2</th>\n",
       "      <td>0.035825</td>\n",
       "      <td>-0.047902</td>\n",
       "      <td>0.033487</td>\n",
       "      <td>0.142451</td>\n",
       "      <td>-0.223405</td>\n",
       "      <td>0.046358</td>\n",
       "      <td>0.022808</td>\n",
       "      <td>0.010509</td>\n",
       "      <td>-0.017365</td>\n",
       "      <td>0.144191</td>\n",
       "      <td>...</td>\n",
       "      <td>0.066783</td>\n",
       "      <td>-0.141873</td>\n",
       "      <td>-0.231437</td>\n",
       "      <td>0.051754</td>\n",
       "      <td>0.305208</td>\n",
       "      <td>0.480038</td>\n",
       "      <td>0.067792</td>\n",
       "      <td>-0.065750</td>\n",
       "      <td>-0.191465</td>\n",
       "      <td>0.130742</td>\n",
       "    </tr>\n",
       "    <tr>\n",
       "      <th>3</th>\n",
       "      <td>-0.006406</td>\n",
       "      <td>-0.047310</td>\n",
       "      <td>0.011010</td>\n",
       "      <td>0.075867</td>\n",
       "      <td>-0.086596</td>\n",
       "      <td>0.033657</td>\n",
       "      <td>0.131798</td>\n",
       "      <td>-0.048646</td>\n",
       "      <td>-0.084177</td>\n",
       "      <td>0.077796</td>\n",
       "      <td>...</td>\n",
       "      <td>-0.022681</td>\n",
       "      <td>-0.114743</td>\n",
       "      <td>-0.164883</td>\n",
       "      <td>0.020262</td>\n",
       "      <td>0.332615</td>\n",
       "      <td>0.465340</td>\n",
       "      <td>0.039235</td>\n",
       "      <td>-0.107839</td>\n",
       "      <td>-0.051055</td>\n",
       "      <td>0.034373</td>\n",
       "    </tr>\n",
       "    <tr>\n",
       "      <th>4</th>\n",
       "      <td>0.013347</td>\n",
       "      <td>-0.009760</td>\n",
       "      <td>0.024558</td>\n",
       "      <td>0.088814</td>\n",
       "      <td>-0.174580</td>\n",
       "      <td>0.018972</td>\n",
       "      <td>0.089989</td>\n",
       "      <td>-0.037146</td>\n",
       "      <td>-0.087608</td>\n",
       "      <td>0.118609</td>\n",
       "      <td>...</td>\n",
       "      <td>-0.003226</td>\n",
       "      <td>-0.113286</td>\n",
       "      <td>-0.171068</td>\n",
       "      <td>0.051803</td>\n",
       "      <td>0.378839</td>\n",
       "      <td>0.534160</td>\n",
       "      <td>0.018596</td>\n",
       "      <td>-0.068930</td>\n",
       "      <td>-0.097445</td>\n",
       "      <td>0.069949</td>\n",
       "    </tr>\n",
       "  </tbody>\n",
       "</table>\n",
       "<p>5 rows × 300 columns</p>\n",
       "</div>"
      ],
      "text/plain": [
       "        0         1         2         3         4         5         6    \\\n",
       "0  0.014316 -0.007375 -0.014319  0.072762 -0.112406  0.044476  0.117199   \n",
       "1  0.017274 -0.011791 -0.007729  0.113607 -0.182851  0.050373  0.089974   \n",
       "2  0.035825 -0.047902  0.033487  0.142451 -0.223405  0.046358  0.022808   \n",
       "3 -0.006406 -0.047310  0.011010  0.075867 -0.086596  0.033657  0.131798   \n",
       "4  0.013347 -0.009760  0.024558  0.088814 -0.174580  0.018972  0.089989   \n",
       "\n",
       "        7         8         9    ...       290       291       292       293  \\\n",
       "0 -0.096944 -0.109896  0.107267  ... -0.025740 -0.080778 -0.136578  0.063904   \n",
       "1  0.002026 -0.045980  0.111897  ... -0.000136 -0.122330 -0.174073  0.052100   \n",
       "2  0.010509 -0.017365  0.144191  ...  0.066783 -0.141873 -0.231437  0.051754   \n",
       "3 -0.048646 -0.084177  0.077796  ... -0.022681 -0.114743 -0.164883  0.020262   \n",
       "4 -0.037146 -0.087608  0.118609  ... -0.003226 -0.113286 -0.171068  0.051803   \n",
       "\n",
       "        294       295       296       297       298       299  \n",
       "0  0.349477  0.487742  0.034895 -0.093307 -0.055363  0.048256  \n",
       "1  0.351771  0.511932  0.047220 -0.068674 -0.121643  0.072002  \n",
       "2  0.305208  0.480038  0.067792 -0.065750 -0.191465  0.130742  \n",
       "3  0.332615  0.465340  0.039235 -0.107839 -0.051055  0.034373  \n",
       "4  0.378839  0.534160  0.018596 -0.068930 -0.097445  0.069949  \n",
       "\n",
       "[5 rows x 300 columns]"
      ]
     },
     "execution_count": 33,
     "metadata": {},
     "output_type": "execute_result"
    }
   ],
   "source": [
    "# 用各个词向量直接平均的方式生成整句对应的向量\n",
    "def m_avgvec(words, w2vmodel):\n",
    "    global count\n",
    "    if count % 300 == 0:\n",
    "        print(\"\\r{}/{}\".format(count, rows_count))\n",
    "    count += 1\n",
    "    return pd.DataFrame([w2vmodel.wv[w] for w in words if w in w2vmodel.wv]).agg(\"mean\")\n",
    "\n",
    "# 生成建模用矩阵，耗时较长\n",
    "count = 1\n",
    "rows_count = condf.shape[0]\n",
    "%time train_vecs = pd.DataFrame([m_avgvec(s, w2vmodel) for s in condf[\"cut_list\"]])\n",
    "train_vecs.head()"
   ]
  },
  {
   "cell_type": "markdown",
   "metadata": {},
   "source": [
    "# 建模"
   ]
  },
  {
   "cell_type": "code",
   "execution_count": 34,
   "metadata": {
    "ExecuteTime": {
     "end_time": "2020-02-28T11:14:48.585720Z",
     "start_time": "2020-02-28T11:14:48.583090Z"
    }
   },
   "outputs": [],
   "source": [
    "# 用来储存建模的量化指标\n",
    "items = []"
   ]
  },
  {
   "cell_type": "markdown",
   "metadata": {},
   "source": [
    "## 训练SVM模型"
   ]
  },
  {
   "cell_type": "code",
   "execution_count": 35,
   "metadata": {
    "ExecuteTime": {
     "end_time": "2020-02-28T11:15:23.151475Z",
     "start_time": "2020-02-28T11:14:48.587649Z"
    }
   },
   "outputs": [
    {
     "name": "stdout",
     "output_type": "stream",
     "text": [
      "[LibSVM]【词袋模型-SVM建模】train_score: 0.6210775606867969 test_score: 0.649171270718232\n"
     ]
    }
   ],
   "source": [
    "# 词袋模型-SVM建模\n",
    "x_train, x_test, y_train, y_test = train_test_split(wordmtx, condf[\"UpOrDown\"], test_size=0.3, random_state=30)\n",
    "model = SVC(kernel = 'rbf', verbose = True)\n",
    "model.fit(x_train, y_train)\n",
    "train_score = model.score(x_train, y_train)\n",
    "test_score = model.score(x_test, y_test)\n",
    "\n",
    "item = {\n",
    "    \"向量化\": \"词袋模型\",\n",
    "    \"算法\": \"SVM\",\n",
    "    \"训练集\": train_score,\n",
    "    \"测试集\": test_score,\n",
    "}\n",
    "items.append(item)\n",
    "print(\"【词袋模型-SVM建模】train_score: {} test_score: {}\".format(train_score, test_score))"
   ]
  },
  {
   "cell_type": "code",
   "execution_count": 36,
   "metadata": {
    "ExecuteTime": {
     "end_time": "2020-02-28T11:15:58.772114Z",
     "start_time": "2020-02-28T11:15:23.153463Z"
    }
   },
   "outputs": [
    {
     "name": "stdout",
     "output_type": "stream",
     "text": [
      "[LibSVM]【tfidf-SVM建模】train_score: 0.5488454706927176 test_score: 0.585635359116022\n"
     ]
    }
   ],
   "source": [
    "# tfidf-SVM建模\n",
    "x_train, x_test, y_train, y_test = train_test_split(tfidf, condf[\"UpOrDown\"], test_size=0.3, random_state=30)\n",
    "model = SVC(kernel = 'rbf', verbose = True)\n",
    "model.fit(x_train, y_train)\n",
    "train_score = model.score(x_train, y_train)\n",
    "test_score = model.score(x_test, y_test)\n",
    "item = {\n",
    "    \"向量化\": \"tfidf\",\n",
    "    \"算法\": \"SVM\",\n",
    "    \"训练集\": train_score,\n",
    "    \"测试集\": test_score\n",
    "}\n",
    "items.append(item)\n",
    "print(\"【tfidf-SVM建模】train_score: {} test_score: {}\".format(train_score, test_score))"
   ]
  },
  {
   "cell_type": "code",
   "execution_count": 37,
   "metadata": {
    "ExecuteTime": {
     "end_time": "2020-02-28T11:16:00.906184Z",
     "start_time": "2020-02-28T11:15:58.774339Z"
    }
   },
   "outputs": [
    {
     "name": "stdout",
     "output_type": "stream",
     "text": [
      "[LibSVM]【word2vect-SVM建模】train_score: 0.5494375370041444 test_score: 0.5870165745856354\n"
     ]
    }
   ],
   "source": [
    "# word2vec-SVM建模\n",
    "x_train, x_test, y_train, y_test = train_test_split(train_vecs, condf[\"UpOrDown\"], test_size=0.3, random_state=30)\n",
    "model = SVC(kernel = 'rbf', verbose = True)\n",
    "model.fit(x_train, y_train)\n",
    "train_score = model.score(x_train, y_train)\n",
    "test_score = model.score(x_test, y_test)\n",
    "item = {\n",
    "    \"向量化\": \"word2vec\",\n",
    "    \"算法\": \"SVM\",\n",
    "    \"训练集\": train_score,\n",
    "    \"测试集\": test_score\n",
    "}\n",
    "items.append(item)\n",
    "print(\"【word2vect-SVM建模】train_score: {} test_score: {}\".format(train_score, test_score))"
   ]
  },
  {
   "cell_type": "markdown",
   "metadata": {},
   "source": [
    "## 训练朴素贝叶斯模型"
   ]
  },
  {
   "cell_type": "code",
   "execution_count": 38,
   "metadata": {
    "ExecuteTime": {
     "end_time": "2020-02-28T11:16:00.964301Z",
     "start_time": "2020-02-28T11:16:00.908857Z"
    }
   },
   "outputs": [
    {
     "name": "stdout",
     "output_type": "stream",
     "text": [
      "【词袋模型-朴素贝叶斯】train_score: 0.9887507400828893 test_score: 0.680939226519337\n"
     ]
    }
   ],
   "source": [
    "# 词袋模型-朴素贝叶斯\n",
    "x_train, x_test, y_train, y_test = train_test_split(wordmtx, condf[\"UpOrDown\"], test_size=0.3, random_state=30)\n",
    "nbmodel = naive_bayes.MultinomialNB()\n",
    "nbmodel.fit(x_train, y_train)\n",
    "# 预测\n",
    "y_predict = nbmodel.predict(x_test)\n",
    "# 预测准确率\n",
    "train_score = nbmodel.score(x_train, y_train)\n",
    "test_score = nbmodel.score(x_test, y_test)\n",
    "item = {\n",
    "    \"向量化\": \"词袋模型\",\n",
    "    \"算法\": \"朴素贝叶斯\",\n",
    "    \"训练集\": train_score,\n",
    "    \"测试集\": test_score\n",
    "}\n",
    "items.append(item)\n",
    "print(\"【词袋模型-朴素贝叶斯】train_score: {} test_score: {}\".format(train_score, test_score))"
   ]
  },
  {
   "cell_type": "code",
   "execution_count": 39,
   "metadata": {
    "ExecuteTime": {
     "end_time": "2020-02-28T11:16:00.976747Z",
     "start_time": "2020-02-28T11:16:00.966083Z"
    }
   },
   "outputs": [
    {
     "name": "stdout",
     "output_type": "stream",
     "text": [
      "** auc_value: 【0.7236556603773585】 **\n"
     ]
    }
   ],
   "source": [
    "y_prob = nbmodel.predict_proba(x_test)\n",
    "fpr, tpr, threshold = metrics.roc_curve(y_test, y_prob[:, 1])\n",
    "auc_value = metrics.auc(fpr, tpr)  # 计算auc\n",
    "print(\"** auc_value: 【{}】 **\".format(auc_value))"
   ]
  },
  {
   "cell_type": "code",
   "execution_count": 40,
   "metadata": {
    "ExecuteTime": {
     "end_time": "2020-02-28T11:16:01.022993Z",
     "start_time": "2020-02-28T11:16:00.978492Z"
    }
   },
   "outputs": [
    {
     "name": "stdout",
     "output_type": "stream",
     "text": [
      "【tfidf-朴素贝叶斯】train_score: 0.5595026642984015 test_score: 0.585635359116022\n"
     ]
    }
   ],
   "source": [
    "# tfidf-朴素贝叶斯\n",
    "x_train, x_test, y_train, y_test = train_test_split(tfidf, condf[\"UpOrDown\"], test_size=0.3, random_state=30)\n",
    "nbmodel = naive_bayes.MultinomialNB()\n",
    "nbmodel.fit(x_train, y_train)\n",
    "# 预测\n",
    "y_predict = nbmodel.predict(x_test)\n",
    "# 预测准确率\n",
    "train_score = nbmodel.score(x_train, y_train)\n",
    "test_score = nbmodel.score(x_test, y_test)\n",
    "item = {\n",
    "    \"向量化\": \"tfidf\",\n",
    "    \"算法\": \"朴素贝叶斯\",\n",
    "    \"训练集\": train_score,\n",
    "    \"测试集\": test_score\n",
    "}\n",
    "items.append(item)\n",
    "print(\"【tfidf-朴素贝叶斯】train_score: {} test_score: {}\".format(train_score, test_score))"
   ]
  },
  {
   "cell_type": "code",
   "execution_count": null,
   "metadata": {},
   "outputs": [],
   "source": [
    "y_prob = nbmodel.predict_proba(x_test)\n",
    "fpr, tpr, threshold = metrics.roc_curve(y_test, y_prob[:, 1])\n",
    "auc_value = metrics.auc(fpr, tpr)  # 计算auc\n",
    "print(\"** auc_value: 【{}】 **\".format(auc_value))"
   ]
  },
  {
   "cell_type": "code",
   "execution_count": 41,
   "metadata": {
    "ExecuteTime": {
     "end_time": "2020-02-28T11:16:01.053997Z",
     "start_time": "2020-02-28T11:16:01.024777Z"
    }
   },
   "outputs": [
    {
     "name": "stdout",
     "output_type": "stream",
     "text": [
      "【word2vec-朴素贝叶斯】train_score: 0.6471284783895797 test_score: 0.6243093922651933\n"
     ]
    }
   ],
   "source": [
    "# word2vec-朴素贝叶斯\n",
    "x_train, x_test, y_train, y_test = train_test_split(train_vecs, condf[\"UpOrDown\"], test_size=0.3, random_state=30)\n",
    "nbmodel = naive_bayes.GaussianNB()\n",
    "nbmodel.fit(x_train, y_train)\n",
    "# 预测\n",
    "y_predict = nbmodel.predict(x_test)\n",
    "# 预测准确率\n",
    "train_score = nbmodel.score(x_train, y_train)\n",
    "test_score = nbmodel.score(x_test, y_test)\n",
    "item = {\n",
    "    \"向量化\": \"word2vec\",\n",
    "    \"算法\": \"朴素贝叶斯\",\n",
    "    \"训练集\": train_score,\n",
    "    \"测试集\": test_score\n",
    "}\n",
    "items.append(item)\n",
    "print(\"【word2vec-朴素贝叶斯】train_score: {} test_score: {}\".format(train_score, test_score))"
   ]
  },
  {
   "cell_type": "code",
   "execution_count": 42,
   "metadata": {
    "ExecuteTime": {
     "end_time": "2020-02-28T11:16:01.068834Z",
     "start_time": "2020-02-28T11:16:01.055749Z"
    }
   },
   "outputs": [
    {
     "data": {
      "text/html": [
       "<div>\n",
       "<style scoped>\n",
       "    .dataframe tbody tr th:only-of-type {\n",
       "        vertical-align: middle;\n",
       "    }\n",
       "\n",
       "    .dataframe tbody tr th {\n",
       "        vertical-align: top;\n",
       "    }\n",
       "\n",
       "    .dataframe thead th {\n",
       "        text-align: right;\n",
       "    }\n",
       "</style>\n",
       "<table border=\"1\" class=\"dataframe\">\n",
       "  <thead>\n",
       "    <tr style=\"text-align: right;\">\n",
       "      <th></th>\n",
       "      <th>向量化</th>\n",
       "      <th>算法</th>\n",
       "      <th>训练集</th>\n",
       "      <th>测试集</th>\n",
       "    </tr>\n",
       "  </thead>\n",
       "  <tbody>\n",
       "    <tr>\n",
       "      <th>0</th>\n",
       "      <td>词袋模型</td>\n",
       "      <td>SVM</td>\n",
       "      <td>0.621078</td>\n",
       "      <td>0.649171</td>\n",
       "    </tr>\n",
       "    <tr>\n",
       "      <th>1</th>\n",
       "      <td>tfidf</td>\n",
       "      <td>SVM</td>\n",
       "      <td>0.548845</td>\n",
       "      <td>0.585635</td>\n",
       "    </tr>\n",
       "    <tr>\n",
       "      <th>2</th>\n",
       "      <td>word2vec</td>\n",
       "      <td>SVM</td>\n",
       "      <td>0.549438</td>\n",
       "      <td>0.587017</td>\n",
       "    </tr>\n",
       "    <tr>\n",
       "      <th>3</th>\n",
       "      <td>词袋模型</td>\n",
       "      <td>朴素贝叶斯</td>\n",
       "      <td>0.988751</td>\n",
       "      <td>0.680939</td>\n",
       "    </tr>\n",
       "    <tr>\n",
       "      <th>4</th>\n",
       "      <td>tfidf</td>\n",
       "      <td>朴素贝叶斯</td>\n",
       "      <td>0.559503</td>\n",
       "      <td>0.585635</td>\n",
       "    </tr>\n",
       "    <tr>\n",
       "      <th>5</th>\n",
       "      <td>word2vec</td>\n",
       "      <td>朴素贝叶斯</td>\n",
       "      <td>0.647128</td>\n",
       "      <td>0.624309</td>\n",
       "    </tr>\n",
       "  </tbody>\n",
       "</table>\n",
       "</div>"
      ],
      "text/plain": [
       "        向量化     算法       训练集       测试集\n",
       "0      词袋模型    SVM  0.621078  0.649171\n",
       "1     tfidf    SVM  0.548845  0.585635\n",
       "2  word2vec    SVM  0.549438  0.587017\n",
       "3      词袋模型  朴素贝叶斯  0.988751  0.680939\n",
       "4     tfidf  朴素贝叶斯  0.559503  0.585635\n",
       "5  word2vec  朴素贝叶斯  0.647128  0.624309"
      ]
     },
     "execution_count": 42,
     "metadata": {},
     "output_type": "execute_result"
    }
   ],
   "source": [
    "pd.DataFrame(items, columns=[\"向量化\", \"算法\", \"训练集\", \"测试集\"])"
   ]
  },
  {
   "cell_type": "code",
   "execution_count": null,
   "metadata": {},
   "outputs": [],
   "source": []
  }
 ],
 "metadata": {
  "kernelspec": {
   "display_name": "Python 3",
   "language": "python",
   "name": "python3"
  },
  "language_info": {
   "codemirror_mode": {
    "name": "ipython",
    "version": 3
   },
   "file_extension": ".py",
   "mimetype": "text/x-python",
   "name": "python",
   "nbconvert_exporter": "python",
   "pygments_lexer": "ipython3",
   "version": "3.5.3"
  }
 },
 "nbformat": 4,
 "nbformat_minor": 2
}
